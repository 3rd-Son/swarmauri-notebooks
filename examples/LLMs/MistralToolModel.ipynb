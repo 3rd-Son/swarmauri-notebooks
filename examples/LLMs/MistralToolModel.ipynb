{
 "cells": [
  {
   "cell_type": "markdown",
   "id": "c4f0fb7c",
   "metadata": {},
   "source": [
    "# Using the Swarmauri Package Components\n",
    "\n",
    "This notebook demonstrates how to use various components of the Swarmauri package, including the `MistralToolModel`, `Conversation`, `AdditionTool`, `Toolkit`, and `ToolAgent` classes. These examples will guide you through the setup and utilization of these components for common tasks."
   ]
  },
  {
   "cell_type": "markdown",
   "id": "4b2b1a65",
   "metadata": {},
   "source": [
    "## Setup\n",
    "\n",
    "Before using the components, make sure to have the necessary API keys set up as environment variables. In this notebook, we'll use the `MISTRAL_API_KEY` for initializing the `MistralToolModel`."
   ]
  },
  {
   "cell_type": "code",
   "execution_count": null,
   "id": "f7eaa332",
   "metadata": {},
   "outputs": [],
   "source": [
    "import os\n",
    "from swarmauri.standard.llms.concrete.MistralToolModel import MistralToolModel as LLM\n",
    "from swarmauri.standard.conversations.concrete.Conversation import Conversation\n",
    "from swarmauri.standard.tools.concrete.AdditionTool import AdditionTool\n",
    "from swarmauri.standard.toolkits.concrete.Toolkit import Toolkit\n",
    "from swarmauri.standard.agents.concrete.ToolAgent import ToolAgent\n",
    "\n",
    "# Set up the API key\n",
    "API_KEY = os.getenv('MISTRAL_API_KEY')\n",
    "\n",
    "# Initialize the MistralToolModel\n",
    "llm = LLM(api_key=API_KEY)\n",
    "llm"
   ]
  },
  {
   "cell_type": "markdown",
   "id": "5308d891",
   "metadata": {},
   "source": [
    "## Checking the LLM Resource and Type\n",
    "\n",
    "The `MistralToolModel` is a component that interacts with the underlying language model. It has several attributes that you can access to understand its configuration."
   ]
  },
  {
   "cell_type": "code",
   "execution_count": null,
   "id": "272433ed",
   "metadata": {},
   "outputs": [],
   "source": [
    "# Check the resource type\n",
    "print('Resource:', llm.resource)\n",
    "print('Type:', llm.type)"
   ]
  },
  {
   "cell_type": "markdown",
   "id": "31d6850a",
   "metadata": {},
   "source": [
    "## Model Serialization and Validation\n",
    "\n",
    "The `MistralToolModel` can be serialized to JSON and deserialized back, ensuring that the model's state can be saved and later restored or validated."
   ]
  },
  {
   "cell_type": "code",
   "execution_count": null,
   "id": "0a7c36c4",
   "metadata": {},
   "outputs": [],
   "source": [
    "# Serialize and validate the model\n",
    "serialized_model = llm.model_dump_json()\n",
    "validated_model = LLM.model_validate_json(serialized_model)\n",
    "validated_model.id == llm.id"
   ]
  },
  {
   "cell_type": "markdown",
   "id": "ea94c6e5",
   "metadata": {},
   "source": [
    "## Default Model Name\n",
    "\n",
    "The `MistralToolModel` has a default name which can be useful to identify the specific model being used."
   ]
  },
  {
   "cell_type": "code",
   "execution_count": null,
   "id": "02431d6e",
   "metadata": {},
   "outputs": [],
   "source": [
    "# Check the default model name\n",
    "print('Model Name:', llm.name)"
   ]
  },
  {
   "cell_type": "markdown",
   "id": "1a521d1b",
   "metadata": {},
   "source": [
    "## Using the ToolAgent to Perform Tasks\n",
    "\n",
    "The `ToolAgent` is a component that combines an LLM, a conversation context, and a toolkit to perform specific tasks. Here, we demonstrate how to set up a `ToolAgent` to perform a simple addition using the `AdditionTool`."
   ]
  },
  {
   "cell_type": "code",
   "execution_count": null,
   "id": "5d380471",
   "metadata": {},
   "outputs": [],
   "source": [
    "# Initialize the conversation, toolkit, and tool\n",
    "conversation = Conversation()\n",
    "toolkit = Toolkit()\n",
    "addition_tool = AdditionTool()\n",
    "toolkit.add_tool(addition_tool)\n",
    "\n",
    "# Initialize the ToolAgent\n",
    "agent = ToolAgent(llm=llm, conversation=conversation, toolkit=toolkit)\n",
    "\n",
    "# Execute a command using the ToolAgent\n",
    "result = agent.exec('Add 512+671')\n",
    "print('Result:', result)"
   ]
  },
  {
   "cell_type": "markdown",
   "id": "c22f108d",
   "metadata": {},
   "source": [
    "The `ToolAgent` interprets the command and uses the appropriate tool from the toolkit to perform the task. In this case, it successfully adds the numbers 512 and 671."
   ]
  },
  {
   "cell_type": "markdown",
   "id": "05edefc4",
   "metadata": {},
   "source": [
    "## Conclusion\n",
    "\n",
    "This notebook has demonstrated how to initialize and use various components of the Swarmauri package. You can explore further by integrating other tools and models, or by creating more complex agents tailored to your specific needs."
   ]
  }
 ],
 "metadata": {
  "kernelspec": {
   "display_name": "Python 3 (ipykernel)",
   "language": "python",
   "name": "python3"
  },
  "language_info": {
   "codemirror_mode": {
    "name": "ipython",
    "version": 3
   },
   "file_extension": ".py",
   "mimetype": "text/x-python",
   "name": "python",
   "nbconvert_exporter": "python",
   "pygments_lexer": "ipython3",
   "version": "3.10.14"
  }
 },
 "nbformat": 4,
 "nbformat_minor": 5
}
