{
 "cells": [
  {
   "cell_type": "code",
   "execution_count": null,
   "id": "a7b71457-2b84-44fe-a7b7-ddb5f4991981",
   "metadata": {},
   "outputs": [],
   "source": []
  }
 ],
 "metadata": {
  "kernelspec": {
   "display_name": "",
   "name": ""
  },
  "language_info": {
   "name": ""
  }
 },
 "nbformat": 4,
 "nbformat_minor": 5
}
