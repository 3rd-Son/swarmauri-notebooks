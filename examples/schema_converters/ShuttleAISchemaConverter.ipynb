{
 "cells": [
  {
   "cell_type": "markdown",
   "id": "361b5642-32bb-420c-a441-88ae54a5d7f0",
   "metadata": {},
   "source": [
    "# Import Dependencies"
   ]
  },
  {
   "cell_type": "code",
   "execution_count": 1,
   "id": "f3e33dd8-d996-48e9-8f8b-41871c27093e",
   "metadata": {},
   "outputs": [
    {
     "name": "stderr",
     "output_type": "stream",
     "text": [
      "WARNING:root:Subclass Parameter does not have a type annotation\n"
     ]
    },
    {
     "ename": "ModuleNotFoundError",
     "evalue": "No module named 'swarmauri.standard.schema_converters.concrete.ShuttleAISchemaConverter'",
     "output_type": "error",
     "traceback": [
      "\u001b[0;31m---------------------------------------------------------------------------\u001b[0m",
      "\u001b[0;31mModuleNotFoundError\u001b[0m                       Traceback (most recent call last)",
      "Cell \u001b[0;32mIn[1], line 5\u001b[0m\n\u001b[1;32m      2\u001b[0m \u001b[38;5;28;01mfrom\u001b[39;00m \u001b[38;5;21;01mswarmauri\u001b[39;00m\u001b[38;5;21;01m.\u001b[39;00m\u001b[38;5;21;01mstandard\u001b[39;00m\u001b[38;5;21;01m.\u001b[39;00m\u001b[38;5;21;01mtoolkits\u001b[39;00m\u001b[38;5;21;01m.\u001b[39;00m\u001b[38;5;21;01mconcrete\u001b[39;00m\u001b[38;5;21;01m.\u001b[39;00m\u001b[38;5;21;01mToolkit\u001b[39;00m \u001b[38;5;28;01mimport\u001b[39;00m Toolkit\n\u001b[1;32m      3\u001b[0m \u001b[38;5;28;01mfrom\u001b[39;00m \u001b[38;5;21;01mswarmauri\u001b[39;00m\u001b[38;5;21;01m.\u001b[39;00m\u001b[38;5;21;01mstandard\u001b[39;00m\u001b[38;5;21;01m.\u001b[39;00m\u001b[38;5;21;01magents\u001b[39;00m\u001b[38;5;21;01m.\u001b[39;00m\u001b[38;5;21;01mconcrete\u001b[39;00m\u001b[38;5;21;01m.\u001b[39;00m\u001b[38;5;21;01mToolAgent\u001b[39;00m \u001b[38;5;28;01mimport\u001b[39;00m ToolAgent\n\u001b[0;32m----> 5\u001b[0m \u001b[38;5;28;01mfrom\u001b[39;00m \u001b[38;5;21;01mswarmauri\u001b[39;00m\u001b[38;5;21;01m.\u001b[39;00m\u001b[38;5;21;01mstandard\u001b[39;00m\u001b[38;5;21;01m.\u001b[39;00m\u001b[38;5;21;01mschema_converters\u001b[39;00m\u001b[38;5;21;01m.\u001b[39;00m\u001b[38;5;21;01mconcrete\u001b[39;00m\u001b[38;5;21;01m.\u001b[39;00m\u001b[38;5;21;01mShuttleAISchemaConverter\u001b[39;00m \u001b[38;5;28;01mimport\u001b[39;00m (\n\u001b[1;32m      6\u001b[0m     ShuttleAISchemaConverter \u001b[38;5;28;01mas\u001b[39;00m Schema)\n",
      "\u001b[0;31mModuleNotFoundError\u001b[0m: No module named 'swarmauri.standard.schema_converters.concrete.ShuttleAISchemaConverter'"
     ]
    }
   ],
   "source": [
    "from swarmauri.standard.tools.concrete.AdditionTool import AdditionTool  # Using AdditionTool as the example tool to be used\n",
    "from swarmauri.standard.toolkits.concrete.Toolkit import Toolkit\n",
    "from swarmauri.standard.agents.concrete.ToolAgent import ToolAgent\n",
    "\n",
    "from swarmauri.standard.schema_converters.concrete.ShuttleAISchemaConverter import (\n",
    "    ShuttleAISchemaConverter as Schema)"
   ]
  },
  {
   "cell_type": "markdown",
   "id": "d0045055-a214-4f46-bc04-ead16a685887",
   "metadata": {},
   "source": [
    "# Initialize your ToolKit and add the tool(s)"
   ]
  },
  {
   "cell_type": "code",
   "execution_count": null,
   "id": "acf5978c-6366-46df-a0c8-4070f3f3a1e0",
   "metadata": {},
   "outputs": [],
   "source": [
    "toolkit = Toolkit()\n",
    "tool = AdditionTool()\n",
    "toolkit.add_tool(tool)"
   ]
  },
  {
   "cell_type": "markdown",
   "id": "132cfa12-1849-452c-9994-0350a2c1697e",
   "metadata": {},
   "source": [
    "# Convert the tool(s)"
   ]
  },
  {
   "cell_type": "code",
   "execution_count": null,
   "id": "fbf9df94-c290-48a2-8df8-8441fd71eda8",
   "metadata": {},
   "outputs": [],
   "source": [
    "result = [Schema().convert(toolkit.tools[tool]) for tool in toolkit.tools]"
   ]
  },
  {
   "cell_type": "code",
   "execution_count": null,
   "id": "faeddc76-5eda-4f13-aa87-6a7bbba67ec3",
   "metadata": {},
   "outputs": [],
   "source": [
    "result"
   ]
  }
 ],
 "metadata": {
  "kernelspec": {
   "display_name": "Python 3 (ipykernel)",
   "language": "python",
   "name": "python3"
  },
  "language_info": {
   "codemirror_mode": {
    "name": "ipython",
    "version": 3
   },
   "file_extension": ".py",
   "mimetype": "text/x-python",
   "name": "python",
   "nbconvert_exporter": "python",
   "pygments_lexer": "ipython3",
   "version": "3.10.12"
  }
 },
 "nbformat": 4,
 "nbformat_minor": 5
}
