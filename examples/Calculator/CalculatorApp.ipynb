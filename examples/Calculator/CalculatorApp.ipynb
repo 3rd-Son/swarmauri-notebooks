{
 "cells": [
  {
   "cell_type": "markdown",
   "metadata": {},
   "source": [
    "#Install Libraries"
   ]
  },
  {
   "cell_type": "code",
   "execution_count": null,
   "metadata": {},
   "outputs": [],
   "source": [
    "pip install swarmauri[full]==0.4.0\n"
   ]
  },
  {
   "cell_type": "code",
   "execution_count": null,
   "metadata": {},
   "outputs": [],
   "source": [
    "pip install gradio"
   ]
  },
  {
   "cell_type": "markdown",
   "metadata": {},
   "source": [
    "#Python script for calculator chatApp"
   ]
  },
  {
   "cell_type": "code",
   "execution_count": null,
   "metadata": {},
   "outputs": [],
   "source": [
    "import os\n",
    "import gradio as gr\n",
    "from swarmauri.standard.llms.concrete.GroqToolModel import GroqToolModel\n",
    "from swarmauri.standard.agents.concrete.ToolAgent import ToolAgent\n",
    "from swarmauri.standard.tools.concrete.CalculatorTool import CalculatorTool\n",
    "from swarmauri.standard.conversations.concrete.MaxSystemContextConversation import MaxSystemContextConversation\n",
    "from swarmauri.standard.toolkits.concrete.Toolkit import Toolkit  # Assuming there is a Toolkit class\n",
    "\n",
    "# Fetch the API key from environment variables or define it directly\n",
    "API_KEY =\"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\" # Replace 'your_default_api_key' with your actual key\n",
    "\n",
    "# Initialize the GroqToolModel with the API key\n",
    "llm = GroqToolModel(api_key=API_KEY)\n",
    "\n",
    "# Initialize a CalculatorTool instance\n",
    "tool = CalculatorTool()\n",
    "\n",
    "# Initialize a MaxSystemContextConversation instance\n",
    "conversation = MaxSystemContextConversation()\n",
    "\n",
    "# Create a Toolkit with the CalculatorTool (assuming Toolkit is the correct class to wrap the tools)\n",
    "toolkit = Toolkit()\n",
    "toolkit.add_tool(tool)\n",
    "\n",
    "# Create a ToolAgent using GroqToolModel, Toolkit, and MaxSystemContextConversation\n",
    "agent = ToolAgent(llm=llm, toolkit=toolkit, conversation=conversation)\n",
    "\n",
    "# Define the function to interact with the agent\n",
    "def converse(input_text, history):\n",
    "    # Execute the input command with the ToolAgent\n",
    "    result = agent.exec(input_text)\n",
    "    return result, history\n",
    "\n",
    "# Set up the Gradio interface\n",
    "demo = gr.Interface(\n",
    "    fn=converse,\n",
    "    inputs=[\"text\", \"state\"],\n",
    "    outputs=[\"text\", \"state\"],\n",
    "    title=\"Arithmetic Operations Chat with ToolAgent\",\n",
    "    description=\"Ask me to add, subtract, multiply, or divide numbers.\",\n",
    "    examples=[\n",
    "        [\"Add 5 and 3\"],\n",
    "        [\"Subtract 10 from 4\"],\n",
    "        [\"Multiply 7 by 8\"],\n",
    "        [\"Divide 20 by 4\"]\n",
    "    ]\n",
    ")\n",
    "\n",
    "if __name__ == \"__main__\":\n",
    "    demo.launch()\n"
   ]
  }
 ],
 "metadata": {
  "kernelspec": {
   "display_name": "swarmauri-0.4.1",
   "language": "python",
   "name": "python3"
  },
  "language_info": {
   "codemirror_mode": {
    "name": "ipython",
    "version": 3
   },
   "file_extension": ".py",
   "mimetype": "text/x-python",
   "name": "python",
   "nbconvert_exporter": "python",
   "pygments_lexer": "ipython3",
   "version": "3.10.14"
  }
 },
 "nbformat": 4,
 "nbformat_minor": 2
}
