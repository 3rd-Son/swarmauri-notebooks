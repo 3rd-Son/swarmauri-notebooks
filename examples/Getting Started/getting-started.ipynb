{
 "cells": [
  {
   "cell_type": "markdown",
   "id": "aed61d84-99ae-4605-a538-bbc2a24243a9",
   "metadata": {},
   "source": [
    "```markdown\n",
    "# Install SwarmaURI SDK\n",
    "The distribution files can be found in the \"dist\" library of the SwarmaURI SDK Github Repository.\n",
    "```"
   ]
  },
  {
   "cell_type": "code",
   "execution_count": 1,
   "id": "d58fda81-6e45-4885-bea9-127f008a52ff",
   "metadata": {},
   "outputs": [
    {
     "name": "stdout",
     "output_type": "stream",
     "text": [
      "Processing c:\\users\\anirudh\\swarmauri-notebooks\\examples\\getting started\\dist\\swarmauri-0.4.1.tar.gz\n"
     ]
    },
    {
     "name": "stderr",
     "output_type": "stream",
     "text": [
      "WARNING: Requirement './dist/swarmauri-0.4.1.tar.gz' looks like a filename, but the file does not exist\n",
      "ERROR: Could not install packages due to an OSError: [Errno 2] No such file or directory: 'C:\\\\Users\\\\Anirudh\\\\swarmauri-notebooks\\\\examples\\\\Getting Started\\\\dist\\\\swarmauri-0.4.1.tar.gz'\n",
      "\n"
     ]
    }
   ],
   "source": [
    "! pip install ./dist/swarmauri-0.4.1.tar.gz"
   ]
  },
  {
   "cell_type": "markdown",
   "id": "a9ede6b8-ffd9-42ef-a2cd-d44ac82bb501",
   "metadata": {},
   "source": [
    "```markdown\n",
    "# Verify Python Version\n",
    "\n",
    "```"
   ]
  },
  {
   "cell_type": "code",
   "execution_count": 7,
   "id": "c9fd2235-a986-487e-bc28-920ceff37a20",
   "metadata": {},
   "outputs": [],
   "source": [
    "import platform"
   ]
  },
  {
   "cell_type": "code",
   "execution_count": 8,
   "id": "8d4c6b34-a0c3-44b4-baf4-1de4e0266e17",
   "metadata": {},
   "outputs": [
    {
     "name": "stdout",
     "output_type": "stream",
     "text": [
      "3.10.13\n"
     ]
    }
   ],
   "source": [
    "print(platform.python_version())"
   ]
  },
  {
   "cell_type": "markdown",
   "id": "5c093cd6-8214-4f5a-9d4c-b27ccaecbb68",
   "metadata": {},
   "source": [
    "```markdown\n",
    "# Verify SwarmaURI SDK Version\n",
    "\n",
    "```"
   ]
  },
  {
   "cell_type": "code",
   "execution_count": 2,
   "id": "459cd037-2d84-4e32-bdff-0e2afd673dc8",
   "metadata": {},
   "outputs": [],
   "source": [
    "import swarmauri"
   ]
  },
  {
   "cell_type": "code",
   "execution_count": 10,
   "id": "62ba7264-f5bc-4400-8ad9-3c8937d32704",
   "metadata": {},
   "outputs": [
    {
     "name": "stdout",
     "output_type": "stream",
     "text": [
      "0.1.1\n"
     ]
    }
   ],
   "source": [
    "print(swarmauri.__version__)\n"
   ]
  }
 ],
 "metadata": {
  "kernelspec": {
   "display_name": "Python 3.10 (swarmauri-0.4.1)",
   "language": "python",
   "name": "swarmauri-0.4.1"
  },
  "language_info": {
   "codemirror_mode": {
    "name": "ipython",
    "version": 3
   },
   "file_extension": ".py",
   "mimetype": "text/x-python",
   "name": "python",
   "nbconvert_exporter": "python",
   "pygments_lexer": "ipython3",
   "version": "3.10.14"
  }
 },
 "nbformat": 4,
 "nbformat_minor": 5
}
