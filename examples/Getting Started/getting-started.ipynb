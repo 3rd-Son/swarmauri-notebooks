{
 "cells": [
  {
   "cell_type": "markdown",
   "id": "aed61d84-99ae-4605-a538-bbc2a24243a9",
   "metadata": {},
   "source": [
    "```markdown\n",
    "# Install SwarmaURI SDK\n",
    "```"
   ]
  },
  {
   "cell_type": "code",
   "execution_count": 2,
   "id": "d58fda81-6e45-4885-bea9-127f008a52ff",
   "metadata": {},
   "outputs": [
    {
     "name": "stdout",
     "output_type": "stream",
     "text": [
      "Requirement already satisfied: swarmauri in /opt/homebrew/Cellar/jupyterlab/4.2.3/libexec/lib/python3.12/site-packages (0.4.1)\n",
      "Requirement already satisfied: numpy in /opt/homebrew/Cellar/jupyterlab/4.2.3/libexec/lib/python3.12/site-packages (from swarmauri) (1.26.4)\n",
      "Requirement already satisfied: requests in /opt/homebrew/Cellar/jupyterlab/4.2.3/libexec/lib/python3.12/site-packages (from swarmauri) (2.32.3)\n",
      "Requirement already satisfied: pydantic in /opt/homebrew/Cellar/jupyterlab/4.2.3/libexec/lib/python3.12/site-packages (from swarmauri) (2.8.2)\n",
      "Requirement already satisfied: annotated-types>=0.4.0 in /opt/homebrew/Cellar/jupyterlab/4.2.3/libexec/lib/python3.12/site-packages (from pydantic->swarmauri) (0.7.0)\n",
      "Requirement already satisfied: pydantic-core==2.20.1 in /opt/homebrew/Cellar/jupyterlab/4.2.3/libexec/lib/python3.12/site-packages (from pydantic->swarmauri) (2.20.1)\n",
      "Requirement already satisfied: typing-extensions>=4.6.1 in /opt/homebrew/Cellar/jupyterlab/4.2.3/libexec/lib/python3.12/site-packages (from pydantic->swarmauri) (4.12.2)\n",
      "Requirement already satisfied: charset-normalizer<4,>=2 in /opt/homebrew/Cellar/jupyterlab/4.2.3/libexec/lib/python3.12/site-packages (from requests->swarmauri) (3.3.2)\n",
      "Requirement already satisfied: idna<4,>=2.5 in /opt/homebrew/Cellar/jupyterlab/4.2.3/libexec/lib/python3.12/site-packages (from requests->swarmauri) (3.7)\n",
      "Requirement already satisfied: urllib3<3,>=1.21.1 in /opt/homebrew/Cellar/jupyterlab/4.2.3/libexec/lib/python3.12/site-packages (from requests->swarmauri) (2.2.2)\n",
      "Requirement already satisfied: certifi>=2017.4.17 in /opt/homebrew/opt/certifi/lib/python3.12/site-packages (from requests->swarmauri) (2024.7.4)\n",
      "Note: you may need to restart the kernel to use updated packages.\n"
     ]
    }
   ],
   "source": [
    "pip install swarmauri"
   ]
  },
  {
   "cell_type": "markdown",
   "id": "a9ede6b8-ffd9-42ef-a2cd-d44ac82bb501",
   "metadata": {},
   "source": [
    "```markdown\n",
    "# Verify Python Version\n",
    "\n",
    "```"
   ]
  },
  {
   "cell_type": "code",
   "execution_count": 3,
   "id": "c9fd2235-a986-487e-bc28-920ceff37a20",
   "metadata": {},
   "outputs": [],
   "source": [
    "import platform"
   ]
  },
  {
   "cell_type": "code",
   "execution_count": 4,
   "id": "8d4c6b34-a0c3-44b4-baf4-1de4e0266e17",
   "metadata": {},
   "outputs": [
    {
     "name": "stdout",
     "output_type": "stream",
     "text": [
      "3.12.4\n"
     ]
    }
   ],
   "source": [
    "print(platform.python_version())"
   ]
  },
  {
   "cell_type": "markdown",
   "id": "5c093cd6-8214-4f5a-9d4c-b27ccaecbb68",
   "metadata": {},
   "source": [
    "```markdown\n",
    "# Verify SwarmaURI SDK Version\n",
    "\n",
    "```"
   ]
  },
  {
   "cell_type": "code",
   "execution_count": 5,
   "id": "459cd037-2d84-4e32-bdff-0e2afd673dc8",
   "metadata": {},
   "outputs": [],
   "source": [
    "import swarmauri"
   ]
  },
  {
   "cell_type": "code",
   "execution_count": 6,
   "id": "62ba7264-f5bc-4400-8ad9-3c8937d32704",
   "metadata": {},
   "outputs": [
    {
     "name": "stdout",
     "output_type": "stream",
     "text": [
      "0.4.1\n"
     ]
    }
   ],
   "source": [
    "print(swarmauri.__version__)\n"
   ]
  },
  {
   "cell_type": "code",
   "execution_count": null,
   "id": "da4cf073-e211-4c89-914d-351c3745f5af",
   "metadata": {},
   "outputs": [],
   "source": []
  }
 ],
 "metadata": {
  "kernelspec": {
   "display_name": "Python 3 (ipykernel)",
   "language": "python",
   "name": "python3"
  },
  "language_info": {
   "codemirror_mode": {
    "name": "ipython",
    "version": 3
   },
   "file_extension": ".py",
   "mimetype": "text/x-python",
   "name": "python",
   "nbconvert_exporter": "python",
   "pygments_lexer": "ipython3",
   "version": "3.12.4"
  }
 },
 "nbformat": 4,
 "nbformat_minor": 5
}
