{
 "cells": [
  {
   "cell_type": "markdown",
   "id": "7f21ad4f-18f9-43a7-9fd1-166459193c03",
   "metadata": {},
   "source": [
    "# Step-by-Step Guide to Create a Gradio Application Using Swarmauri’s GroqModel"
   ]
  },
  {
   "cell_type": "markdown",
   "id": "edc6f626-c45d-4086-bfb7-969eceff16df",
   "metadata": {},
   "source": [
    "## Step 1: Environment Setup\n",
    "\n",
    "Before starting, ensure you have installed the necessary libraries and\n",
    "packages. You will need Swarmauri’s swarmauri-sdk python package. Please\n",
    "note, the swarmauri-sdk is currently in beta.\n",
    "To install these dependencies, run the following commands:"
   ]
  },
  {
   "cell_type": "raw",
   "id": "6e50bf65-1433-4a18-9ae8-9e68dda2769c",
   "metadata": {},
   "source": [
    "pip install swarmauri[full]==0.4.0"
   ]
  },
  {
   "cell_type": "markdown",
   "id": "f050431b-ef9d-4a73-9018-ef1c7db7bdac",
   "metadata": {},
   "source": [
    "## Step 2:Import Neccessary Libraries"
   ]
  },
  {
   "cell_type": "code",
   "execution_count": 12,
   "id": "5442662d-f4eb-46ac-b2eb-655e10ae7795",
   "metadata": {
    "scrolled": true
   },
   "outputs": [],
   "source": [
    "import os\n",
    "import gradio as gr\n",
    "from swarmauri.standard.llms.concrete.GroqModel import GroqModel\n",
    "from swarmauri.standard.agents.concrete.SimpleConversationAgent import SimpleConversationAgent\n",
    "from swarmauri.standard.conversations.concrete.Conversation import Conversation"
   ]
  },
  {
   "cell_type": "markdown",
   "id": "8736a82c-0779-4e96-bb1e-2339e21488f0",
   "metadata": {},
   "source": [
    "## Step 3: Initialize the GroqModel"
   ]
  },
  {
   "cell_type": "code",
   "execution_count": 13,
   "id": "25ab8e9e-830c-4f1a-9f83-d2d2f15a1257",
   "metadata": {},
   "outputs": [],
   "source": [
    "# Fetch the API key from environment variables or define it directly (Not recomm\n",
    "API_KEY = os.getenv('GROQ_API_KEY')\n",
    "\n",
    "# Initialize the GroqModel\n",
    "llm = GroqModel(api_key=API_KEY)\n",
    "\n",
    "# Create a SimpleConversationAgent with the GroqModel\n",
    "conversation = Conversation()\n",
    "agent = SimpleConversationAgent(llm=llm, conversation=conversation)"
   ]
  },
  {
   "cell_type": "markdown",
   "id": "625ce0d6-cb2f-49f2-aea3-787cf29f50c1",
   "metadata": {},
   "source": [
    "## Step 4:Define the Gradio Interface"
   ]
  },
  {
   "cell_type": "code",
   "execution_count": 14,
   "id": "4022a594-591b-46d1-8290-3f0990e4c0a0",
   "metadata": {},
   "outputs": [
    {
     "name": "stdout",
     "output_type": "stream",
     "text": [
      "IMPORTANT: You are using gradio version 4.26.0, however version 4.29.0 is available, please upgrade.\n",
      "--------\n"
     ]
    }
   ],
   "source": [
    "# Define the function to be executed for the gradio interface\n",
    "def converse(input_text, history):\n",
    "    result = agent.exec(input_text)\n",
    "    return result\n",
    "\n",
    "# Create the Gradio interface components\n",
    "demo = gr.ChatInterface(\n",
    "    fn=converse,\n",
    "    examples=[\"Hello!\"],\n",
    "    title=\"Ask me anything!\",\n",
    "    multimodal=False,\n",
    ")"
   ]
  },
  {
   "cell_type": "markdown",
   "id": "1b352984-ed05-4740-8cb3-1a9e0c8bec3e",
   "metadata": {},
   "source": [
    "## Step 5: Launch the Application"
   ]
  },
  {
   "cell_type": "code",
   "execution_count": 15,
   "id": "af2d55ac-5f97-4f9d-8992-3886421230f6",
   "metadata": {},
   "outputs": [
    {
     "name": "stdout",
     "output_type": "stream",
     "text": [
      "Running on local URL:  http://127.0.0.1:7860\n",
      "Running on public URL: https://6ae49e9bb738daacd6.gradio.live\n",
      "\n",
      "This share link expires in 72 hours. For free permanent hosting and GPU upgrades, run `gradio deploy` from Terminal to deploy to Spaces (https://huggingface.co/spaces)\n"
     ]
    },
    {
     "data": {
      "text/html": [
       "<div><iframe src=\"https://6ae49e9bb738daacd6.gradio.live\" width=\"100%\" height=\"500\" allow=\"autoplay; camera; microphone; clipboard-read; clipboard-write;\" frameborder=\"0\" allowfullscreen></iframe></div>"
      ],
      "text/plain": [
       "<IPython.core.display.HTML object>"
      ]
     },
     "metadata": {},
     "output_type": "display_data"
    }
   ],
   "source": [
    "if __name__ == \"__main__\":\n",
    "    demo.launch(share=True)"
   ]
  },
  {
   "cell_type": "code",
   "execution_count": null,
   "id": "7d48a844-04a9-42e6-b45c-ca609a3cb078",
   "metadata": {},
   "outputs": [],
   "source": []
  }
 ],
 "metadata": {
  "kernelspec": {
   "display_name": "Python 3 (ipykernel)",
   "language": "python",
   "name": "python3"
  },
  "language_info": {
   "codemirror_mode": {
    "name": "ipython",
    "version": 3
   },
   "file_extension": ".py",
   "mimetype": "text/x-python",
   "name": "python",
   "nbconvert_exporter": "python",
   "pygments_lexer": "ipython3",
   "version": "3.10.12"
  }
 },
 "nbformat": 4,
 "nbformat_minor": 5
}
