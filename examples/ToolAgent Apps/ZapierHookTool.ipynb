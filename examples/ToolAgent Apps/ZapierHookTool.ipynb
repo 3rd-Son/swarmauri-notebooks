{
 "cells": [
  {
   "cell_type": "markdown",
   "id": "447dd1c0-0dd8-455e-9717-7da719c5e574",
   "metadata": {},
   "source": [
    "# Import neccessary modules"
   ]
  },
  {
   "cell_type": "code",
   "execution_count": 1,
   "id": "6ad3b3ca-e80c-4066-8cca-6d063c01dcf9",
   "metadata": {},
   "outputs": [
    {
     "name": "stderr",
     "output_type": "stream",
     "text": [
      "WARNING:root:Subclass Parameter does not have a type annotation\n"
     ]
    }
   ],
   "source": [
    "import json\n",
    "import os\n",
    "import gradio as gr\n",
    "from dotenv import load_dotenv\n",
    "from swarmauri.community.tools.concrete.ZapierHookTool import ZapierHookTool as Tool\n",
    "from swarmauri.standard.llms.concrete.GroqToolModel import GroqToolModel\n",
    "from swarmauri.standard.conversations.concrete.Conversation import Conversation\n",
    "from swarmauri.standard.toolkits.concrete.Toolkit import Toolkit\n",
    "from swarmauri.standard.agents.concrete.ToolAgent import ToolAgent\n"
   ]
  },
  {
   "cell_type": "markdown",
   "id": "54668e90-be36-4843-94cf-cfd9846d0edd",
   "metadata": {},
   "source": [
    "# Load and instatiate needed variables"
   ]
  },
  {
   "cell_type": "code",
   "execution_count": 2,
   "id": "a561be4b-502b-4dda-91fc-d94cfe45c099",
   "metadata": {},
   "outputs": [],
   "source": [
    "load_dotenv()\n",
    "zap_id = os.getenv('ZAP_ID')\n",
    "auth_token = os.getenv('ZAP_AUTH_TOKEN')\n",
    "headers = {\"Authorization\": f\"Bearer {auth_token}\", \"Content-Type\": \"application/json\"}"
   ]
  },
  {
   "cell_type": "markdown",
   "id": "6ddd0ecf-273a-4f00-90dd-11497f182372",
   "metadata": {},
   "source": [
    "# Load tool and payload"
   ]
  },
  {
   "cell_type": "code",
   "execution_count": 3,
   "id": "9ef3559f-0397-4f04-9719-871ad3a5ebab",
   "metadata": {},
   "outputs": [
    {
     "ename": "ValidationError",
     "evalue": "2 validation errors for ZapierHookTool\nauth_token\n  Input should be a valid string [type=string_type, input_value=None, input_type=NoneType]\n    For further information visit https://errors.pydantic.dev/2.9/v/string_type\nzap_id\n  Input should be a valid string [type=string_type, input_value=None, input_type=NoneType]\n    For further information visit https://errors.pydantic.dev/2.9/v/string_type",
     "output_type": "error",
     "traceback": [
      "\u001b[1;31m---------------------------------------------------------------------------\u001b[0m",
      "\u001b[1;31mValidationError\u001b[0m                           Traceback (most recent call last)",
      "Cell \u001b[1;32mIn[3], line 1\u001b[0m\n\u001b[1;32m----> 1\u001b[0m tool \u001b[38;5;241m=\u001b[39m \u001b[43mTool\u001b[49m\u001b[43m(\u001b[49m\u001b[43mauth_token\u001b[49m\u001b[38;5;241;43m=\u001b[39;49m\u001b[43mauth_token\u001b[49m\u001b[43m,\u001b[49m\u001b[43m \u001b[49m\u001b[43mzap_id\u001b[49m\u001b[38;5;241;43m=\u001b[39;49m\u001b[43mzap_id\u001b[49m\u001b[43m,\u001b[49m\u001b[43m \u001b[49m\u001b[43mheaders\u001b[49m\u001b[38;5;241;43m=\u001b[39;49m\u001b[43mheaders\u001b[49m\u001b[43m)\u001b[49m\n",
      "File \u001b[1;32m~\\anaconda3\\envs\\swarmauri-0.4.3\\Lib\\site-packages\\pydantic\\main.py:212\u001b[0m, in \u001b[0;36mBaseModel.__init__\u001b[1;34m(self, **data)\u001b[0m\n\u001b[0;32m    210\u001b[0m \u001b[38;5;66;03m# `__tracebackhide__` tells pytest and some other tools to omit this function from tracebacks\u001b[39;00m\n\u001b[0;32m    211\u001b[0m __tracebackhide__ \u001b[38;5;241m=\u001b[39m \u001b[38;5;28;01mTrue\u001b[39;00m\n\u001b[1;32m--> 212\u001b[0m validated_self \u001b[38;5;241m=\u001b[39m \u001b[38;5;28;43mself\u001b[39;49m\u001b[38;5;241;43m.\u001b[39;49m\u001b[43m__pydantic_validator__\u001b[49m\u001b[38;5;241;43m.\u001b[39;49m\u001b[43mvalidate_python\u001b[49m\u001b[43m(\u001b[49m\u001b[43mdata\u001b[49m\u001b[43m,\u001b[49m\u001b[43m \u001b[49m\u001b[43mself_instance\u001b[49m\u001b[38;5;241;43m=\u001b[39;49m\u001b[38;5;28;43mself\u001b[39;49m\u001b[43m)\u001b[49m\n\u001b[0;32m    213\u001b[0m \u001b[38;5;28;01mif\u001b[39;00m \u001b[38;5;28mself\u001b[39m \u001b[38;5;129;01mis\u001b[39;00m \u001b[38;5;129;01mnot\u001b[39;00m validated_self:\n\u001b[0;32m    214\u001b[0m     warnings\u001b[38;5;241m.\u001b[39mwarn(\n\u001b[0;32m    215\u001b[0m         \u001b[38;5;124m'\u001b[39m\u001b[38;5;124mA custom validator is returning a value other than `self`.\u001b[39m\u001b[38;5;130;01m\\n\u001b[39;00m\u001b[38;5;124m'\u001b[39m\n\u001b[0;32m    216\u001b[0m         \u001b[38;5;124m\"\u001b[39m\u001b[38;5;124mReturning anything other than `self` from a top level model validator isn\u001b[39m\u001b[38;5;124m'\u001b[39m\u001b[38;5;124mt supported when validating via `__init__`.\u001b[39m\u001b[38;5;130;01m\\n\u001b[39;00m\u001b[38;5;124m\"\u001b[39m\n\u001b[0;32m    217\u001b[0m         \u001b[38;5;124m'\u001b[39m\u001b[38;5;124mSee the `model_validator` docs (https://docs.pydantic.dev/latest/concepts/validators/#model-validators) for more details.\u001b[39m\u001b[38;5;124m'\u001b[39m,\n\u001b[0;32m    218\u001b[0m         category\u001b[38;5;241m=\u001b[39m\u001b[38;5;28;01mNone\u001b[39;00m,\n\u001b[0;32m    219\u001b[0m     )\n",
      "\u001b[1;31mValidationError\u001b[0m: 2 validation errors for ZapierHookTool\nauth_token\n  Input should be a valid string [type=string_type, input_value=None, input_type=NoneType]\n    For further information visit https://errors.pydantic.dev/2.9/v/string_type\nzap_id\n  Input should be a valid string [type=string_type, input_value=None, input_type=NoneType]\n    For further information visit https://errors.pydantic.dev/2.9/v/string_type"
     ]
    }
   ],
   "source": [
    "tool = Tool(auth_token=auth_token, zap_id=zap_id, headers=headers)"
   ]
  },
  {
   "cell_type": "markdown",
   "id": "ce8df7fe-2e03-46a7-aec9-fec285262405",
   "metadata": {},
   "source": [
    "# Instatiate Tool Model LLM"
   ]
  },
  {
   "cell_type": "code",
   "execution_count": null,
   "id": "83354e32-a736-4d6c-803b-8472a691dfd2",
   "metadata": {},
   "outputs": [],
   "source": [
    "# Fetch the API key from environment variables or define it directly (Not recommended for production)\n",
    "API_KEY = os.getenv('GROQ_API_KEY')\n",
    "\n",
    "# Initialize the GroqToolModel\n",
    "tool_model = GroqToolModel(api_key=API_KEY)\n",
    "\n",
    "# Create a ToolAgent with the GroqToolModel, Conversation, and Toolkit\n",
    "toolkit = Toolkit(tools={\"ZapierTool\": tool})\n",
    "tool_agent = ToolAgent(\n",
    "    llm=tool_model,\n",
    "    conversation=Conversation(),\n",
    "    toolkit=toolkit\n",
    ")"
   ]
  },
  {
   "cell_type": "markdown",
   "id": "d0b96eda-5d53-407f-89ce-e7da8937599c",
   "metadata": {},
   "source": [
    "# Instatiate the Interface"
   ]
  },
  {
   "cell_type": "code",
   "execution_count": null,
   "id": "2a99c910-3f99-46d3-8ade-a37938cbf734",
   "metadata": {},
   "outputs": [],
   "source": [
    "# Define the function to be executed for the gradio interface\n",
    "def tool_agent_interface(input_text, history):\n",
    "    result = tool_agent.exec(input_text)\n",
    "    return result\n",
    "\n",
    "demo = gr.ChatInterface(tool_agent_interface)\n",
    "\n",
    "if __name__ == \"__main__\":\n",
    "    demo.launch(share=True)"
   ]
  },
  {
   "cell_type": "code",
   "execution_count": null,
   "id": "7a98512c-660f-41d9-abd9-43ee5427949a",
   "metadata": {},
   "outputs": [],
   "source": []
  }
 ],
 "metadata": {
  "kernelspec": {
   "display_name": "Python 3 (ipykernel)",
   "language": "python",
   "name": "python3"
  },
  "language_info": {
   "codemirror_mode": {
    "name": "ipython",
    "version": 3
   },
   "file_extension": ".py",
   "mimetype": "text/x-python",
   "name": "python",
   "nbconvert_exporter": "python",
   "pygments_lexer": "ipython3",
   "version": "3.11.9"
  }
 },
 "nbformat": 4,
 "nbformat_minor": 5
}
