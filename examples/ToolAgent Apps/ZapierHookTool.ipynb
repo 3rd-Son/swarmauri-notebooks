{
 "cells": [
  {
   "cell_type": "markdown",
   "id": "447dd1c0-0dd8-455e-9717-7da719c5e574",
   "metadata": {},
   "source": [
    "# Import neccessary modules"
   ]
  },
  {
   "cell_type": "code",
   "execution_count": null,
   "id": "6ad3b3ca-e80c-4066-8cca-6d063c01dcf9",
   "metadata": {},
   "outputs": [],
   "source": [
    "import json\n",
    "import os\n",
    "import gradio as gr\n",
    "from dotenv import load_dotenv\n",
    "from swarmauri.community.tools.concrete.ZapierHookTool import ZapierHookTool as Tool\n",
    "from swarmauri.standard.llms.concrete.GroqToolModel import GroqToolModel\n",
    "from swarmauri.standard.conversations.concrete.Conversation import Conversation\n",
    "from swarmauri.standard.toolkits.concrete.Toolkit import Toolkit\n",
    "from swarmauri.standard.agents.concrete.ToolAgent import ToolAgent\n"
   ]
  },
  {
   "cell_type": "markdown",
   "id": "54668e90-be36-4843-94cf-cfd9846d0edd",
   "metadata": {},
   "source": [
    "# Load and instatiate needed variables"
   ]
  },
  {
   "cell_type": "code",
   "execution_count": 2,
   "id": "a561be4b-502b-4dda-91fc-d94cfe45c099",
   "metadata": {},
   "outputs": [],
   "source": [
    "load_dotenv()\n",
    "zap_id = os.getenv('ZAP_ID')\n",
    "auth_token = os.getenv('ZAP_AUTH_TOKEN')\n",
    "headers = {\"Authorization\": f\"Bearer {auth_token}\", \"Content-Type\": \"application/json\"}"
   ]
  },
  {
   "cell_type": "markdown",
   "id": "6ddd0ecf-273a-4f00-90dd-11497f182372",
   "metadata": {},
   "source": [
    "# Load tool and payload"
   ]
  },
  {
   "cell_type": "code",
   "execution_count": 3,
   "id": "9ef3559f-0397-4f04-9719-871ad3a5ebab",
   "metadata": {},
   "outputs": [],
   "source": [
    "tool = Tool(auth_token=auth_token, zap_id=zap_id, headers=headers)"
   ]
  },
  {
   "cell_type": "markdown",
   "id": "ce8df7fe-2e03-46a7-aec9-fec285262405",
   "metadata": {},
   "source": [
    "# Instatiate Tool Model LLM"
   ]
  },
  {
   "cell_type": "code",
   "execution_count": 4,
   "id": "83354e32-a736-4d6c-803b-8472a691dfd2",
   "metadata": {},
   "outputs": [],
   "source": [
    "# Fetch the API key from environment variables or define it directly (Not recommended for production)\n",
    "API_KEY = os.getenv('GROQ_API_KEY')\n",
    "\n",
    "# Initialize the GroqToolModel\n",
    "tool_model = GroqToolModel(api_key=API_KEY)\n",
    "\n",
    "# Create a ToolAgent with the GroqToolModel, Conversation, and Toolkit\n",
    "toolkit = Toolkit(tools={\"ZapierTool\": tool})\n",
    "tool_agent = ToolAgent(\n",
    "    llm=tool_model,\n",
    "    conversation=Conversation(),\n",
    "    toolkit=toolkit\n",
    ")"
   ]
  },
  {
   "cell_type": "markdown",
   "id": "d0b96eda-5d53-407f-89ce-e7da8937599c",
   "metadata": {},
   "source": [
    "# Instatiate the Interface"
   ]
  },
  {
   "cell_type": "code",
   "execution_count": 5,
   "id": "2a99c910-3f99-46d3-8ade-a37938cbf734",
   "metadata": {},
   "outputs": [
    {
     "name": "stdout",
     "output_type": "stream",
     "text": [
      "Running on local URL:  http://127.0.0.1:7860\n",
      "Running on public URL: https://d2159a6aab04fc02e8.gradio.live\n",
      "\n",
      "This share link expires in 72 hours. For free permanent hosting and GPU upgrades, run `gradio deploy` from Terminal to deploy to Spaces (https://huggingface.co/spaces)\n"
     ]
    },
    {
     "data": {
      "text/html": [
       "<div><iframe src=\"https://d2159a6aab04fc02e8.gradio.live\" width=\"100%\" height=\"500\" allow=\"autoplay; camera; microphone; clipboard-read; clipboard-write;\" frameborder=\"0\" allowfullscreen></iframe></div>"
      ],
      "text/plain": [
       "<IPython.core.display.HTML object>"
      ]
     },
     "metadata": {},
     "output_type": "display_data"
    }
   ],
   "source": [
    "# Define the function to be executed for the gradio interface\n",
    "def tool_agent_interface(input_text, history):\n",
    "    result = tool_agent.exec(input_text)\n",
    "    return result\n",
    "\n",
    "demo = gr.ChatInterface(tool_agent_interface)\n",
    "\n",
    "if __name__ == \"__main__\":\n",
    "    demo.launch(share=True)"
   ]
  }
 ],
 "metadata": {
  "kernelspec": {
   "display_name": "Python 3 (ipykernel)",
   "language": "python",
   "name": "python3"
  },
  "language_info": {
   "codemirror_mode": {
    "name": "ipython",
    "version": 3
   },
   "file_extension": ".py",
   "mimetype": "text/x-python",
   "name": "python",
   "nbconvert_exporter": "python",
   "pygments_lexer": "ipython3",
   "version": "3.11.9"
  }
 },
 "nbformat": 4,
 "nbformat_minor": 5
}
