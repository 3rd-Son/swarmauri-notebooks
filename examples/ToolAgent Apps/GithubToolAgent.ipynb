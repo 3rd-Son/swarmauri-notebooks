{
 "cells": [
  {
   "cell_type": "code",
   "execution_count": 3,
   "metadata": {},
   "outputs": [],
   "source": [
    "import os\n",
    "import gradio as gr\n",
    "from dotenv import load_dotenv\n",
    "from swarmauri.standard.llms.concrete.OpenAIToolModel import OpenAIToolModel\n",
    "from swarmauri.standard.agents.concrete.ToolAgent import ToolAgent\n",
    "from swarmauri.community.toolkits.concrete.GithubToolkit import GithubToolkit\n",
    "from swarmauri.standard.conversations.concrete.Conversation import Conversation\n",
    "from swarmauri.standard.toolkits.concrete.Toolkit import Toolkit"
   ]
  },
  {
   "cell_type": "code",
   "execution_count": 4,
   "metadata": {},
   "outputs": [],
   "source": [
    "load_dotenv()\n",
    "API_KEY = os.getenv('OPENAPI_API_KEY')\n",
    "GITHUB_ACCESS_TOKEN = os.getenv('GITHUB_ACCESS_TOKEN')"
   ]
  },
  {
   "cell_type": "code",
   "execution_count": 5,
   "metadata": {},
   "outputs": [],
   "source": [
    "tool_model = OpenAIToolModel(api_key=API_KEY)"
   ]
  },
  {
   "cell_type": "code",
   "execution_count": 6,
   "metadata": {},
   "outputs": [],
   "source": [
    "github_tool = GithubToolkit(token=GITHUB_ACCESS_TOKEN)"
   ]
  },
  {
   "cell_type": "code",
   "execution_count": 7,
   "metadata": {},
   "outputs": [],
   "source": [
    "toolkit = Toolkit(tools={\n",
    "    \"GithubRepoTool\": github_tool.github_repo_tool,\n",
    "    \"GithubIssueTool\": github_tool.github_issue_tool,  \n",
    "    \"GithubPRTool\": github_tool.github_pr_tool,\n",
    "    \"GithubBranchTool\": github_tool.github_branch_tool,\n",
    "    \"GithubCommitTool\": github_tool.github_commit_tool\n",
    "})"
   ]
  },
  {
   "cell_type": "code",
   "execution_count": 8,
   "metadata": {},
   "outputs": [],
   "source": [
    "tool_agent = ToolAgent(\n",
    "    llm=tool_model,\n",
    "    conversation=Conversation(),\n",
    "    toolkit=toolkit\n",
    ")"
   ]
  },
  {
   "cell_type": "code",
   "execution_count": 9,
   "metadata": {},
   "outputs": [
    {
     "name": "stdout",
     "output_type": "stream",
     "text": [
      "Running on local URL:  http://127.0.0.1:7864\n",
      "Running on public URL: https://dfd46c0f58c1caf79c.gradio.live\n",
      "\n",
      "This share link expires in 72 hours. For free permanent hosting and GPU upgrades, run `gradio deploy` from Terminal to deploy to Spaces (https://huggingface.co/spaces)\n"
     ]
    },
    {
     "data": {
      "text/html": [
       "<div><iframe src=\"https://dfd46c0f58c1caf79c.gradio.live\" width=\"100%\" height=\"500\" allow=\"autoplay; camera; microphone; clipboard-read; clipboard-write;\" frameborder=\"0\" allowfullscreen></iframe></div>"
      ],
      "text/plain": [
       "<IPython.core.display.HTML object>"
      ]
     },
     "metadata": {},
     "output_type": "display_data"
    },
    {
     "name": "stderr",
     "output_type": "stream",
     "text": [
      "Traceback (most recent call last):\n",
      "  File \"/home/michaeldecent/miniconda3/envs/swarmauri-0.4.dev1/lib/python3.10/site-packages/gradio/queueing.py\", line 536, in process_events\n",
      "    response = await route_utils.call_process_api(\n",
      "  File \"/home/michaeldecent/miniconda3/envs/swarmauri-0.4.dev1/lib/python3.10/site-packages/gradio/route_utils.py\", line 322, in call_process_api\n",
      "    output = await app.get_blocks().process_api(\n",
      "  File \"/home/michaeldecent/miniconda3/envs/swarmauri-0.4.dev1/lib/python3.10/site-packages/gradio/blocks.py\", line 1935, in process_api\n",
      "    result = await self.call_function(\n",
      "  File \"/home/michaeldecent/miniconda3/envs/swarmauri-0.4.dev1/lib/python3.10/site-packages/gradio/blocks.py\", line 1518, in call_function\n",
      "    prediction = await fn(*processed_input)\n",
      "  File \"/home/michaeldecent/miniconda3/envs/swarmauri-0.4.dev1/lib/python3.10/site-packages/gradio/utils.py\", line 793, in async_wrapper\n",
      "    response = await f(*args, **kwargs)\n",
      "  File \"/home/michaeldecent/miniconda3/envs/swarmauri-0.4.dev1/lib/python3.10/site-packages/gradio/chat_interface.py\", line 623, in _submit_fn\n",
      "    response = await anyio.to_thread.run_sync(\n",
      "  File \"/home/michaeldecent/miniconda3/envs/swarmauri-0.4.dev1/lib/python3.10/site-packages/anyio/to_thread.py\", line 56, in run_sync\n",
      "    return await get_async_backend().run_sync_in_worker_thread(\n",
      "  File \"/home/michaeldecent/miniconda3/envs/swarmauri-0.4.dev1/lib/python3.10/site-packages/anyio/_backends/_asyncio.py\", line 2177, in run_sync_in_worker_thread\n",
      "    return await future\n",
      "  File \"/home/michaeldecent/miniconda3/envs/swarmauri-0.4.dev1/lib/python3.10/site-packages/anyio/_backends/_asyncio.py\", line 859, in run\n",
      "    result = context.run(func, *args)\n",
      "  File \"/tmp/ipykernel_425586/645789735.py\", line 4, in tool_agent_interface\n",
      "    result = tool_agent.exec(input_text)\n",
      "  File \"/home/michaeldecent/miniconda3/envs/swarmauri-0.4.dev1/lib/python3.10/site-packages/swarmauri/standard/agents/concrete/ToolAgent.py\", line 40, in exec\n",
      "    self.conversation = self.llm.predict(\n",
      "  File \"/home/michaeldecent/miniconda3/envs/swarmauri-0.4.dev1/lib/python3.10/site-packages/swarmauri/standard/llms/concrete/OpenAIToolModel.py\", line 79, in predict\n",
      "    func_result = func_call(**func_args)\n",
      "  File \"/home/michaeldecent/miniconda3/envs/swarmauri-0.4.dev1/lib/python3.10/site-packages/swarmauri/community/tools/concrete/GithubRepoTool.py\", line 61, in __call__\n",
      "    return {action: action_map[action](**kwargs)}\n",
      "TypeError: GithubRepoTool.get_repo() missing 1 required positional argument: 'repo_name'\n"
     ]
    }
   ],
   "source": [
    "# Define the function to be executed for the Gradio interface\n",
    "def tool_agent_interface(input_text, history):\n",
    "    # Directly pass the input_text (string) to tool_agent.exec\n",
    "    result = tool_agent.exec(input_text)\n",
    "    return result\n",
    "\n",
    "# Initialize the Gradio interface\n",
    "demo = gr.ChatInterface(tool_agent_interface)\n",
    "\n",
    "if __name__ == \"__main__\":\n",
    "    demo.launch(share=True)\n"
   ]
  }
 ],
 "metadata": {
  "kernelspec": {
   "display_name": "swarmauri-0.4.dev1",
   "language": "python",
   "name": "python3"
  },
  "language_info": {
   "codemirror_mode": {
    "name": "ipython",
    "version": 3
   },
   "file_extension": ".py",
   "mimetype": "text/x-python",
   "name": "python",
   "nbconvert_exporter": "python",
   "pygments_lexer": "ipython3",
   "version": "3.10.14"
  }
 },
 "nbformat": 4,
 "nbformat_minor": 2
}
