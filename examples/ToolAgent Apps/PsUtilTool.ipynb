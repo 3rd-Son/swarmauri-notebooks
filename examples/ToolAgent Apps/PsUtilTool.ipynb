{
 "cells": [
  {
   "cell_type": "markdown",
   "id": "ce1a9433-0f29-4bb9-b95f-0e3ebf4f71da",
   "metadata": {},
   "source": [
    "# Import neccessary modules"
   ]
  },
  {
   "cell_type": "code",
   "execution_count": 2,
   "id": "ae00a541-fd58-4275-b0bc-5cf6074fde37",
   "metadata": {},
   "outputs": [
    {
     "ename": "ImportError",
     "evalue": "cannot import name 'gr' from 'gradio' (C:\\Users\\bigman\\anaconda3\\envs\\swarmauri-0.4.3\\Lib\\site-packages\\gradio\\__init__.py)",
     "output_type": "error",
     "traceback": [
      "\u001b[1;31m---------------------------------------------------------------------------\u001b[0m",
      "\u001b[1;31mImportError\u001b[0m                               Traceback (most recent call last)",
      "Cell \u001b[1;32mIn[2], line 2\u001b[0m\n\u001b[0;32m      1\u001b[0m \u001b[38;5;28;01mimport\u001b[39;00m \u001b[38;5;21;01mos\u001b[39;00m\n\u001b[1;32m----> 2\u001b[0m \u001b[38;5;28;01mfrom\u001b[39;00m \u001b[38;5;21;01mgradio\u001b[39;00m \u001b[38;5;28;01mimport\u001b[39;00m gr\n\u001b[0;32m      3\u001b[0m \u001b[38;5;28;01mfrom\u001b[39;00m \u001b[38;5;21;01mdotenv\u001b[39;00m \u001b[38;5;28;01mimport\u001b[39;00m load_dotenv\n\u001b[0;32m      4\u001b[0m \u001b[38;5;28;01mfrom\u001b[39;00m \u001b[38;5;21;01mswarmauri\u001b[39;00m\u001b[38;5;21;01m.\u001b[39;00m\u001b[38;5;21;01mcommunity\u001b[39;00m\u001b[38;5;21;01m.\u001b[39;00m\u001b[38;5;21;01mtools\u001b[39;00m\u001b[38;5;21;01m.\u001b[39;00m\u001b[38;5;21;01mconcrete\u001b[39;00m\u001b[38;5;21;01m.\u001b[39;00m\u001b[38;5;21;01mPsutilTool\u001b[39;00m \u001b[38;5;28;01mimport\u001b[39;00m PsutilTool \u001b[38;5;28;01mas\u001b[39;00m Tool\n",
      "\u001b[1;31mImportError\u001b[0m: cannot import name 'gr' from 'gradio' (C:\\Users\\bigman\\anaconda3\\envs\\swarmauri-0.4.3\\Lib\\site-packages\\gradio\\__init__.py)"
     ]
    }
   ],
   "source": [
    "import os\n",
    "import gradio as gr\n",
    "from dotenv import load_dotenv\n",
    "from swarmauri.community.tools.concrete.PsutilTool import PsutilTool as Tool\n",
    "from swarmauri.standard.llms.concrete.GroqToolModel import GroqToolModel\n",
    "from swarmauri.standard.agents.concrete.ToolAgent import ToolAgent\n",
    "from swarmauri.standard.conversations.concrete.Conversation import Conversation\n",
    "from swarmauri.standard.toolkits.concrete.Toolkit import Toolkit\n",
    "load_dotenv()"
   ]
  },
  {
   "cell_type": "markdown",
   "id": "faa1e33a-6fc5-4972-b3f3-ae1ece5fba68",
   "metadata": {},
   "source": [
    "# Load and Instatiate Variables"
   ]
  },
  {
   "cell_type": "code",
   "execution_count": null,
   "id": "d96a513b-5b57-403d-a999-66a1086fd410",
   "metadata": {},
   "outputs": [],
   "source": [
    "# Fetch the API key from environment variables or define it directly (Not recommended for production)\n",
    "API_KEY = os.getenv('GROQ_API_KEY')"
   ]
  },
  {
   "cell_type": "markdown",
   "id": "b8f08775-9b06-411c-9f93-70c5a0a23f25",
   "metadata": {},
   "source": [
    "# Create Tool, Model and Agent"
   ]
  },
  {
   "cell_type": "code",
   "execution_count": null,
   "id": "a1765375-88d7-49a2-ba1e-940e5fdf701c",
   "metadata": {},
   "outputs": [],
   "source": [
    "tool = Tool()\n",
    "\n",
    "# Initialize the GroqToolModel\n",
    "tool_model = GroqToolModel(api_key=API_KEY)\n",
    "\n",
    "# Create a ToolAgent with the GroqToolModel, Conversation, and Toolkit\n",
    "toolkit = Toolkit(tools={\"PsutilTool\": tool})\n",
    "tool_agent = ToolAgent(\n",
    "    llm=tool_model,\n",
    "    conversation=Conversation(),\n",
    "    toolkit=toolkit\n",
    ")"
   ]
  },
  {
   "cell_type": "markdown",
   "id": "a2563fb1-72ab-4361-a07d-a8829260a7a2",
   "metadata": {},
   "source": [
    "# Create Interface"
   ]
  },
  {
   "cell_type": "code",
   "execution_count": null,
   "id": "d3f8a7de-db87-45d0-ae6c-faabcebddd3c",
   "metadata": {},
   "outputs": [],
   "source": [
    "# Define the function to be executed for the gradio interface\n",
    "def tool_agent_interface(input_text, history):\n",
    "    result = tool_agent.exec(input_text)\n",
    "    return result\n",
    "\n",
    "demo = gr.ChatInterface(tool_agent_interface)\n",
    "\n",
    "if __name__ == \"__main__\":\n",
    "    demo.launch(share=True)"
   ]
  },
  {
   "cell_type": "code",
   "execution_count": null,
   "id": "c44d1c78-cd24-4848-a8ad-98cdd9b0bc8a",
   "metadata": {},
   "outputs": [],
   "source": []
  }
 ],
 "metadata": {
  "kernelspec": {
   "display_name": "Python 3 (ipykernel)",
   "language": "python",
   "name": "python3"
  },
  "language_info": {
   "codemirror_mode": {
    "name": "ipython",
    "version": 3
   },
   "file_extension": ".py",
   "mimetype": "text/x-python",
   "name": "python",
   "nbconvert_exporter": "python",
   "pygments_lexer": "ipython3",
   "version": "3.11.9"
  }
 },
 "nbformat": 4,
 "nbformat_minor": 5
}
