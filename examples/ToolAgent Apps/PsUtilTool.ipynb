{
 "cells": [
  {
   "cell_type": "markdown",
   "id": "ce1a9433-0f29-4bb9-b95f-0e3ebf4f71da",
   "metadata": {},
   "source": [
    "# Import neccessary modules"
   ]
  },
  {
   "cell_type": "code",
   "execution_count": 1,
   "id": "ae00a541-fd58-4275-b0bc-5cf6074fde37",
   "metadata": {},
   "outputs": [
    {
     "name": "stderr",
     "output_type": "stream",
     "text": [
      "WARNING:root:Subclass Parameter does not have a type annotation\n"
     ]
    }
   ],
   "source": [
    "import os\n",
    "from gradio import gr\n",
    "from dotenv import load_dotenv\n",
    "from swarmauri.community.tools.concrete.PsutilTool import PsutilTool as Tool\n",
    "from swarmauri.standard.llms.concrete.GroqToolModel import GroqToolModel\n",
    "from swarmauri.standard.agents.concrete.ToolAgent import ToolAgent\n",
    "from swarmauri.standard.conversations.concrete.Conversation import Conversation\n",
    "from swarmauri.standard.toolkits.concrete.Toolkit import Toolkit\n",
    "load_dotenv()"
   ]
  },
  {
   "cell_type": "markdown",
   "id": "faa1e33a-6fc5-4972-b3f3-ae1ece5fba68",
   "metadata": {},
   "source": [
    "# Load and Instatiate Variables"
   ]
  },
  {
   "cell_type": "code",
   "execution_count": 2,
   "id": "d96a513b-5b57-403d-a999-66a1086fd410",
   "metadata": {},
   "outputs": [],
   "source": [
    "# Fetch the API key from environment variables or define it directly (Not recommended for production)\n",
    "API_KEY = os.getenv('GROQ_API_KEY')"
   ]
  },
  {
   "cell_type": "markdown",
   "id": "b8f08775-9b06-411c-9f93-70c5a0a23f25",
   "metadata": {},
   "source": [
    "# Create Tool, Model and Agent"
   ]
  },
  {
   "cell_type": "code",
   "execution_count": 3,
   "id": "a1765375-88d7-49a2-ba1e-940e5fdf701c",
   "metadata": {},
   "outputs": [],
   "source": [
    "tool = Tool()\n",
    "\n",
    "# Initialize the GroqToolModel\n",
    "tool_model = GroqToolModel(api_key=API_KEY)\n",
    "\n",
    "# Create a ToolAgent with the GroqToolModel, Conversation, and Toolkit\n",
    "toolkit = Toolkit(tools={\"PsutilTool\": tool})\n",
    "tool_agent = ToolAgent(\n",
    "    llm=tool_model,\n",
    "    conversation=Conversation(),\n",
    "    toolkit=toolkit\n",
    ")"
   ]
  },
  {
   "cell_type": "markdown",
   "id": "a2563fb1-72ab-4361-a07d-a8829260a7a2",
   "metadata": {},
   "source": [
    "# Create Interface"
   ]
  },
  {
   "cell_type": "code",
   "execution_count": null,
   "id": "d3f8a7de-db87-45d0-ae6c-faabcebddd3c",
   "metadata": {},
   "outputs": [
    {
     "name": "stdout",
     "output_type": "stream",
     "text": [
      "Running on local URL:  http://127.0.0.1:7861\n"
     ]
    }
   ],
   "source": [
    "# Define the function to be executed for the gradio interface\n",
    "def tool_agent_interface(input_text, history):\n",
    "    result = tool_agent.exec(input_text)\n",
    "    return result\n",
    "\n",
    "demo = gr.ChatInterface(tool_agent_interface)\n",
    "\n",
    "if __name__ == \"__main__\":\n",
    "    demo.launch(share=True)"
   ]
  }
 ],
 "metadata": {
  "kernelspec": {
   "display_name": "Python 3 (ipykernel)",
   "language": "python",
   "name": "python3"
  },
  "language_info": {
   "codemirror_mode": {
    "name": "ipython",
    "version": 3
   },
   "file_extension": ".py",
   "mimetype": "text/x-python",
   "name": "python",
   "nbconvert_exporter": "python",
   "pygments_lexer": "ipython3",
   "version": "3.11.9"
  }
 },
 "nbformat": 4,
 "nbformat_minor": 5
}
