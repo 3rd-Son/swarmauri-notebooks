{
 "cells": [
  {
   "cell_type": "markdown",
   "id": "6b929a2a-f145-4b51-a6fc-03b4f0bdff4c",
   "metadata": {},
   "source": [
    "# Import Dependencies"
   ]
  },
  {
   "cell_type": "code",
   "execution_count": 19,
   "id": "d41ec80d-89d1-4023-999e-7362d0e9dd44",
   "metadata": {},
   "outputs": [],
   "source": [
    "from swarmauri.standard.chunkers.concrete.DelimiterBasedChunker import DelimiterBasedChunker"
   ]
  },
  {
   "cell_type": "markdown",
   "id": "8fa75f9e-2dcc-4190-a55c-cfac57702098",
   "metadata": {},
   "source": [
    "# Instantiate Chunkers and Test Variables"
   ]
  },
  {
   "cell_type": "code",
   "execution_count": 20,
   "id": "0c564610-f13a-49d6-bb3d-a232994033e7",
   "metadata": {},
   "outputs": [],
   "source": [
    "chunker = DelimiterBasedChunker()\n"
   ]
  },
  {
   "cell_type": "markdown",
   "id": "de40c721-6285-488e-8673-e6bc1eac694f",
   "metadata": {},
   "source": [
    "# Checking resource, type and id of chuncker"
   ]
  },
  {
   "cell_type": "code",
   "execution_count": 21,
   "id": "31273a85-34e2-46a9-8971-69e8b61a6411",
   "metadata": {},
   "outputs": [
    {
     "data": {
      "text/plain": [
       "'Chunker'"
      ]
     },
     "execution_count": 21,
     "metadata": {},
     "output_type": "execute_result"
    }
   ],
   "source": [
    "chunker.resource"
   ]
  },
  {
   "cell_type": "code",
   "execution_count": 22,
   "id": "80b7c069-82d2-4924-a186-a8bcdde7dbe4",
   "metadata": {},
   "outputs": [
    {
     "data": {
      "text/plain": [
       "'DelimiterBasedChunker'"
      ]
     },
     "execution_count": 22,
     "metadata": {},
     "output_type": "execute_result"
    }
   ],
   "source": [
    "chunker.type"
   ]
  },
  {
   "cell_type": "code",
   "execution_count": 23,
   "id": "2be54c0f-a45a-41a9-9a73-d94eff265a77",
   "metadata": {},
   "outputs": [
    {
     "data": {
      "text/plain": [
       "True"
      ]
     },
     "execution_count": 23,
     "metadata": {},
     "output_type": "execute_result"
    }
   ],
   "source": [
    "chunker.id == DelimiterBasedChunker.model_validate_json(chunker.model_dump_json()).id"
   ]
  },
  {
   "cell_type": "markdown",
   "id": "62ee1dbe-cb12-4a39-bfc0-5330b978f3df",
   "metadata": {},
   "source": [
    "# Test Chunk text "
   ]
  },
  {
   "cell_type": "code",
   "execution_count": 24,
   "id": "9bade7ee-b2d4-4539-ae8e-a3a9e194cf36",
   "metadata": {},
   "outputs": [
    {
     "data": {
      "text/plain": [
       "True"
      ]
     },
     "execution_count": 24,
     "metadata": {},
     "output_type": "execute_result"
    }
   ],
   "source": [
    "unchunked_text = 'question? test! period. run on'\n",
    "chunks = ['question?', 'test!', 'period.', 'run on']\n",
    "chunker.chunk_text(unchunked_text) == chunks"
   ]
  }
 ],
 "metadata": {
  "kernelspec": {
   "display_name": "Python 3 (ipykernel)",
   "language": "python",
   "name": "python3"
  },
  "language_info": {
   "codemirror_mode": {
    "name": "ipython",
    "version": 3
   },
   "file_extension": ".py",
   "mimetype": "text/x-python",
   "name": "python",
   "nbconvert_exporter": "python",
   "pygments_lexer": "ipython3",
   "version": "3.10.11"
  }
 },
 "nbformat": 4,
 "nbformat_minor": 5
}
