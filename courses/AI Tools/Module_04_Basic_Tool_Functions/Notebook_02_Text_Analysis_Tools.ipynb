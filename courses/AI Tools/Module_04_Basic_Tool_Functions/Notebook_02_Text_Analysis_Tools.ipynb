{
 "cells": [
  {
   "cell_type": "markdown",
   "metadata": {},
   "source": [
    "# **Notebook 02: Text Analysis Tools**\n",
    "\n",
    "\n",
    "## **Introduction**\n",
    "\n",
    "### **WHY DO WE NEED TEXT ANALYSIS TOOLS?**\n",
    "Imagine you're reading different books. Some books are easy to read, like \"Cat in the Hat,\" \n",
    "while others are harder, like \"War and Peace.\" Text analysis tools are like special \n",
    "glasses that help us understand how easy or hard a text is to read. They count things \n",
    "we might want to know about the text and tell us how readable it is.\n",
    "\n",
    "### **WHAT ARE TEXT ANALYSIS TOOLS?**\n",
    "Text analysis tools are like text detectives. They can:\n",
    "- Check how easy or hard text is to read \n",
    "- Help us understand if text is good for different readers (like knowing which books \n",
    "  are good for kids or grown-ups)\n",
    "\n",
    "### **HOW DOES SWARMAURI IMPLEMENT TEXT ANALYSIS?**\n",
    "Swarmauri gives us several  **Text Analysis Tools.** Let's use them!\n"
   ]
  },
  {
   "cell_type": "markdown",
   "metadata": {},
   "source": [
    "**Import dependencies**"
   ]
  },
  {
   "cell_type": "code",
   "execution_count": null,
   "metadata": {},
   "outputs": [],
   "source": [
    "from swarmauri.tools.concrete import (\n",
    "    FleschReadingEaseTool,\n",
    "    AutomatedReadabilityIndexTool\n",
    ")"
   ]
  },
  {
   "cell_type": "markdown",
   "metadata": {},
   "source": [
    "**Create our Text Analysis Tools**"
   ]
  },
  {
   "cell_type": "code",
   "execution_count": null,
   "metadata": {},
   "outputs": [],
   "source": [
    "reading_checker = FleschReadingEaseTool()\n",
    "difficulty_measurer = AutomatedReadabilityIndexTool()"
   ]
  },
  {
   "cell_type": "markdown",
   "metadata": {},
   "source": [
    "**Let's analyze different types of text**"
   ]
  },
  {
   "cell_type": "code",
   "execution_count": 3,
   "metadata": {},
   "outputs": [],
   "source": [
    "simple_text = \"I like cats. Cats are fun!\"\n",
    "medium_text = \"The quick brown fox jumps over the lazy dog.\"\n",
    "complex_text = \"The intricate mechanisms of quantum physics elude simple explanation.\""
   ]
  },
  {
   "cell_type": "markdown",
   "metadata": {},
   "source": [
    "**Check how easy each text is to read**"
   ]
  },
  {
   "cell_type": "code",
   "execution_count": 13,
   "metadata": {},
   "outputs": [
    {
     "name": "stdout",
     "output_type": "stream",
     "text": [
      "\n",
      "READING EASE SCORES:\n",
      "Simple text: 119.19000000000003\n",
      "Medium text: 94.30000000000001\n",
      "Complex text: 9.700000000000017\n"
     ]
    }
   ],
   "source": [
    "print(\"\\nREADING EASE SCORES:\")\n",
    "print(\"Simple text:\", reading_checker(simple_text)['flesch_reading_ease'])\n",
    "print(\"Medium text:\", reading_checker(medium_text)['flesch_reading_ease'])\n",
    "print(\"Complex text:\", reading_checker(complex_text)['flesch_reading_ease'])"
   ]
  },
  {
   "cell_type": "markdown",
   "metadata": {},
   "source": [
    "\n",
    "**Check reading level needed**"
   ]
  },
  {
   "cell_type": "code",
   "execution_count": 15,
   "metadata": {},
   "outputs": [
    {
     "name": "stdout",
     "output_type": "stream",
     "text": [
      "\n",
      "READING LEVEL SCORES:\n",
      "Simple text: -3.4450000000000003\n",
      "Medium text: 1.9100000000000001\n",
      "Complex text: 14.993333333333332\n"
     ]
    }
   ],
   "source": [
    "print(\"\\nREADING LEVEL SCORES:\")\n",
    "print(\"Simple text:\", difficulty_measurer(simple_text)['ari_score'])\n",
    "print(\"Medium text:\", difficulty_measurer(medium_text)['ari_score'])\n",
    "print(\"Complex text:\", difficulty_measurer(complex_text)['ari_score'])"
   ]
  },
  {
   "cell_type": "markdown",
   "metadata": {},
   "source": [
    "\n",
    "## **Conclusion**\n",
    "\n",
    "### **WHAT DID WE LEARN?**\n",
    "\n",
    "**1. We Can Measure Reading Difficulty using  FleschReadingEaseTool:**\n",
    "   - Higher Flesch scores mean easier to read\n",
    "   - Lower Flesch scores mean harder to read\n",
    "   \n",
    "\n",
    "**2. Different Texts Have Different Scores using AutomatedReadabilityIndexTool:**\n",
    "   - Simple texts get lower ari_score\n",
    "   - Complex texts get higher ari_scores\n",
    "   - We can match texts to the right readers\n",
    "   - ARI scores tell us what grade level might be needed\n",
    "\n",
    "### **PRACTICAL USES:**\n",
    "- Check if your writing is easy to understand\n",
    "- Make sure instructions are clear\n",
    "- Choose appropriate texts for different audiences\n",
    "\n",
    "**Remember: Just like we have different books for different ages, these tools** \n",
    "**help us make sure our writing is right for our readers!**\n"
   ]
  }
 ],
 "metadata": {
  "kernelspec": {
   "display_name": "swarmauri-0.5.1",
   "language": "python",
   "name": "python3"
  },
  "language_info": {
   "codemirror_mode": {
    "name": "ipython",
    "version": 3
   },
   "file_extension": ".py",
   "mimetype": "text/x-python",
   "name": "python",
   "nbconvert_exporter": "python",
   "pygments_lexer": "ipython3",
   "version": "3.12.7"
  }
 },
 "nbformat": 4,
 "nbformat_minor": 2
}
