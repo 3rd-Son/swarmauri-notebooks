{
 "cells": [
  {
   "cell_type": "markdown",
   "metadata": {},
   "source": [
    "# **Notebook 03: Unit Testing Tools**\n",
    "\n",
    "## **Introduction**\n",
    "\n",
    "### **WHY DO WE NEED TESTING TOOLS?**\n",
    "Imagine you're building with LEGO blocks. Before you add each new block, you want to \n",
    "make sure it fits perfectly. Testing tools are like trying each LEGO piece before \n",
    "adding it to your creation. They make sure everything works exactly as it should.\n",
    "\n",
    "### **WHAT ARE TESTING TOOLS?**\n",
    "Testing tools are like quality checkers. They:\n",
    "- Make sure our tools work correctly (like checking if toys are safe)\n",
    "- Tell us if something goes wrong (like when a puzzle piece doesn't fit)\n",
    "- Help us find and fix problems (like finding a missing toy piece)\n",
    "\n",
    "### **HOW DOES SWARMAURI IMPLEMENT TESTING?**\n",
    "Let's dive into some more advanced examples to see how we can use the TestTool to ensure\n",
    "our tools and programs are working as expected.\n"
   ]
  },
  {
   "cell_type": "markdown",
   "metadata": {},
   "source": [
    "**Import dependencies**"
   ]
  },
  {
   "cell_type": "code",
   "execution_count": 2,
   "metadata": {},
   "outputs": [],
   "source": [
    "from swarmauri.tools.concrete import TestTool"
   ]
  },
  {
   "cell_type": "code",
   "execution_count": null,
   "metadata": {},
   "outputs": [],
   "source": [
    "test_tool = TestTool()\n"
   ]
  },
  {
   "cell_type": "markdown",
   "metadata": {},
   "source": [
    "**Test if tool can open a program**"
   ]
  },
  {
   "cell_type": "code",
   "execution_count": 5,
   "metadata": {},
   "outputs": [
    {
     "name": "stdout",
     "output_type": "stream",
     "text": [
      "TEST 1: CHECKING BASIC TOOL\n",
      "Program test result: {'program': 'Program Opened: notepad'}\n",
      "Did it work? True\n"
     ]
    }
   ],
   "source": [
    "print(\"TEST 1: CHECKING BASIC TOOL\")\n",
    "result = test_tool('notepad')\n",
    "print(\"Program test result:\", result)\n",
    "print(\"Did it work?\", 'Program Opened: notepad' in str(result))"
   ]
  },
  {
   "cell_type": "markdown",
   "metadata": {},
   "source": [
    "**Advanced examples**"
   ]
  },
  {
   "cell_type": "code",
   "execution_count": 8,
   "metadata": {},
   "outputs": [
    {
     "name": "stdout",
     "output_type": "stream",
     "text": [
      "\n",
      "TEST 2: HANDLING DIFFERENT PROGRAM TYPES\n",
      "\n",
      "Testing calc:\n",
      "{'program': 'Program Opened: calc'}\n",
      "Success? True\n",
      "\n",
      "Testing explorer:\n",
      "{'program': 'Program Opened: explorer'}\n",
      "Success? True\n",
      "\n",
      "Testing excel:\n",
      "{'program': 'Program Opened: excel'}\n",
      "Success? True\n",
      "\n",
      "Testing firefox:\n",
      "{'program': 'Program Opened: firefox'}\n",
      "Success? True\n"
     ]
    }
   ],
   "source": [
    "\n",
    "programs_to_test = ['calc', 'explorer', 'excel', 'firefox']\n",
    "\n",
    "print(\"\\nTEST 2: HANDLING DIFFERENT PROGRAM TYPES\")\n",
    "for program in programs_to_test:\n",
    "    print(f\"\\nTesting {program}:\")\n",
    "    result = test_tool(program)\n",
    "    print(result)\n",
    "    print(\"Success?\", 'Program Opened' in str(result))"
   ]
  },
  {
   "cell_type": "code",
   "execution_count": null,
   "metadata": {},
   "outputs": [
    {
     "name": "stdout",
     "output_type": "stream",
     "text": [
      "\n",
      "TEST 4: HANDLING INVALID PROGRAM NAMES\n",
      "\n",
      "Testing invalid program: nonexistent\n",
      "Result: {'program': 'Program Opened: nonexistent'}\n",
      "Success? True\n",
      "\n",
      "Testing invalid program: foo\n",
      "Result: {'program': 'Program Opened: foo'}\n",
      "Success? True\n",
      "\n",
      "Testing invalid program: bar\n",
      "Result: {'program': 'Program Opened: bar'}\n",
      "Success? True\n"
     ]
    }
   ],
   "source": [
    "invalid_programs = ['nonexistent', 'foo', 'bar']\n",
    "\n",
    "print(\"\\nTEST 3: HANDLING  PROGRAM NAMES\")\n",
    "for program in invalid_programs:\n",
    "    print(f\"\\nTesting invalid program: {program}\")\n",
    "    result = test_tool(program)\n",
    "    print(\"Result:\", result)\n",
    "    print(\"Success?\", 'Program Opened' in str(result))"
   ]
  },
  {
   "cell_type": "code",
   "execution_count": null,
   "metadata": {},
   "outputs": [
    {
     "name": "stdout",
     "output_type": "stream",
     "text": [
      "\n",
      "TEST 3: HANDLING  PARSED DOCUMENT\n",
      "\n",
      "Did it work? True\n"
     ]
    }
   ],
   "source": [
    "from swarmauri.parsers.concrete.TextBlobSentenceParser import TextBlobSentenceParser as Parser\n",
    "parser = Parser()\n",
    "documents = parser.parse(\"main.pdf\")\n",
    "result = test_tool(documents)\n",
    "print(\"\\nTEST 3: HANDLING  PARSED DOCUMENT\")\n",
    "print(\"\\nDid it work?\", 'Program Opened' in str(result))"
   ]
  },
  {
   "cell_type": "markdown",
   "metadata": {},
   "source": [
    "\n",
    "## **Conclusion**\n",
    "\n",
    "### **WHAT DID WE LEARN?**\n",
    "1. Testing is Like Quality Control:\n",
    "   - We check if tools work as expected\n",
    "   - We try different kinds of input\n",
    "   - We make sure results make sense\n",
    "\n",
    "2. Different Tests Tell Us Different Things:\n",
    "   - Basic tool tests show if programs can open\n",
    "   - Text counter tests show if counting works\n",
    "   - Reading ease tests show if scoring works right\n",
    "\n",
    "3. Testing Helps Us Find Problems:\n",
    "   - Empty text handling\n",
    "   - Different text complexities\n",
    "   - Various program commands\n",
    "\n",
    "### **PRACTICAL APPLICATIONS:**\n",
    "- Make sure tools work before using them\n",
    "- Find and fix problems early\n",
    "- Keep our tools reliable\n",
    "\n",
    "**Remember:** Just like checking if toys are safe before playing with them, \n",
    "testing makes sure our tools are safe and working properly!\n",
    "\n",
    "### **NEXT STEPS:**\n",
    "- Try more complex tests\n",
    "- Test edge cases (unusual situations)\n",
    "- Create test reports"
   ]
  }
 ],
 "metadata": {
  "kernelspec": {
   "display_name": "swarmauri-0.5.1",
   "language": "python",
   "name": "python3"
  },
  "language_info": {
   "codemirror_mode": {
    "name": "ipython",
    "version": 3
   },
   "file_extension": ".py",
   "mimetype": "text/x-python",
   "name": "python",
   "nbconvert_exporter": "python",
   "pygments_lexer": "ipython3",
   "version": "3.12.7"
  }
 },
 "nbformat": 4,
 "nbformat_minor": 2
}
