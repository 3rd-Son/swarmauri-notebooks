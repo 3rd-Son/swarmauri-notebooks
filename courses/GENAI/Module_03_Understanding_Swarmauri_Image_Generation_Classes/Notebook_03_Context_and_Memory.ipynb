{
 "cells": [
  {
   "cell_type": "markdown",
   "id": "9d51e9d9-9539-4c88-9ccb-38d2a3dbeb7b",
   "metadata": {},
   "source": [
    "# Notebook_03_Context_and_Memory\n",
    "## Objective\n",
    "\n",
    "This notebook explores how context is maintained in a multi-turn conversation using an AI model. By examining how conversation history influences responses, we can understand the role of context and memory in enhancing the continuity and relevance of interactions.\n",
    "\n",
    "## Memory and Context in Conversations\n",
    "\n",
    "In this notebook, we examine how the model utilizes previous interactions to retain context within a single conversation. While the model can refer back to prior messages in the same session, it does not retain memory between sessions (i.e., it \"forgets\" everything after the conversation ends). This is typical for many AI systems, which are designed to focus on immediate context rather than persistent memory."
   ]
  },
  {
   "cell_type": "code",
   "execution_count": 1,
   "id": "19298ae6-8f36-4163-8ae4-29729b8c5f73",
   "metadata": {},
   "outputs": [],
   "source": [
    "# Import necessary libraries\n",
    "import os\n",
    "from dotenv import load_dotenv"
   ]
  },
  {
   "cell_type": "code",
   "execution_count": 2,
   "id": "6120bc21-89ac-460f-bb36-f13e9964c67a",
   "metadata": {},
   "outputs": [],
   "source": [
    "# Load environment variables\n",
    "load_dotenv()\n",
    "API_KEY = os.getenv(\"OPENAI_API_KEY\")"
   ]
  },
  {
   "cell_type": "code",
   "execution_count": 3,
   "id": "7ddc2070-2665-451e-94a5-fc0cae6b5d5c",
   "metadata": {},
   "outputs": [],
   "source": [
    "# Import required classes\n",
    "from swarmauri.llms.concrete.OpenAIModel import OpenAIModel as LLM\n",
    "from swarmauri.conversations.concrete.Conversation import Conversation\n",
    "from swarmauri.messages.concrete.HumanMessage import HumanMessage\n",
    "from swarmauri.messages.concrete.SystemMessage import SystemMessage"
   ]
  },
  {
   "cell_type": "code",
   "execution_count": 4,
   "id": "c4eb6455-27cb-4613-88d2-fced98a21294",
   "metadata": {},
   "outputs": [],
   "source": [
    "# Initialize the model\n",
    "llm = LLM(api_key=API_KEY)"
   ]
  },
  {
   "cell_type": "markdown",
   "id": "f4140867-4cee-47ae-83f9-ffa6bbc2549b",
   "metadata": {},
   "source": [
    "# Step 1: Set up a conversation with a system message for consistent context"
   ]
  },
  {
   "cell_type": "code",
   "execution_count": 5,
   "id": "b111208f-75bd-40c0-a12a-9e736c84ace2",
   "metadata": {},
   "outputs": [],
   "source": [
    "# et up a conversation with a system message for consistent context\n",
    "conversation = Conversation()\n",
    "system_context = \"You are a helpful assistant for learning Python.\"\n",
    "conversation.add_message(SystemMessage(content=system_context))"
   ]
  },
  {
   "cell_type": "code",
   "execution_count": 8,
   "id": "b16f073d-7e95-42b2-b181-f2286458a16a",
   "metadata": {},
   "outputs": [
    {
     "name": "stdout",
     "output_type": "stream",
     "text": [
      "System Message: You are a helpful assistant for learning Python.\n"
     ]
    }
   ],
   "source": [
    "# Display system message\n",
    "print(\"System Message:\", system_context)"
   ]
  },
  {
   "cell_type": "markdown",
   "id": "c710cb8b-4b17-4bb8-86b6-4cbdb0c46b4f",
   "metadata": {},
   "source": [
    "# Step 2: Add multi-turn interaction"
   ]
  },
  {
   "cell_type": "code",
   "execution_count": 9,
   "id": "c3d2126b-fa36-47ef-b8ae-d6ba3b43235f",
   "metadata": {},
   "outputs": [],
   "source": [
    "# Add multi-turn interaction\n",
    "input_texts = [\n",
    "    \"What is Python?\",\n",
    "    \"What are some common libraries used in Python?\",\n",
    "    \"Can you explain how to use pandas?\"\n",
    "]"
   ]
  },
  {
   "cell_type": "code",
   "execution_count": 10,
   "id": "6aea2f56-e97d-4a12-810f-7c957a76cd86",
   "metadata": {},
   "outputs": [
    {
     "name": "stdout",
     "output_type": "stream",
     "text": [
      "User Prompt: What is Python?\n",
      "Response: Python is a high-level, interpreted programming language known for its simplicity and readability. It supports multiple programming paradigms, including procedural, object-oriented, and functional programming. Python is widely used in web development, scientific computing, data analysis, artificial intelligence, and many other fields. It has a large standard library and a vibrant community that contributes to its ecosystem with third-party packages and frameworks.\n",
      "Usage Data: prompt_tokens=24 completion_tokens=78 total_tokens=102 prompt_time=1.3208861351013184 completion_time=0.014649391174316406 total_time=1.3355355262756348 completion_tokens_details={'audio_tokens': None, 'reasoning_tokens': 0, 'accepted_prediction_tokens': 0, 'rejected_prediction_tokens': 0} prompt_tokens_details={'audio_tokens': None, 'cached_tokens': 0}\n",
      "--------------------------------------------------\n",
      "User Prompt: What are some common libraries used in Python?\n",
      "Response: There are many popular libraries in Python that are widely used for various purposes. Some common libraries include:\n",
      "\n",
      "1. NumPy: A library for numerical computing in Python, providing support for large, multi-dimensional arrays and matrices, along with a collection of mathematical functions to operate on these arrays.\n",
      "\n",
      "2. Pandas: A powerful data manipulation library that provides data structures like DataFrames and Series, which are designed to make data analysis and manipulation easy and intuitive.\n",
      "\n",
      "3. Matplotlib: A plotting library that enables the creation of a wide variety of plots, charts, and graphs for data visualization.\n",
      "\n",
      "4. Scikit-learn: A machine learning library that provides tools for data mining and data analysis. It includes various algorithms for classification, regression, clustering, and more.\n",
      "\n",
      "5. TensorFlow: An open-source machine learning library developed by Google that is widely used for building and training deep learning models.\n",
      "\n",
      "6. BeautifulSoup: A library for web scraping that makes it easy to extract data from HTML and XML files.\n",
      "\n",
      "7. Requests: A library for making HTTP requests in Python, allowing you to interact with web APIs and websites.\n",
      "\n",
      "These are just a few examples of the many libraries available in Python that cater to different needs and domains. Python's rich ecosystem of libraries makes it a versatile and powerful language\n",
      "Usage Data: prompt_tokens=119 completion_tokens=256 total_tokens=375 prompt_time=3.5178487300872803 completion_time=0.0 total_time=3.5178487300872803 completion_tokens_details={'audio_tokens': None, 'reasoning_tokens': 0, 'accepted_prediction_tokens': 0, 'rejected_prediction_tokens': 0} prompt_tokens_details={'audio_tokens': None, 'cached_tokens': 0}\n",
      "--------------------------------------------------\n",
      "User Prompt: Can you explain how to use pandas?\n",
      "Response: Certainly! Pandas is a powerful data manipulation library in Python that provides data structures like DataFrames and Series, which are designed to make data analysis and manipulation easier. Here is a basic overview of how to use pandas:\n",
      "\n",
      "1. Import the pandas library:\n",
      "```python\n",
      "import pandas as pd\n",
      "```\n",
      "\n",
      "2. Create a DataFrame:\n",
      "You can create a DataFrame by passing a dictionary or a list of lists to the `pd.DataFrame()` constructor.\n",
      "```python\n",
      "data = {'Name': ['Alice', 'Bob', 'Charlie'],\n",
      "        'Age': [25, 30, 35],\n",
      "        'City': ['New York', 'Los Angeles', 'Chicago']}\n",
      "df = pd.DataFrame(data)\n",
      "```\n",
      "\n",
      "3. Read data from a file:\n",
      "You can read data from various file formats like CSV, Excel, SQL, etc., using pandas' `read_csv()`, `read_excel()`, `read_sql()`, etc. functions.\n",
      "```python\n",
      "df = pd.read_csv('data.csv')\n",
      "```\n",
      "\n",
      "4. Accessing and manipulating data:\n",
      "You can access, filter, and manipulate data in a DataFrame using various methods and functions provided by pandas.\n",
      "```python\n",
      "# Access a column\n",
      "ages = df['Age']\n",
      "\n",
      "# Filter rows based on a condition\n",
      "filtered_df\n",
      "Usage Data: prompt_tokens=391 completion_tokens=256 total_tokens=647 prompt_time=3.012761116027832 completion_time=0.0 total_time=3.012761116027832 completion_tokens_details={'audio_tokens': None, 'reasoning_tokens': 0, 'accepted_prediction_tokens': 0, 'rejected_prediction_tokens': 0} prompt_tokens_details={'audio_tokens': None, 'cached_tokens': 0}\n",
      "--------------------------------------------------\n"
     ]
    }
   ],
   "source": [
    "# Generate responses for each user input\n",
    "for input_text in input_texts:\n",
    "    conversation.add_message(HumanMessage(content=input_text))\n",
    "    llm.predict(conversation=conversation)\n",
    "\n",
    "    # Display each user prompt, model response, and usage statistics\n",
    "    print(\"User Prompt:\", input_text)\n",
    "    print(\"Response:\", conversation.get_last().content)\n",
    "    print(\"Usage Data:\", conversation.get_last().usage)\n",
    "    print(\"-\" * 50)"
   ]
  },
  {
   "cell_type": "markdown",
   "id": "828cd7cc-2a5c-471c-b9fe-3071d4bf2b93",
   "metadata": {},
   "source": [
    "# Explanation of Code Blocks\n",
    "\n",
    "- **Setup:**\n",
    "    - Load the API key and import required classes.\n",
    "- **Initialize Model and System Message:**\n",
    "    - Create an instance of `Conversation`.\n",
    "    - Add a `SystemMessage` to establish a consistent context (in this case, Python assistance).\n",
    "    - Setting a system message helps the model maintain its role and respond with context-specific details.\n",
    "- **Multi-turn Interaction:**\n",
    "    - Define a list of prompts that simulate a progressive conversation.\n",
    "    - Each prompt builds on the previous question, allowing the model to maintain context and provide relevant responses.\n",
    "- **Display Outputs:**\n",
    "    - For each interaction, display the user prompt, model response, and usage data, illustrating how the conversation evolves."
   ]
  },
  {
   "cell_type": "markdown",
   "id": "bdd4ec3a-32d4-4ebc-97cb-7391b7708c44",
   "metadata": {},
   "source": [
    "# Notebook Metadata"
   ]
  },
  {
   "cell_type": "code",
   "execution_count": 12,
   "id": "94c01824-c2ed-4eef-b0e6-d0536875e30d",
   "metadata": {},
   "outputs": [
    {
     "name": "stdout",
     "output_type": "stream",
     "text": [
      "Author: Huzaifa Irshad\n",
      "GitHub Username: irshadhuzaifa\n",
      "Last Modified: 2024-11-05 18:24:47.842599\n",
      "Platform: Windows 11\n",
      "Python Version: 3.12.7 | packaged by Anaconda, Inc. | (main, Oct  4 2024, 13:17:27) [MSC v.1929 64 bit (AMD64)]\n",
      "Swarmauri Version: Swarmauri Version: 0.5.1\n"
     ]
    }
   ],
   "source": [
    "import platform\n",
    "import sys\n",
    "from datetime import datetime\n",
    "\n",
    "# Display author information\n",
    "author_name = \"Huzaifa Irshad\" \n",
    "github_username = \"irshadhuzaifa\"  \n",
    "\n",
    "print(f\"Author: {author_name}\")\n",
    "print(f\"GitHub Username: {github_username}\")\n",
    "\n",
    "# Last modified datetime (file's metadata)\n",
    "notebook_file = \"Notebook_03_Context_and_Memory.ipynb\"\n",
    "try:\n",
    "    last_modified_time = os.path.getmtime(notebook_file)\n",
    "    last_modified_datetime = datetime.fromtimestamp(last_modified_time)\n",
    "    print(f\"Last Modified: {last_modified_datetime}\")\n",
    "except Exception as e:\n",
    "    print(f\"Could not retrieve last modified datetime: {e}\")\n",
    "\n",
    "# Display platform, Python version, and Swarmauri version\n",
    "print(f\"Platform: {platform.system()} {platform.release()}\")\n",
    "print(f\"Python Version: {sys.version}\")\n",
    "\n",
    "import swarmauri\n",
    "\n",
    "try:\n",
    "    version = swarmauri.__version__\n",
    "except AttributeError:\n",
    "    version = f\"Swarmauri Version: 0.5.1\"\n",
    "\n",
    "print(f\"Swarmauri Version: {version}\")"
   ]
  },
  {
   "cell_type": "code",
   "execution_count": null,
   "id": "bde7cf87-87b0-4333-94f5-8fed4323dc4d",
   "metadata": {},
   "outputs": [],
   "source": []
  }
 ],
 "metadata": {
  "kernelspec": {
   "display_name": "swarmauri(0.5.1)",
   "language": "python",
   "name": "myenv"
  },
  "language_info": {
   "codemirror_mode": {
    "name": "ipython",
    "version": 3
   },
   "file_extension": ".py",
   "mimetype": "text/x-python",
   "name": "python",
   "nbconvert_exporter": "python",
   "pygments_lexer": "ipython3",
   "version": "3.12.7"
  }
 },
 "nbformat": 4,
 "nbformat_minor": 5
}
