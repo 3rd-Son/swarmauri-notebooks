{
 "cells": [
  {
   "cell_type": "markdown",
   "id": "f7b0fcce-3c3a-4c35-8b3f-039bef96e31d",
   "metadata": {},
   "source": [
    "# Introduction\n",
    "\n",
    "## Purpose\n",
    "\n",
    "This notebook serves as a comprehensive documentation and presentation tool for the multimodal chatbot project. It combines technical insights with presentation-ready content, enabling stakeholders to explore the project's design, implementation, and performance in a single, interactive document.\n",
    "## Project Overview\n",
    "\n",
    "The multimodal chatbot leverages Gradio for its interactive user interface and integrates with GroqModel for text and image-based AI capabilities. The system supports multiple input and output modalities, offering a seamless user experience.\n",
    "## Objectives\n",
    "\n",
    "- Document the project structure and code comprehensively.\n",
    "- Provide a guide for deploying the chatbot locally.\n",
    "- Present performance metrics and evaluation results.\n",
    "- Offer an interactive presentation of the project."
   ]
  },
  {
   "cell_type": "markdown",
   "id": "f2fdcd2a-07fd-4c21-a773-ecf898e7e10c",
   "metadata": {},
   "source": [
    "# User Guide\n",
    "## Step 1: Install Dependencies\n",
    "\n",
    "In your virtual environment, install the:\n",
    "```bash\n",
    "pip install swarmauri\n",
    "pip install pip install python-dotenv\n",
    "pip install gardio\n",
    "```\n",
    "\n",
    "\n"
   ]
  },
  {
   "cell_type": "markdown",
   "id": "3f0a8dc5-7ee2-4111-a6c0-ae8a19ed97bb",
   "metadata": {},
   "source": [
    "## Step 2: Creating a `.env` File\n",
    "In your project directory, create a file named `.env` and add your API keys in the file, in the given format:\n",
    "```plaintext\n",
    "API_KEY=your_api_key_here\n",
    "```\n"
   ]
  },
  {
   "cell_type": "markdown",
   "id": "e5cc1026-c40f-4624-a574-c6addf7a6c7b",
   "metadata": {},
   "source": [
    "## Step 3: Load Environment Variables\n",
    "```python\n",
    "import os\n",
    "from dotenv import load_dotenv\n",
    "\n",
    "load_dotenv()\n",
    "\n",
    "API_Key = os.getenv(\"API_KEY\")\n"
   ]
  },
  {
   "cell_type": "markdown",
   "id": "ce3ea620-a334-4085-a262-250185fd52db",
   "metadata": {},
   "source": [
    "## Launching the Chatbot\n",
    "\n",
    "- **Run the Notebook or Script:** Execute the provided Python script in previous notebook to start the Gradio interface."
   ]
  },
  {
   "cell_type": "markdown",
   "id": "c1dc009f-3d9b-405d-ac53-1e6b87511e76",
   "metadata": {},
   "source": [
    "# Interacting with the Chatbot\n",
    "\n",
    "## 1. Input Message\n",
    "The chatbot interface includes a user-friendly text input field. Here, users can type their questions or commands to interact with the AI model. This allows users to seek information, ask for assistance, or request task execution.\n",
    "\n",
    "Example:\n",
    "- \"Generate an image of a futuristic city.\"\n",
    "- \"Explain the concept of gravitational waves in simple terms.\"\n",
    "\n",
    "## 2. System Context Input\n",
    "Users can provide a specific system context to guide the chatbot's responses. This is particularly useful for setting the tone, expertise level, or specific constraints for the conversation.\n",
    "\n",
    "Example:\n",
    "- System context: \"You are an astrophysicist.\"\n",
    "- User input: \"Explain black holes to a 10-year-old.\"\n",
    "\n",
    "## 3. Model Selection\n",
    "The interface includes a dropdown menu for selecting the desired AI model from a list of available options. Users can switch between models depending on their needs (e.g., for text, image, or audio tasks).\n",
    "\n",
    "Example:\n",
    "- Choose from models like GroqModel-TextGen or GroqModel-ImageGen to tailor the chatbot's functionality.\n",
    "\n",
    "## 4. Output Interpretation\n",
    "The chatbot displays responses in an interactive chat window. This includes text outputs, images, or even audio files, depending on the task. Users can review and refine their queries based on the output quality.\n",
    "\n",
    "Example:\n",
    "- For text: A detailed explanation or summary.\n",
    "- For images: Generated artwork or visualizations.\n",
    "- For audio: Synthesized speech or sound effects."
   ]
  },
  {
   "cell_type": "markdown",
   "id": "0c7d6e6f-85ef-4d12-be02-70ffd9169fa9",
   "metadata": {},
   "source": [
    "# Notebook Metadata"
   ]
  },
  {
   "cell_type": "code",
   "execution_count": 3,
   "id": "2255a170-d9d8-459f-93d3-97360c5be915",
   "metadata": {},
   "outputs": [
    {
     "name": "stdout",
     "output_type": "stream",
     "text": [
      "Author: Huzaifa Irshad\n",
      "GitHub Username: irshadhuzaifa\n",
      "Last Modified: 2024-11-07 14:35:44.495656\n",
      "Platform: Windows 11\n",
      "Python Version: 3.12.7 | packaged by Anaconda, Inc. | (main, Oct  4 2024, 13:17:27) [MSC v.1929 64 bit (AMD64)]\n",
      "Swarmauri Version: Swarmauri Version: 0.5.1\n"
     ]
    }
   ],
   "source": [
    "import os\n",
    "import platform\n",
    "import sys\n",
    "from datetime import datetime\n",
    "\n",
    "# Display author information\n",
    "author_name = \"Huzaifa Irshad\" \n",
    "github_username = \"irshadhuzaifa\"  \n",
    "\n",
    "print(f\"Author: {author_name}\")\n",
    "print(f\"GitHub Username: {github_username}\")\n",
    "\n",
    "# Last modified datetime (file's metadata)\n",
    "notebook_file = \"Notebook_04_Documentation_and_Presentation.ipynb\"\n",
    "try:\n",
    "    last_modified_time = os.path.getmtime(notebook_file)\n",
    "    last_modified_datetime = datetime.fromtimestamp(last_modified_time)\n",
    "    print(f\"Last Modified: {last_modified_datetime}\")\n",
    "except Exception as e:\n",
    "    print(f\"Could not retrieve last modified datetime: {e}\")\n",
    "\n",
    "# Display platform, Python version, and Swarmauri version\n",
    "print(f\"Platform: {platform.system()} {platform.release()}\")\n",
    "print(f\"Python Version: {sys.version}\")\n",
    "\n",
    "import swarmauri\n",
    "\n",
    "try:\n",
    "    version = swarmauri.__version__\n",
    "except AttributeError:\n",
    "    version = f\"Swarmauri Version: 0.5.1\"\n",
    "\n",
    "print(f\"Swarmauri Version: {version}\")"
   ]
  },
  {
   "cell_type": "code",
   "execution_count": null,
   "id": "200ce432-bd20-46c3-9ce4-5c46cdf482c3",
   "metadata": {},
   "outputs": [],
   "source": []
  }
 ],
 "metadata": {
  "kernelspec": {
   "display_name": "swarmauri(0.5.1)",
   "language": "python",
   "name": "myenv"
  },
  "language_info": {
   "codemirror_mode": {
    "name": "ipython",
    "version": 3
   },
   "file_extension": ".py",
   "mimetype": "text/x-python",
   "name": "python",
   "nbconvert_exporter": "python",
   "pygments_lexer": "ipython3",
   "version": "3.12.7"
  }
 },
 "nbformat": 4,
 "nbformat_minor": 5
}
