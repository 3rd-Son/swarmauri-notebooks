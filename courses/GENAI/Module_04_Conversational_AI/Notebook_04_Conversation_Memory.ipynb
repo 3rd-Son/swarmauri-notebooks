{
 "cells": [
  {
   "cell_type": "markdown",
   "metadata": {},
   "source": [
    "# **Conversation Memory Management**\n",
    "# **Introduction**\n",
    "This notebook focuses on managing conversation memory effectively, including handling memory constraints, implementing memory policies, and managing conversation history.\n",
    "\n",
    "## **Basic Memory Management**\n",
    "**Let's start with basic conversation memory handling:**"
   ]
  },
  {
   "cell_type": "code",
   "execution_count": 27,
   "metadata": {},
   "outputs": [],
   "source": [
    "from swarmauri.messages.concrete import SystemMessage, HumanMessage, AgentMessage\n",
    "from swarmauri.conversations.concrete.SessionCacheConversation import SessionCacheConversation"
   ]
  },
  {
   "cell_type": "markdown",
   "metadata": {},
   "source": [
    " **Create a conversation with limited memory**"
   ]
  },
  {
   "cell_type": "code",
   "execution_count": 28,
   "metadata": {},
   "outputs": [],
   "source": [
    "\n",
    "conversation = SessionCacheConversation(\n",
    "    system_context=SystemMessage(content=\"I am a helpful assistant\"),\n",
    "    max_size=4  # Only keep recent messages\n",
    ")"
   ]
  },
  {
   "cell_type": "markdown",
   "metadata": {},
   "source": [
    "**Add more messages than the memory limit**"
   ]
  },
  {
   "cell_type": "code",
   "execution_count": 29,
   "metadata": {},
   "outputs": [],
   "source": [
    "messages = [\n",
    "    (\"What is machine learning?\", \"Machine learning is...\"),\n",
    "    (\"What about neural networks?\", \"Neural networks are...\"),\n",
    "    (\"How do they work?\", \"They process information by...\"),\n",
    "    (\"Can you give an example?\", \"Consider image recognition...\")\n",
    "]"
   ]
  },
  {
   "cell_type": "code",
   "execution_count": 30,
   "metadata": {},
   "outputs": [
    {
     "name": "stdout",
     "output_type": "stream",
     "text": [
      "Current Memory Content:\n",
      "Type: SystemMessage, Content: I am a helpful assistant\n",
      "Type: HumanMessage, Content: How do they work?\n",
      "Type: AgentMessage, Content: They process information by...\n",
      "Type: HumanMessage, Content: Can you give an example?\n",
      "Type: AgentMessage, Content: Consider image recognition...\n"
     ]
    }
   ],
   "source": [
    "for question, answer in messages:\n",
    "    conversation.add_message(HumanMessage(content=question))\n",
    "    conversation.add_message(AgentMessage(content=answer))\n",
    "\n",
    "print(\"Current Memory Content:\")\n",
    "for msg in conversation.history:\n",
    "    print(f\"Type: {type(msg).__name__}, Content: {msg.content}\")"
   ]
  },
  {
   "cell_type": "markdown",
   "metadata": {},
   "source": [
    "## **Memory Window Management**\n",
    "**Example showing how to work with sliding memory windows:**\n",
    "\n",
    "**Create a conversation with sliding memory window**\n"
   ]
  },
  {
   "cell_type": "code",
   "execution_count": 31,
   "metadata": {},
   "outputs": [],
   "source": [
    "conversation = SessionCacheConversation(\n",
    "    system_context=SystemMessage(content=\"Technical Support Assistant\"),\n",
    "    max_size=6\n",
    ")"
   ]
  },
  {
   "cell_type": "markdown",
   "metadata": {},
   "source": [
    "**Simulate a technical support conversation**"
   ]
  },
  {
   "cell_type": "code",
   "execution_count": 32,
   "metadata": {},
   "outputs": [],
   "source": [
    "support_dialog = [\n",
    "    (\"My computer won't start\", \"Let's troubleshoot step by step.\"),\n",
    "    (\"I see a blue screen\", \"That's a blue screen of death (BSOD).\"),\n",
    "    (\"What should I do?\", \"First, note any error codes.\"),\n",
    "    (\"It says ERROR_001\", \"This indicates a driver issue.\"),\n",
    "    (\"How do I fix it?\", \"Let's try safe mode...\")\n",
    "]\n"
   ]
  },
  {
   "cell_type": "code",
   "execution_count": 33,
   "metadata": {},
   "outputs": [
    {
     "name": "stdout",
     "output_type": "stream",
     "text": [
      "\n",
      "Current Memory Window:\n",
      "User: My computer won't start\n",
      "Support: Let's troubleshoot step by step.\n",
      "\n",
      "Current Memory Window:\n",
      "User: My computer won't start\n",
      "Support: Let's troubleshoot step by step.\n",
      "User: I see a blue screen\n",
      "Support: That's a blue screen of death (BSOD).\n",
      "\n",
      "Current Memory Window:\n",
      "User: My computer won't start\n",
      "Support: Let's troubleshoot step by step.\n",
      "User: I see a blue screen\n",
      "Support: That's a blue screen of death (BSOD).\n",
      "User: What should I do?\n",
      "Support: First, note any error codes.\n",
      "\n",
      "Current Memory Window:\n",
      "User: I see a blue screen\n",
      "Support: That's a blue screen of death (BSOD).\n",
      "User: What should I do?\n",
      "Support: First, note any error codes.\n",
      "User: It says ERROR_001\n",
      "Support: This indicates a driver issue.\n",
      "\n",
      "Current Memory Window:\n",
      "User: What should I do?\n",
      "Support: First, note any error codes.\n",
      "User: It says ERROR_001\n",
      "Support: This indicates a driver issue.\n",
      "User: How do I fix it?\n",
      "Support: Let's try safe mode...\n"
     ]
    }
   ],
   "source": [
    "for issue, response in support_dialog:\n",
    "    # Add new messages\n",
    "    conversation.add_message(HumanMessage(content=issue))\n",
    "    conversation.add_message(AgentMessage(content=response))\n",
    "    \n",
    "    # Show current memory window\n",
    "    print(\"\\nCurrent Memory Window:\")\n",
    "    # Skip system message\n",
    "    for msg in conversation.history[1:]:  \n",
    "        print(f\"{'User' if isinstance(msg, HumanMessage) else 'Support'}: {msg.content}\")"
   ]
  },
  {
   "cell_type": "markdown",
   "metadata": {},
   "source": [
    "## **Memory Policy Implementation**\n",
    "**Example of implementing different memory policies:**"
   ]
  },
  {
   "cell_type": "markdown",
   "metadata": {},
   "source": [
    "**Create conversations with different memory policies**"
   ]
  },
  {
   "cell_type": "code",
   "execution_count": 34,
   "metadata": {},
   "outputs": [],
   "source": [
    "short_memory = SessionCacheConversation(\n",
    "    system_context=SystemMessage(content=\"Short-term memory assistant\"),\n",
    "    max_size=2\n",
    ")\n",
    "\n",
    "long_memory = SessionCacheConversation(\n",
    "    system_context=SystemMessage(content=\"Long-term memory assistant\"),\n",
    "    max_size=8\n",
    ")"
   ]
  },
  {
   "cell_type": "markdown",
   "metadata": {},
   "source": [
    " **Add same conversation to both**"
   ]
  },
  {
   "cell_type": "code",
   "execution_count": 35,
   "metadata": {},
   "outputs": [],
   "source": [
    "conversation_steps = [\n",
    "    (\"Tell me about planets\", \"There are 8 planets...\"),\n",
    "    (\"What about Mars?\", \"Mars is the fourth planet...\"),\n",
    "    (\"Is there water?\", \"Mars has ice caps...\")\n",
    "]"
   ]
  },
  {
   "cell_type": "code",
   "execution_count": 36,
   "metadata": {},
   "outputs": [
    {
     "name": "stdout",
     "output_type": "stream",
     "text": [
      "Short Memory Conversation:\n"
     ]
    }
   ],
   "source": [
    "print(\"Short Memory Conversation:\")\n",
    "for question, answer in conversation_steps:\n",
    "    short_memory.add_message(HumanMessage(content=question))\n",
    "    short_memory.add_message(AgentMessage(content=answer))\n"
   ]
  },
  {
   "cell_type": "code",
   "execution_count": 37,
   "metadata": {},
   "outputs": [
    {
     "name": "stdout",
     "output_type": "stream",
     "text": [
      "\n",
      "Long Memory Conversation:\n"
     ]
    }
   ],
   "source": [
    "\n",
    "print(\"\\nLong Memory Conversation:\")\n",
    "for question, answer in conversation_steps:\n",
    "    long_memory.add_message(HumanMessage(content=question))\n",
    "    long_memory.add_message(AgentMessage(content=answer))"
   ]
  },
  {
   "cell_type": "markdown",
   "metadata": {},
   "source": [
    "\n",
    " **Compare memory contents**"
   ]
  },
  {
   "cell_type": "code",
   "execution_count": 38,
   "metadata": {},
   "outputs": [
    {
     "name": "stdout",
     "output_type": "stream",
     "text": [
      "\n",
      "Short Memory Contents:\n",
      "- Is there water?\n",
      "- Mars has ice caps...\n"
     ]
    }
   ],
   "source": [
    "\n",
    "print(\"\\nShort Memory Contents:\")\n",
    "for msg in short_memory.history[1:]:\n",
    "    print(f\"- {msg.content}\")"
   ]
  },
  {
   "cell_type": "code",
   "execution_count": 39,
   "metadata": {},
   "outputs": [
    {
     "name": "stdout",
     "output_type": "stream",
     "text": [
      "\n",
      "Long Memory Contents:\n",
      "- Tell me about planets\n",
      "- There are 8 planets...\n",
      "- What about Mars?\n",
      "- Mars is the fourth planet...\n",
      "- Is there water?\n",
      "- Mars has ice caps...\n"
     ]
    }
   ],
   "source": [
    "print(\"\\nLong Memory Contents:\")\n",
    "for msg in long_memory.history[1:]:\n",
    "    print(f\"- {msg.content}\")"
   ]
  },
  {
   "cell_type": "markdown",
   "metadata": {},
   "source": [
    "## **Advanced Memory Management**\n",
    "**Example of handling complex memory scenarios:**"
   ]
  },
  {
   "cell_type": "markdown",
   "metadata": {},
   "source": [
    "**Create a conversation with memory management for a complex task**"
   ]
  },
  {
   "cell_type": "code",
   "execution_count": 40,
   "metadata": {},
   "outputs": [],
   "source": [
    "conversation = SessionCacheConversation(\n",
    "    system_context=SystemMessage(content=\"Project Planning Assistant\"),\n",
    "    max_size=10\n",
    ")"
   ]
  },
  {
   "cell_type": "markdown",
   "metadata": {},
   "source": [
    "**Simulate a project planning session**"
   ]
  },
  {
   "cell_type": "code",
   "execution_count": 41,
   "metadata": {},
   "outputs": [],
   "source": [
    "\n",
    "planning_session = [\n",
    "    (\"Let's plan a website\", \"Great! What are the key features?\"),\n",
    "    (\"Need user login\", \"Noted. We'll need authentication.\"),\n",
    "    (\"And a dashboard\", \"A dashboard for user data...\"),\n",
    "    (\"What's the timeline?\", \"Let's break it down by phase...\"),\n",
    "    (\"Budget concerns?\", \"We can estimate costs per feature...\")\n",
    "]\n"
   ]
  },
  {
   "cell_type": "markdown",
   "metadata": {},
   "source": [
    "**Track important information while managing memory**"
   ]
  },
  {
   "cell_type": "code",
   "execution_count": 42,
   "metadata": {},
   "outputs": [],
   "source": [
    "key_points = []\n",
    "\n",
    "for topic, response in planning_session:\n",
    "    # Add messages\n",
    "    conversation.add_message(HumanMessage(content=topic))\n",
    "    conversation.add_message(AgentMessage(content=response))\n",
    "    key_points.append(f\"Topic: {topic}\")"
   ]
  },
  {
   "cell_type": "code",
   "execution_count": 43,
   "metadata": {},
   "outputs": [
    {
     "name": "stdout",
     "output_type": "stream",
     "text": [
      "Session Summary:\n",
      "\n",
      "Key Points Discussed:\n",
      "\n",
      "Final Memory State:\n",
      "- Let's plan a website\n",
      "- Great! What are the key features?\n",
      "- Need user login\n",
      "- Noted. We'll need authentication.\n",
      "- And a dashboard\n",
      "- A dashboard for user data...\n",
      "- What's the timeline?\n",
      "- Let's break it down by phase...\n",
      "- Budget concerns?\n",
      "- We can estimate costs per feature...\n",
      "\n",
      "Final Memory State:\n",
      "- Let's plan a website\n",
      "- Great! What are the key features?\n",
      "- Need user login\n",
      "- Noted. We'll need authentication.\n",
      "- And a dashboard\n",
      "- A dashboard for user data...\n",
      "- What's the timeline?\n",
      "- Let's break it down by phase...\n",
      "- Budget concerns?\n",
      "- We can estimate costs per feature...\n",
      "\n",
      "Final Memory State:\n",
      "- Let's plan a website\n",
      "- Great! What are the key features?\n",
      "- Need user login\n",
      "- Noted. We'll need authentication.\n",
      "- And a dashboard\n",
      "- A dashboard for user data...\n",
      "- What's the timeline?\n",
      "- Let's break it down by phase...\n",
      "- Budget concerns?\n",
      "- We can estimate costs per feature...\n",
      "\n",
      "Final Memory State:\n",
      "- Let's plan a website\n",
      "- Great! What are the key features?\n",
      "- Need user login\n",
      "- Noted. We'll need authentication.\n",
      "- And a dashboard\n",
      "- A dashboard for user data...\n",
      "- What's the timeline?\n",
      "- Let's break it down by phase...\n",
      "- Budget concerns?\n",
      "- We can estimate costs per feature...\n",
      "\n",
      "Final Memory State:\n",
      "- Let's plan a website\n",
      "- Great! What are the key features?\n",
      "- Need user login\n",
      "- Noted. We'll need authentication.\n",
      "- And a dashboard\n",
      "- A dashboard for user data...\n",
      "- What's the timeline?\n",
      "- Let's break it down by phase...\n",
      "- Budget concerns?\n",
      "- We can estimate costs per feature...\n"
     ]
    }
   ],
   "source": [
    "\n",
    "print(\"Session Summary:\")\n",
    "print(\"\\nKey Points Discussed:\")\n",
    "for point in key_points:\n",
    "\n",
    "    # Show final memory state\n",
    "    print(\"\\nFinal Memory State:\")\n",
    "    for msg in conversation.history[1:]:\n",
    "        print(f\"- {msg.content}\")"
   ]
  },
  {
   "cell_type": "markdown",
   "metadata": {},
   "source": [
    "# **Conclusion**\n",
    "**In this notebook, we've explored:**\n",
    "\n",
    "Basic conversation memory management\n",
    "Working with memory windows\n",
    "Implementing different memory policies\n",
    "Handling complex memory scenarios\n",
    "Balancing memory constraints with conversation coherence\n",
    "\n",
    "**These techniques help create more effective and memory-efficient conversational AI applications.**"
   ]
  },
  {
   "cell_type": "markdown",
   "metadata": {},
   "source": []
  }
 ],
 "metadata": {
  "kernelspec": {
   "display_name": "swarmauri-0.5.1",
   "language": "python",
   "name": "python3"
  },
  "language_info": {
   "codemirror_mode": {
    "name": "ipython",
    "version": 3
   },
   "file_extension": ".py",
   "mimetype": "text/x-python",
   "name": "python",
   "nbconvert_exporter": "python",
   "pygments_lexer": "ipython3",
   "version": "3.12.7"
  }
 },
 "nbformat": 4,
 "nbformat_minor": 2
}
