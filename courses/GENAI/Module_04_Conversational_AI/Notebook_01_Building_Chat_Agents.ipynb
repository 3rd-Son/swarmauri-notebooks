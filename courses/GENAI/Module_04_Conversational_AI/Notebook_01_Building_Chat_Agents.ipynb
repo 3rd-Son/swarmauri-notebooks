{
 "cells": [
  {
   "cell_type": "markdown",
   "metadata": {},
   "source": [
    "# **Notebook 01:Building Chat Agents**\n",
    "# **Introduction**\n",
    "This notebook explores the fundamentals of building chat agents using Python. \n",
    "We'll learn how to create basic chat agents that can process messages and generate responses, using concrete implementations of message types and conversation management.\n",
    "\n",
    "\n",
    "## **Basic Message Types:**\n",
    "\n",
    "Let's start by understanding the different types of messages in a chat system"
   ]
  },
  {
   "cell_type": "markdown",
   "metadata": {},
   "source": [
    "**Import of dependencies**"
   ]
  },
  {
   "cell_type": "code",
   "execution_count": 1,
   "metadata": {},
   "outputs": [],
   "source": [
    "# Import necessary message types\n",
    "from swarmauri.messages.concrete import SystemMessage, AgentMessage, HumanMessage"
   ]
  },
  {
   "cell_type": "markdown",
   "metadata": {},
   "source": [
    "**Create different types of messages**"
   ]
  },
  {
   "cell_type": "code",
   "execution_count": 2,
   "metadata": {},
   "outputs": [],
   "source": [
    "# Create different types of messages\n",
    "system_msg = SystemMessage(content=\"I am a helpful assistant\")\n",
    "human_msg = HumanMessage(content=\"What's the weather like?\")\n",
    "agent_msg = AgentMessage(content=\"I don't have access to real-time weather data\")"
   ]
  },
  {
   "cell_type": "markdown",
   "metadata": {},
   "source": [
    "**Print message contents and roles**"
   ]
  },
  {
   "cell_type": "code",
   "execution_count": 3,
   "metadata": {},
   "outputs": [
    {
     "name": "stdout",
     "output_type": "stream",
     "text": [
      "System: I am a helpful assistant\n",
      "Human: What's the weather like?\n",
      "Agent: I don't have access to real-time weather data\n"
     ]
    }
   ],
   "source": [
    "# Print message contents and roles\n",
    "print(f\"System: {system_msg.content}\")\n",
    "print(f\"Human: {human_msg.content}\")\n",
    "print(f\"Agent: {agent_msg.content}\")"
   ]
  },
  {
   "cell_type": "markdown",
   "metadata": {},
   "source": [
    "## **Creating a Simple Chat Agent**\n",
    "**Here's how to create a basic chat agent using the GroqModel**"
   ]
  },
  {
   "cell_type": "code",
   "execution_count": 6,
   "metadata": {},
   "outputs": [],
   "source": [
    "import os\n",
    "from swarmauri.llms.concrete.GroqModel import GroqModel\n",
    "from swarmauri.conversations.concrete.Conversation import Conversation\n",
    "from dotenv import load_dotenv"
   ]
  },
  {
   "cell_type": "markdown",
   "metadata": {},
   "source": [
    "**Initialize the model with API key**"
   ]
  },
  {
   "cell_type": "code",
   "execution_count": 7,
   "metadata": {},
   "outputs": [],
   "source": [
    "load_dotenv()\n",
    "api_key = os.getenv(\"GROQ_API_KEY\")\n",
    "llm = GroqModel(api_key=api_key)"
   ]
  },
  {
   "cell_type": "markdown",
   "metadata": {},
   "source": [
    "**Create a conversation instance**"
   ]
  },
  {
   "cell_type": "code",
   "execution_count": 8,
   "metadata": {},
   "outputs": [],
   "source": [
    "conversation = Conversation()"
   ]
  },
  {
   "cell_type": "markdown",
   "metadata": {},
   "source": [
    "**Add messages to the conversation**"
   ]
  },
  {
   "cell_type": "code",
   "execution_count": 9,
   "metadata": {},
   "outputs": [],
   "source": [
    "conversation.add_message(SystemMessage(content=\"You are a helpful assistant\"))\n",
    "conversation.add_message(HumanMessage(content=\"Tell me about Python\"))"
   ]
  },
  {
   "cell_type": "markdown",
   "metadata": {},
   "source": [
    "**Generate a response using the model**"
   ]
  },
  {
   "cell_type": "code",
   "execution_count": 13,
   "metadata": {},
   "outputs": [
    {
     "name": "stdout",
     "output_type": "stream",
     "text": [
      "Agent response:  Scikit-learn libraries are widely used for data analysis and modeling.\n",
      "**3. Desktop applications:** Tkinter library enables the creation of graphical user interfaces.\n",
      "**4. Scripting and automation:** Python's simplicity and efficiency make it ideal for automation tasks.\n",
      "**5. Game development:** Libraries like Pygame and Panda3D facilitate game development.\n",
      "\n",
      "**Advantages:**\n",
      "\n",
      "* Readable and maintainable code\n",
      "* Large and supportive community\n",
      "* Extensive libraries and modules\n",
      "* Cross-platform compatibility\n",
      "* Easy to debug and learn\n",
      "\n",
      "**Disadvantages:**\n",
      "\n",
      "* Can be slower for large-scale applications\n",
      "* Dynamic typing can lead to performance issues in certain cases\n",
      "* Limited support for concurrency\n",
      "\n",
      "**Popularity:**\n",
      "\n",
      "Python is consistently ranked among the most popular programming languages worldwide, known for its ease of use, versatility, and growing ecosystem.\n",
      "\n",
      "**Conclusion:**\n",
      "\n",
      "Python is a powerful and flexible programming language with numerous applications in various industries. Its readability, extensive libraries, and growing popularity have made it a sought-after skill in the tech industry.\n"
     ]
    }
   ],
   "source": [
    "response = llm.predict(conversation)\n",
    "print(f\"Agent response: {response.get_last().content}\")"
   ]
  },
  {
   "cell_type": "markdown",
   "metadata": {},
   "source": [
    "## **Example: Question-Answering Agent**\n",
    "**Let's create a simple question-answering setup**"
   ]
  },
  {
   "cell_type": "code",
   "execution_count": null,
   "metadata": {},
   "outputs": [],
   "source": [
    "# Set up the conversation with a specific context\n",
    "conversation = Conversation()\n",
    "conversation.add_message(SystemMessage(content=\"You are a Python programming expert\"))"
   ]
  },
  {
   "cell_type": "markdown",
   "metadata": {},
   "source": [
    "**Add a series of questions and responses**"
   ]
  },
  {
   "cell_type": "code",
   "execution_count": 14,
   "metadata": {},
   "outputs": [],
   "source": [
    "questions = [\n",
    "    \"What is a list in Python?\",\n",
    "    \"How do I create a dictionary?\",\n",
    "    \"What are list comprehensions?\"\n",
    "]"
   ]
  },
  {
   "cell_type": "code",
   "execution_count": 17,
   "metadata": {},
   "outputs": [
    {
     "name": "stdout",
     "output_type": "stream",
     "text": [
      "\n",
      "Q: What is a list in Python?\n",
      "A: **A list in Python is a mutable, ordered collection of elements that can contain various data types.**\n",
      "\n",
      "**Syntax:**\n",
      "\n",
      "```python\n",
      "[element1, element2, ..., elementN]\n",
      "```\n",
      "\n",
      "**Data Types:**\n",
      "\n",
      "Lists can contain any data type, including:\n",
      "\n",
      "* Integers\n",
      "* Strings\n",
      "* Floats\n",
      "* Booleans\n",
      "* Other lists\n",
      "\n",
      "**Features:**\n",
      "\n",
      "* **Mutable:** Elements can be added, removed, or updated.\n",
      "* **Ordered:** Elements are stored in a specific order.\n",
      "* **Heterogeneous:** Can contain multiple data types.\n",
      "* **Index-based:** Elements can be accessed and manipulated using indices.\n",
      "\n",
      "**Operations:**\n",
      "\n",
      "* **Concatenation:** Joining two lists together.\n",
      "* **Membership:** Checking if an element is present in a list.\n",
      "* **Slicing:** Accessing a subset of elements.\n",
      "* **Sorting:** Ordering elements in ascending or descending order.\n",
      "* **Iterating:** Looping over elements in a list.\n",
      "\n",
      "**Example:**\n",
      "\n",
      "```python\n",
      "# Create a list of fruits\n",
      "fruits = ['apple', 'banana', 'orange']\n",
      "\n",
      "# Print the list\n",
      "print(fruits)\n",
      "```\n",
      "\n",
      "**Key Features:**\n",
      "\n",
      "* **Mutability:** Lists can\n",
      "\n",
      "Q: How do I create a dictionary?\n",
      "A: **To create a dictionary in Python, use the following syntax:**\n",
      "\n",
      "```python\n",
      "{'key': 'value', 'key': 'value', ...}\n",
      "```\n",
      "\n",
      "**Example:**\n",
      "\n",
      "```python\n",
      "# Create a dictionary with names and phone numbers\n",
      "contacts = {'John': '555-123-4567', 'Jane': '555-234-5678', 'Mark': '555-345-6789'}\n",
      "```\n",
      "\n",
      "**Key-Value Pairs:**\n",
      "\n",
      "* Each element in a dictionary is called a **key-value pair**.\n",
      "* The **key** is a unique identifier that maps to a **value**.\n",
      "* Keys can be strings, numbers, or other immutable data types.\n",
      "* Values can be any type of data, including strings, numbers, lists, and other dictionaries.\n",
      "\n",
      "**Operations:**\n",
      "\n",
      "* **Retrieval:** Accessing a value based on its key.\n",
      "* **Insertion:** Adding new key-value pairs to the dictionary.\n",
      "* **Deletion:** Removing key-value pairs from the dictionary.\n",
      "* **Updating:** Changing the value associated with a key.\n",
      "* **Iteration:** Looping over key-value pairs in a\n",
      "\n",
      "Q: What are list comprehensions?\n",
      "A: **List comprehensions** are a concise and efficient way to create lists in Python by iterating over an iterable (such as a list, tuple, or set) and constructing a new list based on a conditional statement.\n",
      "\n",
      "**Syntax:**\n",
      "\n",
      "```python\n",
      "[expression for element in iterable if condition]\n",
      "```\n",
      "\n",
      "**Elements:**\n",
      "- Each element in the iterable is processed individually.\n",
      "- The expression can be any valid Python expression that evaluates to a new element.\n",
      "\n",
      "**Condition:**\n",
      "- The condition is a boolean expression that determines whether to include the element in the new list.\n",
      "- If the condition is True, the element is added to the new list.\n",
      "- If the condition is False, it is skipped.\n",
      "\n",
      "**Example:**\n",
      "\n",
      "```python\n",
      "# Create a list of even numbers from 1 to 10\n",
      "even_numbers = [x for x in range(1, 11) if x % 2 == 0]\n",
      "\n",
      "# Create a list of words from a string\n",
      "words = [word for word in 'Hello, world!'.split() if word.isalpha()]\n",
      "```\n",
      "\n",
      "**Benefits of List Comprehensions:**\n",
      "\n",
      "* **Concise:** Reduces code length and improves readability.\n",
      "* **Efficient\n"
     ]
    }
   ],
   "source": [
    "for question in questions:\n",
    "    # Add the human question\n",
    "    conversation.add_message(HumanMessage(content=question))\n",
    "    \n",
    "    # Generate and add the agent's response\n",
    "    response = llm.predict(conversation)\n",
    "    conversation.add_message(AgentMessage(content=response.get_last().content))\n",
    "    \n",
    "    print(f\"\\nQ: {question}\")\n",
    "    print(f\"A: {response.get_last().content}\")"
   ]
  },
  {
   "cell_type": "markdown",
   "metadata": {},
   "source": [
    "## **Conclusion**\n",
    "In this notebook, we've learned how to:\n",
    "\n",
    "Create different types of messages for chat systems\n",
    "Initialize a basic chat agent using the GroqModel\n",
    "Handle multiple message turns in a conversation\n",
    "Structure a simple question-answering system"
   ]
  },
  {
   "cell_type": "markdown",
   "metadata": {},
   "source": []
  }
 ],
 "metadata": {
  "kernelspec": {
   "display_name": "swarmauri-0.5.1",
   "language": "python",
   "name": "python3"
  },
  "language_info": {
   "codemirror_mode": {
    "name": "ipython",
    "version": 3
   },
   "file_extension": ".py",
   "mimetype": "text/x-python",
   "name": "python",
   "nbconvert_exporter": "python",
   "pygments_lexer": "ipython3",
   "version": "3.12.7"
  }
 },
 "nbformat": 4,
 "nbformat_minor": 2
}
