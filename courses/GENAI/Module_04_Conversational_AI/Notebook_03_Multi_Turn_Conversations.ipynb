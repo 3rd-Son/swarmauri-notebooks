{
 "cells": [
  {
   "cell_type": "markdown",
   "metadata": {},
   "source": [
    "# **Multi-Turn Conversations**\n",
    "# **Introduction**\n",
    "\n",
    "This notebook explores handling multi-turn conversations with Groq LLM,. We'll learn how to manage conversation flow, maintain context across multiple exchanges, and maintaining coherent dialogues.\n",
    "\n",
    "**LLM Setup for Multi-Turn**"
   ]
  },
  {
   "cell_type": "code",
   "execution_count": 5,
   "metadata": {},
   "outputs": [],
   "source": [
    "from swarmauri.llms.concrete.GroqModel import GroqModel\n",
    "from swarmauri.messages.concrete import SystemMessage, HumanMessage, AgentMessage\n",
    "from swarmauri.conversations.concrete.SessionCacheConversation import SessionCacheConversation\n",
    "import os\n",
    "from dotenv import load_dotenv"
   ]
  },
  {
   "cell_type": "markdown",
   "metadata": {},
   "source": [
    "**Inittialize the groq model**"
   ]
  },
  {
   "cell_type": "code",
   "execution_count": 6,
   "metadata": {},
   "outputs": [],
   "source": [
    "load_dotenv()\n",
    "api_key = os.getenv(\"GROQ_API_KEY\")\n",
    "llm = GroqModel(api_key=api_key)"
   ]
  },
  {
   "cell_type": "markdown",
   "metadata": {},
   "source": [
    "**Create a conversation with session caching**"
   ]
  },
  {
   "cell_type": "code",
   "execution_count": 7,
   "metadata": {},
   "outputs": [],
   "source": [
    "conversation = SessionCacheConversation(\n",
    "    system_context=SystemMessage(content=\"I am a helpful assistant\"),\n",
    "    max_size=6\n",
    ")"
   ]
  },
  {
   "cell_type": "markdown",
   "metadata": {},
   "source": [
    "**Simulate a multi-turn conversation**"
   ]
  },
  {
   "cell_type": "code",
   "execution_count": 8,
   "metadata": {},
   "outputs": [],
   "source": [
    "exchanges = [\n",
    "    (\"What is Python?\", \"Python is a programming language...\"),\n",
    "    (\"How do I install it?\", \"You can download Python from python.org...\"),\n",
    "    (\"What editor should I use?\", \"Popular choices include VSCode, PyCharm...\")\n",
    "]"
   ]
  },
  {
   "cell_type": "code",
   "execution_count": 9,
   "metadata": {},
   "outputs": [
    {
     "name": "stdout",
     "output_type": "stream",
     "text": [
      "\n",
      "Human: What is Python?\n",
      "Assistant: Python is a programming language...\n",
      "\n",
      "Human: How do I install it?\n",
      "Assistant: You can download Python from python.org...\n",
      "\n",
      "Human: What editor should I use?\n",
      "Assistant: Popular choices include VSCode, PyCharm...\n"
     ]
    }
   ],
   "source": [
    "for question, answer in exchanges:\n",
    "    # Add human message\n",
    "    conversation.add_message(HumanMessage(content=question))\n",
    "    # Add agent response\n",
    "    conversation.add_message(AgentMessage(content=answer))\n",
    "    \n",
    "    print(f\"\\nHuman: {question}\")\n",
    "    print(f\"Assistant: {answer}\")"
   ]
  },
  {
   "cell_type": "markdown",
   "metadata": {},
   "source": [
    "## **Managing Conversation Flow**\n",
    "**Example showing how to handle conversation flow with context:**"
   ]
  },
  {
   "cell_type": "markdown",
   "metadata": {},
   "source": [
    "**Create a conversation with larger context window**"
   ]
  },
  {
   "cell_type": "code",
   "execution_count": 10,
   "metadata": {},
   "outputs": [],
   "source": [
    "conversation = SessionCacheConversation(\n",
    "    system_context=SystemMessage(content=\"I am a cooking assistant\"),\n",
    "    max_size=8\n",
    ")"
   ]
  },
  {
   "cell_type": "markdown",
   "metadata": {},
   "source": [
    "**Simulate a recipe discussion**"
   ]
  },
  {
   "cell_type": "code",
   "execution_count": 11,
   "metadata": {},
   "outputs": [],
   "source": [
    "# Simulate cooking guidance with LLM\n",
    "cooking_questions = [\n",
    "    \"How do I make pasta carbonara?\",\n",
    "    \"What ingredients do I need?\",\n",
    "    \"How long should I cook the pasta?\",\n",
    "    \"How do I know when it's done?\"\n",
    "]\n"
   ]
  },
  {
   "cell_type": "code",
   "execution_count": 12,
   "metadata": {},
   "outputs": [
    {
     "name": "stdout",
     "output_type": "stream",
     "text": [
      "\n",
      "User: How do I make pasta carbonara?\n",
      "Assistant: **Ingredients:**\n",
      "\n",
      "- 1 pound spaghetti\n",
      "- 1/2 cup heavy cream\n",
      "- 1/4 cup Parmesan cheese, grated\n",
      "- 1 egg yolk\n",
      "- 2 tablespoons butter\n",
      "- 1/4 cup chopped pancetta or bacon\n",
      "- Salt and pepper to taste\n",
      "\n",
      "**Instructions:**\n",
      "\n",
      "1. **Cook the pasta:**\n",
      "   - Bring a large pot of salted water to a boil.\n",
      "   - Add the spaghetti and cook for about 1 minute less than the package directions.\n",
      "   - Drain well when ready.\n",
      "\n",
      "\n",
      "2. **Make the sauce:**\n",
      "   - In a large skillet, melt the butter over medium heat.\n",
      "   - Add the pancetta or bacon and cook until crispy, about 5 minutes.\n",
      "   - Add the cream and bring to a simmer.\n",
      "   - Reduce heat and simmer for 2 minutes.\n",
      "\n",
      "\n",
      "3. **Add the egg yolk and cheese:**\n",
      "   - In a small bowl, whisk together the egg yolk and Parmesan cheese.\n",
      "\n",
      "\n",
      "4. **Combine the sauce and pasta:**\n",
      "   - Remove the skillet from the heat and immediately add the cooked pasta.\n",
      "   - Toss the pasta with the sauce until it is evenly coated.\n",
      "\n",
      "\n",
      "5. **Finish with cheese and\n",
      "\n",
      "User: What ingredients do I need?\n",
      "Assistant: - 1 pound spaghetti\n",
      "- 1/2 cup heavy cream\n",
      "- 1/4 cup Parmesan cheese, grated\n",
      "- 1 egg yolk\n",
      "- 2 tablespoons butter\n",
      "- 1/4 cup chopped pancetta or bacon\n",
      "- Salt and pepper to taste\n",
      "\n",
      "User: How long should I cook the pasta?\n",
      "Assistant: The pasta should be cooked for about 1 minute less than the package directions.\n",
      "\n",
      "User: How do I know when it's done?\n",
      "Assistant: The pasta is done when it is al dente, which means it is cooked through but still has a slight bite to it. It should be firm to the bite, but not hard.\n"
     ]
    }
   ],
   "source": [
    "# Process questions sequentially\n",
    "for question in cooking_questions:\n",
    "    conversation.add_message(HumanMessage(content=question))\n",
    "    response = llm.predict(conversation)\n",
    "    conversation.add_message(AgentMessage(content=response.get_last().content))\n",
    "    \n",
    "    print(f\"\\nUser: {question}\")\n",
    "    print(f\"Assistant: {response.get_last().content}\")"
   ]
  },
  {
   "cell_type": "markdown",
   "metadata": {},
   "source": [
    "**Simulate a problem-solving session**"
   ]
  },
  {
   "cell_type": "code",
   "execution_count": 13,
   "metadata": {},
   "outputs": [],
   "source": [
    "conversation = SessionCacheConversation(\n",
    "    system_context=SystemMessage(content=\"I am a math tutor\"),\n",
    "    max_size=10\n",
    ")"
   ]
  },
  {
   "cell_type": "code",
   "execution_count": 14,
   "metadata": {},
   "outputs": [],
   "source": [
    "# Simulate step-by-step problem solving\n",
    "math_dialogue = [\n",
    "    \"I need help with quadratic equations\",\n",
    "    \"Can you show me an example?\",\n",
    "    \"How do I find the values of a, b, and c?\",\n",
    "    \"What's the next step after that?\"\n",
    "]"
   ]
  },
  {
   "cell_type": "code",
   "execution_count": 15,
   "metadata": {},
   "outputs": [
    {
     "name": "stdout",
     "output_type": "stream",
     "text": [
      "\n",
      "Student: I need help with quadratic equations\n",
      "Tutor: **Quadratic Equations:**\n",
      "\n",
      "Quadratic equations are polynomial equations of the second degree, which means they have the highest power of the variable is 2. The general form of a quadratic equation is:\n",
      "\n",
      "$$ax^2 + bx + c = 0$$\n",
      "\n",
      "Where:\n",
      "\n",
      "* a is the coefficient of the quadratic term (usually not equal to 0)\n",
      "* b is the coefficient of the linear term\n",
      "* c is the constant term\n",
      "\n",
      "\n",
      "**Solving Quadratic Equations:**\n",
      "\n",
      "There are several methods to solve quadratic equations:\n",
      "\n",
      "**1. Factoring:**\n",
      "- Factor the quadratic expression.\n",
      "- Set each factor equal to 0.\n",
      "- Solve for x.\n",
      "\n",
      "\n",
      "**2. Using the Quadratic Formula:**\n",
      "- The formula is: $$x = \\frac{-b \\pm \\sqrt{b^2 - 4ac}}{2a}$$\n",
      "\n",
      "**3. Completing the Square:**\n",
      "- Arrange the equation in standard form.\n",
      "- Complete the square on the left-hand side.\n",
      "- Solve for x.\n",
      "\n",
      "\n",
      "**Common Mistakes in Solving Quadratic Equations:**\n",
      "\n",
      "- Not checking for imaginary solutions.\n",
      "- Using the wrong method for the specific equation.\n",
      "- Making algebraic errors.\n",
      "\n",
      "\n",
      "**Tips for Tutoring Quadratic Equations:**\n",
      "\n",
      "- Provide\n",
      "\n",
      "Student: Can you show me an example?\n",
      "Tutor: **Example:** Solve the quadratic equation $$x^2 + 5x + 6 = 0$$\n",
      "\n",
      "**Solution:**\n",
      "\n",
      "Using the quadratic formula:\n",
      "\n",
      "$$x = \\frac{-b \\pm \\sqrt{b^2 - 4ac}}{2a}$$\n",
      "\n",
      "$$x = \\frac{-5 \\pm \\sqrt{5^2 - 4(1)(6)}}{2(1)}$$\n",
      "\n",
      "$$x = \\frac{-5 \\pm \\sqrt{25 - 24}}{2}$$\n",
      "\n",
      "$$x = \\frac{-5 \\pm 1}{2}$$\n",
      "\n",
      "**Solutions:**\n",
      "\n",
      "$$x_1 = -2$$\n",
      "\n",
      "$$x_2 = -3$$\n",
      "\n",
      "**Therefore, the solutions to the quadratic equation $$x^2 + 5x + 6 = 0$$ are x = -2 and x = -3.**\n",
      "\n",
      "Student: How do I find the values of a, b, and c?\n",
      "Tutor: **To find the values of a, b, and c in the quadratic equation:**\n",
      "\n",
      "**1. Identify the coefficients:**\n",
      "\n",
      "- a is the coefficient of the quadratic term (usually not equal to 0)\n",
      "- b is the coefficient of the linear term\n",
      "- c is the constant term\n",
      "\n",
      "**2. Look at the standard quadratic equation:**\n",
      "\n",
      "$$ax^2 + bx + c = 0$$\n",
      "\n",
      "**3. Match the coefficients to the terms in the equation:**\n",
      "\n",
      "- a is the coefficient of the quadratic term\n",
      "- b is the coefficient of the linear term\n",
      "- c is the constant term\n",
      "\n",
      "**Example:**\n",
      "\n",
      "Consider the equation:\n",
      "\n",
      "$$2x^2 + 5x - 3 = 0$$\n",
      "\n",
      "* **a** = 2\n",
      "* **b** = 5\n",
      "* **c** = -3\n",
      "\n",
      "**Note:** The values of a, b, and c can vary depending on the specific quadratic equation you are dealing with.\n",
      "\n",
      "Student: What's the next step after that?\n",
      "Tutor: **After finding the values of a, b, and c, you can use the quadratic formula or any other method to solve the quadratic equation.**\n",
      "\n",
      "**Step 1: Plug the values of a, b, and c into the quadratic formula:**\n",
      "\n",
      "$$x = \\frac{-b \\pm \\sqrt{b^2 - 4ac}}{2a}$$\n",
      "\n",
      "**Step 2: Simplify the expression:**\n",
      "\n",
      "- Calculate the values inside the square root.\n",
      "- Combine like terms.\n",
      "- Solve for x.\n",
      "\n",
      "**Step 3: Interpret the solutions:**\n",
      "\n",
      "- Check for real or imaginary solutions.\n",
      "- Identify the solutions to the equation.\n"
     ]
    }
   ],
   "source": [
    "for question in math_dialogue:\n",
    "    conversation.add_message(HumanMessage(content=question))\n",
    "    response = llm.predict(conversation)\n",
    "    conversation.add_message(AgentMessage(content=response.get_last().content))\n",
    "    \n",
    "    print(f\"\\nStudent: {question}\")\n",
    "    print(f\"Tutor: {response.get_last().content}\")"
   ]
  },
  {
   "cell_type": "markdown",
   "metadata": {},
   "source": [
    "**Review conversation history**"
   ]
  },
  {
   "cell_type": "code",
   "execution_count": 16,
   "metadata": {},
   "outputs": [
    {
     "name": "stdout",
     "output_type": "stream",
     "text": [
      "\n",
      "Full Conversation History:\n",
      "Student: Can you show me an example?\n",
      "Tutor: **Example:** Solve the quadratic equation $$x^2 + 5x + 6 = 0$$\n",
      "\n",
      "**Solution:**\n",
      "\n",
      "Using the quadratic formula:\n",
      "\n",
      "$$x = \\frac{-b \\pm \\sqrt{b^2 - 4ac}}{2a}$$\n",
      "\n",
      "$$x = \\frac{-5 \\pm \\sqrt{5^2 - 4(1)(6)}}{2(1)}$$\n",
      "\n",
      "$$x = \\frac{-5 \\pm \\sqrt{25 - 24}}{2}$$\n",
      "\n",
      "$$x = \\frac{-5 \\pm 1}{2}$$\n",
      "\n",
      "**Solutions:**\n",
      "\n",
      "$$x_1 = -2$$\n",
      "\n",
      "$$x_2 = -3$$\n",
      "\n",
      "**Therefore, the solutions to the quadratic equation $$x^2 + 5x + 6 = 0$$ are x = -2 and x = -3.**\n",
      "Student: How do I find the values of a, b, and c?\n",
      "Tutor: **To find the values of a, b, and c in the quadratic equation:**\n",
      "\n",
      "**1. Identify the coefficients:**\n",
      "\n",
      "- a is the coefficient of the quadratic term (usually not equal to 0)\n",
      "- b is the coefficient of the linear term\n",
      "- c is the constant term\n",
      "\n",
      "**2. Look at the standard quadratic equation:**\n",
      "\n",
      "$$ax^2 + bx + c = 0$$\n",
      "\n",
      "**3. Match the coefficients to the terms in the equation:**\n",
      "\n",
      "- a is the coefficient of the quadratic term\n",
      "- b is the coefficient of the linear term\n",
      "- c is the constant term\n",
      "\n",
      "**Example:**\n",
      "\n",
      "Consider the equation:\n",
      "\n",
      "$$2x^2 + 5x - 3 = 0$$\n",
      "\n",
      "* **a** = 2\n",
      "* **b** = 5\n",
      "* **c** = -3\n",
      "\n",
      "**Note:** The values of a, b, and c can vary depending on the specific quadratic equation you are dealing with.\n",
      "Student: What's the next step after that?\n",
      "Tutor: **After finding the values of a, b, and c, you can use the quadratic formula or any other method to solve the quadratic equation.**\n",
      "\n",
      "**Step 1: Plug the values of a, b, and c into the quadratic formula:**\n",
      "\n",
      "$$x = \\frac{-b \\pm \\sqrt{b^2 - 4ac}}{2a}$$\n",
      "\n",
      "**Step 2: Simplify the expression:**\n",
      "\n",
      "- Calculate the values inside the square root.\n",
      "- Combine like terms.\n",
      "- Solve for x.\n",
      "\n",
      "**Step 3: Interpret the solutions:**\n",
      "\n",
      "- Check for real or imaginary solutions.\n",
      "- Identify the solutions to the equation.\n"
     ]
    }
   ],
   "source": [
    "\n",
    "print(\"\\nFull Conversation History:\")\n",
    "for msg in conversation.history[1:]:  # Skip system message\n",
    "    role = \"Student\" if isinstance(msg, HumanMessage) else \"Tutor\"\n",
    "    print(f\"{role}: {msg.content}\")"
   ]
  },
  {
   "cell_type": "markdown",
   "metadata": {},
   "source": [
    "## **Conclusion**\n",
    "**In this notebook, we've learned:**\n",
    "\n",
    "\n",
    "Managing multi-turn conversations with Groq LLM\n",
    "\n",
    "Maintaining context across conversation turns\n",
    "\n",
    "Creating interactive guidance systems\n",
    "\n",
    "Handling step-by-step dialogues with LLM responses\n",
    "\n",
    "**Next, we'll explore how to implement effective conversation memory management.**"
   ]
  },
  {
   "cell_type": "markdown",
   "metadata": {},
   "source": [
    "## **NOTEBOOK METADATA**"
   ]
  },
  {
   "cell_type": "code",
   "execution_count": 17,
   "metadata": {},
   "outputs": [
    {
     "name": "stdout",
     "output_type": "stream",
     "text": [
      "Author: Dominion John \n",
      "GitHub Username: DOMINION-JOHN1\n",
      "Last Modified: 2024-11-04 12:40:13.121040\n",
      "Platform: Windows 11\n",
      "Python Version: 3.12.7 (tags/v3.12.7:0b05ead, Oct  1 2024, 03:06:41) [MSC v.1941 64 bit (AMD64)]\n",
      "Swarmauri Version: Swarmauri Version: 0.5.1\n"
     ]
    }
   ],
   "source": [
    "import os\n",
    "import platform\n",
    "import sys\n",
    "from datetime import datetime\n",
    "\n",
    "# Display author information\n",
    "author_name = \"Dominion John \" \n",
    "github_username = \"DOMINION-JOHN1\"  \n",
    "\n",
    "print(f\"Author: {author_name}\")\n",
    "print(f\"GitHub Username: {github_username}\")\n",
    "\n",
    "# Last modified datetime (file's metadata)\n",
    "notebook_file = \"Notebook_03_Multi_Turn_Conversations.ipynb\"\n",
    "try:\n",
    "    last_modified_time = os.path.getmtime(notebook_file)\n",
    "    last_modified_datetime = datetime.fromtimestamp(last_modified_time)\n",
    "    print(f\"Last Modified: {last_modified_datetime}\")\n",
    "except Exception as e:\n",
    "    print(f\"Could not retrieve last modified datetime: {e}\")\n",
    "\n",
    "# Display platform, Python version, and Swarmauri version\n",
    "print(f\"Platform: {platform.system()} {platform.release()}\")\n",
    "print(f\"Python Version: {sys.version}\")\n",
    "\n",
    "import swarmauri\n",
    "\n",
    "try:\n",
    "    version = swarmauri.__version__\n",
    "except AttributeError:\n",
    "    version = f\"Swarmauri Version: 0.5.1\"\n",
    "\n",
    "print(f\"Swarmauri Version: {version}\")"
   ]
  },
  {
   "cell_type": "code",
   "execution_count": null,
   "metadata": {},
   "outputs": [],
   "source": []
  }
 ],
 "metadata": {
  "kernelspec": {
   "display_name": "swarmauri-0.5.1",
   "language": "python",
   "name": "python3"
  },
  "language_info": {
   "codemirror_mode": {
    "name": "ipython",
    "version": 3
   },
   "file_extension": ".py",
   "mimetype": "text/x-python",
   "name": "python",
   "nbconvert_exporter": "python",
   "pygments_lexer": "ipython3",
   "version": "3.12.7"
  }
 },
 "nbformat": 4,
 "nbformat_minor": 2
}
