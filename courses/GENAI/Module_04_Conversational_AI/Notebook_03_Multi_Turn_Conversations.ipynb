{
 "cells": [
  {
   "cell_type": "markdown",
   "metadata": {},
   "source": [
    "# **Multi-Turn Conversations**\n",
    "# **Introduction**\n",
    "\n",
    "This notebook explores handling multi-turn conversations in AI applications. We'll learn how to manage conversation flow, maintain context across multiple exchanges, and handle different message patterns.\n",
    "\n",
    "**Basic Multi-Turn Setup**\n",
    "Let's start with a simple multi-turn conversation:"
   ]
  },
  {
   "cell_type": "code",
   "execution_count": 1,
   "metadata": {},
   "outputs": [],
   "source": [
    "from swarmauri.messages.concrete import SystemMessage, HumanMessage, AgentMessage\n",
    "from swarmauri.conversations.concrete.SessionCacheConversation import SessionCacheConversation"
   ]
  },
  {
   "cell_type": "markdown",
   "metadata": {},
   "source": [
    "**Create a conversation with session caching**"
   ]
  },
  {
   "cell_type": "code",
   "execution_count": 2,
   "metadata": {},
   "outputs": [],
   "source": [
    "conversation = SessionCacheConversation(\n",
    "    system_context=SystemMessage(content=\"I am a helpful assistant\"),\n",
    "    max_size=6\n",
    ")"
   ]
  },
  {
   "cell_type": "markdown",
   "metadata": {},
   "source": [
    "**Simulate a multi-turn conversation**"
   ]
  },
  {
   "cell_type": "code",
   "execution_count": 3,
   "metadata": {},
   "outputs": [],
   "source": [
    "exchanges = [\n",
    "    (\"What is Python?\", \"Python is a programming language...\"),\n",
    "    (\"How do I install it?\", \"You can download Python from python.org...\"),\n",
    "    (\"What editor should I use?\", \"Popular choices include VSCode, PyCharm...\")\n",
    "]"
   ]
  },
  {
   "cell_type": "code",
   "execution_count": 4,
   "metadata": {},
   "outputs": [
    {
     "name": "stdout",
     "output_type": "stream",
     "text": [
      "\n",
      "Human: What is Python?\n",
      "Assistant: Python is a programming language...\n",
      "\n",
      "Human: How do I install it?\n",
      "Assistant: You can download Python from python.org...\n",
      "\n",
      "Human: What editor should I use?\n",
      "Assistant: Popular choices include VSCode, PyCharm...\n"
     ]
    }
   ],
   "source": [
    "for question, answer in exchanges:\n",
    "    # Add human message\n",
    "    conversation.add_message(HumanMessage(content=question))\n",
    "    # Add agent response\n",
    "    conversation.add_message(AgentMessage(content=answer))\n",
    "    \n",
    "    print(f\"\\nHuman: {question}\")\n",
    "    print(f\"Assistant: {answer}\")"
   ]
  },
  {
   "cell_type": "markdown",
   "metadata": {},
   "source": [
    "## **Managing Conversation Flow**\n",
    "**Example showing how to handle conversation flow with context:**"
   ]
  },
  {
   "cell_type": "markdown",
   "metadata": {},
   "source": [
    "**Create a conversation with larger context window**"
   ]
  },
  {
   "cell_type": "code",
   "execution_count": 5,
   "metadata": {},
   "outputs": [],
   "source": [
    "conversation = SessionCacheConversation(\n",
    "    system_context=SystemMessage(content=\"I am a cooking assistant\"),\n",
    "    max_size=8\n",
    ")"
   ]
  },
  {
   "cell_type": "markdown",
   "metadata": {},
   "source": [
    "**Simulate a recipe discussion**"
   ]
  },
  {
   "cell_type": "code",
   "execution_count": 6,
   "metadata": {},
   "outputs": [],
   "source": [
    "conversation_flow = [\n",
    "    (\"I want to make pasta\", \"Great! What type of pasta dish would you like to make?\"),\n",
    "    (\"Carbonara\", \"Excellent choice! Do you have eggs and pancetta?\"),\n",
    "    (\"Yes, I have both\", \"Perfect! Let's start with the preparation. First...\"),\n",
    "    (\"How much pasta do I need?\", \"For two servings, you'll need about 200g of pasta...\")\n",
    "]\n"
   ]
  },
  {
   "cell_type": "code",
   "execution_count": 7,
   "metadata": {},
   "outputs": [
    {
     "name": "stdout",
     "output_type": "stream",
     "text": [
      "\n",
      "Conversation Turn:\n",
      "User: I want to make pasta\n",
      "Assistant: Great! What type of pasta dish would you like to make?\n",
      "\n",
      "Conversation Turn:\n",
      "User: Carbonara\n",
      "Assistant: Excellent choice! Do you have eggs and pancetta?\n",
      "\n",
      "Conversation Turn:\n",
      "User: Yes, I have both\n",
      "Assistant: Perfect! Let's start with the preparation. First...\n",
      "\n",
      "Conversation Turn:\n",
      "User: How much pasta do I need?\n",
      "Assistant: For two servings, you'll need about 200g of pasta...\n"
     ]
    }
   ],
   "source": [
    "for user_msg, assistant_msg in conversation_flow:\n",
    "    conversation.add_message(HumanMessage(content=user_msg))\n",
    "    conversation.add_message(AgentMessage(content=assistant_msg))\n",
    "    \n",
    "    print(\"\\nConversation Turn:\")\n",
    "    print(f\"User: {user_msg}\")\n",
    "    print(f\"Assistant: {assistant_msg}\")"
   ]
  },
  {
   "cell_type": "markdown",
   "metadata": {},
   "source": [
    "## **Handling Complex Interactions**\n",
    "**Example of managing a more complex conversation pattern:**"
   ]
  },
  {
   "cell_type": "markdown",
   "metadata": {},
   "source": [
    " **Create a conversation for a math tutoring session**"
   ]
  },
  {
   "cell_type": "code",
   "execution_count": 8,
   "metadata": {},
   "outputs": [],
   "source": [
    "conversation = SessionCacheConversation(\n",
    "    system_context=SystemMessage(content=\"I am a math tutor\"),\n",
    "    max_size=10\n",
    ")"
   ]
  },
  {
   "cell_type": "markdown",
   "metadata": {},
   "source": [
    "**Simulate a problem-solving session**"
   ]
  },
  {
   "cell_type": "code",
   "execution_count": 9,
   "metadata": {},
   "outputs": [],
   "source": [
    "tutorial_sequence = [\n",
    "    (\"I need help with quadratic equations\", \"I can help! Let's start with the basics.\"),\n",
    "    (\"What's the formula?\", \"The quadratic formula is ax² + bx + c = 0\"),\n",
    "    (\"How do I solve x² + 5x + 6 = 0?\", \"Let's solve this step by step...\"),\n",
    "    (\"What are a, b, and c here?\", \"In this equation, a=1, b=5, and c=6...\"),\n",
    "    (\"Now what?\", \"Let's plug these values into the formula...\")\n",
    "]"
   ]
  },
  {
   "cell_type": "code",
   "execution_count": 10,
   "metadata": {},
   "outputs": [
    {
     "name": "stdout",
     "output_type": "stream",
     "text": [
      "\n",
      "Student: I need help with quadratic equations\n",
      "Tutor: I can help! Let's start with the basics.\n",
      "\n",
      "Student: What's the formula?\n",
      "Tutor: The quadratic formula is ax² + bx + c = 0\n",
      "\n",
      "Student: How do I solve x² + 5x + 6 = 0?\n",
      "Tutor: Let's solve this step by step...\n",
      "\n",
      "Student: What are a, b, and c here?\n",
      "Tutor: In this equation, a=1, b=5, and c=6...\n",
      "\n",
      "Student: Now what?\n",
      "Tutor: Let's plug these values into the formula...\n"
     ]
    }
   ],
   "source": [
    "for question, response in tutorial_sequence:\n",
    "    # Add messages to conversation\n",
    "    conversation.add_message(HumanMessage(content=question))\n",
    "    conversation.add_message(AgentMessage(content=response))\n",
    "    \n",
    "    # Print current exchange\n",
    "    print(f\"\\nStudent: {question}\")\n",
    "    print(f\"Tutor: {response}\")"
   ]
  },
  {
   "cell_type": "markdown",
   "metadata": {},
   "source": [
    "**Review conversation history**"
   ]
  },
  {
   "cell_type": "code",
   "execution_count": null,
   "metadata": {},
   "outputs": [],
   "source": [
    "\n",
    "print(\"\\nFull Conversation History:\")\n",
    "for msg in conversation.history[1:]:  # Skip system message\n",
    "    role = \"Student\" if isinstance(msg, HumanMessage) else \"Tutor\"\n",
    "    print(f\"{role}: {msg.content}\")"
   ]
  },
  {
   "cell_type": "markdown",
   "metadata": {},
   "source": [
    "## **Conclusion**\n",
    "**In this notebook, we've learned:**\n",
    "\n",
    "How to manage multi-turn conversations\n",
    "\n",
    "Techniques for maintaining conversation flow\n",
    "\n",
    "Handling complex interaction patterns\n",
    "\n",
    "Managing conversation history in extended dialogues\n",
    "\n",
    "**Next, we'll explore how to implement effective conversation memory management.**"
   ]
  },
  {
   "cell_type": "markdown",
   "metadata": {},
   "source": []
  }
 ],
 "metadata": {
  "kernelspec": {
   "display_name": "swarmauri-0.5.1",
   "language": "python",
   "name": "python3"
  },
  "language_info": {
   "codemirror_mode": {
    "name": "ipython",
    "version": 3
   },
   "file_extension": ".py",
   "mimetype": "text/x-python",
   "name": "python",
   "nbconvert_exporter": "python",
   "pygments_lexer": "ipython3",
   "version": "3.12.7"
  }
 },
 "nbformat": 4,
 "nbformat_minor": 2
}
