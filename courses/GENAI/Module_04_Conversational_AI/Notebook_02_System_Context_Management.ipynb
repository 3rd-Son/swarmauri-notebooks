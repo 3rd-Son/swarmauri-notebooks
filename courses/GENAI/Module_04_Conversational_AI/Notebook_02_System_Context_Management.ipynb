{
 "cells": [
  {
   "cell_type": "markdown",
   "metadata": {},
   "source": [
    "# **System Context Management**\n",
    "# **Introduction**\n",
    "This notebook focuses on managing system context in conversational AI applications. We'll explore how to set, update, and maintain system context throughout a conversation.\n",
    "\n",
    "## **Basic System Context Setup**\n",
    "\n",
    "Let's start with basic system context management:"
   ]
  },
  {
   "cell_type": "code",
   "execution_count": 1,
   "metadata": {},
   "outputs": [],
   "source": [
    "from swarmauri.messages.concrete import SystemMessage, HumanMessage, AgentMessage\n",
    "from swarmauri.conversations.concrete.MaxSystemContextConversation import MaxSystemContextConversation"
   ]
  },
  {
   "cell_type": "markdown",
   "metadata": {},
   "source": [
    "**Create a conversation with initial system context**"
   ]
  },
  {
   "cell_type": "code",
   "execution_count": 2,
   "metadata": {},
   "outputs": [
    {
     "name": "stdout",
     "output_type": "stream",
     "text": [
      "Initial context: I am a helpful assistant\n"
     ]
    }
   ],
   "source": [
    "conversation = MaxSystemContextConversation(\n",
    "    system_context=SystemMessage(content=\"I am a helpful assistant\"),\n",
    "    max_size=4\n",
    ")\n",
    "\n",
    "# Print initial context\n",
    "print(f\"Initial context: {conversation.system_context.content}\")"
   ]
  },
  {
   "cell_type": "markdown",
   "metadata": {},
   "source": [
    "## **Updating System Context**\n",
    "\n",
    "**Example of changing system context during a conversation:**"
   ]
  },
  {
   "cell_type": "markdown",
   "metadata": {},
   "source": [
    "**Start with a basic context**"
   ]
  },
  {
   "cell_type": "code",
   "execution_count": 3,
   "metadata": {},
   "outputs": [],
   "source": [
    "conversation = MaxSystemContextConversation(\n",
    "    system_context=SystemMessage(content=\"I am a general assistant\"),\n",
    "    max_size=4\n",
    ")\n"
   ]
  },
  {
   "cell_type": "markdown",
   "metadata": {},
   "source": [
    "**Add some initial interaction**"
   ]
  },
  {
   "cell_type": "code",
   "execution_count": 4,
   "metadata": {},
   "outputs": [
    {
     "name": "stdout",
     "output_type": "stream",
     "text": [
      "Current context: I am a general assistant\n"
     ]
    }
   ],
   "source": [
    "\n",
    "conversation.add_message(HumanMessage(content=\"Hello!\"))\n",
    "print(\"Current context:\", conversation.system_context.content)\n"
   ]
  },
  {
   "cell_type": "markdown",
   "metadata": {},
   "source": [
    "**Change the context to be more specific**"
   ]
  },
  {
   "cell_type": "code",
   "execution_count": 5,
   "metadata": {},
   "outputs": [
    {
     "name": "stdout",
     "output_type": "stream",
     "text": [
      "Updated context: I am a math tutor\n"
     ]
    }
   ],
   "source": [
    "conversation.system_context = SystemMessage(content=\"I am a math tutor\")\n",
    "print(\"Updated context:\", conversation.system_context.content)"
   ]
  },
  {
   "cell_type": "code",
   "execution_count": 6,
   "metadata": {},
   "outputs": [],
   "source": [
    "# Add a math-related question\n",
    "conversation.add_message(HumanMessage(content=\"Can you help with algebra?\"))"
   ]
  },
  {
   "cell_type": "markdown",
   "metadata": {},
   "source": [
    "## **Context Memory Management**\n",
    "\n",
    "**Example showing how context affects conversation history:**"
   ]
  },
  {
   "cell_type": "markdown",
   "metadata": {},
   "source": [
    "**Create a conversation with limited memory**"
   ]
  },
  {
   "cell_type": "code",
   "execution_count": 7,
   "metadata": {},
   "outputs": [],
   "source": [
    "conversation = MaxSystemContextConversation(\n",
    "    system_context=SystemMessage(content=\"I am a coding tutor\"),\n",
    "    max_size=3\n",
    ")"
   ]
  },
  {
   "cell_type": "markdown",
   "metadata": {},
   "source": [
    "**Add messages**"
   ]
  },
  {
   "cell_type": "code",
   "execution_count": 8,
   "metadata": {},
   "outputs": [],
   "source": [
    "conversation.add_message(HumanMessage(content=\"How do I use Python?\"))\n",
    "conversation.add_message(AgentMessage(content=\"Python is a versatile language...\"))\n",
    "conversation.add_message(HumanMessage(content=\"What about variables?\"))"
   ]
  },
  {
   "cell_type": "markdown",
   "metadata": {},
   "source": [
    "**Print conversation history**"
   ]
  },
  {
   "cell_type": "code",
   "execution_count": 9,
   "metadata": {},
   "outputs": [
    {
     "name": "stdout",
     "output_type": "stream",
     "text": [
      "\n",
      "Conversation History:\n",
      "SystemMessage: I am a coding tutor\n",
      "HumanMessage: How do I use Python?\n",
      "AgentMessage: Python is a versatile language...\n",
      "HumanMessage: What about variables?\n"
     ]
    }
   ],
   "source": [
    "print(\"\\nConversation History:\")\n",
    "for msg in conversation.history:\n",
    "    print(f\"{msg.__class__.__name__}: {msg.content}\")"
   ]
  },
  {
   "cell_type": "markdown",
   "metadata": {},
   "source": [
    "## **Multiple Context Scenarios**\n",
    "**Example of handling different contexts:**"
   ]
  },
  {
   "cell_type": "markdown",
   "metadata": {},
   "source": [
    "**Create conversations with different contexts**"
   ]
  },
  {
   "cell_type": "code",
   "execution_count": 10,
   "metadata": {},
   "outputs": [],
   "source": [
    "math_conversation = MaxSystemContextConversation(\n",
    "    system_context=SystemMessage(content=\"Math Tutor Mode\"),\n",
    "    max_size=3\n",
    ")\n",
    "\n",
    "code_conversation = MaxSystemContextConversation(\n",
    "    system_context=SystemMessage(content=\"Coding Tutor Mode\"),\n",
    "    max_size=3\n",
    ")"
   ]
  },
  {
   "cell_type": "markdown",
   "metadata": {},
   "source": [
    "**Add similar questions to both**"
   ]
  },
  {
   "cell_type": "code",
   "execution_count": 11,
   "metadata": {},
   "outputs": [
    {
     "name": "stdout",
     "output_type": "stream",
     "text": [
      "Math Context: Math Tutor Mode\n",
      "Code Context: Coding Tutor Mode\n"
     ]
    }
   ],
   "source": [
    "question = \"How do I solve this?\"\n",
    "math_conversation.add_message(HumanMessage(content=question))\n",
    "code_conversation.add_message(HumanMessage(content=question))\n",
    "\n",
    "print(\"Math Context:\", math_conversation.system_context.content)\n",
    "print(\"Code Context:\", code_conversation.system_context.content)"
   ]
  },
  {
   "cell_type": "markdown",
   "metadata": {},
   "source": [
    "## **Conclusion**\n",
    "**We've explored how to:**\n",
    "\n",
    "Set up and manage system context\n",
    "Update context during conversations\n",
    "Handle context with memory limitations\n",
    "Work with multiple conversation contexts\n",
    "\n",
    "Next, we'll learn about managing multi-turn conversations effectively."
   ]
  }
 ],
 "metadata": {
  "kernelspec": {
   "display_name": "swarmauri-0.5.1",
   "language": "python",
   "name": "python3"
  },
  "language_info": {
   "codemirror_mode": {
    "name": "ipython",
    "version": 3
   },
   "file_extension": ".py",
   "mimetype": "text/x-python",
   "name": "python",
   "nbconvert_exporter": "python",
   "pygments_lexer": "ipython3",
   "version": "3.12.7"
  }
 },
 "nbformat": 4,
 "nbformat_minor": 2
}
