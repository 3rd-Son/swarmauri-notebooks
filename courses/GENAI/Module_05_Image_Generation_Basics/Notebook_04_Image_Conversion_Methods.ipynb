{
 "cells": [
  {
   "cell_type": "markdown",
   "id": "f5554884-0580-460b-b513-ac29ad29cf92",
   "metadata": {},
   "source": [
    "# Image Conversion Methods\n",
    "\n",
    "This notebook covers various methods for converting images between different formats using base64, file paths, and URLs. Each section demonstrates a specific conversion method along with example code."
   ]
  },
  {
   "cell_type": "markdown",
   "id": "5ce7a174-97f9-463a-bd89-6cfb84a49962",
   "metadata": {},
   "source": [
    "## Recap of Previous Notebooks:"
   ]
  },
  {
   "cell_type": "code",
   "execution_count": 67,
   "id": "7e55f664-e046-4596-9522-598eaea1a861",
   "metadata": {},
   "outputs": [],
   "source": [
    "import os\n",
    "from dotenv import load_dotenv\n",
    "from swarmauri.llms.concrete.DeepInfraImgGenModel import DeepInfraImgGenModel as LLM\n",
    "import requests\n",
    "import base64\n",
    "from PIL import Image\n",
    "from io import BytesIO"
   ]
  },
  {
   "cell_type": "code",
   "execution_count": 68,
   "id": "e83e906b-e60d-457a-9ca9-64c79b5bcf8d",
   "metadata": {},
   "outputs": [
    {
     "name": "stdout",
     "output_type": "stream",
     "text": [
      "Connected to model type: DeepInfraImgGenModel\n"
     ]
    }
   ],
   "source": [
    "# Load environment variables from .env file\n",
    "load_dotenv()\n",
    "\n",
    "# Fetch the API key from environment variables\n",
    "DEEPINFRA_API_KEY = os.getenv(\"DEEPINFRA_API_KEY\")\n",
    "\n",
    "IMGBB_API_KEY = os.getenv(\"IMGBB_API_KEY\")\n",
    "\n",
    "# Initialize the DeepInfra Image Generation Model\n",
    "llm_img_gen = LLM(api_key=DEEPINFRA_API_KEY)\n",
    "\n",
    "# Check if the model is correctly initialized\n",
    "print(f\"Connected to model type: {llm_img_gen.type}\")"
   ]
  },
  {
   "cell_type": "code",
   "execution_count": 69,
   "id": "2c249e2c-7b5d-490d-b237-880518583cce",
   "metadata": {},
   "outputs": [],
   "source": [
    "# Prompt variations\n",
    "prompt = \"A vibrant underwater coral reef teeming with colorful fish and aquatic plants, with rays of sunlight penetrating the surface.\"\n",
    "\n",
    "# Generate the images in base64 format\n",
    "image_base64 = llm_img_gen.generate_image_base64(prompt)"
   ]
  },
  {
   "cell_type": "markdown",
   "id": "9c8cbffb-1d00-4002-af8c-746cf6beed56",
   "metadata": {},
   "source": [
    "## 1. Base64 to URL\n",
    "\n",
    "This method uploads a base64-encoded image to an image hosting service (IMGBB) and retrieves the image URL."
   ]
  },
  {
   "cell_type": "code",
   "execution_count": null,
   "id": "26e2d347-cefe-43c8-a82d-ccda85e17d64",
   "metadata": {},
   "outputs": [],
   "source": [
    "# import base64_to_img_url method\n",
    "from swarmauri.utils.base64_to_img_url import base64_to_img_url"
   ]
  },
  {
   "cell_type": "markdown",
   "id": "6088bdd0-47c4-46f2-a0a5-329e9a1ca458",
   "metadata": {},
   "source": [
    "### Usage Example"
   ]
  },
  {
   "cell_type": "code",
   "execution_count": 71,
   "id": "75b782a8-250e-41bd-aa93-14e061c74a1c",
   "metadata": {},
   "outputs": [
    {
     "name": "stdout",
     "output_type": "stream",
     "text": [
      "https://i.ibb.co/XVMkw0d/a56be83099b0.jpg\n"
     ]
    }
   ],
   "source": [
    "# Example base64 string\n",
    "base64_string = image_base64  # Replace with your base64 string\n",
    "image_url = base64_to_img_url(base64_string, IMGBB_API_KEY)\n",
    "print(image_url)"
   ]
  },
  {
   "cell_type": "markdown",
   "id": "ccd43261-ef99-4b35-9559-dc37655d4cc0",
   "metadata": {},
   "source": [
    "## 2. Base64 to File Path\n",
    "\n",
    "This method converts a base64-encoded image into a file and saves it at a specified file path"
   ]
  },
  {
   "cell_type": "code",
   "execution_count": 72,
   "id": "f010d5c8-5743-4105-bcfc-684076a1e5ed",
   "metadata": {},
   "outputs": [],
   "source": [
    "def base64_to_file_path(base64_str, file_path):\n",
    "    image_data = base64.b64decode(base64_str)\n",
    "    with open(file_path, \"wb\") as file:\n",
    "        file.write(image_data)"
   ]
  },
  {
   "cell_type": "markdown",
   "id": "a7dd6cc2-d6d9-4393-97ec-9c38df967770",
   "metadata": {},
   "source": [
    "### Usage Example"
   ]
  },
  {
   "cell_type": "code",
   "execution_count": 73,
   "id": "2ed76f05-d4d1-4096-bbdc-ea05ad495ac0",
   "metadata": {},
   "outputs": [],
   "source": [
    "base64_string = image_base64  # Replace with your base64 string\n",
    "file_path = \"output_image.png\"\n",
    "base64_to_file_path(base64_string, file_path)"
   ]
  },
  {
   "cell_type": "markdown",
   "id": "b57b08a9-1bfa-4e7e-8dad-380419e0cc44",
   "metadata": {},
   "source": [
    "## 3. File Path to Base64\n",
    "\n",
    "This method reads an image from a file path and converts it into a base64-encoded string."
   ]
  },
  {
   "cell_type": "code",
   "execution_count": 74,
   "id": "a158e12f-e9b5-4315-8f23-6bb40a9ed27d",
   "metadata": {},
   "outputs": [],
   "source": [
    "def file_path_to_base64(file_path):\n",
    "    with open(file_path, \"rb\") as img_file:\n",
    "        return base64.b64encode(img_file.read()).decode(\"utf-8\")"
   ]
  },
  {
   "cell_type": "markdown",
   "id": "9173070b-d0de-4b0e-8513-e0c1dc4382cb",
   "metadata": {},
   "source": [
    "### Usage Example"
   ]
  },
  {
   "cell_type": "code",
   "execution_count": 75,
   "id": "e6906bf7-d3fc-45f0-800c-616c2f6718e2",
   "metadata": {},
   "outputs": [
    {
     "name": "stdout",
     "output_type": "stream",
     "text": [
      "Generated image data in base64 format.\n"
     ]
    }
   ],
   "source": [
    "img_file_path = file_path\n",
    "base64_result = file_path_to_base64(img_file_path)\n",
    "# Confirm that image data was generated\n",
    "if base64_result:\n",
    "    print(\"Generated image data in base64 format.\")"
   ]
  },
  {
   "cell_type": "markdown",
   "id": "09de83ab-0a37-4009-99e4-de29a2104569",
   "metadata": {},
   "source": [
    "## 4. File Path to URL\n",
    "\n",
    "This method uploads an image from a file path to an image hosting service (IMGBB) and retrieves the image URL."
   ]
  },
  {
   "cell_type": "code",
   "execution_count": 76,
   "id": "a6f1a283-6228-423c-9564-329ad380c61d",
   "metadata": {},
   "outputs": [],
   "source": [
    "def file_path_to_img_url(file_path, api_key):\n",
    "    with open(file_path, \"rb\") as image_file:\n",
    "        base64_string = base64.b64encode(image_file.read()).decode()\n",
    "    return base64_to_img_url(base64_string, api_key)"
   ]
  },
  {
   "cell_type": "markdown",
   "id": "cd9cf9c1-d325-4e63-91fe-0de91fdc2aa1",
   "metadata": {},
   "source": [
    "### Usage Example"
   ]
  },
  {
   "cell_type": "code",
   "execution_count": 77,
   "id": "86f8896e-d5c2-436f-b47a-93876b740ae3",
   "metadata": {},
   "outputs": [
    {
     "name": "stdout",
     "output_type": "stream",
     "text": [
      "https://i.ibb.co/XVMkw0d/a56be83099b0.jpg\n"
     ]
    }
   ],
   "source": [
    "img_file_path = file_path\n",
    "image_url = file_path_to_img_url(img_file_path, IMGBB_API_KEY)\n",
    "print(image_url)"
   ]
  },
  {
   "cell_type": "markdown",
   "id": "5b6c1439-aa37-4ca2-8b52-e162b036a036",
   "metadata": {},
   "source": [
    "## 5. URL to Base64\n",
    "\n",
    "This method fetches an image from a URL and converts it into a base64-encoded string."
   ]
  },
  {
   "cell_type": "code",
   "execution_count": 78,
   "id": "8afdf378-8a50-40dd-9103-5b14b6efcae7",
   "metadata": {},
   "outputs": [],
   "source": [
    "def img_url_to_base64(image_url):\n",
    "    response = requests.get(image_url)\n",
    "    response.raise_for_status()  # Raise an error for bad responses\n",
    "    return base64.b64encode(response.content).decode(\"utf-8\")"
   ]
  },
  {
   "cell_type": "markdown",
   "id": "2f71cf84-505f-4735-a683-332a3d02edae",
   "metadata": {},
   "source": [
    "### Usage Example"
   ]
  },
  {
   "cell_type": "code",
   "execution_count": 79,
   "id": "e6eaa78e-c66f-4726-ac5d-44f6e0d83dd3",
   "metadata": {},
   "outputs": [
    {
     "name": "stdout",
     "output_type": "stream",
     "text": [
      "Generated image data in base64 format.\n"
     ]
    }
   ],
   "source": [
    "the_image_url = image_url\n",
    "base64_result_2 = img_url_to_base64(the_image_url)\n",
    "# Confirm that image data was generated\n",
    "if base64_result_2:\n",
    "    print(\"Generated image data in base64 format.\")"
   ]
  },
  {
   "cell_type": "markdown",
   "id": "f794aacc-fe16-4450-8b79-148a1c13927e",
   "metadata": {},
   "source": [
    "## 6. URL to File Path\n",
    "\n",
    "This method fetches an image from a URL and saves it to a specified file path."
   ]
  },
  {
   "cell_type": "code",
   "execution_count": 80,
   "id": "6cf1b6f6-bad7-480a-b20a-051f6b46eb33",
   "metadata": {},
   "outputs": [],
   "source": [
    "def img_url_to_file_path(image_url, file_path):\n",
    "    response = requests.get(image_url)\n",
    "    response.raise_for_status()  # Raise an error for bad responses\n",
    "    with open(file_path, \"wb\") as file:\n",
    "        file.write(response.content)"
   ]
  },
  {
   "cell_type": "markdown",
   "id": "022409c8-b260-48ba-aeb2-c121e1dbe027",
   "metadata": {},
   "source": [
    "### Usage Example"
   ]
  },
  {
   "cell_type": "code",
   "execution_count": 81,
   "id": "fa437a16-f09e-4fdf-800d-555d7dde7088",
   "metadata": {},
   "outputs": [],
   "source": [
    "the_image_url = image_url\n",
    "new_file_path = \"url_path_image.png\"\n",
    "img_url_to_file_path(the_image_url, new_file_path)"
   ]
  },
  {
   "cell_type": "markdown",
   "id": "0072cd0f-ca76-4591-98a9-6b5e823b0b1d",
   "metadata": {},
   "source": [
    "# Notebook Metadata"
   ]
  },
  {
   "cell_type": "code",
   "execution_count": 82,
   "id": "f20afd2a-23fd-4b76-a291-168cb044d2ba",
   "metadata": {},
   "outputs": [
    {
     "name": "stdout",
     "output_type": "stream",
     "text": [
      "Author: Huzaifa Irshad\n",
      "GitHub Username: irshadhuzaifa\n",
      "Last Modified: 2024-11-01 18:38:06.245919\n",
      "Platform: Windows 11\n",
      "Python Version: 3.12.7 | packaged by Anaconda, Inc. | (main, Oct  4 2024, 13:17:27) [MSC v.1929 64 bit (AMD64)]\n",
      "Swarmauri Version: Swarmauri Version: 0.5.1\n"
     ]
    }
   ],
   "source": [
    "import platform\n",
    "import sys\n",
    "from datetime import datetime\n",
    "\n",
    "# Display author information\n",
    "author_name = \"Huzaifa Irshad\" \n",
    "github_username = \"irshadhuzaifa\"  \n",
    "\n",
    "print(f\"Author: {author_name}\")\n",
    "print(f\"GitHub Username: {github_username}\")\n",
    "\n",
    "# Last modified datetime (file's metadata)\n",
    "notebook_file = \"Notebook_04_Image_Conversion_Methods.ipynb\"\n",
    "try:\n",
    "    last_modified_time = os.path.getmtime(notebook_file)\n",
    "    last_modified_datetime = datetime.fromtimestamp(last_modified_time)\n",
    "    print(f\"Last Modified: {last_modified_datetime}\")\n",
    "except Exception as e:\n",
    "    print(f\"Could not retrieve last modified datetime: {e}\")\n",
    "\n",
    "# Display platform, Python version, and Swarmauri version\n",
    "print(f\"Platform: {platform.system()} {platform.release()}\")\n",
    "print(f\"Python Version: {sys.version}\")\n",
    "\n",
    "import swarmauri\n",
    "\n",
    "try:\n",
    "    version = swarmauri.__version__\n",
    "except AttributeError:\n",
    "    version = f\"Swarmauri Version: 0.5.1\"\n",
    "\n",
    "print(f\"Swarmauri Version: {version}\")"
   ]
  },
  {
   "cell_type": "code",
   "execution_count": null,
   "id": "43e248e7-7a1f-45f2-9531-803ec82124d1",
   "metadata": {},
   "outputs": [],
   "source": []
  }
 ],
 "metadata": {
  "kernelspec": {
   "display_name": "swarmauri(0.5.1)",
   "language": "python",
   "name": "myenv"
  },
  "language_info": {
   "codemirror_mode": {
    "name": "ipython",
    "version": 3
   },
   "file_extension": ".py",
   "mimetype": "text/x-python",
   "name": "python",
   "nbconvert_exporter": "python",
   "pygments_lexer": "ipython3",
   "version": "3.12.7"
  }
 },
 "nbformat": 4,
 "nbformat_minor": 5
}
