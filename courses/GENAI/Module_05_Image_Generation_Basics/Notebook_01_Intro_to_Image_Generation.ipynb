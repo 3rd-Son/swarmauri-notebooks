{
 "cells": [
  {
   "cell_type": "markdown",
   "id": "d3ea711d-9d5d-4708-8b9c-1817bf48c5c6",
   "metadata": {},
   "source": [
    "# What is Image Generation?\n",
    "\n",
    "## Introduction to Generative AI and Computer Vision\n",
    "\n",
    "- Generative AI involves creating new data samples, such as images, text, or music, that resemble existing data.\n",
    "- In computer vision, AI-driven image generation models are designed to interpret and produce visual content that aligns with human-like creativity or replicates real-world visuals.\n",
    "\n",
    "## Use Cases of Image Generation\n",
    "\n",
    "- **Marketing:** Creating promotional visuals, product designs, and personalized advertising images.\n",
    "- **Art and Design:** Crafting unique artworks, graphic design, and architectural renderings.\n",
    "- **Science and Education:** Producing illustrations for educational materials, simulations, and visual aids for complex scientific data."
   ]
  },
  {
   "cell_type": "markdown",
   "id": "ccd05f71-1059-4a62-8a16-f752d1445554",
   "metadata": {},
   "source": [
    "# Introduction to Diffusion Models\n",
    "\n",
    "## Basics of Diffusion Models\n",
    "\n",
    "- Diffusion Models are a type of generative model that gradually “denoise” random noise into recognizable images.\n",
    "- Stable Diffusion: One of the most widely known models, stable diffusion performs particularly well on large datasets and can create high-quality, complex images based on input prompts."
   ]
  },
  {
   "cell_type": "markdown",
   "id": "b9f66685-1e1c-477f-a8dd-bf724fb25619",
   "metadata": {},
   "source": [
    "## DeepInfra's Approach to Image Generation\n",
    "DeepInfra is a platform that provides scalable access to machine learning and deep learning models through APIs, enabling developers and data scientists to integrate advanced AI capabilities, like image generation or text processing, into their applications without needing to manage the complex infrastructure or model training processes. It often includes models like stable diffusion, GPT models, and other generative or analytical models that are pre-trained and optimized for quick deployment.DeepInfra leverages diffusion models optimized for various use cases and configurations, offering flexibility for generating images based on descriptive prompts."
   ]
  },
  {
   "cell_type": "markdown",
   "id": "62112df5-f738-4fd6-baf5-e060e4b13a59",
   "metadata": {},
   "source": [
    "# Setting Up for DeepInfra\n",
    "\n",
    "## Loading Environment Variables"
   ]
  },
  {
   "cell_type": "code",
   "execution_count": 1,
   "id": "730e10f3-5862-453f-92e7-a232ecebdf5c",
   "metadata": {},
   "outputs": [],
   "source": [
    "import os\n",
    "from dotenv import load_dotenv"
   ]
  },
  {
   "cell_type": "code",
   "execution_count": 2,
   "id": "cf15ff10-5dc5-4d01-8b09-e2505dea9a4d",
   "metadata": {},
   "outputs": [
    {
     "data": {
      "text/plain": [
       "True"
      ]
     },
     "execution_count": 2,
     "metadata": {},
     "output_type": "execute_result"
    }
   ],
   "source": [
    "# Load environment variables from .env file\n",
    "load_dotenv()"
   ]
  },
  {
   "cell_type": "code",
   "execution_count": 4,
   "id": "aecb0c28-ab5b-44e0-b5d6-964b8ec2d270",
   "metadata": {},
   "outputs": [],
   "source": [
    "# Fetch the API key from environment variables\n",
    "API_KEY = os.getenv(\"DEEPINFRA_API_KEY\")"
   ]
  },
  {
   "cell_type": "code",
   "execution_count": 5,
   "id": "ffc5c993-7160-46cb-a86d-d9e8e1ba8207",
   "metadata": {},
   "outputs": [
    {
     "name": "stdout",
     "output_type": "stream",
     "text": [
      "API Key loaded successfully!\n"
     ]
    }
   ],
   "source": [
    "# Check if the API key loaded successfully\n",
    "if API_KEY:\n",
    "    print(\"API Key loaded successfully!\")\n",
    "else:\n",
    "    print(\"API Key not found. Please check your .env file.\")"
   ]
  },
  {
   "cell_type": "markdown",
   "id": "4c630473-9006-4586-b03a-f9e203b5b2d8",
   "metadata": {},
   "source": [
    "## Connecting to the DeepInfra API"
   ]
  },
  {
   "cell_type": "code",
   "execution_count": 22,
   "id": "34edb2bd-9356-449f-82c4-2809a405a167",
   "metadata": {},
   "outputs": [],
   "source": [
    "from swarmauri.llms.concrete.DeepInfraModel import DeepInfraModel as LLM"
   ]
  },
  {
   "cell_type": "code",
   "execution_count": 23,
   "id": "774c05d5-97a0-41af-950e-012aadee036c",
   "metadata": {},
   "outputs": [],
   "source": [
    "# Initialize the model with the API key\n",
    "llm = LLM(api_key=API_KEY)"
   ]
  },
  {
   "cell_type": "code",
   "execution_count": 24,
   "id": "2127a3dc-5c07-4325-a83d-4530957102c7",
   "metadata": {},
   "outputs": [
    {
     "name": "stdout",
     "output_type": "stream",
     "text": [
      "Model type: DeepInfraModel\n"
     ]
    }
   ],
   "source": [
    "# Check if the model is ready for generating images\n",
    "print(f\"Model type: {llm.type}\")"
   ]
  },
  {
   "cell_type": "markdown",
   "id": "1a335651-45c1-411b-b16c-11c4a0c7f4f7",
   "metadata": {},
   "source": [
    "# DeepInfra LLM"
   ]
  },
  {
   "cell_type": "code",
   "execution_count": 25,
   "id": "8d6a7ca6-af37-40f8-b791-68e9ea8af75c",
   "metadata": {},
   "outputs": [],
   "source": [
    "from swarmauri.messages.concrete.HumanMessage import HumanMessage\n",
    "from swarmauri.conversations.concrete.Conversation import Conversation"
   ]
  },
  {
   "cell_type": "code",
   "execution_count": 26,
   "id": "53365e10-6cb5-4cfd-990a-4e61a19221f3",
   "metadata": {},
   "outputs": [],
   "source": [
    "# Create a new conversation instance\n",
    "conversation = Conversation()"
   ]
  },
  {
   "cell_type": "code",
   "execution_count": 27,
   "id": "04ebf7dd-bdaa-4240-925e-1d9b2df5bdc3",
   "metadata": {},
   "outputs": [],
   "source": [
    "# Add a simple prompt message\n",
    "input_data = \"A futuristic city skyline at night with neon lights\"\n",
    "human_message = HumanMessage(content=input_data)\n",
    "conversation.add_message(human_message)"
   ]
  },
  {
   "cell_type": "code",
   "execution_count": 28,
   "id": "7febdcb6-e0a7-4064-815a-e6a2d25a9be2",
   "metadata": {},
   "outputs": [],
   "source": [
    "# Generate the prompt result image prediction\n",
    "llm.predict(conversation=conversation, **{\"temperature\": 0})\n",
    "prediction = conversation.get_last().content"
   ]
  },
  {
   "cell_type": "code",
   "execution_count": 29,
   "id": "0e8699cc-1bbd-4c98-821a-307bbd208cd2",
   "metadata": {},
   "outputs": [
    {
     "name": "stdout",
     "output_type": "stream",
     "text": [
      "Generated Image Prediction: Imagine a futuristic city skyline at night, where the sky is a deep indigo, dotted with stars that seem to pale in comparison to the vibrant, pulsating lights below. The buildings are towering, sleek, and modern, their surfaces reflecting the neon glow that permeates the entire city. \n",
      "\n",
      "Neon signs in every color of the spectrum—blues, pinks, greens, and purples—illuminate the streets, casting dynamic, shifting shadows. The signs advertise everything from high-tech gadgets and virtual reality experiences to exotic dining and entertainment venues. The light is so intense that it creates a surreal, almost otherworldly atmosphere.\n",
      "\n",
      "Hovering vehicles and drones zip through the air, their trails of light crisscrossing the sky like a web of glowing threads. Pedestrian walkways and sky bridges connect the buildings, allowing people to move between them without ever touching the ground. The streets below are bustling with activity, filled with people dressed in futuristic attire, their faces illuminated by the neon glow.\n",
      "\n",
      "In the distance, a massive digital billboard displays a live feed of the city’s most popular events, while holographic advertisements float in the air, enticing passersby with their vivid, three-dimensional displays. The city is a symphony of light and sound,\n"
     ]
    }
   ],
   "source": [
    "# Display the response\n",
    "print(\"Generated Image Prediction:\", prediction)"
   ]
  },
  {
   "cell_type": "markdown",
   "id": "ad73f774-8c3b-49a3-9b9d-cd6f750c9817",
   "metadata": {},
   "source": [
    "# Notebook Metadata"
   ]
  },
  {
   "cell_type": "code",
   "execution_count": 39,
   "id": "1f860fc7-3b4b-4aee-8797-7a2d2e3254a8",
   "metadata": {},
   "outputs": [
    {
     "name": "stdout",
     "output_type": "stream",
     "text": [
      "Author: Huzaifa Irshad\n",
      "GitHub Username: irshadhuzaifa\n",
      "Last Modified: 2024-11-01 17:52:11.104106\n",
      "Platform: Windows 11\n",
      "Python Version: 3.12.7 | packaged by Anaconda, Inc. | (main, Oct  4 2024, 13:17:27) [MSC v.1929 64 bit (AMD64)]\n",
      "Swarmauri Version: Swarmauri Version: 0.5.1\n"
     ]
    }
   ],
   "source": [
    "import platform\n",
    "import sys\n",
    "from datetime import datetime\n",
    "\n",
    "# Display author information\n",
    "author_name = \"Huzaifa Irshad\" \n",
    "github_username = \"irshadhuzaifa\"  \n",
    "\n",
    "print(f\"Author: {author_name}\")\n",
    "print(f\"GitHub Username: {github_username}\")\n",
    "\n",
    "# Last modified datetime (file's metadata)\n",
    "notebook_file = \"Notebook_01_Intro_to_Image_Generation.ipynb\"\n",
    "try:\n",
    "    last_modified_time = os.path.getmtime(notebook_file)\n",
    "    last_modified_datetime = datetime.fromtimestamp(last_modified_time)\n",
    "    print(f\"Last Modified: {last_modified_datetime}\")\n",
    "except Exception as e:\n",
    "    print(f\"Could not retrieve last modified datetime: {e}\")\n",
    "\n",
    "# Display platform, Python version, and Swarmauri version\n",
    "print(f\"Platform: {platform.system()} {platform.release()}\")\n",
    "print(f\"Python Version: {sys.version}\")\n",
    "\n",
    "import swarmauri\n",
    "\n",
    "try:\n",
    "    version = swarmauri.__version__\n",
    "except AttributeError:\n",
    "    version = f\"Swarmauri Version: 0.5.1\"\n",
    "\n",
    "print(f\"Swarmauri Version: {version}\")"
   ]
  },
  {
   "cell_type": "code",
   "execution_count": null,
   "id": "f5149e79-29f6-4bda-810e-603068a79577",
   "metadata": {},
   "outputs": [],
   "source": []
  }
 ],
 "metadata": {
  "kernelspec": {
   "display_name": "swarmauri(0.5.1)",
   "language": "python",
   "name": "myenv"
  },
  "language_info": {
   "codemirror_mode": {
    "name": "ipython",
    "version": 3
   },
   "file_extension": ".py",
   "mimetype": "text/x-python",
   "name": "python",
   "nbconvert_exporter": "python",
   "pygments_lexer": "ipython3",
   "version": "3.12.7"
  }
 },
 "nbformat": 4,
 "nbformat_minor": 5
}
