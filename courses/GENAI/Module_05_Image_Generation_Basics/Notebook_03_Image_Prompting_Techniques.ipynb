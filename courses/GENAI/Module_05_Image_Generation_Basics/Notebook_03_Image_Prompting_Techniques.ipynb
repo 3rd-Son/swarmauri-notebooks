{
 "cells": [
  {
   "cell_type": "markdown",
   "id": "5b88c231-a1d0-47a6-84a1-cdb7ee9cee7c",
   "metadata": {},
   "source": [
    "# Crafting Effective Prompts"
   ]
  },
  {
   "cell_type": "markdown",
   "id": "9f1a1e2f-9703-43a6-b921-ebd61ea0046e",
   "metadata": {},
   "source": [
    "Creating effective prompts is a fundamental skill in image generation. Well-crafted prompts include specific details, style cues, and clear descriptions, which help the model understand the desired outcome.\n",
    "\n",
    "- **Specificity:** Adding details makes the generated image closer to what we envision.\n",
    "- **Style:** Adding a specific style (e.g., fantasy, realistic) directs the model to generate images within that context.\n",
    "- **Clarity:** Clear prompts are more likely to generate accurate representations.\n",
    "\n",
    "## Recap of Previous Notebooks:"
   ]
  },
  {
   "cell_type": "code",
   "execution_count": 36,
   "id": "cf77bfa2-343e-474f-9f6c-18f32b46ab89",
   "metadata": {},
   "outputs": [
    {
     "name": "stdout",
     "output_type": "stream",
     "text": [
      "Connected to model type: DeepInfraImgGenModel\n"
     ]
    }
   ],
   "source": [
    "import os\n",
    "from dotenv import load_dotenv\n",
    "from swarmauri.llms.concrete.DeepInfraImgGenModel import DeepInfraImgGenModel as LLM\n",
    "\n",
    "# Load environment variables from .env file\n",
    "load_dotenv()\n",
    "\n",
    "# Fetch the API key from environment variables\n",
    "DEEPINFRA_API_KEY = os.getenv(\"DEEPINFRA_API_KEY\")\n",
    "\n",
    "# Initialize the DeepInfra Image Generation Model\n",
    "llm_img_gen = LLM(api_key=DEEPINFRA_API_KEY)\n",
    "\n",
    "# Check if the model is correctly initialized\n",
    "print(f\"Connected to model type: {llm_img_gen.type}\")"
   ]
  },
  {
   "cell_type": "markdown",
   "id": "f8ec1dfe-73d8-489a-a437-ea5b5b322424",
   "metadata": {},
   "source": [
    "# Experimenting with Prompt Variations\n",
    "\n",
    "Now, let’s experiment with some prompt variations. We’ll use a simple prompt and gradually add details to observe how the image output changes.\n"
   ]
  },
  {
   "cell_type": "code",
   "execution_count": 37,
   "id": "4f1ba437-0324-43a5-aee7-d624bfe9dcab",
   "metadata": {},
   "outputs": [],
   "source": [
    "# Prompt variations\n",
    "prompt1 = \"A futuristic city skyline at night\"\n",
    "prompt2 = \"A futuristic city skyline at night with neon lights and flying cars\"\n",
    "\n",
    "# Generate the images in base64 format\n",
    "image_base64_1 = llm_img_gen.generate_image_base64(prompt1)\n",
    "image_base64_2 = llm_img_gen.generate_image_base64(prompt2)"
   ]
  },
  {
   "cell_type": "code",
   "execution_count": 38,
   "id": "ebbadbbb-47f1-4337-9cb3-f3dea0ae3030",
   "metadata": {},
   "outputs": [],
   "source": [
    "import base64\n",
    "import requests\n",
    "from swarmauri.utils.base64_to_img_url import base64_to_img_url\n",
    "\n",
    "# Get API key from environment variable\n",
    "IMGBB_API_KEY = os.getenv(\"IMGBB_API_KEY\")"
   ]
  },
  {
   "cell_type": "code",
   "execution_count": 39,
   "id": "00795477-9209-42ea-9c01-e38f5fd198e5",
   "metadata": {},
   "outputs": [
    {
     "name": "stdout",
     "output_type": "stream",
     "text": [
      "Image URL: https://i.ibb.co/jhYCb9B/c1334aecfcd2.jpg\n"
     ]
    }
   ],
   "source": [
    "# Call the function with the image_base64_1 and API key\n",
    "try:\n",
    "    image_url = base64_to_img_url(image_base64_1, IMGBB_API_KEY)\n",
    "    print(\"Image URL:\", image_url)\n",
    "except Exception as e:\n",
    "    print(\"Error:\", e)"
   ]
  },
  {
   "cell_type": "code",
   "execution_count": 40,
   "id": "8c06ee52-6e44-4c63-ad82-b328fdbaceec",
   "metadata": {},
   "outputs": [
    {
     "name": "stdout",
     "output_type": "stream",
     "text": [
      "Image URL: https://i.ibb.co/qMDmBPW/d97d32cba9ee.jpg\n"
     ]
    }
   ],
   "source": [
    "# Call the function with the image_base64_2 and API key\n",
    "try:\n",
    "    image_url = base64_to_img_url(image_base64_2, IMGBB_API_KEY)\n",
    "    print(\"Image URL:\", image_url)\n",
    "except Exception as e:\n",
    "    print(\"Error:\", e)"
   ]
  },
  {
   "cell_type": "markdown",
   "id": "fbb3aa92-7aac-44f7-8936-279e47011ca4",
   "metadata": {},
   "source": [
    "# Prompting for Specific Styles and Themes\n",
    "\n",
    "Prompts can also direct the model to generate images in particular styles or themes. By specifying a style, you can tailor the model's output to be more realistic, abstract, or thematic.\n",
    "\n",
    "Try experimenting with different styles and see how the model interprets each.\n",
    "\n",
    "- **Fantasy Style:** \"A majestic dragon flying over a medieval castle in a fantasy style\"\n",
    "- **Realistic Style:** \"A realistic portrait of an old sailor with a rugged face and piercing eyes\"\n",
    "- **Abstract Style:** \"An abstract composition of colors and shapes representing calmness and chaos\""
   ]
  },
  {
   "cell_type": "code",
   "execution_count": 42,
   "id": "5212ab30-6bdb-489a-8c1a-5b7d8335f847",
   "metadata": {},
   "outputs": [],
   "source": [
    "# Example prompts for different styles\n",
    "prompts = [\n",
    "    \"A majestic dragon flying over a medieval castle in a fantasy style\",\n",
    "    \"A realistic portrait of an old sailor with a rugged face and piercing eyes\",\n",
    "    \"An abstract composition of colors and shapes representing calmness and chaos\"\n",
    "]\n",
    "   "
   ]
  },
  {
   "cell_type": "code",
   "execution_count": 43,
   "id": "a29a79a9-55c8-49ab-9793-782e99588c86",
   "metadata": {},
   "outputs": [
    {
     "name": "stdout",
     "output_type": "stream",
     "text": [
      "Image URL: https://i.ibb.co/64ftHsk/de40b4d1c41f.jpg\n",
      "Image URL: https://i.ibb.co/xXMTC6Q/8f29c2aee796.jpg\n",
      "Image URL: https://i.ibb.co/rcDXQgz/c054ca53f25c.jpg\n"
     ]
    }
   ],
   "source": [
    "# Generate and display images for each style-specific prompt\n",
    "for prompt in prompts:\n",
    "    image_base64 = llm_img_gen.generate_image_base64(prompt)\n",
    "    image_url = base64_to_img_url(image_base64, IMGBB_API_KEY)\n",
    "    print(\"Image URL:\", image_url)"
   ]
  },
  {
   "cell_type": "markdown",
   "id": "152c7fc5-49ec-4099-8fe0-fb718fa60140",
   "metadata": {},
   "source": [
    "# Detailed Prompting Method"
   ]
  },
  {
   "cell_type": "code",
   "execution_count": 44,
   "id": "bce1b3a1-8707-4eef-9500-20258e997414",
   "metadata": {},
   "outputs": [
    {
     "name": "stdout",
     "output_type": "stream",
     "text": [
      "Model type: DeepInfraModel\n"
     ]
    }
   ],
   "source": [
    "from swarmauri.llms.concrete.DeepInfraModel import DeepInfraModel\n",
    "\n",
    "# Initialize the model with the API key\n",
    "llm = DeepInfraModel(api_key=DEEPINFRA_API_KEY)\n",
    "\n",
    "# Check if the model is ready for generating images\n",
    "print(f\"Model type: {llm.type}\")"
   ]
  },
  {
   "cell_type": "code",
   "execution_count": 45,
   "id": "755e6e02-f20e-4924-b0a3-f3bc200ecf97",
   "metadata": {},
   "outputs": [],
   "source": [
    "from swarmauri.messages.concrete.HumanMessage import HumanMessage\n",
    "from swarmauri.conversations.concrete.Conversation import Conversation"
   ]
  },
  {
   "cell_type": "code",
   "execution_count": 46,
   "id": "97172148-64e1-463f-afa2-b5d43da1a5a3",
   "metadata": {},
   "outputs": [],
   "source": [
    "# Create a new conversation instance\n",
    "conversation = Conversation()"
   ]
  },
  {
   "cell_type": "code",
   "execution_count": 47,
   "id": "77fad8aa-c8da-4fea-821e-ddc77204f05b",
   "metadata": {},
   "outputs": [],
   "source": [
    "# Add a simple prompt message\n",
    "input_data = \"A futuristic city skyline at night with neon lights\"\n",
    "human_message = HumanMessage(content=input_data)\n",
    "conversation.add_message(human_message)"
   ]
  },
  {
   "cell_type": "code",
   "execution_count": 48,
   "id": "05193094-f5fb-4d84-8ff4-8609f802ea79",
   "metadata": {},
   "outputs": [],
   "source": [
    "# Generate the prompt result image prediction\n",
    "llm.predict(conversation=conversation, **{\"temperature\": 0})\n",
    "prediction = conversation.get_last().content"
   ]
  },
  {
   "cell_type": "code",
   "execution_count": 49,
   "id": "efcb1e7c-b17c-4a08-a958-f5a197b35ad0",
   "metadata": {},
   "outputs": [
    {
     "name": "stdout",
     "output_type": "stream",
     "text": [
      "Generated Image Prediction: Imagine a futuristic city skyline at night, where the sky is a deep indigo, dotted with stars that seem to pale in comparison to the vibrant, pulsating lights below. The buildings are towering, sleek, and modern, their surfaces reflecting the neon glow that permeates the entire city. \n",
      "\n",
      "Neon signs in every color of the spectrum—blues, pinks, greens, and purples—illuminate the streets and alleyways, casting dynamic, shifting shadows. The signs advertise everything from high-tech gadgets and virtual reality experiences to exotic dining and entertainment venues. \n",
      "\n",
      "Hovering vehicles and drones zip through the air, their trails of light crisscrossing the sky like a web of glowing threads. Pedestrian walkways are lined with holographic displays, showcasing the latest news, advertisements, and interactive experiences.\n",
      "\n",
      "The city is alive with the hum of technology and the buzz of activity. People dressed in futuristic attire—think sleek, metallic fabrics and glowing accessories—move through the streets, their faces illuminated by the neon lights. The air is filled with the soft hum of energy, a testament to the city's relentless innovation and progress.\n",
      "\n",
      "This is a city that never sleeps, a place where the future is not just imagined but lived, every moment bathed in\n"
     ]
    }
   ],
   "source": [
    "# Display the response\n",
    "print(\"Generated Image Prediction:\", prediction)"
   ]
  },
  {
   "cell_type": "code",
   "execution_count": 50,
   "id": "7e6ab637-9618-4795-b332-f68d254bde39",
   "metadata": {},
   "outputs": [],
   "source": [
    "# Generate the image in base64 format\n",
    "image_base64 = llm_img_gen.generate_image_base64(prediction)"
   ]
  },
  {
   "cell_type": "code",
   "execution_count": 51,
   "id": "2d76a7f9-d069-447e-a877-acc0c6c1db48",
   "metadata": {},
   "outputs": [
    {
     "name": "stdout",
     "output_type": "stream",
     "text": [
      "Generated image data in base64 format.\n"
     ]
    }
   ],
   "source": [
    "# Confirm that image data was generated\n",
    "if image_base64:\n",
    "    print(\"Generated image data in base64 format.\")"
   ]
  },
  {
   "cell_type": "code",
   "execution_count": 52,
   "id": "49efb7f0-4e3b-47c6-8ae2-cc9a93ec4986",
   "metadata": {},
   "outputs": [
    {
     "name": "stdout",
     "output_type": "stream",
     "text": [
      "Image URL: https://i.ibb.co/59YbQC0/4b212d53cd9e.jpg\n"
     ]
    }
   ],
   "source": [
    "image_base64 = llm_img_gen.generate_image_base64(prediction)\n",
    "image_url = base64_to_img_url(image_base64, IMGBB_API_KEY)\n",
    "print(\"Image URL:\", image_url)"
   ]
  },
  {
   "cell_type": "markdown",
   "id": "21eeefa1-442d-4b20-8f05-acfed659728c",
   "metadata": {},
   "source": [
    "# Notebook Metadata"
   ]
  },
  {
   "cell_type": "code",
   "execution_count": 53,
   "id": "a835ae11-7c72-48b1-b1aa-9b68705a0192",
   "metadata": {},
   "outputs": [
    {
     "name": "stdout",
     "output_type": "stream",
     "text": [
      "Author: Huzaifa Irshad\n",
      "GitHub Username: irshadhuzaifa\n",
      "Last Modified: 2024-11-01 18:35:56.237880\n",
      "Platform: Windows 11\n",
      "Python Version: 3.12.7 | packaged by Anaconda, Inc. | (main, Oct  4 2024, 13:17:27) [MSC v.1929 64 bit (AMD64)]\n",
      "Swarmauri Version: Swarmauri Version: 0.5.1\n"
     ]
    }
   ],
   "source": [
    "import platform\n",
    "import sys\n",
    "from datetime import datetime\n",
    "\n",
    "# Display author information\n",
    "author_name = \"Huzaifa Irshad\" \n",
    "github_username = \"irshadhuzaifa\"  \n",
    "\n",
    "print(f\"Author: {author_name}\")\n",
    "print(f\"GitHub Username: {github_username}\")\n",
    "\n",
    "# Last modified datetime (file's metadata)\n",
    "notebook_file = \"Notebook_03_Image_Prompting_Techniques.ipynb\"\n",
    "try:\n",
    "    last_modified_time = os.path.getmtime(notebook_file)\n",
    "    last_modified_datetime = datetime.fromtimestamp(last_modified_time)\n",
    "    print(f\"Last Modified: {last_modified_datetime}\")\n",
    "except Exception as e:\n",
    "    print(f\"Could not retrieve last modified datetime: {e}\")\n",
    "\n",
    "# Display platform, Python version, and Swarmauri version\n",
    "print(f\"Platform: {platform.system()} {platform.release()}\")\n",
    "print(f\"Python Version: {sys.version}\")\n",
    "\n",
    "import swarmauri\n",
    "\n",
    "try:\n",
    "    version = swarmauri.__version__\n",
    "except AttributeError:\n",
    "    version = f\"Swarmauri Version: 0.5.1\"\n",
    "\n",
    "print(f\"Swarmauri Version: {version}\")"
   ]
  },
  {
   "cell_type": "code",
   "execution_count": null,
   "id": "b89f0074-ef5f-4413-8d98-befffcadcde3",
   "metadata": {},
   "outputs": [],
   "source": []
  }
 ],
 "metadata": {
  "kernelspec": {
   "display_name": "swarmauri(0.5.1)",
   "language": "python",
   "name": "myenv"
  },
  "language_info": {
   "codemirror_mode": {
    "name": "ipython",
    "version": 3
   },
   "file_extension": ".py",
   "mimetype": "text/x-python",
   "name": "python",
   "nbconvert_exporter": "python",
   "pygments_lexer": "ipython3",
   "version": "3.12.7"
  }
 },
 "nbformat": 4,
 "nbformat_minor": 5
}
