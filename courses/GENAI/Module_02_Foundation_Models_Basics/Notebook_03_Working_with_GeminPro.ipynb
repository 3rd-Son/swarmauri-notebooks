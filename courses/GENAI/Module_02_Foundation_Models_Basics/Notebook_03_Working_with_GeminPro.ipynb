{
 "cells": [
  {
   "cell_type": "markdown",
   "metadata": {},
   "source": [
    "**Notebook 03: Working with GeminiPro**\n",
    "\n",
    "**Introduction:**\n",
    "\n",
    "GeminiPro  a powerful Large Language Model developed by Google. It is an advanced LLM known for its effectiveness in conversational tasks and detailed text generation. This notebook guides users through setting up and utilizing GeminiPro for various NLP applications, including generating responses, handling conversational contexts, and managing batch processing. By mastering the GeminiPro model, users can implement high-quality interactions and utilize its features for a broad range of tasks in an efficient, streamlined manner.\n",
    "\n",
    "**This notebook will:**\n",
    "\n",
    "Introduce setup and initialization for the GeminiPro model within Swarmauri.\n",
    "\n",
    "Demonstrate text generation, streaming responses, and contextual handling for user queries.\n",
    "\n",
    "Provide examples of utilizing GeminiPro’s advanced features for seamless conversation management."
   ]
  },
  {
   "cell_type": "markdown",
   "metadata": {},
   "source": [
    "**Setup and Configuration**"
   ]
  },
  {
   "cell_type": "code",
   "execution_count": 1,
   "metadata": {},
   "outputs": [],
   "source": [
    "from swarmauri.llms.concrete.GeminiProModel import GeminiProModel\n",
    "from swarmauri.conversations.concrete.Conversation import Conversation\n",
    "from swarmauri.messages.concrete.HumanMessage import HumanMessage\n",
    "from swarmauri.messages.concrete.SystemMessage import SystemMessage\n",
    "import os\n",
    "from dotenv import load_dotenv\n",
    "\n"
   ]
  },
  {
   "cell_type": "code",
   "execution_count": 2,
   "metadata": {},
   "outputs": [],
   "source": [
    "# Load API Key\n",
    "load_dotenv()\n",
    "GEMINI_API_KEY = os.getenv(\"GEMINI_API_KEY\")\n",
    "\n"
   ]
  },
  {
   "cell_type": "code",
   "execution_count": 3,
   "metadata": {},
   "outputs": [],
   "source": [
    "# Initialize Gemini Pro Model\n",
    "gemini_model = GeminiProModel(api_key=GEMINI_API_KEY)"
   ]
  },
  {
   "cell_type": "markdown",
   "metadata": {},
   "source": [
    "## **Basic Interaction Techniques**\n",
    "**1. Simple Conversation**"
   ]
  },
  {
   "cell_type": "code",
   "execution_count": 6,
   "metadata": {},
   "outputs": [],
   "source": [
    "conversation = Conversation()\n",
    "conversation.add_message(HumanMessage(content=\"Tell me an interesting fact about Brazil\"))\n",
    "\n"
   ]
  },
  {
   "cell_type": "code",
   "execution_count": 7,
   "metadata": {},
   "outputs": [
    {
     "name": "stdout",
     "output_type": "stream",
     "text": [
      "Brazil is home to the largest Japanese population outside of Japan.  Japanese immigrants began arriving in Brazil in the early 20th century, and the community has thrived since.\n",
      "\n"
     ]
    }
   ],
   "source": [
    "response = gemini_model.predict(conversation=conversation)\n",
    "print(response.get_last().content)"
   ]
  },
  {
   "cell_type": "markdown",
   "metadata": {},
   "source": [
    "**2. System Context and Instruction**"
   ]
  },
  {
   "cell_type": "code",
   "execution_count": 9,
   "metadata": {},
   "outputs": [],
   "source": [
    "conversation = Conversation()\n",
    "conversation.add_message(SystemMessage(content=\"You are a poetic assistant who responds in haiku\"))\n",
    "conversation.add_message(HumanMessage(content=\"Describe the beauty of technology\"))\n"
   ]
  },
  {
   "cell_type": "code",
   "execution_count": 10,
   "metadata": {},
   "outputs": [
    {
     "name": "stdout",
     "output_type": "stream",
     "text": [
      "Swift code takes flight,\n",
      "Worlds built on screens glowing bright,\n",
      "Future in our hand. \n",
      "\n"
     ]
    }
   ],
   "source": [
    "# Print response\n",
    "response = gemini_model.predict(conversation=conversation)\n",
    "print(response.get_last().content)"
   ]
  },
  {
   "cell_type": "markdown",
   "metadata": {},
   "source": [
    "**3. Advanced Processing Techniques**\n",
    "\n",
    "**Streaming Token Generation:** Synchronously streams response content in chunks as it’s received, ideal for displaying partial responses in real-time."
   ]
  },
  {
   "cell_type": "code",
   "execution_count": 11,
   "metadata": {},
   "outputs": [],
   "source": [
    "conversation = Conversation()\n",
    "conversation.add_message(HumanMessage(content=\"Explain the process of machine learning\"))\n",
    "\n"
   ]
  },
  {
   "cell_type": "code",
   "execution_count": 12,
   "metadata": {},
   "outputs": [
    {
     "name": "stdout",
     "output_type": "stream",
     "text": [
      "Streaming response:\n",
      "The machine learning process can be broken down into several key steps:\n",
      "\n",
      "1. **Data Collection:** This is the foundation of any machine learning project. The data needs to be relevant to the problem you're trying to solve, representative of the real-world scenario, and as clean and accurate as possible.  The quantity of data is also important, with more data generally leading to better results (though quality is always more important than quantity).  This data can come from various sources like databases, APIs, sensors, files, etc.\n",
      "\n",
      "2. **Data Preprocessing:** Raw data is rarely ready for use in machine learning algorithms. This stage involves cleaning, transforming, and preparing the data for optimal model performance.  Common tasks include:\n",
      "    * **Data Cleaning:** Handling missing values, removing duplicates, and correcting errors.\n",
      "    * **Data Transformation:** Converting data types, scaling features (e.g., normalization, standardization), and creating new features (feature engineering).\n",
      "    * **Data Reduction:** Reducing the number of features through dimensionality reduction techniques like Principal Component Analysis (PCA).\n",
      "    * **Data Splitting:** Dividing the data into training, validation, and testing sets.  The training set is used to train the model, the validation set is"
     ]
    }
   ],
   "source": [
    "# Print response\n",
    "print(\"Streaming response:\")\n",
    "for token in gemini_model.stream(conversation=conversation):\n",
    "    print(token, end='', flush=True)"
   ]
  },
  {
   "cell_type": "markdown",
   "metadata": {},
   "source": [
    "**Batch Processing Multiple Conversations**"
   ]
  },
  {
   "cell_type": "code",
   "execution_count": 14,
   "metadata": {},
   "outputs": [],
   "source": [
    "conversations = []\n",
    "\n",
    "# Populate the list with Conversation instances of your choice \n",
    "for prompt in [\"What is cloud computing?\", \"Explain blockchain technology\", \"Future of artificial intelligence\"]:\n",
    "    conv = Conversation()\n",
    "    conv.add_message(HumanMessage(content=prompt))\n",
    "    conversations.append(conv)\n",
    "\n"
   ]
  },
  {
   "cell_type": "code",
   "execution_count": 16,
   "metadata": {},
   "outputs": [
    {
     "name": "stdout",
     "output_type": "stream",
     "text": [
      "Cloud computing is the delivery of computing services—including servers, storage, databases, networking, software, analytics, and intelligence—over the Internet (“the cloud”). Instead of owning and maintaining your own physical data centers and servers, you can access these services, on an as-needed basis, from a cloud provider like Amazon Web Services (AWS), Microsoft Azure, or Google Cloud Platform.\n",
      "\n",
      "Here's a breakdown of key aspects:\n",
      "\n",
      "* **On-demand availability:**  You can access computing resources as you need them, scaling up or down quickly and easily.  This eliminates the need for large upfront investments in hardware and allows for greater flexibility.\n",
      "\n",
      "* **Pay-as-you-go pricing:**  You typically pay only for the cloud services you consume, similar to how you pay for electricity or water. This can significantly reduce IT costs, especially for organizations with fluctuating computing needs.\n",
      "\n",
      "* **Scalability and elasticity:** Cloud computing allows you to easily scale your resources up or down based on demand. This means you can handle traffic spikes or increased workloads without having to invest in additional hardware. Elasticity refers to the automatic scaling of resources based on predefined parameters.\n",
      "\n",
      "* **Accessibility and ubiquity:**  You can access your cloud-based applications and data from anywhere\n",
      "Blockchain technology is a distributed, immutable ledger that records and verifies transactions in a secure and transparent manner.  Imagine a shared, digital spreadsheet duplicated across a network of computers.  Every time a new transaction occurs, it's added as a \"block\" to this spreadsheet.  These blocks are linked together chronologically and cryptographically, forming a \"chain.\"  This chain structure is what makes blockchain so secure and tamper-proof.\n",
      "\n",
      "Here's a breakdown of key concepts:\n",
      "\n",
      "* **Decentralized:**  Unlike traditional databases controlled by a single entity (e.g., a bank), blockchain is distributed across a network of computers. This eliminates single points of failure and control, making it more resilient and resistant to censorship.\n",
      "\n",
      "* **Immutable:** Once a block is added to the chain, it cannot be altered or deleted. This immutability is achieved through cryptographic hashing, where each block is linked to the previous one by a unique \"hash.\"  Changing even a single detail in a block would change its hash and break the chain, making any tampering immediately evident.\n",
      "\n",
      "* **Transparent:** All transactions on a blockchain are publicly viewable (though participant identities can be masked using cryptography). This transparency promotes accountability and trust.\n",
      "\n",
      "* **Secure:**  Cryptography is\n",
      "The future of artificial intelligence is brimming with potential, but also fraught with challenges. Here's a glimpse into some key aspects:\n",
      "\n",
      "**Potential advancements and applications:**\n",
      "\n",
      "* **More sophisticated AI models:**  Expect models to become even more capable of understanding and generating human-like text, images, and code.  This includes improvements in reasoning, problem-solving, and creativity.\n",
      "* **Wider adoption across industries:** AI will continue to permeate various sectors, from healthcare and finance to manufacturing and entertainment. This includes automation of tasks, personalized experiences, and data-driven decision-making.\n",
      "* **Enhanced human-AI collaboration:**  We'll see more tools and interfaces that facilitate seamless interaction between humans and AI, allowing us to leverage AI's strengths while retaining human control and oversight.\n",
      "* **Scientific breakthroughs:** AI can accelerate scientific discovery by analyzing vast datasets, identifying patterns, and generating hypotheses. This could lead to breakthroughs in medicine, materials science, and other fields.\n",
      "* **Personalized learning and healthcare:** AI-powered tutors and diagnostic tools can provide individualized learning experiences and healthcare tailored to individual needs.\n",
      "* **Smart cities and infrastructure:** AI can optimize traffic flow, manage energy consumption, and improve public safety in urban environments.\n",
      "* **\n"
     ]
    }
   ],
   "source": [
    "# print the response of the model to the multiple conversations\n",
    "batch_results = gemini_model.batch(conversations=conversations)\n",
    "for result in batch_results:\n",
    "    print(result.get_last().content)\n",
    "  "
   ]
  },
  {
   "cell_type": "markdown",
   "metadata": {},
   "source": [
    "**Asynchronous Processing**\n",
    "\n",
    "Asynchronous prediction"
   ]
  },
  {
   "cell_type": "code",
   "execution_count": 17,
   "metadata": {},
   "outputs": [
    {
     "name": "stdout",
     "output_type": "stream",
     "text": [
      "Async Story: The ochre dust swirled around Elara's boots as she stepped onto Kepler-186f. The twin suns cast long, lavender shadows, painting the alien landscape in an ethereal light.  Elara, the sole botanist on the Ares VI mission, felt a thrill course through her. This was it. The culmination of a lifetime dedicated to finding life beyond Earth.\n",
      "\n",
      "Kepler-186f, an Earth-like exoplanet light-years away, had tantalized scientists for decades. The atmospheric readings suggested the possibility of vegetation, but nothing was certain until boots touched ground.  Now, Elara, encased in her bio-suit, was here to confirm it.\n",
      "\n",
      "Her initial scans were disappointing. Barren rock formations stretched as far as the eye could see.  The air, thin and dry, carried the faint metallic tang of iron oxide.  Days bled into weeks.  Elara's hope, once a vibrant bloom, began to wither.  The crew, focused on geological surveys, offered sympathetic pats on the shoulder but little else. They were geologists, not dreamers.\n",
      "\n",
      "One day, while exploring a deep canyon, Elara stumbled upon a cave.  The air within was noticeably humid.  Her heart hammered\n"
     ]
    }
   ],
   "source": [
    "conversation = Conversation()\n",
    "conversation.add_message(HumanMessage(content=\"Write a short story about space exploration\"))\n",
    "    \n",
    "# Asynchronous prediction\n",
    "result = await gemini_model.apredict(conversation=conversation)\n",
    "print(\"Async Story:\", result.get_last().content)"
   ]
  },
  {
   "cell_type": "markdown",
   "metadata": {},
   "source": [
    "Async streaming\n"
   ]
  },
  {
   "cell_type": "code",
   "execution_count": 19,
   "metadata": {},
   "outputs": [
    {
     "name": "stdout",
     "output_type": "stream",
     "text": [
      "Async Streamed Response: ...against her ribs. Activating her helmet lamp, she ventured into the darkness. The beam danced across damp walls, revealing intricate patterns of crystalline formations. Deeper within the cave, the humidity intensified, and a faint, earthy aroma replaced the metallic tang of the outside air.\n",
      "\n",
      "Then, she saw it. A faint, emerald glow emanated from a fissure in the cave wall.  Elara approached cautiously, her breath catching in her throat.  Peering inside, she found herself gazing upon a subterranean garden.  Bioluminescent moss clung to the rock face, casting an otherworldly light upon strange, fleshy plants with velvety, deep blue leaves.  Small, iridescent insects flitted amongst the foliage, their wings leaving trails of shimmering dust.\n",
      "\n",
      "Tears welled up in Elara's eyes, blurring the fantastical scene.  It was real. Life, alien and beautiful, thrived in this hidden oasis.  She quickly collected samples, careful not to disturb the delicate ecosystem.  Her hands trembled with the weight of the discovery.  This was more than just confirmation of extraterrestrial life; it was a testament to the resilience and adaptability of nature, a beacon of hope in the vastness of space.\n",
      "\n",
      "Returning to the Ares VI lander, El\n"
     ]
    }
   ],
   "source": [
    "# Async streaming\n",
    "collected_tokens = []\n",
    "async for token in gemini_model.astream(conversation=conversation):\n",
    "    collected_tokens.append(token)\n",
    "    \n",
    "print(\"Async Streamed Response:\", ''.join(collected_tokens))"
   ]
  },
  {
   "cell_type": "markdown",
   "metadata": {},
   "source": [
    "Asynchronous batch processing of multiple conversations"
   ]
  },
  {
   "cell_type": "code",
   "execution_count": 23,
   "metadata": {},
   "outputs": [],
   "source": [
    "conversations = []\n",
    "\n",
    "# Populate the list with Conversation instances of your choice \n",
    "for prompt in [\"What is cloud computing?\", \"Explain blockchain technology\", \"Future of artificial intelligence\"]:\n",
    "    conv = Conversation()\n",
    "    conv.add_message(HumanMessage(content=prompt))\n",
    "    conversations.append(conv)\n"
   ]
  },
  {
   "cell_type": "code",
   "execution_count": 21,
   "metadata": {},
   "outputs": [
    {
     "name": "stdout",
     "output_type": "stream",
     "text": [
      "Cloud computing is the delivery of computing services—including servers, storage, databases, networking, software, analytics, and intelligence—over the Internet (“the cloud”). Instead of owning and maintaining physical data centers and servers, you can access these services, on an as-needed basis, from a cloud provider like Amazon Web Services (AWS), Microsoft Azure, or Google Cloud Platform.\n",
      "\n",
      "Here's a breakdown of key aspects:\n",
      "\n",
      "* **On-demand availability:**  You can access computing resources as you need them, scaling up or down based on demand.  This eliminates the need for large upfront investments in hardware and allows for greater flexibility.\n",
      "\n",
      "* **Pay-as-you-go pricing:** You typically pay only for the cloud services you use, similar to a utility bill. This can significantly reduce IT costs compared to traditional on-premises infrastructure.\n",
      "\n",
      "* **Scalability and elasticity:** Cloud computing allows you to easily scale your resources up or down to meet changing demands.  This is particularly beneficial for businesses with fluctuating workloads.\n",
      "\n",
      "* **Increased accessibility:** You can access your data and applications from anywhere with an internet connection, promoting collaboration and remote work.\n",
      "\n",
      "* **Enhanced security:** Cloud providers invest heavily in security measures to protect their infrastructure and customer data.  \n",
      "Blockchain technology is a distributed, immutable ledger that records and verifies transactions across a network of computers.  Imagine a digital spreadsheet duplicated across multiple computers, constantly updated and reconciled.  Here's a breakdown of its key components and characteristics:\n",
      "\n",
      "**Key Components:**\n",
      "\n",
      "* **Blocks:**  Containers holding a batch of recent valid transactions.  Each block includes a timestamp and a cryptographic hash (like a digital fingerprint) of the previous block, linking them together in a chain.\n",
      "* **Chain:**  The chronological sequence of interconnected blocks, forming a permanent and tamper-proof record of all transactions.\n",
      "* **Hashing:**  The process of using a cryptographic algorithm to generate a unique hash for each block.  Any change to the block's data will result in a completely different hash, making tampering easily detectable.\n",
      "* **Distributed Ledger:**  The blockchain is replicated across a network of computers (nodes). Each node has a copy of the entire blockchain, ensuring transparency and resilience against data loss or manipulation.\n",
      "* **Consensus Mechanisms:**  Protocols used to validate transactions and add new blocks to the chain.  Common examples include Proof-of-Work (PoW) and Proof-of-Stake (PoS).  These mechanisms ensure that all nodes agree on\n",
      "The future of artificial intelligence is brimming with both exciting possibilities and complex challenges.  Here's a glimpse into some key aspects:\n",
      "\n",
      "**Potential Advancements and Applications:**\n",
      "\n",
      "* **More sophisticated AI models:**  Expect even more powerful models capable of handling complex reasoning, nuanced language understanding, and creative tasks.  This includes improvements in areas like natural language processing, computer vision, and reinforcement learning.\n",
      "* **Wider adoption across industries:** AI will become increasingly integrated into various sectors, including healthcare (diagnosis, drug discovery, personalized medicine), finance (fraud detection, algorithmic trading), manufacturing (automation, quality control), transportation (autonomous vehicles), and entertainment (personalized content creation).\n",
      "* **Enhanced human-AI collaboration:** We'll see more tools and interfaces that facilitate seamless interaction between humans and AI, allowing us to leverage AI's strengths while retaining human oversight and control.  This includes advancements in explainable AI (XAI) to make AI decision-making more transparent.\n",
      "* **Personalized and adaptive systems:** AI will power more personalized experiences in areas like education, entertainment, and shopping, tailoring content and services to individual needs and preferences.\n",
      "* **Scientific breakthroughs:** AI can accelerate scientific discovery by analyzing vast datasets, identifying patterns, and generating hypotheses in fields like\n"
     ]
    }
   ],
   "source": [
    "# print the response of the model to the multiple conversations\n",
    "batch_results = await gemini_model.abatch(conversations=conversations)\n",
    "for result in batch_results:\n",
    "    print(result.get_last().content)"
   ]
  },
  {
   "cell_type": "markdown",
   "metadata": {},
   "source": [
    "## **Conclusion:**\n",
    "Through this notebook, You have explored the full spectrum of GeminiPro’s capabilities, from basic setup to advanced conversational management  With practical examples and hands-on experience.\n",
    "  By mastering various interaction techniques like streaming, batch processing, and async methods,  You are now able to implement GeminiPro effectively in various NLP tasks, offering robust conversational solutions and handling complex interactions with ease. \n",
    "  This knowledge will prove invaluable for projects that demand high accuracy and responsiveness in text generation and user engagement.\n",
    "\n"
   ]
  },
  {
   "cell_type": "markdown",
   "metadata": {},
   "source": [
    "## **NOTEBOOK METADATA**"
   ]
  },
  {
   "cell_type": "code",
   "execution_count": 24,
   "metadata": {},
   "outputs": [
    {
     "name": "stdout",
     "output_type": "stream",
     "text": [
      "Author: Dominion John \n",
      "GitHub Username: DOMINION-JOHN1\n",
      "Last Modified: 2024-10-31 13:21:32.613919\n",
      "Platform: Windows 11\n",
      "Python Version: 3.12.7 (tags/v3.12.7:0b05ead, Oct  1 2024, 03:06:41) [MSC v.1941 64 bit (AMD64)]\n",
      "Swarmauri Version: Swarmauri Version: 0.5.1\n"
     ]
    }
   ],
   "source": [
    "import os\n",
    "import platform\n",
    "import sys\n",
    "from datetime import datetime\n",
    "\n",
    "# Display author information\n",
    "author_name = \"Dominion John \" \n",
    "github_username = \"DOMINION-JOHN1\"  \n",
    "\n",
    "print(f\"Author: {author_name}\")\n",
    "print(f\"GitHub Username: {github_username}\")\n",
    "\n",
    "# Last modified datetime (file's metadata)\n",
    "notebook_file = \"Notebook_03_Working_with_GeminPro.ipynb\"\n",
    "try:\n",
    "    last_modified_time = os.path.getmtime(notebook_file)\n",
    "    last_modified_datetime = datetime.fromtimestamp(last_modified_time)\n",
    "    print(f\"Last Modified: {last_modified_datetime}\")\n",
    "except Exception as e:\n",
    "    print(f\"Could not retrieve last modified datetime: {e}\")\n",
    "\n",
    "# Display platform, Python version, and Swarmauri version\n",
    "print(f\"Platform: {platform.system()} {platform.release()}\")\n",
    "print(f\"Python Version: {sys.version}\")\n",
    "\n",
    "import swarmauri\n",
    "\n",
    "try:\n",
    "    version = swarmauri.__version__\n",
    "except AttributeError:\n",
    "    version = f\"Swarmauri Version: 0.5.1\"\n",
    "\n",
    "print(f\"Swarmauri Version: {version}\")\n",
    "\n"
   ]
  },
  {
   "cell_type": "code",
   "execution_count": null,
   "metadata": {},
   "outputs": [],
   "source": []
  }
 ],
 "metadata": {
  "kernelspec": {
   "display_name": "swarmauri-0.5.1",
   "language": "python",
   "name": "python3"
  },
  "language_info": {
   "codemirror_mode": {
    "name": "ipython",
    "version": 3
   },
   "file_extension": ".py",
   "mimetype": "text/x-python",
   "name": "python",
   "nbconvert_exporter": "python",
   "pygments_lexer": "ipython3",
   "version": "3.12.7"
  }
 },
 "nbformat": 4,
 "nbformat_minor": 2
}
