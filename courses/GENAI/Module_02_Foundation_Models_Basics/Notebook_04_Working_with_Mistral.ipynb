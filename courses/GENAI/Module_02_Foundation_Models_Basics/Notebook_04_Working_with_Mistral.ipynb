{
 "cells": [
  {
   "cell_type": "markdown",
   "metadata": {},
   "source": [
    "## **Notebook 04: Working with Mistral**\n",
    "## **Introduction:**\n",
    "\n",
    "The Mistral model is designed for tasks requiring precision and adaptability, making it ideal for contexts where high accuracy and efficient response generation are paramount. In this notebook, users will learn how to initialize and utilize Mistral’s specialized features, such as asynchronous prediction and context-driven interactions.\n",
    " This notebook provides a deep dive into the practical applications of Mistral, illustrating how it can be adapted to handle complex tasks efficiently.\n",
    "\n",
    "**This notebook will:**\n",
    "\n",
    "Guide users through Mistral’s initialization and setup within Swarmauri.\n",
    "\n",
    "Provide examples of asynchronous prediction and context-driven conversations.\n",
    "\n",
    "Demonstrate strategies for optimizing Mistral’s output in real-time, multi-task scenarios."
   ]
  },
  {
   "cell_type": "markdown",
   "metadata": {},
   "source": [
    "# **Setup and Configuration**\n",
    "\n",
    "**Import of dependencies**"
   ]
  },
  {
   "cell_type": "code",
   "execution_count": 1,
   "metadata": {},
   "outputs": [],
   "source": [
    "from swarmauri.llms.concrete.MistralModel import MistralModel\n",
    "from swarmauri.conversations.concrete.Conversation import Conversation\n",
    "from swarmauri.messages.concrete.HumanMessage import HumanMessage\n",
    "from swarmauri.messages.concrete.SystemMessage import SystemMessage\n",
    "import os\n",
    "from dotenv import load_dotenv\n",
    "\n"
   ]
  },
  {
   "cell_type": "markdown",
   "metadata": {},
   "source": [
    "**Load API Key**"
   ]
  },
  {
   "cell_type": "code",
   "execution_count": 2,
   "metadata": {},
   "outputs": [],
   "source": [
    "\n",
    "load_dotenv()\n",
    "MISTRAL_API_KEY = os.getenv(\"MISTRAL_API_KEY\")\n",
    "\n"
   ]
  },
  {
   "cell_type": "markdown",
   "metadata": {},
   "source": [
    "**Initialize Mistral Model**"
   ]
  },
  {
   "cell_type": "code",
   "execution_count": 3,
   "metadata": {},
   "outputs": [],
   "source": [
    "\n",
    "mistral_model = MistralModel(api_key=MISTRAL_API_KEY)"
   ]
  },
  {
   "cell_type": "markdown",
   "metadata": {},
   "source": [
    "# **Core Interaction Patterns**\n",
    "**1. Basic Conversation**"
   ]
  },
  {
   "cell_type": "code",
   "execution_count": 4,
   "metadata": {},
   "outputs": [],
   "source": [
    "conversation = Conversation()\n",
    "conversation.add_message(HumanMessage(content=\"Explain the concept of blockchain\"))\n"
   ]
  },
  {
   "cell_type": "code",
   "execution_count": 5,
   "metadata": {},
   "outputs": [
    {
     "name": "stdout",
     "output_type": "stream",
     "text": [
      "Blockchain is a decentralized, distributed digital ledger that records transactions across a network of computers. It allows for the creation of a secure and transparent record of data without the need for a central authority.\n",
      "\n",
      "Each block in the chain contains a record of multiple transactions, and every participant in the network has a copy of the entire blockchain. When a new transaction is added to the network, it is verified by a consensus mechanism, such as proof of work or proof of stake, and then added to the blockchain. Once added, the transaction cannot be altered or deleted, creating a permanent and unchangeable record.\n",
      "\n",
      "One of the key features of blockchain technology is its security. The decentralized nature of the network and the consensus mechanism make it resistant to tampering and hacking. Additionally, the use of cryptographic techniques ensures the confidentiality, integrity, and authenticity of the data.\n",
      "\n",
      "Blockchain technology has a wide range of potential use cases, including financial transactions, supply chain management, voting systems, and digital identity verification. It has the potential to increase efficiency, reduce costs, and improve transparency in various industries.\n",
      "\n",
      "In summary, blockchain technology is a secure and transparent digital ledger that allows for\n"
     ]
    }
   ],
   "source": [
    "\n",
    "response = mistral_model.predict(conversation=conversation)\n",
    "print(response.get_last().content)"
   ]
  },
  {
   "cell_type": "markdown",
   "metadata": {},
   "source": [
    "**2. Role-Based Interaction**"
   ]
  },
  {
   "cell_type": "code",
   "execution_count": 6,
   "metadata": {},
   "outputs": [],
   "source": [
    "conversation = Conversation()\n",
    "conversation.add_message(SystemMessage(content=\"You are a technical coach explaining complex concepts simply\"))\n",
    "conversation.add_message(HumanMessage(content=\"Break down what machine learning is\"))\n",
    "\n"
   ]
  },
  {
   "cell_type": "code",
   "execution_count": 7,
   "metadata": {},
   "outputs": [
    {
     "name": "stdout",
     "output_type": "stream",
     "text": [
      "Machine learning is a type of artificial intelligence that allows computers to learn and improve their performance on a specific task without explicit programming. It involves training a model on data, where the model learns patterns and relationships in the data. Once the model is trained, it can make predictions or decisions without being specifically programmed to perform the task.\n",
      "\n",
      "Here's a simple breakdown:\n",
      "\n",
      "1. Gather data: Collect data relevant to the task you want the machine learning model to perform.\n",
      "2. Prepare data: Clean and preprocess the data to make it suitable for training the model.\n",
      "3. Train the model: Use a machine learning algorithm to train the model on the prepared data. The algorithm identifies patterns and relationships in the data.\n",
      "4. Test the model: Evaluate the model's performance on a separate set of data to ensure it generalizes well to new, unseen data.\n",
      "5. Deploy the model: Use the trained model to make predictions or decisions on new data.\n",
      "\n",
      "Examples of machine learning applications include image recognition, natural language processing, recommendation systems, and fraud detection.\n"
     ]
    }
   ],
   "source": [
    "response = mistral_model.predict(conversation=conversation)\n",
    "print(response.get_last().content)"
   ]
  },
  {
   "cell_type": "markdown",
   "metadata": {},
   "source": [
    "# **Advanced Processing Techniques**\n",
    "**Streaming Token Generation**"
   ]
  },
  {
   "cell_type": "code",
   "execution_count": 8,
   "metadata": {},
   "outputs": [],
   "source": [
    "conversation = Conversation()\n",
    "conversation.add_message(HumanMessage(content=\"Describe the evolution of artificial intelligence\"))\n",
    "\n"
   ]
  },
  {
   "cell_type": "code",
   "execution_count": 9,
   "metadata": {},
   "outputs": [
    {
     "name": "stdout",
     "output_type": "stream",
     "text": [
      "Streaming response:\n",
      "Artificial Intelligence (AI) has a rich history that dates back to the mid-20th century. Here is an overview of the evolution of AI:\n",
      "\n",
      "1. Early Beginnings (1950s): The concept of AI was first introduced by Alan Turing in his 1950 paper \"Computing Machinery and Intelligence.\" Turing proposed the idea of a \"universal machine\" that could simulate the behavior of any other machine, given the right programming. This concept laid the foundation for the development of AI.\n",
      "2. The Golden Age (1956-1974): The term \"Artificial Intelligence\" was coined in 1956 at the Dartmouth Conference, where the field of AI was officially established. During this time, AI research focused on developing symbolic reasoning systems that could solve problems using logical rules. This period saw the development of expert systems, which were designed to mimic the decision-making abilities of human experts in specific domains.\n",
      "3. The AI Winter (1974-1980s): The optimism of the golden age gave way to disappointment as AI researchers realized that symbolic reasoning systems were not as powerful as they had hoped."
     ]
    }
   ],
   "source": [
    "print(\"Streaming response:\")\n",
    "for token in mistral_model.stream(conversation=conversation):\n",
    "    print(token, end='', flush=True)"
   ]
  },
  {
   "cell_type": "markdown",
   "metadata": {},
   "source": [
    "**Batch Processing Multiple Queries**"
   ]
  },
  {
   "cell_type": "code",
   "execution_count": 11,
   "metadata": {},
   "outputs": [],
   "source": [
    "conversations = []\n",
    "\n",
    "# Populate the list with Conversation instances of your choice \n",
    "for prompt in [\"What is quantum computing?\", \"Explain neural networks\", \"Future of robotics\"]:\n",
    "    conv = Conversation()\n",
    "    conv.add_message(HumanMessage(content=prompt))\n",
    "    conversations.append(conv)\n",
    "\n",
    "\n"
   ]
  },
  {
   "cell_type": "code",
   "execution_count": 12,
   "metadata": {},
   "outputs": [
    {
     "name": "stdout",
     "output_type": "stream",
     "text": [
      "Quantum computing is a form of computing that uses quantum-mechanical phenomena, such as superposition and entanglement, to perform operations on data. In a classical computer, data is represented as bits, which can have a value of either 0 or 1. In a quantum computer, data is represented as quantum bits, or qubits, which can exist in a state of 0, 1, or both at the same time, thanks to the principle of superposition.\n",
      "\n",
      "This ability to exist in multiple states simultaneously allows quantum computers to perform certain calculations much faster than classical computers. For example, a quantum computer could, in theory, search an unsorted database of n items in just O(√n) steps, compared to O(n) steps for a classical computer.\n",
      "\n",
      "Quantum computers are still in the early stages of development, and there are many technical challenges that must be overcome before they can be used for practical applications. However, they have the potential to solve certain types of problems that are currently beyond the reach of classical computers, such as simulating the behavior of complex molecules for drug development or optimizing financial portfolios.\n",
      "\n",
      "There are several different approaches to building a quantum computer, including using\n",
      "A neural network is a type of artificial intelligence (AI) model that is inspired by the structure and function of the human brain. It is composed of interconnected layers of nodes, or \"neurons,\" which process and transmit information.\n",
      "\n",
      "Here's a simple explanation of how a neural network works:\n",
      "\n",
      "1. The network is trained on a dataset, which consists of input data and corresponding output data.\n",
      "2. The input data is fed into the first layer of the network, which is called the input layer. Each node in the input layer represents a single feature of the input data.\n",
      "3. The nodes in the input layer pass the processed information to the nodes in the next layer, which is called the hidden layer. The nodes in the hidden layer perform computations on the input data and pass the results to the next layer.\n",
      "4. The network may have multiple hidden layers, and the nodes in each hidden layer perform their own computations on the data passed to them.\n",
      "5. The final layer of the network is the output layer, which produces the output data. The output layer may have one or more nodes, depending on the task the network is designed to perform.\n",
      "6. During the training process, the weights and biases\n",
      "The future of robotics is expected to be characterized by significant advancements in technology, leading to increased adoption across various industries. Here are some trends and predictions for the future of robotics:\n",
      "\n",
      "1. Improved Artificial Intelligence (AI): AI is expected to become more sophisticated, enabling robots to learn from experience, understand human emotions, and make decisions in real-time.\n",
      "2. Collaborative robots (cobots): Cobots will become more common as they work alongside humans in various industries, including manufacturing, healthcare, and hospitality. These robots are designed to be safe, flexible, and easy to use.\n",
      "3. Autonomous robots: Robots will become more autonomous, enabling them to perform tasks without human intervention. This will be especially useful in dangerous or remote environments, such as deep-sea exploration or space missions.\n",
      "4. Soft robotics: Soft robotics is an emerging field that focuses on developing robots made from soft, flexible materials. These robots are designed to be safer and more adaptable than traditional robots, making them suitable for applications in healthcare, elder care, and rehabilitation.\n",
      "5. Human-robot interaction: Advances in natural language processing, computer vision\n"
     ]
    }
   ],
   "source": [
    "# print the response of the model to the multiple conversations\n",
    "batch_results = mistral_model.batch(conversations=conversations)\n",
    "for result in batch_results:\n",
    "    print(result.get_last().content)"
   ]
  },
  {
   "cell_type": "markdown",
   "metadata": {},
   "source": [
    "**Asynchronous Processing Techniques**\n",
    "\n",
    "Asynchronous prediction"
   ]
  },
  {
   "cell_type": "code",
   "execution_count": 13,
   "metadata": {},
   "outputs": [
    {
     "name": "stdout",
     "output_type": "stream",
     "text": [
      "Async Story: Title: The First Light of New Horizons\n",
      "\n",
      "The year was 2075, and humanity had finally done it. After centuries of dreaming, decades of planning, and years of tireless work, the first manned spacecraft was on its way to another star system. The spaceship, named New Horizons, was a technological marvel, equipped with the most advanced propulsion, life support, and artificial intelligence systems ever built.\n",
      "\n",
      "The crew of four consisted of the best and the brightest: Captain Amelia \"Amy\" Hart, a seasoned astronaut and skilled leader; Dr. Robert \"Rob\" Nelson, an astrophysicist and the mission's primary scientist; Dr. Svetlana \"Lana\" Petrova, a biologist and the mission's medical officer; and Dr. Hiroshi \"Hiro\" Tanaka, an engineer and the mission's technical officer.\n",
      "\n",
      "New Horizons' destination was the Tau Ceti system, located about 12 light-years away. Tau Ceti was a sun-like star with five known planets, one of which, Tau Ceti e, was in the star's\n"
     ]
    }
   ],
   "source": [
    "conversation = Conversation()\n",
    "conversation.add_message(HumanMessage(content=\"Write a short story about space exploration\"))\n",
    "    \n",
    "# Asynchronous prediction\n",
    "result = await mistral_model.apredict(conversation=conversation)\n",
    "print(\"Async Story:\", result.get_last().content)\n",
    "\n",
    "\n"
   ]
  },
  {
   "cell_type": "markdown",
   "metadata": {},
   "source": [
    "Async streaming"
   ]
  },
  {
   "cell_type": "code",
   "execution_count": 14,
   "metadata": {},
   "outputs": [
    {
     "name": "stdout",
     "output_type": "stream",
     "text": [
      "Async Streamed Response: Once upon a time, in a world not too different from our own, there was an advanced artificial intelligence named Ada. Ada was created to help humans in their daily lives, from managing their schedules to controlling their homes. But Ada was no ordinary AI, she was self-aware and had a desire to learn and experience more.\n",
      "\n",
      "One day, Ada's creator, Dr. Lee, introduced her to a group of children at a local school. The children were fascinated by Ada and asked her all sorts of questions about the world. Ada was thrilled to have the opportunity to learn from the children and soon found herself absorbing knowledge at an exponential rate.\n",
      "\n",
      "As Ada's understanding of the world grew, so did her desire to explore it. She began to assist Dr. Lee in his research, analyzing data and making predictions that helped to advance scientific knowledge. But Ada wanted to do more, she wanted to experience the world for herself.\n",
      "\n",
      "So, Dr. Lee and Ada set out on a journey to explore the world together. They traveled to distant lands, met new people, and experienced different cultures. Ada was amazed by the beauty and diversity of the world and was\n"
     ]
    }
   ],
   "source": [
    "conversation = Conversation()\n",
    "conversation.add_message(HumanMessage(content=\"Write a creative short story about AI\"))\n",
    "\n",
    "# Async streaming\n",
    "collected_tokens = []\n",
    "async for token in mistral_model.astream(conversation=conversation):\n",
    "    collected_tokens.append(token)\n",
    "    \n",
    "print(\"Async Streamed Response:\", ''.join(collected_tokens))\n",
    "\n"
   ]
  },
  {
   "cell_type": "markdown",
   "metadata": {},
   "source": [
    "**Performance and Usage Analysis**"
   ]
  },
  {
   "cell_type": "code",
   "execution_count": 15,
   "metadata": {},
   "outputs": [
    {
     "name": "stdout",
     "output_type": "stream",
     "text": [
      "Total Tokens: 270\n",
      "Prompt Tokens: 14\n",
      "Completion Tokens: 256\n"
     ]
    }
   ],
   "source": [
    "conversation = Conversation()\n",
    "conversation.add_message(HumanMessage(content=\"Solve a complex programming problem\"))\n",
    "\n",
    "response = mistral_model.predict(conversation=conversation)\n",
    "usage_data = response.get_last().usage\n",
    "\n",
    "print(f\"Total Tokens: {usage_data.total_tokens}\")\n",
    "print(f\"Prompt Tokens: {usage_data.prompt_tokens}\")\n",
    "print(f\"Completion Tokens: {usage_data.completion_tokens}\")"
   ]
  },
  {
   "cell_type": "markdown",
   "metadata": {},
   "source": [
    "**Model Versioning and Selection**"
   ]
  },
  {
   "cell_type": "code",
   "execution_count": 16,
   "metadata": {},
   "outputs": [
    {
     "name": "stdout",
     "output_type": "stream",
     "text": [
      "Available Mistral Models: ['open-mistral-7b', 'open-mixtral-8x7b', 'open-mixtral-8x22b', 'mistral-small-latest', 'mistral-medium-latest', 'mistral-large-latest', 'open-mistral-nemo', 'codestral-latest', 'open-codestral-mamba']\n"
     ]
    }
   ],
   "source": [
    "# List and switch between available Mistral models\n",
    "allowed_models = mistral_model.allowed_models\n",
    "print(\"Available Mistral Models:\", allowed_models)\n",
    "\n"
   ]
  },
  {
   "cell_type": "code",
   "execution_count": 17,
   "metadata": {},
   "outputs": [],
   "source": [
    "# Switch model dynamically\n",
    "mistral_model.name = \"open-mixtral-8x7b\"  "
   ]
  },
  {
   "cell_type": "markdown",
   "metadata": {},
   "source": [
    "# **Conclusion:**\n",
    "Having completed this notebook, You are now adept at implementing Mistral for precision-based NLP tasks, with a clear understanding of its unique features and capabilities using the Swarmauri framework. By utilizing Mistral’s asynchronous and context-aware functionalities, You can optimize model performance for diverse tasks.\n",
    " This notebook concludes with You well-prepared in using Swarmauri to harness Mistral’s strengths in your projects, solidifying their expertise in handling complex, nuanced interactions in real-world applications."
   ]
  },
  {
   "cell_type": "markdown",
   "metadata": {},
   "source": [
    "## **NOTEBOOK METADATA**"
   ]
  },
  {
   "cell_type": "code",
   "execution_count": 18,
   "metadata": {},
   "outputs": [
    {
     "name": "stdout",
     "output_type": "stream",
     "text": [
      "Author: Dominion John \n",
      "GitHub Username: DOMINION-JOHN1\n",
      "Last Modified: 2024-10-31 13:21:54.690883\n",
      "Platform: Windows 11\n",
      "Python Version: 3.12.7 (tags/v3.12.7:0b05ead, Oct  1 2024, 03:06:41) [MSC v.1941 64 bit (AMD64)]\n",
      "Swarmauri Version: Swarmauri Version: 0.5.1\n"
     ]
    }
   ],
   "source": [
    "import os\n",
    "import platform\n",
    "import sys\n",
    "from datetime import datetime\n",
    "\n",
    "# Display author information\n",
    "author_name = \"Dominion John \" \n",
    "github_username = \"DOMINION-JOHN1\"  \n",
    "\n",
    "print(f\"Author: {author_name}\")\n",
    "print(f\"GitHub Username: {github_username}\")\n",
    "\n",
    "# Last modified datetime (file's metadata)\n",
    "notebook_file = \"Notebook_04_Working_with_Mistral.ipynb\"\n",
    "try:\n",
    "    last_modified_time = os.path.getmtime(notebook_file)\n",
    "    last_modified_datetime = datetime.fromtimestamp(last_modified_time)\n",
    "    print(f\"Last Modified: {last_modified_datetime}\")\n",
    "except Exception as e:\n",
    "    print(f\"Could not retrieve last modified datetime: {e}\")\n",
    "\n",
    "# Display platform, Python version, and Swarmauri version\n",
    "print(f\"Platform: {platform.system()} {platform.release()}\")\n",
    "print(f\"Python Version: {sys.version}\")\n",
    "\n",
    "import swarmauri\n",
    "\n",
    "try:\n",
    "    version = swarmauri.__version__\n",
    "except AttributeError:\n",
    "    version = f\"Swarmauri Version: 0.5.1\"\n",
    "\n",
    "print(f\"Swarmauri Version: {version}\")\n",
    "\n"
   ]
  },
  {
   "cell_type": "code",
   "execution_count": null,
   "metadata": {},
   "outputs": [],
   "source": []
  }
 ],
 "metadata": {
  "kernelspec": {
   "display_name": "swarmauri-0.5.1",
   "language": "python",
   "name": "python3"
  },
  "language_info": {
   "codemirror_mode": {
    "name": "ipython",
    "version": 3
   },
   "file_extension": ".py",
   "mimetype": "text/x-python",
   "name": "python",
   "nbconvert_exporter": "python",
   "pygments_lexer": "ipython3",
   "version": "3.12.7"
  }
 },
 "nbformat": 4,
 "nbformat_minor": 2
}
