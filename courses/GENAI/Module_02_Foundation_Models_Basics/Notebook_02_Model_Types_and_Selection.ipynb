{
 "cells": [
  {
   "cell_type": "markdown",
   "metadata": {},
   "source": [
    "## **Notebook 02: Model Types and Selection**\n",
    "\n",
    "## **Introduction:**\n",
    "\n",
    "Selecting an appropriate LLM for a specific task is critical to ensuring optimal performance, efficiency, and relevance of results.\n",
    " This notebook provides a comparative overview of various model types within the Swarmauri framework, emphasizing models like GeminiPro and Mistral. Through this comparison, users will learn about model selection criteria.\n",
    "\n",
    "**This notebook will:**\n",
    "\n",
    "Outline different model types available within Swarmauri.\n",
    "Provide guidance on choosing the best model based on specific requirements and desired outcomes.\n",
    "Present code examples comparing GeminiPro and Mistral in typical tasks."
   ]
  },
  {
   "cell_type": "markdown",
   "metadata": {},
   "source": [
    "**Import of dependencies**"
   ]
  },
  {
   "cell_type": "code",
   "execution_count": 1,
   "metadata": {},
   "outputs": [],
   "source": [
    "from swarmauri.llms.concrete.MistralModel import MistralModel\n",
    "from swarmauri.llms.concrete.GeminiProModel import GeminiProModel\n",
    "from swarmauri.conversations.concrete.Conversation import Conversation\n",
    "from swarmauri.messages.concrete.HumanMessage import HumanMessage\n",
    "import os\n",
    "from dotenv import load_dotenv"
   ]
  },
  {
   "cell_type": "code",
   "execution_count": 11,
   "metadata": {},
   "outputs": [],
   "source": [
    "# Load API Keys\n",
    "load_dotenv()\n",
    "MISTRAL_API_KEY = os.getenv(\"MISTRAL_API_KEY\")\n",
    "GEMINI_API_KEY = os.getenv(\"GEMINI_API_KEY\")"
   ]
  },
  {
   "cell_type": "markdown",
   "metadata": {},
   "source": [
    "**Initialize Models**"
   ]
  },
  {
   "cell_type": "code",
   "execution_count": 13,
   "metadata": {},
   "outputs": [],
   "source": [
    "mistral_model = MistralModel(api_key=MISTRAL_API_KEY)\n",
    "gemini_model = GeminiProModel(api_key=GEMINI_API_KEY)"
   ]
  },
  {
   "cell_type": "markdown",
   "metadata": {},
   "source": [
    "**Model Selection**"
   ]
  },
  {
   "cell_type": "code",
   "execution_count": 20,
   "metadata": {},
   "outputs": [
    {
     "name": "stdout",
     "output_type": "stream",
     "text": [
      "Model: gemini-1.5-pro\n",
      "Model: gemini-1.5-flash\n"
     ]
    }
   ],
   "source": [
    "# List all GeminiPro models available on swarmauri\n",
    "llm = gemini_model\n",
    "models = llm.allowed_models\n",
    "for model_name in models:\n",
    "    print(\"Model:\", model_name)\n",
    "\n"
   ]
  },
  {
   "cell_type": "code",
   "execution_count": 19,
   "metadata": {},
   "outputs": [
    {
     "name": "stdout",
     "output_type": "stream",
     "text": [
      "Model: open-mistral-7b\n",
      "Model: open-mixtral-8x7b\n",
      "Model: open-mixtral-8x22b\n",
      "Model: mistral-small-latest\n",
      "Model: mistral-medium-latest\n",
      "Model: mistral-large-latest\n",
      "Model: open-mistral-nemo\n",
      "Model: codestral-latest\n",
      "Model: open-codestral-mamba\n"
     ]
    }
   ],
   "source": [
    "# List all Mistral Model  available on swarmauri\n",
    "llm = mistral_model\n",
    "models = llm.allowed_models\n",
    "for model_name in models:\n",
    "    print(\"Model:\", model_name)"
   ]
  },
  {
   "cell_type": "markdown",
   "metadata": {
    "vscode": {
     "languageId": "bat"
    }
   },
   "source": [
    "**Practical Comparison: Mistral and Gemini Pro**\n",
    "\n",
    "Use mock conversations to compare responses from Mistral and GeminiPro, showcasing how different models may provide varied answers"
   ]
  },
  {
   "cell_type": "code",
   "execution_count": 28,
   "metadata": {},
   "outputs": [
    {
     "name": "stdout",
     "output_type": "stream",
     "text": [
      "MISTRAL RESPONSE : Quantum mechanics is the fundamental theory governing the behavior of matter and energy at the atomic and subatomic level.  It departs from classical physics by describing physical systems not with definite values but with probabilities and wave functions.  Key concepts include:\n",
      "\n",
      "* **Quantization:** Energy, momentum, and other properties are not continuous but exist in discrete \"packets\" called quanta.\n",
      "* **Wave-particle duality:** Particles like electrons and photons can exhibit both wave-like and particle-like behavior.\n",
      "* **Probability and uncertainty:** We can only predict the *probability* of a particle having a certain property, and there's a fundamental limit to how precisely we can know certain pairs of properties simultaneously (Heisenberg's uncertainty principle).\n",
      "* **Superposition:** A quantum system can exist in multiple states at once until measured, at which point it \"collapses\" into a single state.\n",
      "* **Entanglement:** Two or more quantum particles can become linked in such a way that their fates are intertwined, even when separated by vast distances.\n",
      "\n",
      "\n",
      "Quantum mechanics has revolutionized our understanding of the universe and is the foundation of many modern technologies, including lasers, transistors, and medical imaging.\n",
      "\n",
      "GEMINIPRO RESPONSE: Quantum mechanics is the fundamental theory governing the behavior of matter and energy at the atomic and subatomic level.  It departs from classical physics by describing physical systems not with definite values but with probabilities and wave functions.  Key concepts include:\n",
      "\n",
      "* **Quantization:** Energy, momentum, and other properties are not continuous but exist in discrete \"packets\" called quanta.\n",
      "* **Wave-particle duality:** Particles like electrons and photons can exhibit both wave-like and particle-like behavior.\n",
      "* **Probability and uncertainty:** We can only predict the *probability* of a particle having a certain property, and there's a fundamental limit to how precisely we can know certain pairs of properties simultaneously (Heisenberg's uncertainty principle).\n",
      "* **Superposition:** A quantum system can exist in multiple states at once until measured, at which point it \"collapses\" into a single state.\n",
      "* **Entanglement:** Two or more quantum particles can become linked in such a way that their fates are intertwined, even when separated by vast distances.\n",
      "\n",
      "\n",
      "Quantum mechanics has revolutionized our understanding of the universe and is the foundation of many modern technologies, including lasers, transistors, and medical imaging.\n",
      "\n"
     ]
    }
   ],
   "source": [
    "conversation = Conversation()\n",
    "conversation.add_message(HumanMessage(content=\"Explain quantum mechanics briefly.\"))\n",
    "\n",
    "mistral_response = mistral_model.predict(conversation=conversation)\n",
    "gemini_response = gemini_model.predict(conversation=conversation)\n",
    "\n",
    "print(\"MISTRAL RESPONSE :\", mistral_response.get_last().content)\n",
    "\n",
    "\n",
    "print(\"GEMINIPRO RESPONSE:\", gemini_response.get_last().content)"
   ]
  },
  {
   "cell_type": "markdown",
   "metadata": {},
   "source": [
    "**Async Processing Example**"
   ]
  },
  {
   "cell_type": "code",
   "execution_count": 36,
   "metadata": {},
   "outputs": [
    {
     "name": "stdout",
     "output_type": "stream",
     "text": [
      "GEMINIPRO RESPONSE: Quantum mechanics is the fundamental theory governing the behavior of matter and energy at the atomic and subatomic level.  It departs from classical physics by describing physical systems not with definite values but with probabilities and wave functions. The evolution of these wave functions is described by the Schrödinger equation. Key concepts include:\n",
      "\n",
      "* **Quantization:** Energy, momentum, and other properties are not continuous but exist in discrete \"packets\" called quanta.\n",
      "* **Wave-particle duality:** Particles like electrons and photons can exhibit both wave-like and particle-like behavior.\n",
      "* **Probability and uncertainty:** We can only predict the *probability* of a particle having a certain property, and there's a fundamental limit to how precisely we can know certain pairs of properties simultaneously (Heisenberg's uncertainty principle).\n",
      "* **Superposition:** A quantum system can exist in multiple states at once until measured, at which point it \"collapses\" into a single state.\n",
      "* **Entanglement:** Two or more quantum particles can become linked in such a way that their fates are intertwined, even when separated by vast distances.\n",
      "\n",
      "\n",
      "Quantum mechanics has revolutionized our understanding of the universe and is the foundation of many modern technologies. For example, lasers rely on the quantized energy levels of atoms,\n"
     ]
    }
   ],
   "source": [
    "import asyncio\n",
    "gemini_response = await gemini_model.apredict(conversation=conversation)\n",
    "print(\"GEMINIPRO RESPONSE:\", gemini_response.get_last().content)"
   ]
  },
  {
   "cell_type": "markdown",
   "metadata": {},
   "source": [
    "## **Conclusion**\n",
    "Model selection is a nuanced process involving understanding task requirements, model capabilities, and performance metrics. Continuous experimentation and evaluation are key to finding the most suitable LLM. \n",
    "With a comprehensive understanding of model types and selection criteria, You are now equipped to make informed decisions on which model best suits their specific needs. This knowledge enables a more strategic approach to model application, whether for conversational AI, text summarization, or other NLP tasks. \n",
    "\n",
    "By aligning task requirements with model capabilities, You can leverage Swarmauri’s offerings to achieve precise, efficient outcomes across various scenarios."
   ]
  },
  {
   "cell_type": "code",
   "execution_count": 37,
   "metadata": {},
   "outputs": [
    {
     "name": "stdout",
     "output_type": "stream",
     "text": [
      "Author: Dominion John \n",
      "GitHub Username: DOMINION-JOHN1\n",
      "Last Modified: 2024-10-31 13:20:45.101459\n",
      "Platform: Windows 11\n",
      "Python Version: 3.12.7 (tags/v3.12.7:0b05ead, Oct  1 2024, 03:06:41) [MSC v.1941 64 bit (AMD64)]\n",
      "Swarmauri Version: Swarmauri Version: 0.5.1\n"
     ]
    }
   ],
   "source": [
    "import os\n",
    "import platform\n",
    "import sys\n",
    "from datetime import datetime\n",
    "\n",
    "# Display author information\n",
    "author_name = \"Dominion John \" \n",
    "github_username = \"DOMINION-JOHN1\"  \n",
    "\n",
    "print(f\"Author: {author_name}\")\n",
    "print(f\"GitHub Username: {github_username}\")\n",
    "\n",
    "# Last modified datetime (file's metadata)\n",
    "notebook_file = \"Notebook_02_Model_Types_and_Selection.ipynb\"\n",
    "try:\n",
    "    last_modified_time = os.path.getmtime(notebook_file)\n",
    "    last_modified_datetime = datetime.fromtimestamp(last_modified_time)\n",
    "    print(f\"Last Modified: {last_modified_datetime}\")\n",
    "except Exception as e:\n",
    "    print(f\"Could not retrieve last modified datetime: {e}\")\n",
    "\n",
    "# Display platform, Python version, and Swarmauri version\n",
    "print(f\"Platform: {platform.system()} {platform.release()}\")\n",
    "print(f\"Python Version: {sys.version}\")\n",
    "\n",
    "import swarmauri\n",
    "\n",
    "try:\n",
    "    version = swarmauri.__version__\n",
    "except AttributeError:\n",
    "    version = f\"Swarmauri Version: 0.5.1\"\n",
    "\n",
    "print(f\"Swarmauri Version: {version}\")\n",
    "\n"
   ]
  },
  {
   "cell_type": "code",
   "execution_count": null,
   "metadata": {},
   "outputs": [],
   "source": []
  }
 ],
 "metadata": {
  "kernelspec": {
   "display_name": "swarmauri-0.5.1",
   "language": "python",
   "name": "python3"
  },
  "language_info": {
   "codemirror_mode": {
    "name": "ipython",
    "version": 3
   },
   "file_extension": ".py",
   "mimetype": "text/x-python",
   "name": "python",
   "nbconvert_exporter": "python",
   "pygments_lexer": "ipython3",
   "version": "3.12.7"
  }
 },
 "nbformat": 4,
 "nbformat_minor": 2
}
