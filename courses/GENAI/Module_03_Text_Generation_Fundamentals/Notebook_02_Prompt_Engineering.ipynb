{
 "cells": [
  {
   "cell_type": "markdown",
   "id": "d3760f79-0fac-4c82-85d7-cc82f3c0ee49",
   "metadata": {},
   "source": [
    "# Notebook_02_Prompt_Engineering\n",
    "## Objective\n",
    "\n",
    "This notebook demonstrates techniques to improve model responses through effective prompt engineering. By adjusting prompt phrasing and adding specific instructions, we can influence how the model generates responses."
   ]
  },
  {
   "cell_type": "code",
   "execution_count": 11,
   "id": "98215442-0a45-489b-a048-bf14245511e2",
   "metadata": {},
   "outputs": [],
   "source": [
    "# Import necessary libraries\n",
    "import os\n",
    "from dotenv import load_dotenv"
   ]
  },
  {
   "cell_type": "code",
   "execution_count": 12,
   "id": "4f8fd687-fe13-4403-b1da-9a5c30bc55f1",
   "metadata": {},
   "outputs": [],
   "source": [
    "# Load environment variables\n",
    "load_dotenv()\n",
    "API_KEY = os.getenv(\"OPENAI_API_KEY\")"
   ]
  },
  {
   "cell_type": "code",
   "execution_count": 13,
   "id": "39a5193c-bd3f-464e-8993-0eb574131576",
   "metadata": {},
   "outputs": [],
   "source": [
    "# Import the required classes\n",
    "from swarmauri.llms.concrete.OpenAIModel import OpenAIModel as LLM\n",
    "from swarmauri.conversations.concrete.Conversation import Conversation\n",
    "from swarmauri.messages.concrete.HumanMessage import HumanMessage"
   ]
  },
  {
   "cell_type": "code",
   "execution_count": 14,
   "id": "da1c2038-0efc-4257-9615-46568754e126",
   "metadata": {},
   "outputs": [],
   "source": [
    "# Step 1: Initialize the OpenAI Model\n",
    "llm = LLM(api_key=API_KEY)"
   ]
  },
  {
   "cell_type": "markdown",
   "id": "05f3aa70-e63c-4757-92a8-693d655ce479",
   "metadata": {},
   "source": [
    "# Function to generate responses"
   ]
  },
  {
   "cell_type": "code",
   "execution_count": 15,
   "id": "82f5cc09-4060-4f5c-a510-a1e7b43f6203",
   "metadata": {},
   "outputs": [],
   "source": [
    "# Function to generate responses and display prompt engineering effects\n",
    "def demonstrate_prompt_engineering(prompts):\n",
    "    for prompt in prompts:\n",
    "        # Create a new conversation instance for each prompt\n",
    "        conversation = Conversation()\n",
    "        conversation.add_message(HumanMessage(content=prompt))\n",
    "\n",
    "        # Generate model response\n",
    "        llm.predict(conversation=conversation)\n",
    "\n",
    "        # Display prompt, model response, and usage data\n",
    "        print(f\"Prompt: {prompt}\")\n",
    "        print(\"Response:\", conversation.get_last().content)\n",
    "        print(\"Usage Data:\", conversation.get_last().usage)\n",
    "        print(\"=\" * 50)"
   ]
  },
  {
   "cell_type": "markdown",
   "id": "e04207d9-0131-44be-932e-40d87e2ddadd",
   "metadata": {},
   "source": [
    "# Section 1: Understanding Prompts"
   ]
  },
  {
   "cell_type": "code",
   "execution_count": 16,
   "id": "c14dc2f3-60a3-4c56-a40c-05f7a1213ae8",
   "metadata": {},
   "outputs": [],
   "source": [
    "# Understanding Prompts\n",
    "prompts_basic = [\n",
    "    \"List three ways to improve memory\",\n",
    "    \"Explain ways to improve memory\"\n",
    "]"
   ]
  },
  {
   "cell_type": "code",
   "execution_count": 17,
   "id": "e1e38bdc-e36e-472a-b924-f590acf87d41",
   "metadata": {},
   "outputs": [
    {
     "name": "stdout",
     "output_type": "stream",
     "text": [
      "Prompt: List three ways to improve memory\n",
      "Response: 1. Regular physical exercise: Exercise has been shown to improve memory and cognitive function by increasing blood flow to the brain, promoting the growth of new brain cells, and reducing stress and inflammation. Aim for at least 150 minutes of moderate aerobic exercise per week, along with strength training exercises.\n",
      "\n",
      "2. Get enough sleep: Lack of sleep can impair memory and cognitive function. Aim for 7-9 hours of quality sleep each night to allow your brain to consolidate memories and recharge. Establish a consistent sleep schedule, create a relaxing bedtime routine, and limit caffeine and electronics before bed to improve sleep quality.\n",
      "\n",
      "3. Practice mindfulness and meditation: Mindfulness and meditation techniques can help improve memory and focus by reducing stress, improving concentration, and increasing brain connectivity. Take time each day to practice deep breathing, meditation, or mindfulness exercises to improve memory and overall brain health.\n",
      "Usage Data: prompt_tokens=13 completion_tokens=172 total_tokens=185 prompt_time=5.61606764793396 completion_time=0.0 total_time=5.61606764793396 completion_tokens_details={'audio_tokens': None, 'reasoning_tokens': 0, 'accepted_prediction_tokens': 0, 'rejected_prediction_tokens': 0} prompt_tokens_details={'audio_tokens': None, 'cached_tokens': 0}\n",
      "==================================================\n",
      "Prompt: Explain ways to improve memory\n",
      "Response: 1. Practice active listening: Paying full attention to what you are hearing can help improve memory retention. Engage with the information by asking questions, summarizing key points, and repeating information back to reinforce memory.\n",
      "\n",
      "2. Use mnemonic devices: Mnemonic devices are memory aids that help you remember information through association with easier-to-recall information. Examples include acronyms, rhymes, and visualization techniques.\n",
      "\n",
      "3. Get enough sleep: Lack of sleep can impair memory and cognitive function. Aim for 7-9 hours of quality sleep each night to help consolidate memories and improve overall brain function.\n",
      "\n",
      "4. Exercise regularly: Physical activity has been shown to improve memory and cognitive function. Regular exercise promotes the growth of new brain cells and strengthens the connections between them.\n",
      "\n",
      "5. Stay organized: Creating a structured environment and using tools such as calendars, to-do lists, and notes can help improve memory by reducing cognitive load and making it easier to recall important information.\n",
      "\n",
      "6. Stay mentally active: Engaging in activities that challenge your brain, such as puzzles, reading, learning a new skill, or playing memory games, can help improve memory and cognitive function.\n",
      "\n",
      "7. Eat a healthy diet: A balanced diet rich in fruits, vegetables, whole grains, and lean proteins can provide the\n",
      "Usage Data: prompt_tokens=13 completion_tokens=256 total_tokens=269 prompt_time=3.468421220779419 completion_time=0.0 total_time=3.468421220779419 completion_tokens_details={'audio_tokens': None, 'reasoning_tokens': 0, 'accepted_prediction_tokens': 0, 'rejected_prediction_tokens': 0} prompt_tokens_details={'audio_tokens': None, 'cached_tokens': 0}\n",
      "==================================================\n"
     ]
    }
   ],
   "source": [
    "demonstrate_prompt_engineering(prompts_basic)"
   ]
  },
  {
   "cell_type": "markdown",
   "id": "254317c5-f886-405f-8eda-23ba65b81c2b",
   "metadata": {},
   "source": [
    "# Section 2: Instruction-based Prompts"
   ]
  },
  {
   "cell_type": "code",
   "execution_count": 19,
   "id": "e0065483-791e-4cb9-9cc8-d398fd1cdd1c",
   "metadata": {},
   "outputs": [],
   "source": [
    "# Instruction-based Prompts\n",
    "prompts_instruction = [\n",
    "    \"Explain quantum computing.\",\n",
    "    \"Explain quantum computing in simple terms.\",\n",
    "    \"Explain quantum computing as if I were five.\",\n",
    "    \"Respond in a formal tone: What is quantum computing?\"\n",
    "]"
   ]
  },
  {
   "cell_type": "code",
   "execution_count": 20,
   "id": "6e9ce9cd-d12a-4160-8721-41d4b71dc4af",
   "metadata": {},
   "outputs": [
    {
     "name": "stdout",
     "output_type": "stream",
     "text": [
      "Prompt: Explain quantum computing.\n",
      "Response: Quantum computing is a type of computing that utilizes the principles of quantum mechanics to perform operations on data. Unlike traditional computers that use bits to represent data as either 0 or 1, quantum computers use quantum bits, or qubits, which can represent both 0 and 1 simultaneously. This allows quantum computers to perform multiple calculations at the same time, leading to a significant increase in processing power and speed.\n",
      "\n",
      "One of the key principles of quantum computing is superposition, which allows qubits to exist in multiple states at once. Another important principle is entanglement, which allows qubits to be connected in such a way that the state of one qubit can instantly affect the state of another, regardless of the distance between them.\n",
      "\n",
      "Quantum computing has the potential to revolutionize fields such as cryptography, drug discovery, and artificial intelligence by solving complex problems that are currently infeasible for classical computers. However, building practical quantum computers is still a significant challenge due to the delicate nature of qubits and the need for precise control over quantum states.\n",
      "Usage Data: prompt_tokens=12 completion_tokens=211 total_tokens=223 prompt_time=3.09816837310791 completion_time=0.0 total_time=3.09816837310791 completion_tokens_details={'audio_tokens': None, 'reasoning_tokens': 0, 'accepted_prediction_tokens': 0, 'rejected_prediction_tokens': 0} prompt_tokens_details={'audio_tokens': None, 'cached_tokens': 0}\n",
      "==================================================\n",
      "Prompt: Explain quantum computing in simple terms.\n",
      "Response: Quantum computing is a type of computing that uses quantum-mechanical phenomena, such as superposition and entanglement, to perform operations on data. In traditional computers, data is represented in binary form as either a 0 or a 1. However, in quantum computers, data is represented as quantum bits, or qubits, which can exist in a state of 0, 1, or both 0 and 1 at the same time. This allows quantum computers to perform calculations much faster and more efficiently than classical computers. Quantum computing has the potential to revolutionize fields such as cryptography, optimization, and artificial intelligence.\n",
      "Usage Data: prompt_tokens=15 completion_tokens=128 total_tokens=143 prompt_time=1.999344825744629 completion_time=0.0 total_time=1.999344825744629 completion_tokens_details={'audio_tokens': None, 'reasoning_tokens': 0, 'accepted_prediction_tokens': 0, 'rejected_prediction_tokens': 0} prompt_tokens_details={'audio_tokens': None, 'cached_tokens': 0}\n",
      "==================================================\n",
      "Prompt: Explain quantum computing as if I were five.\n",
      "Response: Quantum computing is like having a super powerful computer that can do really complex calculations really fast. It uses tiny particles called \"qubits\" instead of regular bits to store and process information. This allows it to solve problems that would take a regular computer a really long time to solve. So, it's like having a superhero computer that can do things really quickly and in a super cool way!\n",
      "Usage Data: prompt_tokens=17 completion_tokens=79 total_tokens=96 prompt_time=1.763183355331421 completion_time=0.0 total_time=1.763183355331421 completion_tokens_details={'audio_tokens': None, 'reasoning_tokens': 0, 'accepted_prediction_tokens': 0, 'rejected_prediction_tokens': 0} prompt_tokens_details={'audio_tokens': None, 'cached_tokens': 0}\n",
      "==================================================\n",
      "Prompt: Respond in a formal tone: What is quantum computing?\n",
      "Response: Quantum computing refers to the utilization of principles from quantum mechanics to perform computations. Unlike classical computing, which relies on bits to represent information as either a 0 or a 1, quantum computing utilizes quantum bits, or qubits, which can exist in multiple states simultaneously due to the principles of superposition and entanglement. This enables quantum computers to perform certain calculations much faster than their classical counterparts, potentially revolutionizing various fields such as cryptography, optimization, and simulation.\n",
      "Usage Data: prompt_tokens=18 completion_tokens=95 total_tokens=113 prompt_time=1.6340062618255615 completion_time=0.0 total_time=1.6340062618255615 completion_tokens_details={'audio_tokens': None, 'reasoning_tokens': 0, 'accepted_prediction_tokens': 0, 'rejected_prediction_tokens': 0} prompt_tokens_details={'audio_tokens': None, 'cached_tokens': 0}\n",
      "==================================================\n"
     ]
    }
   ],
   "source": [
    "demonstrate_prompt_engineering(prompts_instruction)"
   ]
  },
  {
   "cell_type": "markdown",
   "id": "5ec74f37-6d86-46ac-8697-d3c8f640fe93",
   "metadata": {},
   "source": [
    "# Section 3: Interactive Prompt Engineering"
   ]
  },
  {
   "cell_type": "code",
   "execution_count": 21,
   "id": "42b1213e-0dc9-474c-b6d7-ad43d7270910",
   "metadata": {},
   "outputs": [],
   "source": [
    "# Interactive Prompt Engineering\n",
    "prompts_interactive = [\n",
    "    \"List three applications of quantum computing in everyday life.\",\n",
    "    \"Describe the potential impact of quantum computing on healthcare in the next decade.\"\n",
    "]"
   ]
  },
  {
   "cell_type": "code",
   "execution_count": 22,
   "id": "759fcaad-0627-4b19-aae9-d9acf2b09644",
   "metadata": {},
   "outputs": [
    {
     "name": "stdout",
     "output_type": "stream",
     "text": [
      "Prompt: List three applications of quantum computing in everyday life.\n",
      "Response: 1. Drug discovery and development: Quantum computing can simulate molecular interactions and structures more accurately and efficiently than classical computers, making it a powerful tool for designing and testing new drugs.\n",
      "\n",
      "2. Financial modeling and optimization: Quantum computing can analyze and optimize complex financial systems and portfolios more quickly and accurately, helping to improve risk management, trading strategies, and investment decisions.\n",
      "\n",
      "3. Cybersecurity: Quantum computing has the potential to revolutionize encryption and data security by enabling the development of quantum-resistant cryptographic algorithms that are virtually impossible to crack using classical computers.\n",
      "Usage Data: prompt_tokens=17 completion_tokens=107 total_tokens=124 prompt_time=2.545372486114502 completion_time=0.0 total_time=2.545372486114502 completion_tokens_details={'audio_tokens': None, 'reasoning_tokens': 0, 'accepted_prediction_tokens': 0, 'rejected_prediction_tokens': 0} prompt_tokens_details={'audio_tokens': None, 'cached_tokens': 0}\n",
      "==================================================\n",
      "Prompt: Describe the potential impact of quantum computing on healthcare in the next decade.\n",
      "Response: Quantum computing has the potential to revolutionize healthcare in the next decade by significantly speeding up the process of drug discovery, enabling more accurate and personalized treatment plans, and improving the efficiency of medical imaging and diagnostics.\n",
      "\n",
      "One of the key benefits of quantum computing in healthcare is its ability to analyze vast amounts of data at speeds that are currently impossible with traditional computers. This could lead to more effective drug discovery processes, as quantum computers could simulate the behavior of molecules and proteins with much greater accuracy and efficiency. This could potentially lead to the development of more targeted and personalized treatments for a wide range of diseases.\n",
      "\n",
      "Additionally, quantum computing could also enhance the accuracy of medical imaging techniques such as MRI and CT scans, allowing for earlier and more accurate diagnoses of diseases such as cancer. This could lead to earlier treatments and improved patient outcomes.\n",
      "\n",
      "Overall, the impact of quantum computing on healthcare in the next decade could be transformative, leading to more efficient and effective treatments, improved patient outcomes, and potentially even the development of new cures for currently incurable diseases.\n",
      "Usage Data: prompt_tokens=21 completion_tokens=207 total_tokens=228 prompt_time=3.4243531227111816 completion_time=0.0 total_time=3.4243531227111816 completion_tokens_details={'audio_tokens': None, 'reasoning_tokens': 0, 'accepted_prediction_tokens': 0, 'rejected_prediction_tokens': 0} prompt_tokens_details={'audio_tokens': None, 'cached_tokens': 0}\n",
      "==================================================\n"
     ]
    }
   ],
   "source": [
    "demonstrate_prompt_engineering(prompts_interactive)"
   ]
  },
  {
   "cell_type": "markdown",
   "id": "7001b020-ea73-475f-bfe1-038cc70fe814",
   "metadata": {},
   "source": [
    "# Explanation of Code Blocks\n",
    "\n",
    "- **Setup:** Load API key, import required classes, and initialize `OpenAIModel`.\n",
    "- **Function `demonstrate_prompt_engineering`:** This function takes a list of prompts, creates a new conversation for each, and generates a response.\n",
    "- **Section Execution:** Each section executes a group of prompts to observe variations in responses and usage data.\n",
    "\n",
    "## Example Output\n",
    "\n",
    "The output for each prompt includes:\n",
    "\n",
    "- **Prompt:** The initial question or command given to the model.\n",
    "- **Response:** The generated answer.\n",
    "- **Usage Data:** Statistics related to token usage, which can help illustrate the impact of complex prompts on response length."
   ]
  },
  {
   "cell_type": "markdown",
   "id": "8f2c5d4f-8a64-4541-89af-ee6e69cbac81",
   "metadata": {},
   "source": [
    "# Notebook Metadata"
   ]
  },
  {
   "cell_type": "code",
   "execution_count": 24,
   "id": "80ec6550-bd7d-4a0d-8848-be2f66031472",
   "metadata": {},
   "outputs": [
    {
     "name": "stdout",
     "output_type": "stream",
     "text": [
      "Author: Huzaifa Irshad\n",
      "GitHub Username: irshadhuzaifa\n",
      "Last Modified: 2024-11-05 18:17:54.757907\n",
      "Platform: Windows 11\n",
      "Python Version: 3.12.7 | packaged by Anaconda, Inc. | (main, Oct  4 2024, 13:17:27) [MSC v.1929 64 bit (AMD64)]\n",
      "Swarmauri Version: Swarmauri Version: 0.5.1\n"
     ]
    }
   ],
   "source": [
    "import platform\n",
    "import sys\n",
    "from datetime import datetime\n",
    "\n",
    "# Display author information\n",
    "author_name = \"Huzaifa Irshad\" \n",
    "github_username = \"irshadhuzaifa\"  \n",
    "\n",
    "print(f\"Author: {author_name}\")\n",
    "print(f\"GitHub Username: {github_username}\")\n",
    "\n",
    "# Last modified datetime (file's metadata)\n",
    "notebook_file = \"Notebook_02_Prompt_Engineering.ipynb\"\n",
    "try:\n",
    "    last_modified_time = os.path.getmtime(notebook_file)\n",
    "    last_modified_datetime = datetime.fromtimestamp(last_modified_time)\n",
    "    print(f\"Last Modified: {last_modified_datetime}\")\n",
    "except Exception as e:\n",
    "    print(f\"Could not retrieve last modified datetime: {e}\")\n",
    "\n",
    "# Display platform, Python version, and Swarmauri version\n",
    "print(f\"Platform: {platform.system()} {platform.release()}\")\n",
    "print(f\"Python Version: {sys.version}\")\n",
    "\n",
    "import swarmauri\n",
    "\n",
    "try:\n",
    "    version = swarmauri.__version__\n",
    "except AttributeError:\n",
    "    version = f\"Swarmauri Version: 0.5.1\"\n",
    "\n",
    "print(f\"Swarmauri Version: {version}\")"
   ]
  },
  {
   "cell_type": "code",
   "execution_count": null,
   "id": "4efcc4a6-3454-4193-80d5-f192b3f45ac8",
   "metadata": {},
   "outputs": [],
   "source": []
  }
 ],
 "metadata": {
  "kernelspec": {
   "display_name": "swarmauri(0.5.1)",
   "language": "python",
   "name": "myenv"
  },
  "language_info": {
   "codemirror_mode": {
    "name": "ipython",
    "version": 3
   },
   "file_extension": ".py",
   "mimetype": "text/x-python",
   "name": "python",
   "nbconvert_exporter": "python",
   "pygments_lexer": "ipython3",
   "version": "3.12.7"
  }
 },
 "nbformat": 4,
 "nbformat_minor": 5
}
