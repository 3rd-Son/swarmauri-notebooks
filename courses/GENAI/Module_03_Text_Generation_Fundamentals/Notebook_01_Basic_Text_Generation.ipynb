{
 "cells": [
  {
   "cell_type": "markdown",
   "id": "90269f19-b244-4d81-b2b2-adaa8ad8150e",
   "metadata": {},
   "source": [
    "# Basic Text Generation with OpenAIModel\n",
    "## Objective \n",
    "Introducing basic text generation using the OpenAIModel."
   ]
  },
  {
   "cell_type": "code",
   "execution_count": 20,
   "id": "861962e1-7ac8-4c49-930f-6bea55ac3bda",
   "metadata": {},
   "outputs": [],
   "source": [
    "# Import necessary libraries\n",
    "import os\n",
    "from dotenv import load_dotenv"
   ]
  },
  {
   "cell_type": "code",
   "execution_count": 21,
   "id": "60b845a2-e311-4ebc-b227-5cea02ce9ec0",
   "metadata": {},
   "outputs": [],
   "source": [
    "# Load environment variables from .env file\n",
    "load_dotenv()\n",
    "API_KEY = os.getenv(\"OPENAI_API_KEY\")"
   ]
  },
  {
   "cell_type": "code",
   "execution_count": 22,
   "id": "6c5398cf-2187-4613-ac42-a4c8f190ee6e",
   "metadata": {},
   "outputs": [],
   "source": [
    "# Import the required classes from swarmauri library\n",
    "from swarmauri.llms.concrete.OpenAIModel import OpenAIModel as LLM\n",
    "from swarmauri.conversations.concrete.Conversation import Conversation\n",
    "from swarmauri.messages.concrete.HumanMessage import HumanMessage"
   ]
  },
  {
   "cell_type": "markdown",
   "id": "c93e5669-63a7-40f8-9775-7b30ec1ebbb7",
   "metadata": {},
   "source": [
    "# Step 1: Initialize the OpenAI Model"
   ]
  },
  {
   "cell_type": "code",
   "execution_count": 24,
   "id": "c919cc29-e415-403f-817f-6e356cfc6ef9",
   "metadata": {},
   "outputs": [],
   "source": [
    "# Initialize the OpenAI Model\n",
    "llm = LLM(api_key=API_KEY)"
   ]
  },
  {
   "cell_type": "markdown",
   "id": "73140248-2949-44b1-9e39-ba94805bd250",
   "metadata": {},
   "source": [
    "# Step 2: Create a conversation instance"
   ]
  },
  {
   "cell_type": "code",
   "execution_count": 25,
   "id": "e11d3062-491a-4e59-9738-627039086d8f",
   "metadata": {},
   "outputs": [],
   "source": [
    "# Create a conversation instance\n",
    "conversation = Conversation()"
   ]
  },
  {
   "cell_type": "code",
   "execution_count": 26,
   "id": "66040e1a-4976-40b7-a92a-888f73fd88b0",
   "metadata": {},
   "outputs": [],
   "source": [
    "# Function to generate a response and display output\n",
    "def generate_response(input_text):\n",
    "    # Add user's message to the conversation\n",
    "    human_message = HumanMessage(content=input_text)\n",
    "    conversation.add_message(human_message)\n",
    "\n",
    "    # Generate model response\n",
    "    llm.predict(conversation=conversation)\n",
    "\n",
    "    # Display model output and usage data\n",
    "    print(\"User Input:\", input_text)\n",
    "    print(\"Model Response:\", conversation.get_last().content)\n",
    "    print(\"Usage Data:\", conversation.get_last().usage)\n",
    "    print(\"=\" * 50)"
   ]
  },
  {
   "cell_type": "markdown",
   "id": "0a44ba4d-d5ff-4f14-82a4-2bb6a7371f29",
   "metadata": {},
   "source": [
    "# Step 3: Basic Text Generation Examples"
   ]
  },
  {
   "cell_type": "code",
   "execution_count": 27,
   "id": "505374fc-6769-4679-9ff3-58d7f6c09569",
   "metadata": {},
   "outputs": [],
   "source": [
    "# Example prompts\n",
    "basic_prompts = [\"Hello\", \"How’s the weather?\", \"Tell me a joke\"]"
   ]
  },
  {
   "cell_type": "code",
   "execution_count": null,
   "id": "23de2e35-0b70-4745-91bd-7d4159024b4f",
   "metadata": {},
   "outputs": [],
   "source": [
    "# Generate responses for each example prompt\n",
    "for prompt in basic_prompts:\n",
    "    generate_response(prompt)"
   ]
  },
  {
   "cell_type": "markdown",
   "id": "7c257e95-e815-4f09-b9f4-43b5958bebd1",
   "metadata": {},
   "source": [
    "# Explanation of Code Blocks\n",
    "\n",
    "- **Setup:** Load the API key, import necessary modules, and initialize `OpenAIModel` with API_KEY.\n",
    "- **Conversation Initialization:** Create a `Conversation` object that will hold the conversation history.\n",
    "- **Function `generate_response`:** Adds a prompt to the conversation, generates the response, and prints both the response and usage data.\n",
    "- **Prompt Examples:** Uses a list of basic prompts to demonstrate simple interactions."
   ]
  },
  {
   "cell_type": "markdown",
   "id": "b4e2c54a-8566-49f0-926b-bcdfbeceeec9",
   "metadata": {},
   "source": [
    "# Notebook Metadata"
   ]
  },
  {
   "cell_type": "code",
   "execution_count": 29,
   "id": "7ccad65c-5b19-45d5-8d56-d4bbf5b79ace",
   "metadata": {},
   "outputs": [
    {
     "name": "stdout",
     "output_type": "stream",
     "text": [
      "Author: Huzaifa Irshad\n",
      "GitHub Username: irshadhuzaifa\n",
      "Last Modified: 2024-11-05 18:14:54.147940\n",
      "Platform: Windows 11\n",
      "Python Version: 3.12.7 | packaged by Anaconda, Inc. | (main, Oct  4 2024, 13:17:27) [MSC v.1929 64 bit (AMD64)]\n",
      "Swarmauri Version: Swarmauri Version: 0.5.1\n"
     ]
    }
   ],
   "source": [
    "import platform\n",
    "import sys\n",
    "from datetime import datetime\n",
    "\n",
    "# Display author information\n",
    "author_name = \"Huzaifa Irshad\" \n",
    "github_username = \"irshadhuzaifa\"  \n",
    "\n",
    "print(f\"Author: {author_name}\")\n",
    "print(f\"GitHub Username: {github_username}\")\n",
    "\n",
    "# Last modified datetime (file's metadata)\n",
    "notebook_file = \"Notebook_01_Basic_Text_Generation.ipynb\"\n",
    "try:\n",
    "    last_modified_time = os.path.getmtime(notebook_file)\n",
    "    last_modified_datetime = datetime.fromtimestamp(last_modified_time)\n",
    "    print(f\"Last Modified: {last_modified_datetime}\")\n",
    "except Exception as e:\n",
    "    print(f\"Could not retrieve last modified datetime: {e}\")\n",
    "\n",
    "# Display platform, Python version, and Swarmauri version\n",
    "print(f\"Platform: {platform.system()} {platform.release()}\")\n",
    "print(f\"Python Version: {sys.version}\")\n",
    "\n",
    "import swarmauri\n",
    "\n",
    "try:\n",
    "    version = swarmauri.__version__\n",
    "except AttributeError:\n",
    "    version = f\"Swarmauri Version: 0.5.1\"\n",
    "\n",
    "print(f\"Swarmauri Version: {version}\")"
   ]
  },
  {
   "cell_type": "code",
   "execution_count": null,
   "id": "32b9ebc2-6999-432b-834b-3944c3d7d497",
   "metadata": {},
   "outputs": [],
   "source": []
  }
 ],
 "metadata": {
  "kernelspec": {
   "display_name": "swarmauri(0.5.1)",
   "language": "python",
   "name": "myenv"
  },
  "language_info": {
   "codemirror_mode": {
    "name": "ipython",
    "version": 3
   },
   "file_extension": ".py",
   "mimetype": "text/x-python",
   "name": "python",
   "nbconvert_exporter": "python",
   "pygments_lexer": "ipython3",
   "version": "3.12.7"
  }
 },
 "nbformat": 4,
 "nbformat_minor": 5
}
