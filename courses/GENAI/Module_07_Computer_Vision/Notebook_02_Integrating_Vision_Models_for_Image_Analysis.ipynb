{
 "cells": [
  {
   "cell_type": "markdown",
   "id": "34da40e9-3373-43ed-8255-9d2e37c8eaf8",
   "metadata": {},
   "source": [
    "# Integrating Vision Models for Image Analysis\n",
    "\n",
    "This notebook demonstrates how to use `FalAIVisionModel` for image processing and analysis via an API-driven approach. We'll cover:\n",
    "- Setting up and authenticating with the API\n",
    "- Processing images through API calls\n",
    "- Handling errors to ensure robust integration\n"
   ]
  },
  {
   "cell_type": "code",
   "execution_count": 17,
   "id": "ec899981-521b-4a8c-8cef-f85286d31af6",
   "metadata": {},
   "outputs": [],
   "source": [
    "# Import necessary libraries\n",
    "import os\n",
    "from dotenv import load_dotenv\n",
    "from swarmauri.llms.concrete.FalAIVisionModel import FalAIVisionModel"
   ]
  },
  {
   "cell_type": "code",
   "execution_count": 18,
   "id": "b3b43621-fd64-4a3c-b97e-762bfbd20f3f",
   "metadata": {},
   "outputs": [
    {
     "name": "stdout",
     "output_type": "stream",
     "text": [
      "API key loaded successfully.\n"
     ]
    }
   ],
   "source": [
    "# Load environment variables\n",
    "load_dotenv()\n",
    "API_KEY = os.getenv(\"FAL_KEY\")\n",
    "\n",
    "if API_KEY:\n",
    "    print(\"API key loaded successfully.\")\n",
    "else:\n",
    "    print(\"API key not found. Please ensure it is set in the environment.\")"
   ]
  },
  {
   "cell_type": "markdown",
   "id": "1d52f262-f309-443f-b76a-0d51136e41ee",
   "metadata": {},
   "source": [
    "## Connecting to FalAIVisionModel\n",
    "\n",
    "In this section, we initialize the `FalAIVisionModel` with the API key. We also display properties like `resource` and `type` to confirm the model is ready for processing.\n"
   ]
  },
  {
   "cell_type": "code",
   "execution_count": 19,
   "id": "f986f92d-8b39-4db3-9dbe-c040f24c7494",
   "metadata": {},
   "outputs": [
    {
     "name": "stdout",
     "output_type": "stream",
     "text": [
      "FalAIVisionModel initialized successfully.\n",
      "Resource: LLM\n",
      "Model Type: FalAIVisionModel\n"
     ]
    }
   ],
   "source": [
    "# Initialize the model with the API key\n",
    "if API_KEY:\n",
    "    falai_vision_model = FalAIVisionModel(api_key=API_KEY)\n",
    "    print(\"FalAIVisionModel initialized successfully.\")\n",
    "    print(\"Resource:\", falai_vision_model.resource)\n",
    "    print(\"Model Type:\", falai_vision_model.type)\n",
    "else:\n",
    "    print(\"Initialization failed. API key is required.\")\n"
   ]
  },
  {
   "cell_type": "markdown",
   "id": "eaabc381-af72-4c96-bb15-e2d928579ed9",
   "metadata": {},
   "source": [
    "## Single Image Processing\n",
    "\n",
    "Let's process a single image by providing a URL of a famous artwork and a prompt. This demonstrates basic image understanding capabilities.\n"
   ]
  },
  {
   "cell_type": "code",
   "execution_count": 20,
   "id": "65a31a15-9209-4756-9901-9eaf232724d0",
   "metadata": {},
   "outputs": [],
   "source": [
    "# Define the image URL and prompt\n",
    "image_url = \"https://llava-vl.github.io/static/images/monalisa.jpg\"\n",
    "prompt = \"What is shown in this image?\""
   ]
  },
  {
   "cell_type": "code",
   "execution_count": 21,
   "id": "15a65a36-ffe4-43d5-aaa3-7266313729fe",
   "metadata": {},
   "outputs": [
    {
     "name": "stdout",
     "output_type": "stream",
     "text": [
      "Model Response: The image you've provided is of the famous painting \"Mona Lisa\" by Leonardo da Vinci. It's one of the most recognized and celebrated works of art in the world, known for its subject's enigmatic expression and the atmospheric illusionism that gives the painting its characteristic hazy atmosphere\n"
     ]
    }
   ],
   "source": [
    "# Process the image using the FalAIVisionModel\n",
    "try:\n",
    "    result = falai_vision_model.process_image(image_url=image_url, prompt=prompt)\n",
    "    print(\"Model Response:\", result)\n",
    "except Exception as e:\n",
    "    print(\"An error occurred:\", e)"
   ]
  },
  {
   "cell_type": "markdown",
   "id": "87f882ad-e47c-4456-a835-e4278f18173f",
   "metadata": {},
   "source": [
    "## Working with Multiple Models\n",
    "\n",
    "The `allowed_models` attribute provides a list of different model names available for various tasks. This allows us to select specific models based on our requirements.\n"
   ]
  },
  {
   "cell_type": "code",
   "execution_count": 22,
   "id": "8a7a50cc-0a16-48c3-9b59-15f704379865",
   "metadata": {},
   "outputs": [
    {
     "name": "stdout",
     "output_type": "stream",
     "text": [
      "Allowed Models: ['fal-ai/llava-next', 'fal-ai/llavav15-13b', 'fal-ai/any-llm/vision']\n"
     ]
    }
   ],
   "source": [
    "# Display available model names\n",
    "allowed_models = falai_vision_model.allowed_models\n",
    "print(\"Allowed Models:\", allowed_models)"
   ]
  },
  {
   "cell_type": "markdown",
   "id": "b5b57293-ec6e-4dd0-ac83-06083873e925",
   "metadata": {},
   "source": [
    "## Error Handling in API Calls\n",
    "\n",
    "To make our integration robust, we handle common API-related errors, such as:\n",
    "- Invalid URLs\n",
    "- Timeouts\n",
    "- API errors\n",
    "\n",
    "This section provides code for handling such exceptions to ensure smooth operation.\n"
   ]
  },
  {
   "cell_type": "code",
   "execution_count": 23,
   "id": "aaa1762d-7200-4a9a-82b7-bcd85bed3bf4",
   "metadata": {},
   "outputs": [
    {
     "name": "stdout",
     "output_type": "stream",
     "text": [
      "An error occurred during image processing: Could not load image from url: https://invalid-url.com/image.jpg\n"
     ]
    }
   ],
   "source": [
    "# Sample code with error handling for image processing\n",
    "invalid_image_url = \"https://invalid-url.com/image.jpg\"\n",
    "prompt = \"Describe the content of this image.\"\n",
    "\n",
    "try:\n",
    "    result = falai_vision_model.process_image(image_url=invalid_image_url, prompt=prompt)\n",
    "    print(\"Model Response:\", result)\n",
    "except Exception as e:\n",
    "    print(\"An error occurred during image processing:\", e)\n"
   ]
  },
  {
   "cell_type": "markdown",
   "id": "467c6fc0-4678-4811-a59c-e1f5b3af6548",
   "metadata": {},
   "source": [
    "# Conclusion\n",
    "\n",
    "In this notebook, we explored:\n",
    "- Integrating the `FalAIVisionModel`\n",
    "- Processing single images and handling multiple models\n",
    "- Error handling in API calls for robust performance\n",
    "\n",
    "By integrating vision models, we can create applications for visual understanding across various fields, including content moderation, automated captioning, and real-time object detection.\n"
   ]
  },
  {
   "cell_type": "markdown",
   "id": "73d03f71-ef3c-4c03-9706-3c3dfa8b9ab3",
   "metadata": {},
   "source": [
    "# Notebook Metadata"
   ]
  },
  {
   "cell_type": "code",
   "execution_count": 25,
   "id": "9233e8c4-7f3b-4276-826e-72673a04d47d",
   "metadata": {},
   "outputs": [
    {
     "name": "stdout",
     "output_type": "stream",
     "text": [
      "Author: Huzaifa Irshad\n",
      "GitHub Username: irshadhuzaifa\n",
      "Last Modified: 2024-11-04 20:40:29.411682\n",
      "Platform: Windows 11\n",
      "Python Version: 3.12.7 | packaged by Anaconda, Inc. | (main, Oct  4 2024, 13:17:27) [MSC v.1929 64 bit (AMD64)]\n",
      "Swarmauri Version: Swarmauri Version: 0.5.1\n"
     ]
    }
   ],
   "source": [
    "import platform\n",
    "import sys\n",
    "from datetime import datetime\n",
    "\n",
    "# Display author information\n",
    "author_name = \"Huzaifa Irshad\" \n",
    "github_username = \"irshadhuzaifa\"  \n",
    "\n",
    "print(f\"Author: {author_name}\")\n",
    "print(f\"GitHub Username: {github_username}\")\n",
    "\n",
    "# Last modified datetime (file's metadata)\n",
    "notebook_file = \"Notebook_02_Integrating_Vision_Models_for_Image_Analysis.ipynb\"\n",
    "try:\n",
    "    last_modified_time = os.path.getmtime(notebook_file)\n",
    "    last_modified_datetime = datetime.fromtimestamp(last_modified_time)\n",
    "    print(f\"Last Modified: {last_modified_datetime}\")\n",
    "except Exception as e:\n",
    "    print(f\"Could not retrieve last modified datetime: {e}\")\n",
    "\n",
    "# Display platform, Python version, and Swarmauri version\n",
    "print(f\"Platform: {platform.system()} {platform.release()}\")\n",
    "print(f\"Python Version: {sys.version}\")\n",
    "\n",
    "import swarmauri\n",
    "\n",
    "try:\n",
    "    version = swarmauri.__version__\n",
    "except AttributeError:\n",
    "    version = f\"Swarmauri Version: 0.5.1\"\n",
    "\n",
    "print(f\"Swarmauri Version: {version}\")"
   ]
  },
  {
   "cell_type": "code",
   "execution_count": null,
   "id": "1e832df4-bfe9-42b7-829e-f837f7486f62",
   "metadata": {},
   "outputs": [],
   "source": []
  }
 ],
 "metadata": {
  "kernelspec": {
   "display_name": "swarmauri(0.5.1)",
   "language": "python",
   "name": "myenv"
  },
  "language_info": {
   "codemirror_mode": {
    "name": "ipython",
    "version": 3
   },
   "file_extension": ".py",
   "mimetype": "text/x-python",
   "name": "python",
   "nbconvert_exporter": "python",
   "pygments_lexer": "ipython3",
   "version": "3.12.7"
  }
 },
 "nbformat": 4,
 "nbformat_minor": 5
}
