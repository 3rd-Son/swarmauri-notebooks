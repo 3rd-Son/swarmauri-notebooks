{
 "cells": [
  {
   "cell_type": "markdown",
   "id": "ca645bce-0955-48cd-a249-57fa20fd8562",
   "metadata": {},
   "source": [
    "# Gradio Basics\n",
    "\n",
    "## Introduction\n",
    "\n",
    "Gradio is an open-source Python library that simplifies the creation of user-friendly interfaces for machine learning models. It allows you to quickly create interactive UIs that can be shared with others via a link, even if they do not have Python or any libraries installed. Gradio supports various inputs (like sliders, textboxes, and images) and outputs (such as text, labels, or graphs), making it versatile for prototyping and demonstrating models.\n",
    "\n",
    "Use Cases:\n",
    "\n",
    "- Creating web-based interfaces for machine learning models.\n",
    "- Enabling interactive demos for AI projects.\n",
    "- Quickly building shareable UIs without extensive web development knowledge.\n"
   ]
  },
  {
   "cell_type": "markdown",
   "id": "f645fc7d-e72b-48b4-9902-2edbe7e620cb",
   "metadata": {},
   "source": [
    "## System Context Conversational Agent using GroqModel\n",
    "\n",
    "In this notebook, we are going to create an interactive chat interface using `Gradio`, \n",
    "where a user can converse with an AI agent powered by `GroqModel`. \n",
    "The conversation will utilize a dynamic system context and allow switching between different models.\n",
    "\n",
    "### Step 1: Load Environment Variables\n",
    "We start by importing the necessary libraries and loading environment variables."
   ]
  },
  {
   "cell_type": "code",
   "execution_count": 10,
   "id": "f1f66da1-a756-49ec-a55d-ea14f2377571",
   "metadata": {},
   "outputs": [],
   "source": [
    "# Import necessary libraries\n",
    "import groq\n",
    "from dotenv import load_dotenv\n",
    "import os\n",
    "import gradio\n",
    "\n",
    "\n",
    "# Import necessary components from the Swarmauri library for handling conversations\n",
    "from swarmauri.llms.concrete.GroqModel import GroqModel\n",
    "from swarmauri.messages.concrete.SystemMessage import SystemMessage\n",
    "from swarmauri.agents.concrete.SimpleConversationAgent import SimpleConversationAgent\n",
    "from swarmauri.conversations.concrete.MaxSystemContextConversation import MaxSystemContextConversation\n",
    "\n",
    "\n",
    "# Load environment variables from a .env file\n",
    "load_dotenv()\n",
    "\n",
    "API_Key = os.getenv(\"GROQ_API_KEY\")"
   ]
  },
  {
   "cell_type": "markdown",
   "id": "cd0d56ea-80c8-4fd0-9302-39b6aa0649f0",
   "metadata": {},
   "source": [
    "### Step 2: Initialize GroqModel\n",
    "Next, we initialize the `GroqModel` using the API key to allow interaction with the underlying models."
   ]
  },
  {
   "cell_type": "code",
   "execution_count": 11,
   "id": "795d8c9a-ca07-4388-90d6-bd03c2108318",
   "metadata": {},
   "outputs": [],
   "source": [
    "# Initialize the LLM (Language Model) using the provided API key\n",
    "llm = GroqModel(api_key=API_Key)\n",
    "\n",
    "# Retrieve allowed models that the user can select from\n",
    "allowed_models = llm.allowed_models"
   ]
  },
  {
   "cell_type": "markdown",
   "id": "1bb14bcc-1ee3-41cb-860d-cb450894f22a",
   "metadata": {},
   "source": [
    "### Step 3: Setup Conversation\n",
    "We set up a `MaxSystemContextConversation`, which allows adding system-level context to the conversation. \n",
    "This context can change dynamically during the chat."
   ]
  },
  {
   "cell_type": "code",
   "execution_count": 12,
   "id": "96cb0153-5545-40fa-a36a-961f767c5c4b",
   "metadata": {},
   "outputs": [],
   "source": [
    "# Initialize the conversation with system context capabilities\n",
    "conversation = MaxSystemContextConversation()"
   ]
  },
  {
   "cell_type": "markdown",
   "id": "5abe17a8-1a70-4e8c-8b88-843fd05df87d",
   "metadata": {},
   "source": [
    "### Step 4: Define Functions\n",
    "Here, we define helper functions for loading the selected model and handling the conversation between the user and the agent"
   ]
  },
  {
   "cell_type": "code",
   "execution_count": 13,
   "id": "91516494-7ee1-4694-aa39-d02785501f61",
   "metadata": {},
   "outputs": [],
   "source": [
    "# Function to load a specific model based on user input\n",
    "def load_model(selected_model):\n",
    "    return GroqModel(api_key=API_Key, name=selected_model)\n",
    "\n",
    "# Function to handle conversation with dynamic system context\n",
    "def converse(input_text, history, system_context, model_name):\n",
    "    \"\"\"\n",
    "    This function takes user input, history of the conversation, a system context, and the selected model,\n",
    "    then processes the input using the selected model and returns the response.\n",
    "    \"\"\"\n",
    "    print(f\"System context: {system_context}\")\n",
    "    print(f\"Selected model: {model_name}\")\n",
    "\n",
    "    # Load the selected model\n",
    "    llm = load_model(model_name)\n",
    "\n",
    "    # Initialize the conversation agent with the chosen LLM and conversation context\n",
    "    agent = SimpleConversationAgent(llm=llm, conversation=conversation)\n",
    "\n",
    "    # Set the system context\n",
    "    agent.conversation.system_context = SystemMessage(content=system_context)\n",
    "\n",
    "    input_text = str(input_text)\n",
    "    print(conversation.history)\n",
    "\n",
    "    # Execute the conversation and get the result\n",
    "    result = agent.exec(input_text)\n",
    "    print(result, type(result))\n",
    "\n",
    "    return str(result)"
   ]
  },
  {
   "cell_type": "markdown",
   "id": "2e3abcca-9595-4778-ba22-e7e3d57d0b86",
   "metadata": {},
   "source": [
    "### Step 5: Building a Chat Interface using Gradio\n",
    "We now create a user interface using `Gradio`. The chat interface will allow users to input text, \n",
    "select system contexts, and choose between models."
   ]
  },
  {
   "cell_type": "code",
   "execution_count": 19,
   "id": "acfef431-f56d-43a8-9919-51c59b465f74",
   "metadata": {},
   "outputs": [],
   "source": [
    "# Define the Gradio interface for the chat with updated messages format\n",
    "demo = gradio.ChatInterface(\n",
    "\n",
    "    fn=converse,  # The function that handles conversation\n",
    "    additional_inputs=[\n",
    "        gradio.Textbox(label=\"System Context\"),  # Input for system context\n",
    "        gradio.Dropdown(label=\"Model Name\", choices=allowed_models, value=allowed_models[0])  # Dropdown to select model\n",
    "    ],\n",
    "    title=\"A System Context Conversation\",  # Title of the interface\n",
    "    description=\"Interact with the agent using a selected model and system context.\",  # Description\n",
    "    type=\"messages\"  # Use the 'messages' format which has 'role' and 'content'\n",
    ")"
   ]
  },
  {
   "cell_type": "markdown",
   "id": "7de97647-3340-4a5e-b52b-c05dd63f5266",
   "metadata": {},
   "source": [
    "### Step 6: Launch the Interface\n",
    "We launch the Gradio interface, allowing users to interact with the system context conversational agent."
   ]
  },
  {
   "cell_type": "code",
   "execution_count": 20,
   "id": "553b2460-391e-4413-b187-e3d6f9960c6d",
   "metadata": {},
   "outputs": [
    {
     "name": "stdout",
     "output_type": "stream",
     "text": [
      "* Running on local URL:  http://127.0.0.1:7861\n",
      "\n",
      "To create a public link, set `share=True` in `launch()`.\n"
     ]
    },
    {
     "data": {
      "text/html": [
       "<div><iframe src=\"http://127.0.0.1:7861/\" width=\"100%\" height=\"500\" allow=\"autoplay; camera; microphone; clipboard-read; clipboard-write;\" frameborder=\"0\" allowfullscreen></iframe></div>"
      ],
      "text/plain": [
       "<IPython.core.display.HTML object>"
      ]
     },
     "metadata": {},
     "output_type": "display_data"
    }
   ],
   "source": [
    "# Launch the Gradio interface\n",
    "if __name__ == \"__main__\":\n",
    "    demo.launch()"
   ]
  },
  {
   "cell_type": "markdown",
   "id": "18f46e43-b04f-4514-a1ea-aab1e813c818",
   "metadata": {},
   "source": [
    "## Notebook Metadata"
   ]
  },
  {
   "cell_type": "code",
   "execution_count": 1,
   "id": "79c06f4a-673b-4ea9-a846-e74442e3a634",
   "metadata": {},
   "outputs": [
    {
     "name": "stdout",
     "output_type": "stream",
     "text": [
      "Author: Huzaifa Irshad\n",
      "GitHub Username: irshadhuzaifa\n",
      "Could not retrieve last modified datetime: name 'os' is not defined\n",
      "Platform: Windows 11\n",
      "Python Version: 3.12.7 | packaged by Anaconda, Inc. | (main, Oct  4 2024, 13:17:27) [MSC v.1929 64 bit (AMD64)]\n",
      "Swarmauri Version: Swarmauri Version: 0.5.1\n"
     ]
    }
   ],
   "source": [
    "import platform\n",
    "import sys\n",
    "from datetime import datetime\n",
    "\n",
    "# Display author information\n",
    "author_name = \"Huzaifa Irshad\" \n",
    "github_username = \"irshadhuzaifa\"  \n",
    "\n",
    "print(f\"Author: {author_name}\")\n",
    "print(f\"GitHub Username: {github_username}\")\n",
    "\n",
    "# Last modified datetime (file's metadata)\n",
    "notebook_file = \"Notebook_03_Gradio_Applications.ipynb\"\n",
    "try:\n",
    "    last_modified_time = os.path.getmtime(notebook_file)\n",
    "    last_modified_datetime = datetime.fromtimestamp(last_modified_time)\n",
    "    print(f\"Last Modified: {last_modified_datetime}\")\n",
    "except Exception as e:\n",
    "    print(f\"Could not retrieve last modified datetime: {e}\")\n",
    "\n",
    "# Display platform, Python version, and Swarmauri version\n",
    "print(f\"Platform: {platform.system()} {platform.release()}\")\n",
    "print(f\"Python Version: {sys.version}\")\n",
    "\n",
    "import swarmauri\n",
    "\n",
    "try:\n",
    "    version = swarmauri.__version__\n",
    "except AttributeError:\n",
    "    version = f\"Swarmauri Version: 0.5.1\"\n",
    "\n",
    "print(f\"Swarmauri Version: {version}\")"
   ]
  },
  {
   "cell_type": "code",
   "execution_count": null,
   "id": "f4ba1615-667a-4655-bd42-a1f975a06fd8",
   "metadata": {},
   "outputs": [],
   "source": []
  }
 ],
 "metadata": {
  "kernelspec": {
   "display_name": "swarmauri(0.5.1)",
   "language": "python",
   "name": "myenv"
  },
  "language_info": {
   "codemirror_mode": {
    "name": "ipython",
    "version": 3
   },
   "file_extension": ".py",
   "mimetype": "text/x-python",
   "name": "python",
   "nbconvert_exporter": "python",
   "pygments_lexer": "ipython3",
   "version": "3.12.7"
  }
 },
 "nbformat": 4,
 "nbformat_minor": 5
}
