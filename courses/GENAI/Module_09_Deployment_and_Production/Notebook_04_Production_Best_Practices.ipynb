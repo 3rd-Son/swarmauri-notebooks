{
 "cells": [
  {
   "cell_type": "markdown",
   "id": "ef40fdfe-1525-4ded-b64f-edd3eb29d27a",
   "metadata": {},
   "source": [
    "# Production Best Practices\n",
    "\n",
    "## Introduction\n",
    "\n",
    "Effective debugging and error prevention are critical in production environments. Adhering to best practices ensures code reliability, security, and maintainability.\n",
    "\n",
    "In this notebook, we’ll cover:\n",
    "\n",
    "- Structuring code for minimal bugs.\n",
    "- Debugging best practices for Swarmauri projects.\n",
    "- Secure API key management."
   ]
  },
  {
   "cell_type": "markdown",
   "id": "9abd436f-7943-48e5-9b48-550c8ae80915",
   "metadata": {},
   "source": [
    "## Environment Setup Best Practices\n",
    "### Use Virtual Environments\n",
    "\n",
    "To isolate dependencies and avoid version conflicts, always create a virtual environment for your project.\n",
    "\n",
    "Create and Activate a Virtual Environment\n",
    "\n",
    "```bash\n",
    "conda create --name swarmauri-0.5.1 python=3.12\n",
    "conda activate swarmauri-0.5.1\n",
    "python --version\n"
   ]
  },
  {
   "cell_type": "markdown",
   "id": "e8a264a9-67da-4c6c-bdc2-226d98b4cd81",
   "metadata": {},
   "source": [
    "## Package Installation Best Practices\n",
    "### Use a requirements.txt File\n",
    "\n",
    "To ensure dependency consistency:\n",
    "\n",
    "1. List all required packages along with their versions.\n",
    "2. Install packages using:\n",
    "```bash\n",
    "pip install -r requirements.txt\n",
    "```\n",
    "\n",
    "### Installing Specific Packages\n",
    "\n",
    "To install a package directly:\n",
    "```bash\n",
    "pip install swarmauri==0.5.1"
   ]
  },
  {
   "cell_type": "markdown",
   "id": "5cda6f24-ad19-44b3-bf10-58e631b465ad",
   "metadata": {},
   "source": [
    "## Import Best Practices\n",
    "### Keep Imports Organized\n",
    "\n",
    "Group and order imports as follows:\n",
    "\n",
    "- Standard library imports.\n",
    "- Third-party library imports.\n",
    "- Local application imports.\n",
    "\n",
    "### Handle Import Errors Gracefully\n",
    "\n",
    "Wrap imports in a try-except block for robustness:\n",
    "```python\n",
    "try:\n",
    "    import swarmauri\n",
    "except ImportError:\n",
    "    raise ImportError(\"Swarmauri module not found. Ensure it is installed and in your path.\")\n",
    "```"
   ]
  },
  {
   "cell_type": "markdown",
   "id": "c2d69cad-71ba-4053-9b48-91c731e632a6",
   "metadata": {},
   "source": [
    "## API Key Management Best Practices\n",
    "### Secure Storage of API Keys\n",
    "\n",
    "Never hard-code API keys into your codebase. Use environment variables instead.\n",
    "Example: `.env` File\n",
    "```plaintext\n",
    "SWARMAURI_API_KEY=your_api_key_here\n",
    "```\n",
    "\n",
    "### Loading API Keys in Your Project\n",
    "\n",
    "Use dotenv to load environment variables:\n",
    "```python\n",
    "from dotenv import load_dotenv\n",
    "import os\n",
    "\n",
    "load_dotenv()\n",
    "\n",
    "api_key = os.getenv('SWARMAURI_API_KEY')\n",
    "if not api_key:\n",
    "    raise ValueError(\"API key not found. Please check your environment configuration.\")\n",
    "```"
   ]
  },
  {
   "cell_type": "markdown",
   "id": "db78701f-1601-44e2-8b14-1b4a0919d754",
   "metadata": {},
   "source": [
    "# Notebook Metadata"
   ]
  },
  {
   "cell_type": "code",
   "execution_count": 3,
   "id": "588fedfb-0859-4f66-b96b-266111f99c9a",
   "metadata": {},
   "outputs": [
    {
     "name": "stdout",
     "output_type": "stream",
     "text": [
      "Author: Huzaifa Irshad\n",
      "GitHub Username: irshadhuzaifa\n",
      "Last Modified: 2024-11-07 17:52:55.060501\n",
      "Platform: Windows 11\n",
      "Python Version: 3.12.7 | packaged by Anaconda, Inc. | (main, Oct  4 2024, 13:17:27) [MSC v.1929 64 bit (AMD64)]\n",
      "Swarmauri Version: Swarmauri Version: 0.5.1\n"
     ]
    }
   ],
   "source": [
    "import os\n",
    "import platform\n",
    "import sys\n",
    "from datetime import datetime\n",
    "\n",
    "# Display author information\n",
    "author_name = \"Huzaifa Irshad\" \n",
    "github_username = \"irshadhuzaifa\"  \n",
    "\n",
    "print(f\"Author: {author_name}\")\n",
    "print(f\"GitHub Username: {github_username}\")\n",
    "\n",
    "# Last modified datetime (file's metadata)\n",
    "notebook_file = \"Notebook_04_Production_Best_Practices.ipynb\"\n",
    "try:\n",
    "    last_modified_time = os.path.getmtime(notebook_file)\n",
    "    last_modified_datetime = datetime.fromtimestamp(last_modified_time)\n",
    "    print(f\"Last Modified: {last_modified_datetime}\")\n",
    "except Exception as e:\n",
    "    print(f\"Could not retrieve last modified datetime: {e}\")\n",
    "\n",
    "# Display platform, Python version, and Swarmauri version\n",
    "print(f\"Platform: {platform.system()} {platform.release()}\")\n",
    "print(f\"Python Version: {sys.version}\")\n",
    "\n",
    "import swarmauri\n",
    "\n",
    "try:\n",
    "    version = swarmauri.__version__\n",
    "except AttributeError:\n",
    "    version = f\"Swarmauri Version: 0.5.1\"\n",
    "\n",
    "print(f\"Swarmauri Version: {version}\")"
   ]
  },
  {
   "cell_type": "code",
   "execution_count": null,
   "id": "db4badfb-a12e-494c-ab09-978083d81135",
   "metadata": {},
   "outputs": [],
   "source": []
  }
 ],
 "metadata": {
  "kernelspec": {
   "display_name": "swarmauri(0.5.1)",
   "language": "python",
   "name": "myenv"
  },
  "language_info": {
   "codemirror_mode": {
    "name": "ipython",
    "version": 3
   },
   "file_extension": ".py",
   "mimetype": "text/x-python",
   "name": "python",
   "nbconvert_exporter": "python",
   "pygments_lexer": "ipython3",
   "version": "3.12.7"
  }
 },
 "nbformat": 4,
 "nbformat_minor": 5
}
