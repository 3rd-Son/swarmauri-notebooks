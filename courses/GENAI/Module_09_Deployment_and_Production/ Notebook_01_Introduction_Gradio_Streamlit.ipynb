{
 "cells": [
  {
   "cell_type": "markdown",
   "id": "7ac3b830-94e2-4e5a-b6e3-0e9a3548a435",
   "metadata": {},
   "source": [
    "# Introduction to Gradio and Streamlit\n",
    "\n",
    "## Overview\n",
    "\n",
    "In the world of machine learning and data science, building interactive web applications to demonstrate models or share data analysis results is crucial. Gradio and Streamlit are two powerful Python libraries that make this process easier, enabling developers to create user-friendly, interactive web interfaces with minimal effort.\n",
    "\n",
    "In this notebook, we will introduce you to both libraries, discuss their key features, and explore how they can be used for building interactive applications."
   ]
  },
  {
   "cell_type": "markdown",
   "id": "5f4ff9e1-ea72-4a32-aa06-1ddef6fc1809",
   "metadata": {},
   "source": [
    "## What is Gradio?\n",
    "\n",
    "Gradio is an open-source Python library designed to create user interfaces for machine learning models. It allows you to easily build and share interactive demos, providing various input and output types such as textboxes, sliders, images, and more.\n",
    "## Key Features of Gradio:\n",
    "\n",
    "- **Simple Setup:** Quickly create interactive UIs with just a few lines of code.\n",
    "- **Supports Various Inputs and Outputs:** Gradio supports a variety of inputs like images, text, and audio, and outputs such as text, labels, and graphs.\n",
    "- **Machine Learning Model Integration:** Seamlessly integrates with machine learning models and can be used for model demonstration.\n",
    "- **Shareable Demos:** You can easily share the created demos via a URL, making it accessible for others without needing to install Python or any libraries.\n",
    "\n",
    "## Use Cases for Gradio:\n",
    "\n",
    "- **Machine Learning Model Interfaces:** Creating user interfaces for ML models (e.g., image classifiers, NLP models).\n",
    "- **Interactive AI Demos:** Allowing users to interact with AI models via a simple web interface.\n",
    "- **Prototyping:** Quickly building UIs to prototype and showcase models to stakeholders or clients."
   ]
  },
  {
   "cell_type": "markdown",
   "id": "12ce6531-b94c-403b-8f63-4cc3c3baac0e",
   "metadata": {},
   "source": [
    "## What is Streamlit?\n",
    "\n",
    "Streamlit is another open-source Python framework that is used to create data-driven web applications. Unlike Gradio, Streamlit is more flexible and is designed for building web applications that go beyond just machine learning models.\n",
    "## Key Features of Streamlit:\n",
    "\n",
    "- **Real-Time Updates:** Automatically updates the application whenever you change the code, providing immediate feedback.\n",
    "- **Customizable Layouts:** More control over the design and layout of your application, including features like multi-column layouts, widgets, and data visualizations.\n",
    "- **Integration with Data Science Tools:** Streamlit integrates easily with other Python libraries (like Pandas, Matplotlib, Plotly) to create real-time dashboards, data exploration tools, and visualizations.\n",
    "- **Widgets and Forms:** You can create input widgets like text boxes, sliders, checkboxes, and buttons for interactive applications.\n",
    "\n",
    "## Use Cases for Streamlit:\n",
    "\n",
    "- **Interactive Dashboards:** Building real-time dashboards for monitoring machine learning models or business analytics.\n",
    "- **Data Exploration Apps:** Creating apps to explore and visualize datasets interactively.\n",
    "- **Prototyping Web Applications:** Quickly turning Python scripts into functional web applications with minimal effort."
   ]
  },
  {
   "cell_type": "markdown",
   "id": "8ba34e32-8c8a-409d-968b-d3cd2ee2b4ec",
   "metadata": {},
   "source": [
    "## When to Use Gradio vs Streamlit?\n",
    "\n",
    "- Use **Gradio** if you are focused on creating a quick, simple interface for demonstrating machine learning models or AI tools. It is best suited for showcasing model predictions with minimal effort and complexity.\n",
    "- Use **Streamlit** if you need more control over the layout and design of your application, or if you are working on data analysis, visualization, or creating more complex web applications that go beyond simple ML model demos."
   ]
  },
  {
   "cell_type": "markdown",
   "id": "86be02e7-2b5d-4a26-aa98-c8c67645f0ee",
   "metadata": {},
   "source": [
    "---\n",
    "In the next sections, we'll dive into some hands-on examples of how to use both libraries to build interactive applications."
   ]
  },
  {
   "cell_type": "markdown",
   "id": "55b5c40a-8197-4370-9de4-d59b3f3e1c0f",
   "metadata": {},
   "source": [
    "# Notebook Metadata"
   ]
  },
  {
   "cell_type": "code",
   "execution_count": 2,
   "id": "d30089d4-aee4-481d-bea6-f5f5eb994c88",
   "metadata": {},
   "outputs": [
    {
     "name": "stdout",
     "output_type": "stream",
     "text": [
      "Author: Huzaifa Irshad\n",
      "GitHub Username: irshadhuzaifa\n",
      "Last Modified: 2024-11-07 17:24:35.235727\n",
      "Platform: Windows 11\n",
      "Python Version: 3.12.7 | packaged by Anaconda, Inc. | (main, Oct  4 2024, 13:17:27) [MSC v.1929 64 bit (AMD64)]\n",
      "Swarmauri Version: Swarmauri Version: 0.5.1\n"
     ]
    }
   ],
   "source": [
    "import os\n",
    "import platform\n",
    "import sys\n",
    "from datetime import datetime\n",
    "\n",
    "# Display author information\n",
    "author_name = \"Huzaifa Irshad\" \n",
    "github_username = \"irshadhuzaifa\"  \n",
    "\n",
    "print(f\"Author: {author_name}\")\n",
    "print(f\"GitHub Username: {github_username}\")\n",
    "\n",
    "# Last modified datetime (file's metadata)\n",
    "notebook_file = \" Notebook_01_Introduction_Gradio_Streamlit.ipynb\"\n",
    "try:\n",
    "    last_modified_time = os.path.getmtime(notebook_file)\n",
    "    last_modified_datetime = datetime.fromtimestamp(last_modified_time)\n",
    "    print(f\"Last Modified: {last_modified_datetime}\")\n",
    "except Exception as e:\n",
    "    print(f\"Could not retrieve last modified datetime: {e}\")\n",
    "\n",
    "# Display platform, Python version, and Swarmauri version\n",
    "print(f\"Platform: {platform.system()} {platform.release()}\")\n",
    "print(f\"Python Version: {sys.version}\")\n",
    "\n",
    "import swarmauri\n",
    "\n",
    "try:\n",
    "    version = swarmauri.__version__\n",
    "except AttributeError:\n",
    "    version = f\"Swarmauri Version: 0.5.1\"\n",
    "\n",
    "print(f\"Swarmauri Version: {version}\")"
   ]
  },
  {
   "cell_type": "code",
   "execution_count": null,
   "id": "b73705f6-24b7-4059-aa5f-71cf23dd288a",
   "metadata": {},
   "outputs": [],
   "source": []
  }
 ],
 "metadata": {
  "kernelspec": {
   "display_name": "swarmauri(0.5.1)",
   "language": "python",
   "name": "myenv"
  },
  "language_info": {
   "codemirror_mode": {
    "name": "ipython",
    "version": 3
   },
   "file_extension": ".py",
   "mimetype": "text/x-python",
   "name": "python",
   "nbconvert_exporter": "python",
   "pygments_lexer": "ipython3",
   "version": "3.12.7"
  }
 },
 "nbformat": 4,
 "nbformat_minor": 5
}
