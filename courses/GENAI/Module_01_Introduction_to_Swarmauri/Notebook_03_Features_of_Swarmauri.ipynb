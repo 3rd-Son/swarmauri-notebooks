{
 "cells": [
  {
   "cell_type": "markdown",
   "id": "ee47ac17-c8eb-43f1-8ee6-c477bf2271b3",
   "metadata": {},
   "source": [
    "## Structure of Swarmauri-SDK\n",
    "---  \n",
    "\n",
    "Swarmauri is divided into four main components:  \n",
    "\n",
    "1. **swarmauri_core**: Defines the core ABC classes, essential for maintaining structure and consistency.  \n",
    "2. **swarmauri**: The main SDK, built on `swarmauri_core`, and used for building AI applications.  \n",
    "3. **swarmauri_community**: Includes additional features like vector databases and integrations.  \n",
    "4. **swarmauri_experimental**: A space for testing new, unstable features. Once stable, they are moved to `swarmauri` or `swarmauri_community`.  "
   ]
  },
  {
   "cell_type": "markdown",
   "id": "ca36b4a3",
   "metadata": {},
   "source": [
    "## Features of Swarmauri\n",
    "---\n",
    "\n",
    "The Swarmauri SDK is built with modularity and reusability in mind. To streamline development, it offers pre-defined functions and tools organized into the following key modules:\n",
    "\n",
    "- `swarmauri.utils`: Contains utility functions for common operations.\n",
    "- `swarmauri.tools`: Provides pre-built tools such as addition.\n",
    "- `swarmauri.llms`: Includes various pre-integrated `language models`, `vision models`, `audio models` and `image generation models` ."
   ]
  },
  {
   "cell_type": "markdown",
   "id": "a0148a80",
   "metadata": {},
   "source": [
    "## Community and Contribution\n",
    "---\n",
    "As an open-source project, Swarmauri encourages contributions. Developers can submit new features, bug fixes, and extensions to the framework.\n",
    "\n",
    "For detailed documentation, visit the [Swarmauri GitHub Repository](https://github.com/swarmauri/swarmauri-sdk)."
   ]
  }
 ],
 "metadata": {
  "kernelspec": {
   "display_name": "swarmauri(0.5.1)",
   "language": "python",
   "name": "myenv"
  },
  "language_info": {
   "codemirror_mode": {
    "name": "ipython",
    "version": 3
   },
   "file_extension": ".py",
   "mimetype": "text/x-python",
   "name": "python",
   "nbconvert_exporter": "python",
   "pygments_lexer": "ipython3",
   "version": "3.12.7"
  }
 },
 "nbformat": 4,
 "nbformat_minor": 5
}
