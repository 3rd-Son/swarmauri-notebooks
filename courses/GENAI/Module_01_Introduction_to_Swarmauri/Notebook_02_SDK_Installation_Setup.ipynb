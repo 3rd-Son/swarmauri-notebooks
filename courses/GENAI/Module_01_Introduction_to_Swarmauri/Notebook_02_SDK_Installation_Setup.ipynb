{
 "cells": [
  {
   "cell_type": "markdown",
   "id": "b523c52b-9508-429e-9b59-aa536f9b4a38",
   "metadata": {},
   "source": [
    "## Introduction\n",
    "\n",
    "This notebook provides step-by-step instructions for setting up the Swarmauri SDK in your local development environment. By following these steps, you'll be able to install the necessary dependencies, configure the environment, and get started with building your own multimodal AI applications.\n",
    "\n",
    "## Environment Setup\n",
    "\n",
    "1. Install Python: Ensure that Python 3.x is installed on your system. You can download it from [here](https://www.python.org/).\n",
    "\n",
    "2. Create a Virtual Environment: This is good practice to keep your project dependencies isolated.\n",
    "```bash\n",
    "    python -m venv swarmauri-env\n",
    "```\n",
    "3. Activate the environment."
   ]
  },
  {
   "cell_type": "markdown",
   "id": "e206590b-1ea1-4d52-adfb-5acfeb58e1f4",
   "metadata": {},
   "source": [
    "## Install Swarmauri\n",
    "Run the following command in your terminal to install the latest swarmauri version:\n",
    "```bash\n",
    "pip install swarmauri\n",
    "```"
   ]
  },
  {
   "cell_type": "markdown",
   "id": "a306467d-6f32-436d-a6f6-e13da0e94ce1",
   "metadata": {},
   "source": [
    "---"
   ]
  },
  {
   "cell_type": "code",
   "execution_count": null,
   "id": "22da02aa-c043-4058-8e6f-704e9b1fccee",
   "metadata": {},
   "outputs": [],
   "source": []
  }
 ],
 "metadata": {
  "kernelspec": {
   "display_name": "swarmauri(0.5.1)",
   "language": "python",
   "name": "myenv"
  },
  "language_info": {
   "codemirror_mode": {
    "name": "ipython",
    "version": 3
   },
   "file_extension": ".py",
   "mimetype": "text/x-python",
   "name": "python",
   "nbconvert_exporter": "python",
   "pygments_lexer": "ipython3",
   "version": "3.12.7"
  }
 },
 "nbformat": 4,
 "nbformat_minor": 5
}
