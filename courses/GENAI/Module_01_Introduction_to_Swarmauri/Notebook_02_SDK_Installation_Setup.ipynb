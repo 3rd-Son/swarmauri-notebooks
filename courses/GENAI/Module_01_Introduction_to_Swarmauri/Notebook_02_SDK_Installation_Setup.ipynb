{
 "cells": [
  {
   "cell_type": "markdown",
   "id": "b523c52b-9508-429e-9b59-aa536f9b4a38",
   "metadata": {},
   "source": [
    "## Introduction\n",
    "---\n",
    "\n",
    "This notebook provides step-by-step instructions for installing and setting up the Swarmauri SDK in your local development environment. By following these steps, you'll be able to install the necessary dependencies, configure the environment, and get started with building your own AI applications.\n"
   ]
  },
  {
   "cell_type": "markdown",
   "id": "a3b65381",
   "metadata": {},
   "source": [
    "## Environment Setup\n",
    "---\n",
    "\n",
    "1. **Install Python**: Ensure that Python 3.10 or above is installed on your system. You can download it from [here](https://www.python.org/).\n",
    "\n",
    "2. **Create a Virtual Environment**: This is not a must but this is generally a good practice to keep your project dependencies isolated from the base system Python environment. \n",
    "\n",
    "- We suggest using conda for this so go ahead and download Anaconda Navigator from [here](https://www.anaconda.com/download)\n",
    "- Note: You can also use `venv` for this.\n",
    "\n",
    "3. **Now , let's create a new environment for our project**. Open a terminal and run the following command:\n",
    "```bash\n",
    "conda create --name swarmauri-env python=3.10\n",
    "```\n",
    "- Note: You can rename `swarmauri-env` to whatever you like and you can use any version of python higher than version 3.10.\n",
    "\n",
    "4. **Activate the environment**: Run the following command:\n",
    "```bash\n",
    "conda activate swarmauri-env\n",
    "```"
   ]
  },
  {
   "cell_type": "markdown",
   "id": "e206590b-1ea1-4d52-adfb-5acfeb58e1f4",
   "metadata": {},
   "source": [
    "## Install Swarmauri\n",
    "---\n",
    "Run the following command in your terminal to install the latest swarmauri version:\n",
    "```bash\n",
    "pip install swarmauri\n",
    "```\n",
    "Now you are good to go."
   ]
  }
 ],
 "metadata": {
  "kernelspec": {
   "display_name": "swarmauri(0.5.1)",
   "language": "python",
   "name": "myenv"
  },
  "language_info": {
   "codemirror_mode": {
    "name": "ipython",
    "version": 3
   },
   "file_extension": ".py",
   "mimetype": "text/x-python",
   "name": "python",
   "nbconvert_exporter": "python",
   "pygments_lexer": "ipython3",
   "version": "3.12.7"
  }
 },
 "nbformat": 4,
 "nbformat_minor": 5
}
