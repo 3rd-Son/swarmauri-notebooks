{
 "cells": [
  {
   "cell_type": "markdown",
   "metadata": {},
   "source": [
    "# **Notebook 03: Tooling Integrations**\n",
    "\n",
    "## **Introduction**\n",
    "This notebook explores how to integrate different tools and implement more complex text analysis features using the Coleman-Liau Index tool as an example. We'll see how to combine tools and process results effectively.\n",
    "\n",
    "## **Why Use Tool Integrations?**\n",
    "Tool integrations enable:\n",
    "- Complex text analysis capabilities\n",
    "- Combination of multiple metrics\n",
    "- Comprehensive accessibility assessment\n",
    "- Enhanced text processing features\n",
    "\n",
    "## **Basic Implementation Example**"
   ]
  },
  {
   "cell_type": "code",
   "execution_count": 1,
   "metadata": {},
   "outputs": [],
   "source": [
    "from swarmauri.tools.concrete import ColemanLiauIndexTool"
   ]
  },
  {
   "cell_type": "markdown",
   "metadata": {},
   "source": [
    "**Create the Coleman-Liau Index tool**"
   ]
  },
  {
   "cell_type": "code",
   "execution_count": 2,
   "metadata": {},
   "outputs": [],
   "source": [
    "cli_tool = ColemanLiauIndexTool()"
   ]
  },
  {
   "cell_type": "markdown",
   "metadata": {},
   "source": [
    "**Test different text samples**"
   ]
  },
  {
   "cell_type": "code",
   "execution_count": 3,
   "metadata": {},
   "outputs": [],
   "source": [
    " \n",
    "test_texts = [\n",
    "    \"This is a simple test text. It contains two sentences.\",\n",
    "    \"Short sentence.\",\n",
    "    \"This is another example. It has more words in it.\",\n",
    "    \"A very short. Text.\",\n",
    "    \"\"\n",
    "]"
   ]
  },
  {
   "cell_type": "markdown",
   "metadata": {},
   "source": [
    "**Process each text sample**"
   ]
  },
  {
   "cell_type": "code",
   "execution_count": 4,
   "metadata": {},
   "outputs": [
    {
     "name": "stdout",
     "output_type": "stream",
     "text": [
      "Text: 'This is a simple test text. It contains two sentences.'\n",
      "Coleman-Liau Index: 3.5639999999999965\n",
      "\n",
      "Text: 'Short sentence.'\n",
      "Coleman-Liau Index: 7.620000000000001\n",
      "\n",
      "Text: 'This is another example. It has more words in it.'\n",
      "Coleman-Liau Index: 0.6239999999999988\n",
      "\n",
      "Text: 'A very short. Text.'\n",
      "Coleman-Liau Index: -10.020000000000001\n",
      "\n",
      "Text: ''\n",
      "Coleman-Liau Index: 0.0\n",
      "\n"
     ]
    }
   ],
   "source": [
    "for text in test_texts:\n",
    "    input_data = {\"input_text\": text}\n",
    "    result = cli_tool(input_data)\n",
    "    print(f\"Text: '{text}'\")\n",
    "    print(f\"Coleman-Liau Index: {result['coleman_liau_index']}\\n\")"
   ]
  },
  {
   "cell_type": "markdown",
   "metadata": {},
   "source": [
    "**Verify tool properties**"
   ]
  },
  {
   "cell_type": "code",
   "execution_count": 5,
   "metadata": {},
   "outputs": [
    {
     "name": "stdout",
     "output_type": "stream",
     "text": [
      "Tool resource: Tool\n",
      "Tool type: ColemanLiauIndexTool\n"
     ]
    }
   ],
   "source": [
    "print(f\"Tool resource: {cli_tool.resource}\")  \n",
    "print(f\"Tool type: {cli_tool.type}\")"
   ]
  },
  {
   "cell_type": "markdown",
   "metadata": {},
   "source": [
    "## **Core Integration Features**\n",
    "1. **Text Analysis**: Process different types of text input\n",
    "2. **Metric Calculation**: Compute readability scores\n",
    "3. **Result Integration**: Combine and present analysis results\n",
    "4. **Tool Verification**: Validate tool properties and behavior\n",
    "\n",
    "## **Conclusion**\n",
    "We've explored how to integrate tools and implement complex text analysis features using Swarmauri. The Coleman-Liau Index tool demonstrates how to process text, calculate metrics, and handle different types of input. These integration patterns can be applied to create more sophisticated tool combinations and analysis workflows."
   ]
  }
 ],
 "metadata": {
  "kernelspec": {
   "display_name": "swarmauri-0.5.1",
   "language": "python",
   "name": "python3"
  },
  "language_info": {
   "codemirror_mode": {
    "name": "ipython",
    "version": 3
   },
   "file_extension": ".py",
   "mimetype": "text/x-python",
   "name": "python",
   "nbconvert_exporter": "python",
   "pygments_lexer": "ipython3",
   "version": "3.12.7"
  }
 },
 "nbformat": 4,
 "nbformat_minor": 2
}
