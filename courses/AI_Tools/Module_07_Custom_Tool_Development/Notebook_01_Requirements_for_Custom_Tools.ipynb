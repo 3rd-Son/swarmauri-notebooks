{
 "cells": [
  {
   "cell_type": "markdown",
   "metadata": {},
   "source": [
    "# **Notebook 01: Requirements for Custom Tools**\n",
    "\n",
    "## **Introduction**\n",
    "In this notebook, we'll explore the fundamental requirements for creating custom tools using the Swarmauri library. Custom tools are essential components that help extend functionality and add new capabilities to your applications. We'll focus on understanding the basic building blocks and requirements needed before implementing custom tools.\n",
    "\n",
    "## **Why Use Custom Tools?**\n",
    "Custom tools allow developers to:\n",
    "- Add specialized functionality to their applications\n",
    "- Create reusable components\n",
    "- Extend existing toolkits with new capabilities\n",
    "- Implement domain-specific features\n",
    "\n",
    "## **Basic Implementation Example**\n",
    "**Import required components**"
   ]
  },
  {
   "cell_type": "code",
   "execution_count": 1,
   "metadata": {},
   "outputs": [],
   "source": [
    "\n",
    "from swarmauri.tools.concrete.AdditionTool import AdditionTool\n",
    "from swarmauri.toolkits.concrete import Toolkit"
   ]
  },
  {
   "cell_type": "markdown",
   "metadata": {},
   "source": [
    "**Create a basic toolkit**"
   ]
  },
  {
   "cell_type": "code",
   "execution_count": 2,
   "metadata": {},
   "outputs": [],
   "source": [
    "toolkit = Toolkit()"
   ]
  },
  {
   "cell_type": "markdown",
   "metadata": {},
   "source": [
    "**Create a simple addition tool**"
   ]
  },
  {
   "cell_type": "code",
   "execution_count": 3,
   "metadata": {},
   "outputs": [],
   "source": [
    "addition_tool = AdditionTool(name=\"AdditionTool\")"
   ]
  },
  {
   "cell_type": "markdown",
   "metadata": {},
   "source": [
    "**Add the tool to our toolkit**"
   ]
  },
  {
   "cell_type": "code",
   "execution_count": 4,
   "metadata": {},
   "outputs": [],
   "source": [
    "toolkit.add_tool(addition_tool)"
   ]
  },
  {
   "cell_type": "markdown",
   "metadata": {},
   "source": [
    "**Use the tool**"
   ]
  },
  {
   "cell_type": "code",
   "execution_count": 5,
   "metadata": {},
   "outputs": [
    {
     "name": "stdout",
     "output_type": "stream",
     "text": [
      "Addition result: {'sum': '3'}\n"
     ]
    }
   ],
   "source": [
    "result = toolkit.get_tool_by_name(\"AdditionTool\")(1, 2)\n",
    "print(f\"Addition result: {result}\")  "
   ]
  },
  {
   "cell_type": "markdown",
   "metadata": {},
   "source": [
    "**Verify our toolkit**"
   ]
  },
  {
   "cell_type": "code",
   "execution_count": 6,
   "metadata": {},
   "outputs": [
    {
     "name": "stdout",
     "output_type": "stream",
     "text": [
      "Number of tools: 1\n",
      "Toolkit type: Toolkit\n"
     ]
    }
   ],
   "source": [
    "print(f\"Number of tools: {len(toolkit.get_tools())}\") \n",
    "print(f\"Toolkit type: {toolkit.type}\")"
   ]
  },
  {
   "cell_type": "markdown",
   "metadata": {},
   "source": [
    " \n",
    "## **Core Requirements**\n",
    "1. **Resource Identification**: Each tool must have a unique resource identifier\n",
    "2. **Type Definition**: Tools must specify their type for proper categorization\n",
    "3. **Serialization Support**: Tools should support JSON serialization/deserialization\n",
    "4. **Basic Operations**: Must implement core operations like addition in this example\n",
    "\n",
    "## **Conclusion**\n",
    "Understanding these basic requirements is crucial for developing custom tools with Swarmauri. We've seen how to create a simple toolkit, add tools, and perform basic operations. This foundation will help us implement more complex functionality in the next notebooks."
   ]
  }
 ],
 "metadata": {
  "kernelspec": {
   "display_name": "swarmauri-0.5.1",
   "language": "python",
   "name": "python3"
  },
  "language_info": {
   "codemirror_mode": {
    "name": "ipython",
    "version": 3
   },
   "file_extension": ".py",
   "mimetype": "text/x-python",
   "name": "python",
   "nbconvert_exporter": "python",
   "pygments_lexer": "ipython3",
   "version": "3.12.7"
  }
 },
 "nbformat": 4,
 "nbformat_minor": 2
}
