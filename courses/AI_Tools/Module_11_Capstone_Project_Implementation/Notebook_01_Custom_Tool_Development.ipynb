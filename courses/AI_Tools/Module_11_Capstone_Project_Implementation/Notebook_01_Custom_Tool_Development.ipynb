{
 "cells": [
  {
   "cell_type": "markdown",
   "metadata": {},
   "source": [
    "# **Notebook 01: Custom Sentiment Analysis Tool Development**\n",
    "\n",
    "## **Introduction: Understanding Sentiment Analysis**\n",
    "Sentiment analysis is a powerful technique in natural language processing (NLP) that helps us understand the emotional tone behind text data. In today's digital age, where user feedback and comments are abundant, sentiment analysis becomes crucial for:\n",
    "- Understanding customer experiences\n",
    "- Tracking brand perception\n",
    "- Analyzing social media reactions\n",
    "- Gauging user satisfaction\n",
    "\n",
    "### **Why Sentiment Analysis Matters**\n",
    "Imagine having thousands of user comments and wanting to quickly understand if they are positive, negative, or neutral. Manually reading through these would be time-consuming and inefficient. Sentiment analysis automates this process, providing instant insights into user emotions.\n",
    "\n",
    "## **What is Sentiment Analysis?**\n",
    "Sentiment analysis is an NLP technique that uses computational methods to determine the emotional tone of a piece of text. It typically classifies text into categories like:\n",
    "- Positive: Expressing satisfaction or happiness\n",
    "- Negative: Indicating dissatisfaction or frustration\n",
    "- Neutral: Showing no strong emotional leaning\n",
    "\n",
    "## **SwarmaURI Implementation**"
   ]
  },
  {
   "cell_type": "code",
   "execution_count": 1,
   "metadata": {},
   "outputs": [],
   "source": [
    "from swarmauri_community.tools.concrete.SentimentAnalysisTool import SentimentAnalysisTool"
   ]
  },
  {
   "cell_type": "markdown",
   "metadata": {},
   "source": [
    "**Create sentiment analysis tool**"
   ]
  },
  {
   "cell_type": "code",
   "execution_count": 2,
   "metadata": {},
   "outputs": [],
   "source": [
    "sentiment_tool = SentimentAnalysisTool()"
   ]
  },
  {
   "cell_type": "markdown",
   "metadata": {},
   "source": [
    " **Analyze a sample comment**"
   ]
  },
  {
   "cell_type": "code",
   "execution_count": 3,
   "metadata": {},
   "outputs": [
    {
     "data": {
      "application/vnd.jupyter.widget-view+json": {
       "model_id": "5976fb78661c4c4e8db1a4f7a9317d79",
       "version_major": 2,
       "version_minor": 0
      },
      "text/plain": [
       "config.json:   0%|          | 0.00/629 [00:00<?, ?B/s]"
      ]
     },
     "metadata": {},
     "output_type": "display_data"
    },
    {
     "name": "stderr",
     "output_type": "stream",
     "text": [
      "c:\\Users\\Admin\\Documents\\TECH PROJECTS\\SWARMAURI\\swarmauri-0.5.1\\Lib\\site-packages\\huggingface_hub\\file_download.py:139: UserWarning: `huggingface_hub` cache-system uses symlinks by default to efficiently store duplicated files but your machine does not support them in C:\\Users\\Admin\\.cache\\huggingface\\hub\\models--distilbert--distilbert-base-uncased-finetuned-sst-2-english. Caching files will still work but in a degraded version that might require more space on your disk. This warning can be disabled by setting the `HF_HUB_DISABLE_SYMLINKS_WARNING` environment variable. For more details, see https://huggingface.co/docs/huggingface_hub/how-to-cache#limitations.\n",
      "To support symlinks on Windows, you either need to activate Developer Mode or to run Python as an administrator. In order to activate developer mode, see this article: https://docs.microsoft.com/en-us/windows/apps/get-started/enable-your-device-for-development\n",
      "  warnings.warn(message)\n"
     ]
    },
    {
     "name": "stdout",
     "output_type": "stream",
     "text": [
      "WARNING:tensorflow:From c:\\Users\\Admin\\Documents\\TECH PROJECTS\\SWARMAURI\\swarmauri-0.5.1\\Lib\\site-packages\\tf_keras\\src\\losses.py:2976: The name tf.losses.sparse_softmax_cross_entropy is deprecated. Please use tf.compat.v1.losses.sparse_softmax_cross_entropy instead.\n",
      "\n"
     ]
    },
    {
     "name": "stderr",
     "output_type": "stream",
     "text": [
      "WARNING:tensorflow:From c:\\Users\\Admin\\Documents\\TECH PROJECTS\\SWARMAURI\\swarmauri-0.5.1\\Lib\\site-packages\\tf_keras\\src\\losses.py:2976: The name tf.losses.sparse_softmax_cross_entropy is deprecated. Please use tf.compat.v1.losses.sparse_softmax_cross_entropy instead.\n",
      "\n"
     ]
    },
    {
     "data": {
      "application/vnd.jupyter.widget-view+json": {
       "model_id": "5ba142cb02674d958a8739e47ac1cebe",
       "version_major": 2,
       "version_minor": 0
      },
      "text/plain": [
       "model.safetensors:   0%|          | 0.00/268M [00:00<?, ?B/s]"
      ]
     },
     "metadata": {},
     "output_type": "display_data"
    },
    {
     "data": {
      "application/vnd.jupyter.widget-view+json": {
       "model_id": "23c1e5010aea4703934459d0a21eb8a4",
       "version_major": 2,
       "version_minor": 0
      },
      "text/plain": [
       "tokenizer_config.json:   0%|          | 0.00/48.0 [00:00<?, ?B/s]"
      ]
     },
     "metadata": {},
     "output_type": "display_data"
    },
    {
     "data": {
      "application/vnd.jupyter.widget-view+json": {
       "model_id": "0afd695fc5b543739cb50978c63c329c",
       "version_major": 2,
       "version_minor": 0
      },
      "text/plain": [
       "vocab.txt:   0%|          | 0.00/232k [00:00<?, ?B/s]"
      ]
     },
     "metadata": {},
     "output_type": "display_data"
    },
    {
     "name": "stdout",
     "output_type": "stream",
     "text": [
      "{'sentiment': 'POSITIVE'}\n"
     ]
    }
   ],
   "source": [
    "sample_comment = \"I love the new product design!\"\n",
    "result = sentiment_tool(sample_comment)\n",
    "\n",
    "print(result)"
   ]
  },
  {
   "cell_type": "markdown",
   "metadata": {},
   "source": [
    "### **Key Components of Our Sentiment Analysis Tool**\n",
    "1. **Text Input**: Accepts any text string\n",
    "2. **Preprocessing**: Cleans and prepares text for analysis\n",
    "3. **Sentiment Classification**: Predicts emotional tone\n",
    "4. **Confidence Scoring**: Provides reliability of prediction\n",
    "\n",
    "## **Practical Example**"
   ]
  },
  {
   "cell_type": "markdown",
   "metadata": {},
   "source": [
    "**Multiple comment analysis**"
   ]
  },
  {
   "cell_type": "code",
   "execution_count": 4,
   "metadata": {},
   "outputs": [
    {
     "name": "stdout",
     "output_type": "stream",
     "text": [
      "Comment: This product exceeded my expectations!\n",
      "Sentiment: POSITIVE\n",
      "\n",
      "Comment: I'm disappointed with the service.\n",
      "Sentiment: NEGATIVE\n",
      "\n",
      "Comment: The experience was just okay.\n",
      "Sentiment: POSITIVE\n",
      "\n"
     ]
    }
   ],
   "source": [
    "comments = [\n",
    "    \"This product exceeded my expectations!\",\n",
    "    \"I'm disappointed with the service.\",\n",
    "    \"The experience was just okay.\"\n",
    "]\n",
    "\n",
    "for comment in comments:\n",
    "    sentiment = sentiment_tool(comment)\n",
    "    print(f\"Comment: {comment}\")\n",
    "    print(f\"Sentiment: {sentiment['sentiment']}\\n\")"
   ]
  },
  {
   "cell_type": "markdown",
   "metadata": {},
   "source": [
    "\n",
    "## **Conclusion**\n",
    "Our custom sentiment analysis tool using SwarmaURI provides a robust, flexible solution for understanding user emotions. By automating sentiment classification, we can quickly gain insights from large volumes of text data.\n",
    "\n",
    "**Key Takeaway**: Sentiment analysis transforms unstructured text into actionable emotional insights."
   ]
  }
 ],
 "metadata": {
  "kernelspec": {
   "display_name": "swarmauri-0.5.1",
   "language": "python",
   "name": "python3"
  },
  "language_info": {
   "codemirror_mode": {
    "name": "ipython",
    "version": 3
   },
   "file_extension": ".py",
   "mimetype": "text/x-python",
   "name": "python",
   "nbconvert_exporter": "python",
   "pygments_lexer": "ipython3",
   "version": "3.12.7"
  }
 },
 "nbformat": 4,
 "nbformat_minor": 2
}
