{
 "cells": [
  {
   "cell_type": "markdown",
   "metadata": {},
   "source": [
    "# **Notebook 02: Agent Integration with Sentiment Analysis Tool**\n",
    "\n",
    "## **Introduction:**\n",
    "Intelligent agents are transforming how we interact with complex systems. By combining tools like sentiment analysis with advanced language models, we create powerful systems that can understand, process, and respond to complex inputs.\n",
    "\n",
    "### **Why Agent Integration Matters**\n",
    "Agents provide:\n",
    "- Automated decision-making\n",
    "- Contextual understanding\n",
    "- Scalable problem-solving\n",
    "- Intelligent tool coordination\n",
    "\n",
    "## **What is an Agent?**\n",
    "An agent is an intelligent system that:\n",
    "- Receives inputs\n",
    "- Processes information using multiple tools\n",
    "- Makes decisions\n",
    "- Generates meaningful outputs\n",
    "\n",
    "## **SwarmaURI Agent Integration**"
   ]
  },
  {
   "cell_type": "code",
   "execution_count": 30,
   "metadata": {},
   "outputs": [],
   "source": [
    "import os\n",
    "from swarmauri.llms.concrete.GroqToolModel import GroqToolModel\n",
    "from swarmauri.conversations.concrete.Conversation import Conversation\n",
    "from swarmauri_community.tools.concrete.SentimentAnalysisTool import SentimentAnalysisTool\n",
    "from swarmauri.toolkits.concrete.Toolkit import Toolkit\n",
    "from swarmauri.agents.concrete import ToolAgent\n",
    "from dotenv import load_dotenv"
   ]
  },
  {
   "cell_type": "markdown",
   "metadata": {},
   "source": [
    "**Load environment variables**"
   ]
  },
  {
   "cell_type": "code",
   "execution_count": 31,
   "metadata": {},
   "outputs": [
    {
     "data": {
      "text/plain": [
       "True"
      ]
     },
     "execution_count": 31,
     "metadata": {},
     "output_type": "execute_result"
    }
   ],
   "source": [
    "load_dotenv()"
   ]
  },
  {
   "cell_type": "markdown",
   "metadata": {},
   "source": [
    "**Initialize components**"
   ]
  },
  {
   "cell_type": "code",
   "execution_count": 32,
   "metadata": {},
   "outputs": [],
   "source": [
    "API_KEY = os.getenv(\"GROQ_API_KEY\")\n",
    "llm = GroqToolModel(api_key=API_KEY)\n",
    "conversation = Conversation()\n",
    "toolkit = Toolkit()"
   ]
  },
  {
   "cell_type": "markdown",
   "metadata": {},
   "source": [
    "**Add Sentiment Analysis Tool to Toolkit**"
   ]
  },
  {
   "cell_type": "code",
   "execution_count": 33,
   "metadata": {},
   "outputs": [],
   "source": [
    "\n",
    "sentiment_tool = SentimentAnalysisTool()\n",
    "toolkit.add_tool(sentiment_tool)"
   ]
  },
  {
   "cell_type": "markdown",
   "metadata": {},
   "source": [
    "**Create Tool Agent**"
   ]
  },
  {
   "cell_type": "code",
   "execution_count": 34,
   "metadata": {},
   "outputs": [],
   "source": [
    "\n",
    "sentiment_agent = ToolAgent(\n",
    "    llm=llm, \n",
    "    conversation=conversation, \n",
    "    toolkit=toolkit\n",
    ")"
   ]
  },
  {
   "cell_type": "markdown",
   "metadata": {},
   "source": [
    "\n",
    "### **Agent Workflow**\n",
    "1. **Input Receive**: Get user comments\n",
    "2. **Tool Selection**: Choose sentiment analysis tool\n",
    "3. **Processing**: Analyze sentiment\n",
    "4. **Response Generation**: Provide insights\n",
    "\n",
    "## **Practical Example: Customer Feedback Analysis**"
   ]
  },
  {
   "cell_type": "markdown",
   "metadata": {},
   "source": [
    "**User comments dataset**"
   ]
  },
  {
   "cell_type": "code",
   "execution_count": 35,
   "metadata": {},
   "outputs": [],
   "source": [
    "customer_comments = [\n",
    "    \"The new update is amazing!\",\n",
    "    \"I'm frustrated with the slow loading times.\",\n",
    "    \"Average experience, nothing special.\"\n",
    "]"
   ]
  },
  {
   "cell_type": "markdown",
   "metadata": {},
   "source": [
    "**Agent-driven sentiment analysis**"
   ]
  },
  {
   "cell_type": "code",
   "execution_count": 36,
   "metadata": {},
   "outputs": [
    {
     "name": "stderr",
     "output_type": "stream",
     "text": [
      "From c:\\Users\\Admin\\Documents\\TECH PROJECTS\\SWARMAURI\\swarmauri-0.5.1\\Lib\\site-packages\\tf_keras\\src\\losses.py:2976: The name tf.losses.sparse_softmax_cross_entropy is deprecated. Please use tf.compat.v1.losses.sparse_softmax_cross_entropy instead.\n",
      "\n"
     ]
    },
    {
     "name": "stdout",
     "output_type": "stream",
     "text": [
      "Comment: The new update is amazing!\n",
      "Agent Analysis: The sentiment of the message \"The new update is amazing!\" is positive.\n",
      "\n",
      "Comment: I'm frustrated with the slow loading times.\n",
      "Agent Analysis: The sentiment of the message \"I'm frustrated with the slow loading times.\" is negative.\n",
      "\n",
      "Comment: Average experience, nothing special.\n",
      "Agent Analysis: The sentiment of the message \"Average experience, nothing special.\" is negative.\n",
      "\n"
     ]
    }
   ],
   "source": [
    "for comment in customer_comments:\n",
    "    result = sentiment_agent.exec(f\"Analyze sentiment: {comment}\")\n",
    "    print(f\"Comment: {comment}\")\n",
    "    print(f\"Agent Analysis: {result}\\n\")"
   ]
  },
  {
   "cell_type": "markdown",
   "metadata": {},
   "source": [
    "\n",
    "\n",
    "## **Conclusion**\n",
    "By integrating sentiment analysis tools with intelligent agents, we create a sophisticated system that can quickly and accurately understand user emotions.\n",
    "\n",
    "### **Potential Applications**\n",
    "- Customer support automation\n",
    "- Product feedback analysis\n",
    "- Social media monitoring\n",
    "- Brand reputation management\n",
    "\n",
    "**Key Insight**: Agents transform raw data into meaningful, actionable insights."
   ]
  }
 ],
 "metadata": {
  "kernelspec": {
   "display_name": "swarmauri-0.5.1",
   "language": "python",
   "name": "python3"
  },
  "language_info": {
   "codemirror_mode": {
    "name": "ipython",
    "version": 3
   },
   "file_extension": ".py",
   "mimetype": "text/x-python",
   "name": "python",
   "nbconvert_exporter": "python",
   "pygments_lexer": "ipython3",
   "version": "3.12.7"
  }
 },
 "nbformat": 4,
 "nbformat_minor": 2
}
