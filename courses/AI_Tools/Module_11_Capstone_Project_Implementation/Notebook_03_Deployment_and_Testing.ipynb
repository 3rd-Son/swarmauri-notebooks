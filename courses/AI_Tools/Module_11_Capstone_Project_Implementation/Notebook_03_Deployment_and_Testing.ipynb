{
 "cells": [
  {
   "cell_type": "markdown",
   "metadata": {},
   "source": [
    "# **Notebook 03: Sentiment Analysis Agent Deployment with Gradio**\n",
    "\n",
    "## **Introduction:**\n",
    "Deployment transforms our sophisticated sentiment analysis tool from a concept to an interactive, user-friendly application. Gradio provides an excellent platform for creating intuitive web interfaces that make complex AI tools accessible to everyone.\n",
    "\n",
    "### **Why Gradio Deployment Matters**\n",
    "- Instant web interface creation\n",
    "- Easy sharing of machine learning models\n",
    "- No front-end development required\n",
    "- Supports rapid prototyping\n",
    "- Enables wide accessibility\n",
    "\n",
    "## **Understanding Deployment in AI**\n",
    "Deployment is the process of making our intelligent sentiment analysis tool:\n",
    "- Accessible to end-users\n",
    "- Interactive and user-friendly\n",
    "- Scalable across different platforms\n",
    "\n",
    "## **SwarmaURI Tool Agent Integration**"
   ]
  },
  {
   "cell_type": "code",
   "execution_count": 1,
   "metadata": {},
   "outputs": [
    {
     "data": {
      "text/plain": [
       "True"
      ]
     },
     "execution_count": 1,
     "metadata": {},
     "output_type": "execute_result"
    }
   ],
   "source": [
    "import os\n",
    "import gradio as gr\n",
    "from dotenv import load_dotenv\n",
    "\n",
    "# SwarmaURI Imports\n",
    "from swarmauri.llms.concrete.GroqToolModel import GroqToolModel\n",
    "from swarmauri.conversations.concrete.Conversation import Conversation\n",
    "from swarmauri_community.tools.concrete.SentimentAnalysisTool import SentimentAnalysisTool\n",
    "from swarmauri.toolkits.concrete.Toolkit import Toolkit\n",
    "from swarmauri.agents.concrete import ToolAgent\n",
    "\n",
    "# Load environment variables\n",
    "load_dotenv()"
   ]
  },
  {
   "cell_type": "markdown",
   "metadata": {},
   "source": [
    "**Initialize Sentiment Analysis Agent**"
   ]
  },
  {
   "cell_type": "code",
   "execution_count": 2,
   "metadata": {},
   "outputs": [],
   "source": [
    "def initialize_sentiment_agent():\n",
    "    # Retrieve API Key\n",
    "    API_KEY = os.getenv(\"GROQ_API_KEY\")\n",
    "    if not API_KEY:\n",
    "        raise ValueError(\"GROQ API Key is missing. Please set it in your .env file.\")\n",
    "\n",
    "    # Initialize components\n",
    "    llm = GroqToolModel(api_key=API_KEY)\n",
    "    conversation = Conversation()\n",
    "    toolkit = Toolkit()\n",
    "\n",
    "    # Create and add sentiment analysis tool\n",
    "    sentiment_tool = SentimentAnalysisTool()\n",
    "    toolkit.add_tool(sentiment_tool)\n",
    "\n",
    "    # Create tool agent\n",
    "    sentiment_agent = ToolAgent(\n",
    "        llm=llm, \n",
    "        conversation=conversation, \n",
    "        toolkit=toolkit\n",
    "    )\n",
    "\n",
    "    return sentiment_agent"
   ]
  },
  {
   "cell_type": "markdown",
   "metadata": {},
   "source": [
    "**Global agent initialization**"
   ]
  },
  {
   "cell_type": "code",
   "execution_count": 3,
   "metadata": {},
   "outputs": [],
   "source": [
    "sentiment_agent = initialize_sentiment_agent()"
   ]
  },
  {
   "cell_type": "markdown",
   "metadata": {},
   "source": [
    "**Sentiment Analysis Function**"
   ]
  },
  {
   "cell_type": "code",
   "execution_count": 4,
   "metadata": {},
   "outputs": [],
   "source": [
    "\n",
    "def analyze_sentiment(text):\n",
    "    try:\n",
    "        # Use agent to analyze sentiment\n",
    "        result = sentiment_agent.exec(f\"Analyze sentiment: {text}\")\n",
    "        \n",
    "        # Extract sentiment from agent's response\n",
    "        sentiment = result.get('sentiment', 'Unknown')\n",
    "        \n",
    "        # Provide a human-readable explanation\n",
    "        explanation = f\"The text expresses a {sentiment.lower()} sentiment.\"\n",
    "        \n",
    "        return sentiment, explanation\n",
    "    \n",
    "    except Exception as e:\n",
    "        return \"Error\", f\"An error occurred: {str(e)}\""
   ]
  },
  {
   "cell_type": "code",
   "execution_count": 7,
   "metadata": {},
   "outputs": [],
   "source": [
    "# Sentiment Analysis Function\n",
    "def analyze_sentiment(text):\n",
    "    try:\n",
    "        # Use agent to analyze sentiment\n",
    "        result = sentiment_agent.exec(f\"Analyze sentiment: {text}\")\n",
    "        \n",
    "        # Check if result is a string or dictionary\n",
    "        if isinstance(result, str):\n",
    "            # Try to parse sentiment from the string\n",
    "            if \"POSITIVE\" in result.upper():\n",
    "                sentiment = \"POSITIVE\"\n",
    "            elif \"NEGATIVE\" in result.upper():\n",
    "                sentiment = \"NEGATIVE\"\n",
    "            else:\n",
    "                sentiment = \"NEUTRAL\"\n",
    "            \n",
    "            explanation = result\n",
    "        elif isinstance(result, dict):\n",
    "            # If it's a dictionary, extract sentiment as before\n",
    "            sentiment = result.get('sentiment', 'Unknown')\n",
    "            explanation = f\"The text expresses a {sentiment.lower()} sentiment.\"\n",
    "        else:\n",
    "            # Fallback for unexpected result type\n",
    "            sentiment = \"Unknown\"\n",
    "            explanation = \"Unable to determine sentiment.\"\n",
    "        \n",
    "        return sentiment, explanation\n",
    "    \n",
    "    except Exception as e:\n",
    "        return \"Error\", f\"An error occurred: {str(e)}\""
   ]
  },
  {
   "cell_type": "markdown",
   "metadata": {},
   "source": [
    "**Create Gradio Interface**"
   ]
  },
  {
   "cell_type": "code",
   "execution_count": 8,
   "metadata": {},
   "outputs": [],
   "source": [
    "def create_gradio_app():\n",
    "    demo = gr.Interface(\n",
    "        fn=analyze_sentiment,\n",
    "        inputs=gr.Textbox(\n",
    "            lines=4, \n",
    "            placeholder=\"Enter your text here to analyze sentiment...\",\n",
    "            label=\"Text Input\"\n",
    "        ),\n",
    "        outputs=[\n",
    "            gr.Textbox(label=\"Sentiment\"),\n",
    "            gr.Textbox(label=\"Explanation\")\n",
    "        ],\n",
    "        title=\"🌟 Sentiment Analysis Agent\",\n",
    "        description=\"Understand the emotional tone of your text using AI!\",\n",
    "        theme=\"default\"\n",
    "    )\n",
    "    \n",
    "    return demo\n",
    "\n",
    "\n"
   ]
  },
  {
   "cell_type": "markdown",
   "metadata": {},
   "source": [
    "**Main Execution**"
   ]
  },
  {
   "cell_type": "code",
   "execution_count": 9,
   "metadata": {},
   "outputs": [
    {
     "name": "stdout",
     "output_type": "stream",
     "text": [
      "* Running on local URL:  http://127.0.0.1:7861\n",
      "* Running on public URL: https://b8f5eb6aa2187ff171.gradio.live\n",
      "\n",
      "This share link expires in 72 hours. For free permanent hosting and GPU upgrades, run `gradio deploy` from the terminal in the working directory to deploy to Hugging Face Spaces (https://huggingface.co/spaces)\n"
     ]
    },
    {
     "data": {
      "text/html": [
       "<div><iframe src=\"https://b8f5eb6aa2187ff171.gradio.live\" width=\"100%\" height=\"500\" allow=\"autoplay; camera; microphone; clipboard-read; clipboard-write;\" frameborder=\"0\" allowfullscreen></iframe></div>"
      ],
      "text/plain": [
       "<IPython.core.display.HTML object>"
      ]
     },
     "metadata": {},
     "output_type": "display_data"
    }
   ],
   "source": [
    "if __name__ == \"__main__\":\n",
    "    # Create and launch Gradio app\n",
    "    app = create_gradio_app()\n",
    "    app.launch(share=True)"
   ]
  },
  {
   "cell_type": "markdown",
   "metadata": {},
   "source": [
    "\n",
    "\n",
    "## **Deployment Walkthrough**\n",
    "\n",
    "### **Prerequisites**\n",
    "```bash\n",
    "# Install required libraries\n",
    "pip install gradio swarmauri python-dotenv\n",
    "```\n",
    "\n",
    "### **Configuration Requirements**\n",
    "1. Create a `.env` file with your Groq API Key:\n",
    "```\n",
    "GROQ_API_KEY=your_api_key_here\n",
    "```\n",
    "\n",
    "## **Key Components of the Deployment**\n",
    "\n",
    "### **Tool Agent Architecture**\n",
    "- **Language Model**: Groq-powered intelligent model\n",
    "- **Conversation Management**: Stateful interaction tracking\n",
    "- **Toolkit**: Flexible tool integration\n",
    "- **Sentiment Analysis Tool**: Core emotion detection mechanism\n",
    "\n",
    "\n",
    "### **Deployment**\n",
    " **Local Development**\n",
    "   - Run script on personal machine\n",
    "   - Ideal for testing and development\n",
    "\n",
    "\n",
    "## **Potential Enhancements**\n",
    "- Multi-language support\n",
    "- More granular sentiment analysis\n",
    "- Advanced result visualization\n",
    "- Error handling improvements\n",
    "\n",
    "## **Conclusion**\n",
    "Our Gradio-deployed sentiment analysis agent transforms complex AI technology into an accessible, user-friendly tool. By leveraging SwarmaURI's powerful agent framework, we create an intelligent system that understands emotional nuances.\n",
    "\n",
    "**Key Insight**: Making AI accessible is about simplifying complexity.\n"
   ]
  },
  {
   "cell_type": "markdown",
   "metadata": {},
   "source": []
  }
 ],
 "metadata": {
  "kernelspec": {
   "display_name": "swarmauri-0.5.1",
   "language": "python",
   "name": "python3"
  },
  "language_info": {
   "codemirror_mode": {
    "name": "ipython",
    "version": 3
   },
   "file_extension": ".py",
   "mimetype": "text/x-python",
   "name": "python",
   "nbconvert_exporter": "python",
   "pygments_lexer": "ipython3",
   "version": "3.12.7"
  }
 },
 "nbformat": 4,
 "nbformat_minor": 2
}
