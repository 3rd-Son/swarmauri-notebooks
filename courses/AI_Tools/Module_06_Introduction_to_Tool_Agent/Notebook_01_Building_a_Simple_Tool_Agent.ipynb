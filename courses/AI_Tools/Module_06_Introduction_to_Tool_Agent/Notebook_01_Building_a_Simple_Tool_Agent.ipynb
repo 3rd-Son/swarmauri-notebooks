{
 "cells": [
  {
   "cell_type": "markdown",
   "metadata": {},
   "source": [
    "# **Building a Simple Tool Agent**\n",
    "\n",
    "## **Introduction:** \n",
    "As software projects grow in complexity, developers face an increasing need for tools that can automate repetitive tasks and provide intelligent assistance. \n",
    "The Swarmauri library offers a powerful solution in the form of Tool Agents \n",
    "AI-powered agents that can seamlessly integrate various programming tools and utilities into your development workflow.\n",
    "\n",
    "Imagine you're a chef, and you have a lot of recipes to manage. \n",
    "Wouldn't it be great to have a helpful assistant who can do basic math for you, like adding up ingredient amounts? \n",
    "That's kind of what a Tool Agent is - it's an AI-powered tool that can help you with common programming tasks, so you can focus on the more important stuff.\n",
    "In this notebook, we'll explore the process of building a simple Tool Agent that can perform basic arithmetic operations. \n",
    "By understanding the fundamentals of Tool Agent creation, you'll be empowered to build your own specialized agents tailored to your specific development needs.\n",
    "\n",
    "\n",
    "## **Why Use a Tool Agent?**\n",
    "As software projects get more and more complex, developers like you need tools that can:\n",
    "1. **Automate Repetitive Tasks**: Things like calculations, code transformations, or data manipulation can be really boring, but a Tool Agent can handle them quickly and accurately.\n",
    "2. **Provide Reliable Functionality**: Tool Agents give you a standard way to access different tools and utilities, so you can count on them to work the same way every time.\n",
    "3. **Scale and Adapt**: You can easily add new capabilities to a Tool Agent by integrating more tools and libraries. This makes your development process more flexible and efficient.\n",
    "4. **Collaborate with Your Team**: Tool Agents can be shared among your team, helping everyone work better together by providing consistent, reusable functionality.\n",
    "\n",
    "## **Building a Simple Tool Agent**\n",
    "In this example, we'll create a Tool Agent that can perform basic arithmetic operations, such as addition, subtraction, multiplication, and division.\n",
    "\n",
    "### **Step 1: Import the Necessary Components**\n",
    "First, we need to import the Swarmauri components we'll use to build our Tool Agent:"
   ]
  },
  {
   "cell_type": "code",
   "execution_count": 4,
   "metadata": {},
   "outputs": [
    {
     "data": {
      "text/plain": [
       "True"
      ]
     },
     "execution_count": 4,
     "metadata": {},
     "output_type": "execute_result"
    }
   ],
   "source": [
    "from swarmauri.llms.concrete.GroqToolModel import GroqToolModel\n",
    "from swarmauri.conversations.concrete.Conversation import Conversation\n",
    "from swarmauri.tools.concrete.AdditionTool import AdditionTool\n",
    "from swarmauri.toolkits.concrete.Toolkit import Toolkit\n",
    "from swarmauri.agents.concrete import ToolAgent\n",
    "from dotenv import load_dotenv\n",
    "import os\n",
    "load_dotenv()"
   ]
  },
  {
   "cell_type": "markdown",
   "metadata": {},
   "source": [
    "### **Step 2: Configure the Tool Agent**\n",
    "Now, let's create the components we need to make our Tool Agent:"
   ]
  },
  {
   "cell_type": "code",
   "execution_count": 5,
   "metadata": {},
   "outputs": [],
   "source": [
    "API_KEY = os.getenv(\"GROQ_API_KEY\")\n",
    "llm = GroqToolModel(api_key=API_KEY)\n",
    "conversation = Conversation()\n",
    "toolkit = Toolkit()\n",
    "tool = AdditionTool()\n",
    "toolkit.add_tool(tool)\n",
    "agent = ToolAgent(llm=llm, conversation=conversation, toolkit=toolkit)"
   ]
  },
  {
   "cell_type": "markdown",
   "metadata": {},
   "source": [
    "**In this example, we're using the GroqToolModel as our Language Model (LLM) provider, and we're adding the AdditionTool to the Toolkit. The** **ToolAgent is then created by combining the LLM, Conversation, and Toolkit.**\n",
    "\n",
    "### **Step 3: Test It Out**\n",
    "\n",
    "Let's see our Tool Agent in action:"
   ]
  },
  {
   "cell_type": "code",
   "execution_count": 6,
   "metadata": {},
   "outputs": [
    {
     "name": "stdout",
     "output_type": "stream",
     "text": [
      "The sum of 512 and 671 is 1183. Is there anything else you need help with?\n"
     ]
    }
   ],
   "source": [
    "result = agent.exec(\"Add(512, 671)\")\n",
    "print(result)"
   ]
  },
  {
   "cell_type": "markdown",
   "metadata": {},
   "source": [
    "\n",
    "\n",
    "\n",
    "## **Conclusion:**\n",
    "In this notebook, you learned how to build a simple Tool Agent that can help you with basic math operations. This is just the beginning - Tool Agents can be customized to handle all sorts of programming tasks, from code generation to data analysis.\n",
    "\n",
    "By using a Tool Agent, you can automate repetitive work, get reliable and consistent functionality, and even collaborate with your team more effectively. Plus, as you add more tools and capabilities to your Agent, it can grow and adapt to your needs, making your development process smoother and more efficient.\n",
    "\n",
    "So, think of a Tool Agent as a helpful AI that can take care of the boring stuff, so you can focus on the fun, creative parts of your job. Get to know your Tool Agent, and see how it can make your life as a developer a whole lot easier."
   ]
  }
 ],
 "metadata": {
  "kernelspec": {
   "display_name": "swarmauri-0.5.1",
   "language": "python",
   "name": "python3"
  },
  "language_info": {
   "codemirror_mode": {
    "name": "ipython",
    "version": 3
   },
   "file_extension": ".py",
   "mimetype": "text/x-python",
   "name": "python",
   "nbconvert_exporter": "python",
   "pygments_lexer": "ipython3",
   "version": "3.12.7"
  }
 },
 "nbformat": 4,
 "nbformat_minor": 2
}
