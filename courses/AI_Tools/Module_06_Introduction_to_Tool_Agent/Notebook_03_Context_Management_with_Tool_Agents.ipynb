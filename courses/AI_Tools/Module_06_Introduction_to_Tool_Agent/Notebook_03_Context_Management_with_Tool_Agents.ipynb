{
 "cells": [
  {
   "cell_type": "markdown",
   "metadata": {},
   "source": [
    "# **Context Management with Tool Agents**\n",
    "\n",
    "## **Introduction:** \n",
    "Imagine you're a chef, and you have a big recipe book with tons of different dishes. If you just ask your assistant to \"refactor this recipe,\" they might not know what you're talking about or how to help. But if you can give them some context - like \"the recipe is over 100 steps and does too many things\" - then they can really understand the problem and give you much better advice.\n",
    "\n",
    "That's kind of what context management is for Tool Agents. It helps them understand the specific situation you're in, so they can provide more useful and tailored assistance.\n",
    "\n",
    "In the notebook, we create an instance of the Conversation class and pass it to the ToolAgent. This enables the agent to use the Conversation's context management features to provide more relevant and personalized responses to the user's queries.\n",
    "By understanding these tools and how Swarmauri implements them, you can start to see the power and flexibility of the Swarmauri library in building advanced tool agents that can engage in natural, contextual, and personalized conversations with users.\n",
    "\n",
    "## **Why Manage Context with Tool Agents?**\n",
    "There are a few big reasons why managing context is important for Tool Agents:\n",
    "\n",
    "1. **Personalized Assistance**: If the Tool Agent knows about your current project, code structure, or recent actions, it can give you advice that's much more relevant to your needs.\n",
    "2. **Improved Efficiency**: By keeping track of context, the Tool Agent can streamline repetitive tasks, automate routine operations, and make your life as a developer easier.\n",
    "3. **Consistent User Experience**: When the Tool Agent maintains context, it can have a more natural, conversational interaction with you, which builds trust and familiarity.\n",
    "4. **Collaborative Development**: Sharing context between team members can help everyone work better together, by improving communication and knowledge sharing.\n",
    "\n",
    "## **Implementing Context Management with Tool Agents**\n",
    "Let's see how Swarmauri can help us create a Tool Agent that can manage context to assist with code refactoring.\n",
    "\n",
    "### **Step 1: Gather the Pieces**\n",
    "First, let's import the Swarmauri components we'll need:"
   ]
  },
  {
   "cell_type": "code",
   "execution_count": 19,
   "metadata": {},
   "outputs": [
    {
     "data": {
      "text/plain": [
       "True"
      ]
     },
     "execution_count": 19,
     "metadata": {},
     "output_type": "execute_result"
    }
   ],
   "source": [
    "from swarmauri.llms.concrete.GroqToolModel import GroqToolModel\n",
    "from swarmauri.messages.concrete import (SystemMessage,AgentMessage,HumanMessage,)\n",
    "from swarmauri.conversations.concrete.Conversation import Conversation\n",
    "from swarmauri.conversations.concrete.MaxSystemContextConversation import (MaxSystemContextConversation,)\n",
    "from swarmauri.tools.concrete.TemperatureConverterTool import TemperatureConverterTool\n",
    "from swarmauri.toolkits.concrete.Toolkit import Toolkit\n",
    "from swarmauri.agents.concrete import ToolAgent\n",
    "from dotenv import load_dotenv\n",
    "import os\n",
    "load_dotenv()"
   ]
  },
  {
   "cell_type": "markdown",
   "metadata": {},
   "source": [
    "### **Step 2: Put It All Together**\n",
    "**We're using the `GroqToolModel` as our Language Model (LLM) provider, and we're adding the `TemperatureConverterTool` to the `Toolkit`. Then, we create the `ToolAgent` by combining the LLM, `Conversation`, and `Toolkit`.**\n",
    "\n",
    "Now, let's create the components for our context-aware Tool Agent:"
   ]
  },
  {
   "cell_type": "code",
   "execution_count": 20,
   "metadata": {},
   "outputs": [],
   "source": [
    "API_KEY = os.getenv(\"GROQ_API_KEY\")\n",
    "llm = GroqToolModel(api_key=API_KEY)\n",
    "conversation = Conversation()\n",
    "toolkit = Toolkit()\n",
    "tool = TemperatureConverterTool()\n",
    "toolkit.add_tool(tool)\n",
    "agent = ToolAgent(llm=llm, conversation=conversation, toolkit=toolkit)"
   ]
  },
  {
   "cell_type": "code",
   "execution_count": 21,
   "metadata": {},
   "outputs": [
    {
     "name": "stdout",
     "output_type": "stream",
     "text": [
      "25 degrees Celsius is equal to 77.0 degrees Fahrenheit.\n"
     ]
    }
   ],
   "source": [
    "user_input = \"Convert 25 degrees Celsius to Fahrenheit\"\n",
    "result = agent.exec(user_input)\n",
    "print(result)\n"
   ]
  },
  {
   "cell_type": "markdown",
   "metadata": {},
   "source": [
    "### **Step 3: Manage and Use Context**\n",
    "Let's see how our Tool Agent can use context to provide better assistance:"
   ]
  },
  {
   "cell_type": "code",
   "execution_count": 22,
   "metadata": {},
   "outputs": [],
   "source": [
    "conversation =MaxSystemContextConversation(system_context=SystemMessage(content=\"You are an AI assistant to help users with temperature conversion\"), max_size=2)\n",
    "agent = ToolAgent(llm=llm, conversation=conversation, toolkit=toolkit)"
   ]
  },
  {
   "cell_type": "code",
   "execution_count": 23,
   "metadata": {},
   "outputs": [
    {
     "name": "stdout",
     "output_type": "stream",
     "text": [
      "To convert temperature from Kelvin to Celsius, we use the formula:\n",
      "\n",
      "Celsius = Kelvin - 273.15\n",
      "\n",
      "Given that we have 0 degrees Kelvin, we can plug this into the formula:\n",
      "\n",
      "Celsius = 0 - 273.15\n",
      "Celsius = -273.15\n",
      "\n",
      "So, 0 degrees Kelvin is -273.15 degrees Celsius.\n"
     ]
    }
   ],
   "source": [
    "user_input = \"What is 0 degrees Kelvin in Celsius?\"\n",
    "result = agent.exec(user_input)\n",
    "print(result)\n",
    "\n"
   ]
  },
  {
   "cell_type": "code",
   "execution_count": 18,
   "metadata": {},
   "outputs": [
    {
     "name": "stdout",
     "output_type": "stream",
     "text": [
      "To convert 32 degrees Fahrenheit to Kelvin, we first need to convert it to Celsius using the formula:\n",
      "\n",
      "Celsius = (Fahrenheit - 32) * 5/9\n",
      "\n",
      "Then, we can convert the Celsius temperature to Kelvin using the formula:\n",
      "\n",
      "Kelvin = Celsius + 273.15\n",
      "\n",
      "So, let's do the conversion:\n",
      "\n",
      "Celsius = (32 - 32) * 5/9 = 0°C\n",
      "Kelvin = 0 + 273.15 = 273.15 K\n",
      "\n",
      "Therefore, 32 degrees Fahrenheit is equivalent to 273.15 Kelvin.\n"
     ]
    }
   ],
   "source": [
    "user_input = \"Convert 32 degrees Fahrenheit to Kelvin\"\n",
    "result = agent.exec(user_input)\n",
    "print(result)"
   ]
  },
  {
   "cell_type": "markdown",
   "metadata": {},
   "source": [
    "**In this example, the Tool Agent was able to leverage the context we provided to give us tailored answers for emperature conversion. By maintaining and updating the conversation context, the agent could give us more relevant and helpful responses.**"
   ]
  },
  {
   "cell_type": "markdown",
   "metadata": {},
   "source": [
    "\n",
    "\n",
    "## **Conclusion: Your Intelligent Programming Companion**\n",
    "In this notebook, you learned how Tool Agents can use context management to become even more helpful and effective programming assistants.\n",
    "\n",
    "When a Tool Agent can keep track of the specific details of your project, code, and development process, it can provide much more personalized and useful assistance. This can help you automate repetitive tasks, get better advice, and collaborate more effectively with your team.\n",
    "\n",
    "Think of your context-aware Tool Agent as an intelligent programming companion - someone who really understands your situation and can work alongside you to solve problems, refine your code, and make your job as a developer easier and more enjoyable. The more you work with your Tool Agent and provide it with context, the smarter and more valuable it will become.\n",
    "\n",
    "So don't be afraid to share information with your Tool Agent and let it learn about your specific needs and challenges. The more context it has, the better it can assist you in becoming a more efficient, productive, and happy developer."
   ]
  }
 ],
 "metadata": {
  "kernelspec": {
   "display_name": "swarmauri-0.5.1",
   "language": "python",
   "name": "python3"
  },
  "language_info": {
   "codemirror_mode": {
    "name": "ipython",
    "version": 3
   },
   "file_extension": ".py",
   "mimetype": "text/x-python",
   "name": "python",
   "nbconvert_exporter": "python",
   "pygments_lexer": "ipython3",
   "version": "3.12.7"
  }
 },
 "nbformat": 4,
 "nbformat_minor": 2
}
