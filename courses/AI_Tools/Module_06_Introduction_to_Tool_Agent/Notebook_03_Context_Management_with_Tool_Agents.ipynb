{
 "cells": [
  {
   "cell_type": "markdown",
   "metadata": {},
   "source": [
    "# **Context Management with Tool Agents**\n",
    "\n",
    "## **Introduction:** \n",
    "Imagine you're a chef, and you have a big recipe book with tons of different dishes. If you just ask your assistant to \"refactor this recipe,\" they might not know what you're talking about or how to help. But if you can give them some context - like \"the recipe is over 100 steps and does too many things\" - then they can really understand the problem and give you much better advice.\n",
    "\n",
    "That's kind of what context management is for Tool Agents. It helps them understand the specific situation you're in, so they can provide more useful and tailored assistance.\n",
    "\n",
    "In the notebook, we create an instance of the Conversation class and pass it to the ToolAgent. This enables the agent to use the Conversation's context management features to provide more relevant and personalized responses to the user's queries.\n",
    "By understanding these tools and how Swarmauri implements them, you can start to see the power and flexibility of the Swarmauri library in building advanced tool agents that can engage in natural, contextual, and personalized conversations with users.\n",
    "\n",
    "## **Why Manage Context with Tool Agents?**\n",
    "There are a few big reasons why managing context is important for Tool Agents:\n",
    "\n",
    "1. **Personalized Assistance**: If the Tool Agent knows about your current project, code structure, or recent actions, it can give you advice that's much more relevant to your needs.\n",
    "2. **Improved Efficiency**: By keeping track of context, the Tool Agent can streamline repetitive tasks, automate routine operations, and make your life as a developer easier.\n",
    "3. **Consistent User Experience**: When the Tool Agent maintains context, it can have a more natural, conversational interaction with you, which builds trust and familiarity.\n",
    "4. **Collaborative Development**: Sharing context between team members can help everyone work better together, by improving communication and knowledge sharing.\n",
    "\n",
    "## **Implementing Context Management with Tool Agents**\n",
    "Let's see how Swarmauri can help us create a Tool Agent that can manage context to assist with code refactoring.\n",
    "\n",
    "### **Step 1: Gather the Pieces**\n",
    "First, let's import the Swarmauri components we'll need:"
   ]
  },
  {
   "cell_type": "code",
   "execution_count": null,
   "metadata": {},
   "outputs": [],
   "source": [
    "from swarmauri.llms.concrete.GroqToolModel import GroqToolModel\n",
    "from swarmauri.conversations.concrete.Conversation import Conversation\n",
    "from swarmauri.tools.concrete.RefactorTool import RefactorTool\n",
    "from swarmauri.toolkits.concrete.Toolkit import Toolkit\n",
    "from swarmauri.agents.concrete import ToolAgent\n",
    "from dotenv import load_dotenv\n",
    "import os\n",
    "load_dotenv()"
   ]
  },
  {
   "cell_type": "markdown",
   "metadata": {},
   "source": [
    "### **Step 2: Put It All Together**\n",
    "Now, let's create the components for our context-aware Tool Agent:"
   ]
  },
  {
   "cell_type": "code",
   "execution_count": null,
   "metadata": {},
   "outputs": [],
   "source": [
    "API_KEY = os.getenv(\"GROQ_API_KEY\")\n",
    "llm = GroqToolModel(api_key=API_KEY)\n",
    "conversation = Conversation()\n",
    "toolkit = Toolkit()\n",
    "tool = RefactorTool()\n",
    "toolkit.add_tool(tool)\n",
    "agent = ToolAgent(llm=llm, conversation=conversation, toolkit=toolkit)"
   ]
  },
  {
   "cell_type": "code",
   "execution_count": null,
   "metadata": {},
   "outputs": [],
   "source": []
  },
  {
   "cell_type": "code",
   "execution_count": null,
   "metadata": {},
   "outputs": [],
   "source": []
  },
  {
   "cell_type": "code",
   "execution_count": null,
   "metadata": {},
   "outputs": [],
   "source": []
  },
  {
   "cell_type": "markdown",
   "metadata": {},
   "source": [
    "\n",
    "\n",
    "\n",
    "\n",
    "\n",
    "\n",
    "```python\n",
    "\n",
    "```\n",
    "\n",
    "We're using the `GroqToolModel` as our Language Model (LLM) provider, and we're adding the `RefactorTool` to the `Toolkit`. Then, we create the `ToolAgent` by combining the LLM, `Conversation`, and `Toolkit`.\n",
    "\n",
    "### Step 3: Manage and Use Context\n",
    "Let's see how our Tool Agent can use context to provide better assistance:\n",
    "\n",
    "```python\n",
    "# Provide initial context\n",
    "agent.update_context(\"I have a long function that needs to be refactored. The function is over 100 lines of code and performs several unrelated tasks.\")\n",
    "\n",
    "# Ask the agent for suggestions\n",
    "user_input = \"Can you help me refactor this function?\"\n",
    "response = agent.converse(user_input)\n",
    "print(response)\n",
    "```\n",
    "\n",
    "The output should be:\n",
    "```\n",
    "Okay, let's take a look at that long function. Based on the context you provided, it sounds like a good candidate for refactoring. Here are a few suggestions:\n",
    "\n",
    "1. Identify the different responsibilities within the function and separate them into smaller, more focused functions. This will make the code more modular and easier to maintain.\n",
    "\n",
    "2. Consider breaking down the function into smaller, reusable components that can be called as needed. This will improve the code's readability and make it easier to test and debug.\n",
    "\n",
    "3. Examine the function's inputs and outputs to see if any parameters can be simplified or removed. Reducing the function's complexity can make it easier to understand and maintain.\n",
    "\n",
    "4. Look for opportunities to extract common logic into helper functions or utility classes. This will help reduce code duplication and make the overall codebase more consistent.\n",
    "\n",
    "Let me know if you'd like me to walk through any of these suggestions in more detail. I'm happy to provide further guidance based on the specific context of your code.\n",
    "```\n",
    "\n",
    "In this example, the Tool Agent was able to leverage the context we provided about the long, complex function to give us tailored refactoring suggestions. By maintaining and updating the conversation context, the agent could give us more relevant and helpful responses.\n",
    "\n",
    "## Conclusion: Your Intelligent Programming Companion\n",
    "In this notebook, you learned how Tool Agents can use context management to become even more helpful and effective programming assistants.\n",
    "\n",
    "When a Tool Agent can keep track of the specific details of your project, code, and development process, it can provide much more personalized and useful assistance. This can help you automate repetitive tasks, get better advice, and collaborate more effectively with your team.\n",
    "\n",
    "Think of your context-aware Tool Agent as an intelligent programming companion - someone who really understands your situation and can work alongside you to solve problems, refine your code, and make your job as a developer easier and more enjoyable. The more you work with your Tool Agent and provide it with context, the smarter and more valuable it will become.\n",
    "\n",
    "So don't be afraid to share information with your Tool Agent and let it learn about your specific needs and challenges. The more context it has, the better it can assist you in becoming a more efficient, productive, and happy developer."
   ]
  },
  {
   "cell_type": "markdown",
   "metadata": {},
   "source": []
  }
 ],
 "metadata": {
  "kernelspec": {
   "display_name": "swarmauri-0.5.1",
   "language": "python",
   "name": "python3"
  },
  "language_info": {
   "codemirror_mode": {
    "name": "ipython",
    "version": 3
   },
   "file_extension": ".py",
   "mimetype": "text/x-python",
   "name": "python",
   "nbconvert_exporter": "python",
   "pygments_lexer": "ipython3",
   "version": "3.12.7"
  }
 },
 "nbformat": 4,
 "nbformat_minor": 2
}
