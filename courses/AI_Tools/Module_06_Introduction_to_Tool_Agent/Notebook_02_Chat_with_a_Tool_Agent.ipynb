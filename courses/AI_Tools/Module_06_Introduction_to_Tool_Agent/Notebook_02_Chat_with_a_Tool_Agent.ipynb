{
 "cells": [
  {
   "cell_type": "markdown",
   "metadata": {},
   "source": [
    "# **Chat with a Tool Agent**\n",
    "\n",
    "## **Introduction: A Helpful Programming Friend**\n",
    "In the fast-paced world of software development, effective communication and collaboration are crucial. The Swarmauri library takes this concept a step further by introducing Tool Agents - AI-powered programming assistants that can engage in natural language conversations to assist developers with a wide range of tasks.\n",
    "Imagine you have a really knowledgeable programming friend who's always available to chat and help you out. That's kind of what a Conversational Tool Agent is.\n",
    "\n",
    "In this notebook, we'll explore how to create a Tool Agent that can communicate with you, understand your requests, and provide tailored solutions. \n",
    "\n",
    "\n",
    "## **Why Use a Conversational Tool Agent?**\n",
    "Talking to a Tool Agent has a few big advantages:\n",
    "\n",
    "1. **Natural Communication**: You can just chat with it like you would with a person, using normal language. No need to learn any special commands or interfaces.\n",
    "2. **Context-aware Assistance**: The Tool Agent can remember what you've been talking about and provide answers that are tailored to your specific needs.\n",
    "3. **Collaborative Problem-solving**: By going back and forth with the Tool Agent, you can work together to find the best solutions to your problems.\n",
    "4. **Shared Knowledge**: As more developers chat with the Tool Agent, it can build up a wealth of knowledge that everyone can benefit from.\n",
    "\n",
    "## **Creating a Conversational Tool Agent**\n",
    "Let's see how we can build a Tool Agent that can chat with us about doing complex maths.\n",
    "\n",
    "### **Step 1: Gather the Pieces**\n",
    "First, we need to import the Swarmauri components we'll use to create our Conversational Tool Agent:"
   ]
  },
  {
   "cell_type": "code",
   "execution_count": 1,
   "metadata": {},
   "outputs": [
    {
     "data": {
      "text/plain": [
       "True"
      ]
     },
     "execution_count": 1,
     "metadata": {},
     "output_type": "execute_result"
    }
   ],
   "source": [
    "from swarmauri.llms.concrete.GroqToolModel import GroqToolModel\n",
    "from swarmauri.conversations.concrete.Conversation import Conversation\n",
    "from swarmauri.tools.concrete.CalculatorTool import CalculatorTool\n",
    "from swarmauri.toolkits.concrete.Toolkit import Toolkit\n",
    "from swarmauri.agents.concrete import ToolAgent\n",
    "from dotenv import load_dotenv\n",
    "import os\n",
    "load_dotenv()"
   ]
  },
  {
   "cell_type": "markdown",
   "metadata": {},
   "source": [
    "\n",
    "### **Step 2: Put It All Together**\n",
    "Now, let's create the components we need to make our Conversational Tool Agent:"
   ]
  },
  {
   "cell_type": "code",
   "execution_count": 2,
   "metadata": {},
   "outputs": [],
   "source": [
    "API_KEY = os.getenv(\"GROQ_API_KEY\")\n",
    "llm = GroqToolModel(api_key=API_KEY)\n",
    "conversation = Conversation()\n",
    "toolkit = Toolkit()\n",
    "tool = CalculatorTool()\n",
    "toolkit.add_tool(tool)\n",
    "agent = ToolAgent(llm=llm, conversation=conversation, toolkit=toolkit)"
   ]
  },
  {
   "cell_type": "markdown",
   "metadata": {},
   "source": [
    "**In this example, we've integrated the CalculatorTool into the agent's toolkit, allowing it to perform a wider range of mathematical operations beyond simple addition.**\n",
    "### **Step 3: Chat with Your Tool Agent**\n",
    "**Now, let's engage in a conversation with the tool agent:**"
   ]
  },
  {
   "cell_type": "code",
   "execution_count": 3,
   "metadata": {},
   "outputs": [
    {
     "name": "stdout",
     "output_type": "stream",
     "text": [
      "The result of multiplying 42 by 17 is 714.\n"
     ]
    }
   ],
   "source": [
    "user_input = \"What is 42 * 17?\"\n",
    "result = agent.exec(user_input)\n",
    "print(result)\n",
    "\n"
   ]
  },
  {
   "cell_type": "code",
   "execution_count": 11,
   "metadata": {},
   "outputs": [
    {
     "name": "stdout",
     "output_type": "stream",
     "text": [
      "The result of multiplying 25 by 17 is 425.\n"
     ]
    }
   ],
   "source": [
    "user_input = \"Great, now can you multiply 25 by 17?\"\n",
    "response = agent.exec(user_input)\n",
    "print(response)\n"
   ]
  },
  {
   "cell_type": "markdown",
   "metadata": {},
   "source": [
    "\n",
    "## **Conclusion:** \n",
    "In this notebook, you learned how to create a Conversational Tool Agent - an AI assistant that you can chat with to get help with all sorts of  tasks. we've explored the concept of chatting with a tool agent using the Swarmauri library. We've seen how tool agents can be equipped with specialized tools, such as the CalculatorTool, and how they can engage in natural language conversations to assist users with a wide range of tasks.\n",
    "\n",
    "A Conversational Tool Agent is like having a super knowledgeable friend who's always there to lend a hand. You can ask it questions, get context-aware answers, and even work together to solve problems. And as more developers chat with the Tool Agent, it can build up a wealth of shared knowledge that everyone can benefit from.\n",
    "\n",
    "So think of your Conversational Tool Agent as a friendly, helpful  companion. Ask it for advice, bounce ideas off of it, and let it take care of the boring stuff so you can focus on the fun, creative parts of your job. The more you chat with it, the more useful it'll become!"
   ]
  }
 ],
 "metadata": {
  "kernelspec": {
   "display_name": "swarmauri-0.5.1",
   "language": "python",
   "name": "python3"
  },
  "language_info": {
   "codemirror_mode": {
    "name": "ipython",
    "version": 3
   },
   "file_extension": ".py",
   "mimetype": "text/x-python",
   "name": "python",
   "nbconvert_exporter": "python",
   "pygments_lexer": "ipython3",
   "version": "3.12.7"
  }
 },
 "nbformat": 4,
 "nbformat_minor": 2
}
