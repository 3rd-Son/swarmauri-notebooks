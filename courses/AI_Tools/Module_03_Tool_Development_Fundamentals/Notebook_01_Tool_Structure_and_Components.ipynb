{
 "cells": [
  {
   "cell_type": "markdown",
   "metadata": {},
   "source": [
    "# **Notebook 01: Tool Structure and Components**\n",
    "\n",
    "## **Introduction**\n",
    "Tools in software development are essential pieces of code that perform specific tasks. In the swarmauri library, tools are designed to be simple, reusable components that can be easily integrated into larger systems. This notebook demonstrates three fundamental tools: a Calculator, a Text Length Analyzer, and a Code Interpreter.\n",
    "\n",
    "## **Why These Tools?**\n",
    "- **Calculator Tool**: For basic mathematical operations\n",
    "- **Text Length Tool**: For analyzing text properties\n",
    "- **Code Interpreter Tool**: For executing Python code snippets\n",
    "\n",
    "## **Basic Implementation Examples**\n",
    "\n",
    "### **1. Calculator Tool**"
   ]
  },
  {
   "cell_type": "code",
   "execution_count": 1,
   "metadata": {},
   "outputs": [],
   "source": [
    "from swarmauri.tools.concrete import CalculatorTool"
   ]
  },
  {
   "cell_type": "markdown",
   "metadata": {},
   "source": [
    "**Create a calculator instance**"
   ]
  },
  {
   "cell_type": "code",
   "execution_count": 2,
   "metadata": {},
   "outputs": [],
   "source": [
    "\n",
    "calculator = CalculatorTool()"
   ]
  },
  {
   "cell_type": "markdown",
   "metadata": {},
   "source": [
    "**Perform basic calculations**"
   ]
  },
  {
   "cell_type": "code",
   "execution_count": 3,
   "metadata": {},
   "outputs": [
    {
     "name": "stdout",
     "output_type": "stream",
     "text": [
      "Addition Result: 8\n",
      "Subtraction Result: 6\n",
      "Multiplication Result: 12\n",
      "Division Result: 5.0\n"
     ]
    }
   ],
   "source": [
    "addition_result = calculator('add', 5, 3)\n",
    "print(f\"Addition Result: {addition_result['calculated_result']}\")  \n",
    "\n",
    "subtraction_result = calculator('subtract', 10, 4)\n",
    "print(f\"Subtraction Result: {subtraction_result['calculated_result']}\")  \n",
    "\n",
    "multiplication_result = calculator('multiply', 6, 2)\n",
    "print(f\"Multiplication Result: {multiplication_result['calculated_result']}\") \n",
    "\n",
    "division_result = calculator('divide', 15, 3)\n",
    "print(f\"Division Result: {division_result['calculated_result']}\")"
   ]
  },
  {
   "cell_type": "markdown",
   "metadata": {},
   "source": [
    "### **2. Text Length Tool**"
   ]
  },
  {
   "cell_type": "code",
   "execution_count": 4,
   "metadata": {},
   "outputs": [],
   "source": [
    "from swarmauri.tools.concrete import TextLengthTool"
   ]
  },
  {
   "cell_type": "markdown",
   "metadata": {},
   "source": [
    "**Create a text analyzer instance**"
   ]
  },
  {
   "cell_type": "code",
   "execution_count": 5,
   "metadata": {},
   "outputs": [],
   "source": [
    "text_analyzer = TextLengthTool()"
   ]
  },
  {
   "cell_type": "markdown",
   "metadata": {},
   "source": [
    "**Analyze a sample text**"
   ]
  },
  {
   "cell_type": "code",
   "execution_count": 6,
   "metadata": {},
   "outputs": [],
   "source": [
    "sample_text = \"Hello world! This is a test sentence. How are you?\"\n",
    "result = text_analyzer(sample_text)\n"
   ]
  },
  {
   "cell_type": "code",
   "execution_count": 7,
   "metadata": {},
   "outputs": [
    {
     "name": "stdout",
     "output_type": "stream",
     "text": [
      "Number of characters: 41\n",
      "Number of words: 13\n",
      "Number of sentences: 3\n"
     ]
    }
   ],
   "source": [
    "print(f\"Number of characters: {result['num_characters']}\")\n",
    "print(f\"Number of words: {result['num_words']}\")\n",
    "print(f\"Number of sentences: {result['num_sentences']}\")"
   ]
  },
  {
   "cell_type": "markdown",
   "metadata": {},
   "source": [
    "### **3. Code Interpreter Tool**"
   ]
  },
  {
   "cell_type": "code",
   "execution_count": null,
   "metadata": {},
   "outputs": [],
   "source": [
    "from swarmauri.tools.concrete import CodeInterpreterTool"
   ]
  },
  {
   "cell_type": "markdown",
   "metadata": {},
   "source": [
    "**Create a code interpreter instance**"
   ]
  },
  {
   "cell_type": "code",
   "execution_count": null,
   "metadata": {},
   "outputs": [],
   "source": [
    "interpreter = CodeInterpreterTool()"
   ]
  },
  {
   "cell_type": "markdown",
   "metadata": {},
   "source": [
    "**Execute a simple Python code**"
   ]
  },
  {
   "cell_type": "code",
   "execution_count": null,
   "metadata": {},
   "outputs": [],
   "source": [
    "python_code = \"\"\"\n",
    "x = 5\n",
    "y = 10\n",
    "print(f'Sum of {x} and {y} is: {x + y}')\n",
    "\"\"\""
   ]
  },
  {
   "cell_type": "code",
   "execution_count": null,
   "metadata": {},
   "outputs": [],
   "source": [
    "result = interpreter(python_code)\n",
    "print(\"Code Output:\", result['code_output'])"
   ]
  },
  {
   "cell_type": "markdown",
   "metadata": {},
   "source": [
    "\n",
    "\n",
    "## **Tool Components Explained**\n",
    "1. **Resource Type**: Each tool has a specific resource identifier ('Tool')\n",
    "2. **Tool Type**: Unique identifier for each tool type (e.g., 'CalculatorTool', 'TextLengthTool')\n",
    "3. **Tool ID**: Unique string identifier for each tool instance\n",
    "4. **Input Parameters**: Specific to each tool's functionality\n",
    "5. **Output Format**: Structured dictionary containing results\n"
   ]
  },
  {
   "cell_type": "markdown",
   "metadata": {},
   "source": [
    "\n",
    "## **Conclusion**\n",
    "The swarmauri library provides a straightforward way to implement common tools without complex programming patterns. These tools demonstrate:\n",
    "- Simple initialization and usage\n",
    "- Consistent input/output patterns\n",
    "- Clear error handling\n",
    "- Basic validation\n",
    "\n",
    "The tools are designed to be used independently or as part of a larger system, making them ideal building blocks for more complex applications. Each tool follows a similar pattern but serves a distinct purpose, showing how the library maintains consistency while providing varied functionality."
   ]
  }
 ],
 "metadata": {
  "kernelspec": {
   "display_name": "swarmauri-0.5.1",
   "language": "python",
   "name": "python3"
  },
  "language_info": {
   "codemirror_mode": {
    "name": "ipython",
    "version": 3
   },
   "file_extension": ".py",
   "mimetype": "text/x-python",
   "name": "python",
   "nbconvert_exporter": "python",
   "pygments_lexer": "ipython3",
   "version": "3.12.7"
  }
 },
 "nbformat": 4,
 "nbformat_minor": 2
}
