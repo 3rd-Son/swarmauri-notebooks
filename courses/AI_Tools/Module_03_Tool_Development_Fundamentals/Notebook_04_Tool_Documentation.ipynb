{
 "cells": [
  {
   "cell_type": "markdown",
   "metadata": {},
   "source": [
    "# **Notebook 04: Tool Documentation**\n",
    "\n",
    "## Introduction\n",
    "Good documentation is crucial for tool usability and maintenance. The swarmauri library emphasizes clear, comprehensive documentation for all its tools, making them easier to understand and use.\n",
    "\n",
    "## **Why Documentation?**\n",
    "- Help users understand tool functionality\n",
    "- Provide usage examples\n",
    "- Explain input/output requirements\n",
    "- Document error handling\n",
    "- Aid in maintenance\n",
    "\n",
    "## **Basic Documentation Examples**\n",
    "\n",
    "### **Calculator Tool Documentation**"
   ]
  },
  {
   "cell_type": "code",
   "execution_count": 1,
   "metadata": {},
   "outputs": [],
   "source": [
    "from swarmauri.tools.concrete import CalculatorTool"
   ]
  },
  {
   "cell_type": "markdown",
   "metadata": {},
   "source": [
    "**Tool Overview**"
   ]
  },
  {
   "cell_type": "code",
   "execution_count": 2,
   "metadata": {},
   "outputs": [
    {
     "data": {
      "text/plain": [
       "'\\nCalculatorTool: A simple calculator for basic arithmetic operations\\n\\nOperations:\\n- add: Addition of two numbers\\n- subtract: Subtraction of two numbers\\n- multiply: Multiplication of two numbers\\n- divide: Division of two numbers\\n\\nInput Parameters:\\n- operation (str): The arithmetic operation to perform\\n- num1 (float/int): First number\\n- num2 (float/int): Second number\\n\\nReturns:\\n- dict: Contains operation and calculated_result\\n'"
      ]
     },
     "execution_count": 2,
     "metadata": {},
     "output_type": "execute_result"
    }
   ],
   "source": [
    " \n",
    "\"\"\"\n",
    "CalculatorTool: A simple calculator for basic arithmetic operations\n",
    "\n",
    "Operations:\n",
    "- add: Addition of two numbers\n",
    "- subtract: Subtraction of two numbers\n",
    "- multiply: Multiplication of two numbers\n",
    "- divide: Division of two numbers\n",
    "\n",
    "Input Parameters:\n",
    "- operation (str): The arithmetic operation to perform\n",
    "- num1 (float/int): First number\n",
    "- num2 (float/int): Second number\n",
    "\n",
    "Returns:\n",
    "- dict: Contains operation and calculated_result\n",
    "\"\"\""
   ]
  },
  {
   "cell_type": "code",
   "execution_count": 3,
   "metadata": {},
   "outputs": [],
   "source": [
    "calculator = CalculatorTool()"
   ]
  },
  {
   "cell_type": "markdown",
   "metadata": {},
   "source": [
    "**Usage Example with Documentation**"
   ]
  },
  {
   "cell_type": "code",
   "execution_count": 4,
   "metadata": {},
   "outputs": [],
   "source": [
    "def calculator_example():\n",
    "    # Addition Example\n",
    "    result = calculator('add', 5, 3)\n",
    "    print(\"Addition:\", result)\n",
    "    \n",
    "    # Division Example\n",
    "    result = calculator('divide', 10, 2)\n",
    "    print(\"Division:\", result)"
   ]
  },
  {
   "cell_type": "markdown",
   "metadata": {},
   "source": [
    "### **Text Length Tool Documentation**"
   ]
  },
  {
   "cell_type": "code",
   "execution_count": 5,
   "metadata": {},
   "outputs": [],
   "source": [
    "from swarmauri.tools.concrete import TextLengthTool"
   ]
  },
  {
   "cell_type": "markdown",
   "metadata": {},
   "source": [
    "**Tool Overview**"
   ]
  },
  {
   "cell_type": "code",
   "execution_count": 6,
   "metadata": {},
   "outputs": [
    {
     "data": {
      "text/plain": [
       "'\\nTextLengthTool: Analyzes text properties\\n\\nFeatures:\\n- Counts total characters\\n- Counts words\\n- Counts sentences\\n\\nInput:\\n- text (str): The text to analyze\\n\\nReturns:\\n- dict: Contains num_characters, num_words, num_sentences\\n'"
      ]
     },
     "execution_count": 6,
     "metadata": {},
     "output_type": "execute_result"
    }
   ],
   "source": [
    "\"\"\"\n",
    "TextLengthTool: Analyzes text properties\n",
    "\n",
    "Features:\n",
    "- Counts total characters\n",
    "- Counts words\n",
    "- Counts sentences\n",
    "\n",
    "Input:\n",
    "- text (str): The text to analyze\n",
    "\n",
    "Returns:\n",
    "- dict: Contains num_characters, num_words, num_sentences\n",
    "\"\"\""
   ]
  },
  {
   "cell_type": "code",
   "execution_count": 7,
   "metadata": {},
   "outputs": [],
   "source": [
    "\n",
    "text_analyzer = TextLengthTool()"
   ]
  },
  {
   "cell_type": "markdown",
   "metadata": {},
   "source": [
    "**Usage Example with Documentation**"
   ]
  },
  {
   "cell_type": "code",
   "execution_count": 8,
   "metadata": {},
   "outputs": [],
   "source": [
    "def text_analyzer_example():\n",
    "    # Basic Usage\n",
    "    text = \"Hello world! This is a test.\"\n",
    "    result = text_analyzer(text)\n",
    "    print(\"Text Analysis:\", result)"
   ]
  },
  {
   "cell_type": "markdown",
   "metadata": {},
   "source": [
    "### **Code Interpreter Tool Documentation**"
   ]
  },
  {
   "cell_type": "code",
   "execution_count": 9,
   "metadata": {},
   "outputs": [],
   "source": [
    "from swarmauri.tools.concrete import CodeInterpreterTool"
   ]
  },
  {
   "cell_type": "markdown",
   "metadata": {},
   "source": [
    "**Tool Overview**"
   ]
  },
  {
   "cell_type": "code",
   "execution_count": 10,
   "metadata": {},
   "outputs": [
    {
     "data": {
      "text/plain": [
       "'\\nCodeInterpreterTool: Executes Python code snippets\\n\\nFeatures:\\n- Executes Python code\\n- Captures output\\n- Handles errors\\n\\nInput:\\n- code (str): Python code to execute\\n\\nReturns:\\n- dict: Contains code_output with execution results\\n'"
      ]
     },
     "execution_count": 10,
     "metadata": {},
     "output_type": "execute_result"
    }
   ],
   "source": [
    "\"\"\"\n",
    "CodeInterpreterTool: Executes Python code snippets\n",
    "\n",
    "Features:\n",
    "- Executes Python code\n",
    "- Captures output\n",
    "- Handles errors\n",
    "\n",
    "Input:\n",
    "- code (str): Python code to execute\n",
    "\n",
    "Returns:\n",
    "- dict: Contains code_output with execution results\n",
    "\"\"\""
   ]
  },
  {
   "cell_type": "code",
   "execution_count": 11,
   "metadata": {},
   "outputs": [],
   "source": [
    "interpreter = CodeInterpreterTool()"
   ]
  },
  {
   "cell_type": "markdown",
   "metadata": {},
   "source": [
    "**Usage Example with Documentation**"
   ]
  },
  {
   "cell_type": "code",
   "execution_count": 12,
   "metadata": {},
   "outputs": [],
   "source": [
    "\n",
    "def interpreter_example():\n",
    "    # Simple Code Execution\n",
    "    code = \"\"\"\n",
    "    x = 5\n",
    "    y = 10\n",
    "    print(f'Sum: {x + y}')\n",
    "    \"\"\"\n",
    "    result = interpreter(code)\n",
    "    print(\"Code Output:\", result)"
   ]
  },
  {
   "cell_type": "markdown",
   "metadata": {},
   "source": [
    "\n",
    "\n",
    "## **Documentation Components**\n",
    "1. **Tool Overview**:\n",
    "   - Purpose and functionality\n",
    "   - Key features\n",
    "   - Use cases\n",
    "\n",
    "2. **Input/Output Specifications**:\n",
    "   - Parameter descriptions\n",
    "   - Return value formats\n",
    "   - Type information\n",
    "\n",
    "3. **Usage Examples**:\n",
    "   - Basic examples\n",
    "   - Common use cases\n",
    "   - Error scenarios\n",
    "\n",
    "4. **Error Handling**:\n",
    "   - Common errors\n",
    "   - Error messages\n",
    "   - Recovery strategies\n",
    "\n",
    "## **Conclusion**\n",
    "Good documentation is as important as the code itself. The swarmauri library's documentation:\n",
    "- Makes tools easier to use\n",
    "- Reduces learning curve\n",
    "- Improves maintenance\n",
    "- Helps troubleshooting\n",
    "- Enables better integration\n",
    "\n",
    "These examples show how to document tools effectively while maintaining simplicity and clarity. The documentation patterns can be applied consistently across different tools, making the library more cohesive and user-friendly."
   ]
  },
  {
   "cell_type": "code",
   "execution_count": null,
   "metadata": {},
   "outputs": [],
   "source": []
  },
  {
   "cell_type": "markdown",
   "metadata": {},
   "source": []
  },
  {
   "cell_type": "code",
   "execution_count": null,
   "metadata": {},
   "outputs": [],
   "source": []
  },
  {
   "cell_type": "markdown",
   "metadata": {},
   "source": []
  }
 ],
 "metadata": {
  "kernelspec": {
   "display_name": "swarmauri-0.5.1",
   "language": "python",
   "name": "python3"
  },
  "language_info": {
   "codemirror_mode": {
    "name": "ipython",
    "version": 3
   },
   "file_extension": ".py",
   "mimetype": "text/x-python",
   "name": "python",
   "nbconvert_exporter": "python",
   "pygments_lexer": "ipython3",
   "version": "3.12.7"
  }
 },
 "nbformat": 4,
 "nbformat_minor": 2
}
