{
 "cells": [
  {
   "cell_type": "markdown",
   "metadata": {},
   "source": [
    "# **Notebook 02: Input/Output Schemas**\n",
    "\n",
    "## Introduction\n",
    "Input/Output (I/O) schemas define the structure and validation rules for data flowing through tools. The swarmauri library implements clear I/O patterns for each tool, ensuring data consistency and reliability.\n",
    "\n",
    "## **Why I/O Schemas?**\n",
    "- Validate input data before processing\n",
    "- Ensure consistent output formats\n",
    "- Prevent errors from invalid data\n",
    "- Make tools more reliable and maintainable\n",
    "\n",
    "## **Basic Implementation Examples**\n",
    "\n",
    "### **Calculator Tool I/O Schema**"
   ]
  },
  {
   "cell_type": "code",
   "execution_count": 1,
   "metadata": {},
   "outputs": [],
   "source": [
    "from swarmauri.tools.concrete import CalculatorTool\n",
    "calculator = CalculatorTool()"
   ]
  },
  {
   "cell_type": "markdown",
   "metadata": {},
   "source": [
    "**Input Schema Example**"
   ]
  },
  {
   "cell_type": "code",
   "execution_count": 2,
   "metadata": {},
   "outputs": [
    {
     "name": "stdout",
     "output_type": "stream",
     "text": [
      "Valid Input Result: {'operation': 'add', 'calculated_result': '8'}\n"
     ]
    }
   ],
   "source": [
    "valid_input = calculator('add', 5, 3)\n",
    "print(\"Valid Input Result:\", valid_input)"
   ]
  },
  {
   "cell_type": "markdown",
   "metadata": {},
   "source": [
    "**Invalid Input Handling**"
   ]
  },
  {
   "cell_type": "code",
   "execution_count": 6,
   "metadata": {},
   "outputs": [],
   "source": [
    "try:\n",
    "    invalid_input = calculator('unknown', 5, 3)\n",
    "except Exception as e:\n",
    "    print(\"Invalid Operation Error:\", str(e))"
   ]
  },
  {
   "cell_type": "markdown",
   "metadata": {},
   "source": [
    "**Output Schema Example**"
   ]
  },
  {
   "cell_type": "code",
   "execution_count": 4,
   "metadata": {},
   "outputs": [
    {
     "name": "stdout",
     "output_type": "stream",
     "text": [
      "Output Schema Structure: dict_keys(['operation', 'calculated_result'])\n",
      "Calculation Result: 5.0\n"
     ]
    }
   ],
   "source": [
    "division_result = calculator('divide', 10, 2)\n",
    "print(\"Output Schema Structure:\", division_result.keys())\n",
    "print(\"Calculation Result:\", division_result['calculated_result'])"
   ]
  },
  {
   "cell_type": "markdown",
   "metadata": {},
   "source": [
    "**### Text Length Tool I/O Schema**"
   ]
  },
  {
   "cell_type": "code",
   "execution_count": 5,
   "metadata": {},
   "outputs": [],
   "source": [
    "from swarmauri.tools.concrete import TextLengthTool\n",
    "\n",
    "text_analyzer = TextLengthTool()"
   ]
  },
  {
   "cell_type": "markdown",
   "metadata": {},
   "source": [
    "**Input Schema**"
   ]
  },
  {
   "cell_type": "code",
   "execution_count": 7,
   "metadata": {},
   "outputs": [],
   "source": [
    "sample_text = \"Hello! This is a test.\"\n",
    "result = text_analyzer(sample_text)"
   ]
  },
  {
   "cell_type": "markdown",
   "metadata": {},
   "source": [
    "**Output Schema Structure**"
   ]
  },
  {
   "cell_type": "code",
   "execution_count": 8,
   "metadata": {},
   "outputs": [
    {
     "name": "stdout",
     "output_type": "stream",
     "text": [
      "Output Keys: dict_keys(['num_characters', 'num_words', 'num_sentences'])\n",
      "Character Count: 18\n",
      "Word Count: 7\n",
      "Sentence Count: 2\n"
     ]
    }
   ],
   "source": [
    "print(\"Output Keys:\", result.keys())\n",
    "print(\"Character Count:\", result['num_characters'])\n",
    "print(\"Word Count:\", result['num_words'])\n",
    "print(\"Sentence Count:\", result['num_sentences'])"
   ]
  },
  {
   "cell_type": "markdown",
   "metadata": {},
   "source": [
    "**Empty Input Handling**"
   ]
  },
  {
   "cell_type": "code",
   "execution_count": 9,
   "metadata": {},
   "outputs": [
    {
     "name": "stdout",
     "output_type": "stream",
     "text": [
      "Empty Text Analysis: {'num_characters': 0, 'num_words': 0, 'num_sentences': 0}\n"
     ]
    }
   ],
   "source": [
    "empty_result = text_analyzer(\"\")\n",
    "print(\"Empty Text Analysis:\", empty_result)"
   ]
  },
  {
   "cell_type": "markdown",
   "metadata": {},
   "source": [
    "**### Code Interpreter Tool I/O Schema**"
   ]
  },
  {
   "cell_type": "code",
   "execution_count": 10,
   "metadata": {},
   "outputs": [],
   "source": [
    "from swarmauri.tools.concrete import CodeInterpreterTool\n",
    "\n",
    "interpreter = CodeInterpreterTool()"
   ]
  },
  {
   "cell_type": "markdown",
   "metadata": {},
   "source": [
    "**Valid Python Code Input**"
   ]
  },
  {
   "cell_type": "code",
   "execution_count": 11,
   "metadata": {},
   "outputs": [
    {
     "name": "stdout",
     "output_type": "stream",
     "text": [
      "Code Output: Testing code execution\n",
      "Result: 8\n",
      "\n"
     ]
    }
   ],
   "source": [
    "\n",
    "valid_code = \"\"\"\n",
    "print('Testing code execution')\n",
    "x = 5 + 3\n",
    "print(f'Result: {x}')\n",
    "\"\"\"\n",
    "result = interpreter(valid_code)\n",
    "print(\"Code Output:\", result['code_output'])"
   ]
  },
  {
   "cell_type": "markdown",
   "metadata": {},
   "source": [
    "**Invalid Code Handling**"
   ]
  },
  {
   "cell_type": "code",
   "execution_count": 12,
   "metadata": {},
   "outputs": [
    {
     "name": "stdout",
     "output_type": "stream",
     "text": [
      "Error Output: An error occurred: name 'undefined_variable' is not defined\n"
     ]
    }
   ],
   "source": [
    "invalid_code = \"print(undefined_variable)\"\n",
    "try:\n",
    "    error_result = interpreter(invalid_code)\n",
    "    print(\"Error Output:\", error_result['code_output'])\n",
    "except Exception as e:\n",
    "    print(\"Code Error:\", str(e))"
   ]
  },
  {
   "cell_type": "markdown",
   "metadata": {},
   "source": [
    "\n",
    "\n",
    "\n",
    "\n",
    "\n",
    "\n",
    "## **Schema Components**\n",
    "1. **Input Validation**:\n",
    "   - Data type checking\n",
    "   - Value range validation\n",
    "   - Required field verification\n",
    "\n",
    "2. **Output Structure**:\n",
    "   - Consistent dictionary format\n",
    "   - Required return fields\n",
    "   - Error message formatting\n",
    "\n",
    "## **Conclusion**\n",
    "Understanding I/O schemas is crucial for reliable tool development. The swarmauri library implements these schemas to:\n",
    "- Ensure data quality\n",
    "- Provide consistent error handling\n",
    "- Make tools more maintainable\n",
    "- Enable easy integration with other systems\n",
    "\n",
    "The examples demonstrate how each tool handles different types of input and produces structured output, making them reliable and predictable components in larger systems."
   ]
  }
 ],
 "metadata": {
  "kernelspec": {
   "display_name": "swarmauri-0.5.1",
   "language": "python",
   "name": "python3"
  },
  "language_info": {
   "codemirror_mode": {
    "name": "ipython",
    "version": 3
   },
   "file_extension": ".py",
   "mimetype": "text/x-python",
   "name": "python",
   "nbconvert_exporter": "python",
   "pygments_lexer": "ipython3",
   "version": "3.12.7"
  }
 },
 "nbformat": 4,
 "nbformat_minor": 2
}
