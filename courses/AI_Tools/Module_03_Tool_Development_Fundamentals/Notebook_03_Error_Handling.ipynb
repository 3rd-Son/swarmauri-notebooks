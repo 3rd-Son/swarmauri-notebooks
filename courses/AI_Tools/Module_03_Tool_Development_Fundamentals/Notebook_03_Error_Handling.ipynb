{
 "cells": [
  {
   "cell_type": "markdown",
   "metadata": {},
   "source": [
    "# **Notebook 03: Error Handling**\n",
    "\n",
    "## Introduction\n",
    "Error handling is crucial for building robust and reliable tools. The swarmauri library implements comprehensive error handling to manage unexpected situations gracefully and provide meaningful feedback to users.\n",
    "\n",
    "## **Why Error Handling?**\n",
    "- Prevent application crashes\n",
    "- Provide clear feedback to users\n",
    "- Handle edge cases gracefully\n",
    "- Make debugging easier\n",
    "\n",
    "## **Basic Implementation Examples**\n",
    "\n",
    "### **1. Calculator Tool**"
   ]
  },
  {
   "cell_type": "code",
   "execution_count": 1,
   "metadata": {},
   "outputs": [],
   "source": [
    "from swarmauri.tools.concrete import CalculatorTool\n"
   ]
  },
  {
   "cell_type": "markdown",
   "metadata": {},
   "source": [
    "**Create a calculator instance**"
   ]
  },
  {
   "cell_type": "code",
   "execution_count": 2,
   "metadata": {},
   "outputs": [],
   "source": [
    "calculator = CalculatorTool()"
   ]
  },
  {
   "cell_type": "markdown",
   "metadata": {},
   "source": [
    "**Division by Zero Error**"
   ]
  },
  {
   "cell_type": "code",
   "execution_count": 3,
   "metadata": {},
   "outputs": [],
   "source": [
    "try:\n",
    "    result = calculator('divide', 10, 0)\n",
    "except Exception as e:\n",
    "    print(\"Division Error:\", str(e))"
   ]
  },
  {
   "cell_type": "markdown",
   "metadata": {},
   "source": [
    "**Invalid Operation Error**"
   ]
  },
  {
   "cell_type": "code",
   "execution_count": 4,
   "metadata": {},
   "outputs": [],
   "source": [
    "try:\n",
    "    result = calculator('invalid_op', 5, 3)\n",
    "except Exception as e:\n",
    "    print(\"Operation Error:\", str(e))"
   ]
  },
  {
   "cell_type": "markdown",
   "metadata": {},
   "source": [
    "**Type Error Handling**"
   ]
  },
  {
   "cell_type": "code",
   "execution_count": 5,
   "metadata": {},
   "outputs": [],
   "source": [
    "try:\n",
    "    result = calculator('add', \"five\", 3)\n",
    "except Exception as e:\n",
    "    print(\"Type Error:\", str(e))"
   ]
  },
  {
   "cell_type": "markdown",
   "metadata": {},
   "source": [
    "**### Text Length Tool Error Handling**"
   ]
  },
  {
   "cell_type": "code",
   "execution_count": 6,
   "metadata": {},
   "outputs": [],
   "source": [
    "from swarmauri.tools.concrete import TextLengthTool\n",
    "\n",
    "text_analyzer = TextLengthTool()"
   ]
  },
  {
   "cell_type": "markdown",
   "metadata": {},
   "source": [
    "**None Input Error**"
   ]
  },
  {
   "cell_type": "code",
   "execution_count": 7,
   "metadata": {},
   "outputs": [
    {
     "name": "stdout",
     "output_type": "stream",
     "text": [
      "None Input Error: 'NoneType' object has no attribute 'replace'\n"
     ]
    }
   ],
   "source": [
    "try:\n",
    "    result = text_analyzer(None)\n",
    "except Exception as e:\n",
    "    print(\"None Input Error:\", str(e))"
   ]
  },
  {
   "cell_type": "markdown",
   "metadata": {},
   "source": [
    "**Invalid Input Type**"
   ]
  },
  {
   "cell_type": "code",
   "execution_count": 8,
   "metadata": {},
   "outputs": [
    {
     "name": "stdout",
     "output_type": "stream",
     "text": [
      "Type Error: 'int' object has no attribute 'replace'\n"
     ]
    }
   ],
   "source": [
    "try:\n",
    "    result = text_analyzer(123)\n",
    "except Exception as e:\n",
    "    print(\"Type Error:\", str(e))\n"
   ]
  },
  {
   "cell_type": "markdown",
   "metadata": {},
   "source": [
    "**Empty String Handling**"
   ]
  },
  {
   "cell_type": "code",
   "execution_count": 9,
   "metadata": {},
   "outputs": [
    {
     "name": "stdout",
     "output_type": "stream",
     "text": [
      "Empty String Result: {'num_characters': 0, 'num_words': 0, 'num_sentences': 0}\n"
     ]
    }
   ],
   "source": [
    "empty_result = text_analyzer(\"\")\n",
    "print(\"Empty String Result:\", empty_result)"
   ]
  },
  {
   "cell_type": "markdown",
   "metadata": {},
   "source": [
    "### **Code Interpreter Tool Error Handling**"
   ]
  },
  {
   "cell_type": "code",
   "execution_count": 10,
   "metadata": {},
   "outputs": [],
   "source": [
    "from swarmauri.tools.concrete import CodeInterpreterTool\n",
    "\n",
    "interpreter = CodeInterpreterTool()"
   ]
  },
  {
   "cell_type": "markdown",
   "metadata": {},
   "source": [
    "**Syntax Error Handling**"
   ]
  },
  {
   "cell_type": "code",
   "execution_count": 11,
   "metadata": {},
   "outputs": [],
   "source": [
    "invalid_syntax = \"\"\"\n",
    "if True\n",
    "    print(\"Missing colon\")\n",
    "\"\"\"\n",
    "try:\n",
    "    result = interpreter(invalid_syntax)\n",
    "except Exception as e:\n",
    "    print(\"Syntax Error:\", str(e))"
   ]
  },
  {
   "cell_type": "markdown",
   "metadata": {},
   "source": [
    "**Name Error Handling**"
   ]
  },
  {
   "cell_type": "code",
   "execution_count": 12,
   "metadata": {},
   "outputs": [],
   "source": [
    "undefined_variable = \"\"\"\n",
    "print(undefined_variable)\n",
    "\"\"\"\n",
    "try:\n",
    "    result = interpreter(undefined_variable)\n",
    "except Exception as e:\n",
    "    print(\"Name Error:\", str(e))"
   ]
  },
  {
   "cell_type": "markdown",
   "metadata": {},
   "source": [
    "**Timeout Error Handling**"
   ]
  },
  {
   "cell_type": "code",
   "execution_count": null,
   "metadata": {},
   "outputs": [],
   "source": [
    "infinite_loop = \"\"\"\n",
    "while True:\n",
    "    pass\n",
    "\"\"\"\n",
    "try:\n",
    "    result = interpreter(infinite_loop)\n",
    "except Exception as e:\n",
    "    print(\"Timeout Error:\", str(e))"
   ]
  },
  {
   "cell_type": "markdown",
   "metadata": {},
   "source": [
    "\n",
    "\n",
    "## **Common Error Types and Handling**\n",
    "1. **Input Validation Errors**:\n",
    "   - Type checking\n",
    "   - Value range validation\n",
    "   - Required field verification\n",
    "\n",
    "2. **Runtime Errors**:\n",
    "   - Division by zero\n",
    "   - Memory errors\n",
    "   - Timeout errors\n",
    "\n",
    "3. **Logical Errors**:\n",
    "   - Invalid operations\n",
    "   - Incorrect calculations\n",
    "   - Unexpected results\n",
    "\n",
    "## **Conclusion**\n",
    "Proper error handling is essential for creating reliable tools. The swarmauri library implements comprehensive error handling that:\n",
    "- Catches and handles common errors\n",
    "- Provides clear error messages\n",
    "- Prevents system crashes\n",
    "- Makes debugging easier\n",
    "- Improves user experience\n",
    "\n",
    "These examples demonstrate how to handle various error scenarios in a clear and consistent way."
   ]
  }
 ],
 "metadata": {
  "kernelspec": {
   "display_name": "swarmauri-0.5.1",
   "language": "python",
   "name": "python3"
  },
  "language_info": {
   "codemirror_mode": {
    "name": "ipython",
    "version": 3
   },
   "file_extension": ".py",
   "mimetype": "text/x-python",
   "name": "python",
   "nbconvert_exporter": "python",
   "pygments_lexer": "ipython3",
   "version": "3.12.7"
  }
 },
 "nbformat": 4,
 "nbformat_minor": 2
}
