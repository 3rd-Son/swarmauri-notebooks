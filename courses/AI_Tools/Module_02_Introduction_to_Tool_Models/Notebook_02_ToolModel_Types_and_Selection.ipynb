{
 "cells": [
  {
   "cell_type": "markdown",
   "metadata": {},
   "source": [
    "# **Notebook 2: ToolModel Types and Selection**\n",
    "\n",
    "## **Introduction**\n",
    "In this notebook, we'll explore different types of tool models available in the Swarmauri library and learn how to select the right tool for specific tasks. We'll examine each tool type's characteristics, use cases, and provide practical examples of when to use each one.\n",
    "\n",
    "## **Types of Tools in Swarmauri**\n",
    "\n",
    "### **1. Mathematical Operation Tools**\n",
    "\n",
    "#### **Addition Tool**\n",
    "Best for simple addition operations:"
   ]
  },
  {
   "cell_type": "code",
   "execution_count": 2,
   "metadata": {},
   "outputs": [],
   "source": [
    "from swarmauri.tools.concrete import AdditionTool"
   ]
  },
  {
   "cell_type": "markdown",
   "metadata": {},
   "source": [
    "**Simple addition example**"
   ]
  },
  {
   "cell_type": "code",
   "execution_count": 3,
   "metadata": {},
   "outputs": [],
   "source": [
    "add_tool = AdditionTool()"
   ]
  },
  {
   "cell_type": "markdown",
   "metadata": {},
   "source": [
    "**Integer addition**"
   ]
  },
  {
   "cell_type": "code",
   "execution_count": 4,
   "metadata": {},
   "outputs": [
    {
     "name": "stdout",
     "output_type": "stream",
     "text": [
      "{'sum': '8'}\n"
     ]
    }
   ],
   "source": [
    "result1 = add_tool(5, 3)\n",
    "print(result1)  # Output: {'sum': '8'}"
   ]
  },
  {
   "cell_type": "markdown",
   "metadata": {},
   "source": [
    "**Floating point addition**"
   ]
  },
  {
   "cell_type": "code",
   "execution_count": 5,
   "metadata": {},
   "outputs": [
    {
     "name": "stdout",
     "output_type": "stream",
     "text": [
      "{'sum': '6.0'}\n"
     ]
    }
   ],
   "source": [
    "result2 = add_tool(3.14, 2.86)\n",
    "print(result2)"
   ]
  },
  {
   "cell_type": "markdown",
   "metadata": {},
   "source": [
    "#### **Calculator Tool**\n",
    "**Best for multiple mathematical operations:**"
   ]
  },
  {
   "cell_type": "code",
   "execution_count": 6,
   "metadata": {},
   "outputs": [],
   "source": [
    "from swarmauri.tools.concrete import CalculatorTool\n",
    "\n",
    "calc_tool = CalculatorTool()"
   ]
  },
  {
   "cell_type": "markdown",
   "metadata": {},
   "source": [
    "**Multiple operation examples**"
   ]
  },
  {
   "cell_type": "code",
   "execution_count": 7,
   "metadata": {},
   "outputs": [
    {
     "name": "stdout",
     "output_type": "stream",
     "text": [
      "{'operation': 'add', 'calculated_result': '15'}\n",
      "{'operation': 'multiply', 'calculated_result': '50'}\n",
      "{'operation': 'divide', 'calculated_result': '2.0'}\n"
     ]
    }
   ],
   "source": [
    "addition = calc_tool('add', 10, 5)\n",
    "print(addition) \n",
    "\n",
    "multiplication = calc_tool('multiply', 10, 5)\n",
    "print(multiplication)  \n",
    "\n",
    "division = calc_tool('divide', 10, 5)\n",
    "print(division) "
   ]
  },
  {
   "cell_type": "markdown",
   "metadata": {},
   "source": [
    "### **2. Text Analysis Tools**\n",
    "\n",
    "#### **Text Length Tool**\n",
    "**Best for text analysis and metrics:**"
   ]
  },
  {
   "cell_type": "code",
   "execution_count": 8,
   "metadata": {},
   "outputs": [],
   "source": [
    "from swarmauri.tools.concrete import TextLengthTool\n",
    "\n",
    "text_tool = TextLengthTool()"
   ]
  },
  {
   "cell_type": "markdown",
   "metadata": {},
   "source": [
    "**Analyze different types of text**"
   ]
  },
  {
   "cell_type": "code",
   "execution_count": 9,
   "metadata": {},
   "outputs": [
    {
     "name": "stdout",
     "output_type": "stream",
     "text": [
      "{'num_characters': 12, 'num_words': 4, 'num_sentences': 1}\n"
     ]
    }
   ],
   "source": [
    "\n",
    "simple_text = \"Hello, world!\"\n",
    "result1 = text_tool(simple_text)\n",
    "print(result1)"
   ]
  },
  {
   "cell_type": "markdown",
   "metadata": {},
   "source": [
    "**Shows character count, word count, and sentence count**"
   ]
  },
  {
   "cell_type": "code",
   "execution_count": 10,
   "metadata": {},
   "outputs": [
    {
     "name": "stdout",
     "output_type": "stream",
     "text": [
      "{'num_characters': 56, 'num_words': 15, 'num_sentences': 3}\n"
     ]
    }
   ],
   "source": [
    "\n",
    "\n",
    "complex_text = \"This is sentence one. This is sentence two! Is this sentence three?\"\n",
    "result2 = text_tool(complex_text)\n",
    "print(result2)"
   ]
  },
  {
   "cell_type": "code",
   "execution_count": 11,
   "metadata": {},
   "outputs": [
    {
     "name": "stdout",
     "output_type": "stream",
     "text": [
      "{'num_characters': 72, 'num_words': 17, 'num_sentences': 3}\n"
     ]
    }
   ],
   "source": [
    "document = \"\"\"This is a sample document. \n",
    "It has multiple sentences! \n",
    "How many sentences are there?\"\"\"\n",
    "\n",
    "metrics = text_tool(document)\n",
    "print(metrics)"
   ]
  },
  {
   "cell_type": "markdown",
   "metadata": {},
   "source": [
    "## **Tool Selection Guide**\n",
    "\n",
    "### **When to Use Each Tool**\n",
    "\n",
    "1. **Addition Tool**\n",
    "   - Simple addition operations\n",
    "   - Working with two numbers only\n",
    "   - Need for straightforward numerical addition\n",
    "\n",
    "2. **Calculator Tool**\n",
    "   - Multiple mathematical operations needed\n",
    "   - Complex calculations\n",
    "   - Need for flexibility in operation types\n",
    "   - Working with basic arithmetic (add, subtract, multiply, divide)\n",
    "\n",
    "3. **Text Length Tool**\n",
    "   - Text analysis requirements\n",
    "   - Need for multiple text metrics\n",
    "   - Document statistics\n",
    "   - Content length verification\n",
    "\n",
    "## **Selection Criteria Matrix**\n",
    "\n",
    "| Tool Type | Best For | Input Types | Output Format |\n",
    "|-----------|----------|-------------|---------------|\n",
    "| Addition Tool | Simple addition | Numbers (int/float) | {'sum': 'string'} |\n",
    "| Calculator Tool | Multiple operations | Operation name, two numbers | {'operation': 'string', 'calculated_result': 'string'} |\n",
    "| Text Length Tool | Text analysis | String | {'num_characters': int, 'num_words': int, 'num_sentences': int} |\n",
    "\n"
   ]
  },
  {
   "cell_type": "markdown",
   "metadata": {},
   "source": [
    "\n",
    "## **Best Practices for Tool Selection**\n",
    "\n",
    "1. **Start Simple**\n",
    "   - Begin with the most basic tool that meets your needs\n",
    "   - Upgrade to more complex tools only when necessary\n",
    "\n",
    "2. **Consider Input Types**\n",
    "   - Match your data types to the tool's expected input\n",
    "   - Check if type conversion is needed\n",
    "\n",
    "3. **Check Output Requirements**\n",
    "   - Verify if the tool's output format matches your needs\n",
    "   - Plan for any necessary output processing\n",
    "\n",
    "4. **Error Handling Needs**\n",
    "   - Consider how each tool handles edge cases\n",
    "   - Choose tools with appropriate error handling for your use case\n",
    "\n",
    "## **Conclusion**\n",
    "Selecting the right tool model is crucial for efficient and effective development. Remember:\n",
    "- Each tool has its specific use case and optimal scenarios\n",
    "- Consider the input/output requirements carefully\n",
    "- Start with simpler tools and progress to more complex ones as needed\n",
    "- Pay attention to error handling and edge cases\n",
    "- Match the tool's capabilities to your specific requirements\n",
    "\n",
    "**In the next notebook, we'll dive into setting up and configuring these tools for optimal performance.**"
   ]
  }
 ],
 "metadata": {
  "kernelspec": {
   "display_name": "swarmauri-0.5.1",
   "language": "python",
   "name": "python3"
  },
  "language_info": {
   "codemirror_mode": {
    "name": "ipython",
    "version": 3
   },
   "file_extension": ".py",
   "mimetype": "text/x-python",
   "name": "python",
   "nbconvert_exporter": "python",
   "pygments_lexer": "ipython3",
   "version": "3.12.7"
  }
 },
 "nbformat": 4,
 "nbformat_minor": 2
}
