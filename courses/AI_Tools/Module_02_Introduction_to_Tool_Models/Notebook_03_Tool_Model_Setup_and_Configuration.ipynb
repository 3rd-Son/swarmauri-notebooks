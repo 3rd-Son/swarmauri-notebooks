{
 "cells": [
  {
   "cell_type": "markdown",
   "metadata": {},
   "source": [
    "# **Notebook 3: Tool Model Setup and Configuration**\n",
    "\n",
    "## **Introduction**\n",
    "This notebook covers the practical aspects of setting up and configuring tool models in Swarmauri. We'll explore how to properly initialize tools, configure their settings, and ensure they're working correctly in your environment.\n",
    "\n",
    "## **Basic Tool Setup**\n",
    "\n",
    "### **1. Tool Initialization**\n",
    "\n",
    "**Basic initialization examples for different tools**"
   ]
  },
  {
   "cell_type": "code",
   "execution_count": 1,
   "metadata": {},
   "outputs": [],
   "source": [
    "# Basic initialization examples for different tools\n",
    "from swarmauri.tools.concrete import AdditionTool, CalculatorTool, TextLengthTool\n",
    "addition_tool = AdditionTool()\n",
    "calculator_tool = CalculatorTool()\n",
    "text_tool = TextLengthTool()"
   ]
  },
  {
   "cell_type": "markdown",
   "metadata": {},
   "source": [
    "**Verify tool properties**"
   ]
  },
  {
   "cell_type": "code",
   "execution_count": 3,
   "metadata": {},
   "outputs": [
    {
     "name": "stdout",
     "output_type": "stream",
     "text": [
      "Addition Tool ID: a71498b1-94d4-46af-93e3-1c38552402f2\n",
      "Addition Tool Type: AdditionTool\n",
      "Addition Tool Resource: Tool\n"
     ]
    }
   ],
   "source": [
    "print(f\"Addition Tool ID: {addition_tool.id}\")\n",
    "print(f\"Addition Tool Type: {addition_tool.type}\")\n",
    "print(f\"Addition Tool Resource: {addition_tool.resource}\")"
   ]
  },
  {
   "cell_type": "markdown",
   "metadata": {},
   "source": [
    "### **2. Verifying Tool Setup**"
   ]
  },
  {
   "cell_type": "markdown",
   "metadata": {},
   "source": [
    "#### **Verification examples for each tool type**\n",
    "\n",
    "**Addition Tool Verification**"
   ]
  },
  {
   "cell_type": "code",
   "execution_count": 9,
   "metadata": {},
   "outputs": [
    {
     "name": "stdout",
     "output_type": "stream",
     "text": [
      "Addition Test Result: {'sum': '8'}\n"
     ]
    },
    {
     "data": {
      "text/plain": [
       "True"
      ]
     },
     "execution_count": 9,
     "metadata": {},
     "output_type": "execute_result"
    }
   ],
   "source": [
    "\n",
    "def verify_addition_tool():\n",
    "    tool = AdditionTool()\n",
    "    test_result = tool(5, 3)\n",
    "    print(f\"Addition Test Result: {test_result}\")\n",
    "    return isinstance(test_result, dict) and 'sum' in test_result\n",
    "\n",
    "verify_addition_tool()"
   ]
  },
  {
   "cell_type": "markdown",
   "metadata": {},
   "source": [
    "**Calculator Tool Verification**"
   ]
  },
  {
   "cell_type": "code",
   "execution_count": 10,
   "metadata": {},
   "outputs": [
    {
     "name": "stdout",
     "output_type": "stream",
     "text": [
      "Calculator Test Result: {'operation': 'add', 'calculated_result': '8'}\n",
      "Calculator Test Result: {'operation': 'subtract', 'calculated_result': '2'}\n",
      "Calculator Test Result: {'operation': 'multiply', 'calculated_result': '15'}\n",
      "Calculator Test Result: {'operation': 'divide', 'calculated_result': '3.0'}\n"
     ]
    },
    {
     "data": {
      "text/plain": [
       "True"
      ]
     },
     "execution_count": 10,
     "metadata": {},
     "output_type": "execute_result"
    }
   ],
   "source": [
    "def verify_calculator_tool():\n",
    "    tool = CalculatorTool()\n",
    "    test_results = [\n",
    "        tool('add', 5, 3),\n",
    "        tool('subtract', 5, 3),\n",
    "        tool('multiply', 5, 3),\n",
    "        tool('divide', 6, 2)\n",
    "    ]\n",
    "    for result in test_results:\n",
    "        print(f\"Calculator Test Result: {result}\")\n",
    "    return all(isinstance(r, dict) for r in test_results)\n",
    "verify_calculator_tool()"
   ]
  },
  {
   "cell_type": "markdown",
   "metadata": {},
   "source": [
    "**Text Tool Verification**"
   ]
  },
  {
   "cell_type": "code",
   "execution_count": 11,
   "metadata": {},
   "outputs": [
    {
     "name": "stdout",
     "output_type": "stream",
     "text": [
      "Text Analysis Test Result: {'num_characters': 13, 'num_words': 3, 'num_sentences': 1}\n"
     ]
    },
    {
     "data": {
      "text/plain": [
       "True"
      ]
     },
     "execution_count": 11,
     "metadata": {},
     "output_type": "execute_result"
    }
   ],
   "source": [
    "def verify_text_tool():\n",
    "    tool = TextLengthTool()\n",
    "    test_result = tool(\"Test sentence.\")\n",
    "    print(f\"Text Analysis Test Result: {test_result}\")\n",
    "    return isinstance(test_result, dict)\n",
    "verify_text_tool()"
   ]
  },
  {
   "cell_type": "markdown",
   "metadata": {},
   "source": [
    "## **Tool Configuration Settings**\n",
    "\n",
    "### **1. Basic Configuration**\n",
    "\n",
    "#### **Demonstrating tool configuration options**"
   ]
  },
  {
   "cell_type": "code",
   "execution_count": 12,
   "metadata": {},
   "outputs": [
    {
     "name": "stdout",
     "output_type": "stream",
     "text": [
      "Tool Path: /Tool/AdditionTool/8ae4ef3e-5d42-4150-91dd-466ab3bc4007\n",
      "Tool ID: 8ae4ef3e-5d42-4150-91dd-466ab3bc4007\n",
      "Tool Path: /Tool/CalculatorTool/2d2afea5-ec08-4676-9476-a481eca769ac\n",
      "Tool ID: 2d2afea5-ec08-4676-9476-a481eca769ac\n"
     ]
    }
   ],
   "source": [
    "# Addition Tool\n",
    "addition_tool = AdditionTool()\n",
    "print(f\"Tool Path: {addition_tool.swm_path}\")\n",
    "print(f\"Tool ID: {addition_tool.id}\")\n",
    "\n",
    "# Calculator Tool\n",
    "calculator_tool = CalculatorTool()\n",
    "print(f\"Tool Path: {calculator_tool.swm_path}\")\n",
    "print(f\"Tool ID: {calculator_tool.id}\")"
   ]
  },
  {
   "cell_type": "markdown",
   "metadata": {},
   "source": [
    "### **2. Tool Serialization**\n",
    "\n",
    "\n",
    "**Create and serialize a tool**\n",
    "\n",
    "\n"
   ]
  },
  {
   "cell_type": "code",
   "execution_count": 13,
   "metadata": {},
   "outputs": [
    {
     "name": "stdout",
     "output_type": "stream",
     "text": [
      "Serialized Tool: {\"name\":\"AdditionTool\",\"id\":\"0cf28759-ff7b-4584-ba48-596c2fda2ed2\",\"members\":[],\"owner\":null,\"host\":null,\"resource\":\"Tool\",\"version\":\"0.0.1\",\"type\":\"AdditionTool\",\"description\":\"This tool has two numbers together\",\"parameters\":[{\"name\":\"x\",\"id\":\"e70dba60-c334-4f8a-9fd6-0276d219dddd\",\"members\":[],\"owner\":null,\"host\":null,\"resource\":\"Parameter\",\"version\":\"0.1.0\",\"type\":\"integer\",\"description\":\"The left operand\",\"required\":true,\"enum\":null},{\"name\":\"y\",\"id\":\"0da0ca18-3886-4daf-8fcd-9ba4e16fbf5f\",\"members\":[],\"owner\":null,\"host\":null,\"resource\":\"Parameter\",\"version\":\"0.1.0\",\"type\":\"integer\",\"description\":\"The right operand\",\"required\":true,\"enum\":null}]}\n"
     ]
    }
   ],
   "source": [
    "tool = AdditionTool()\n",
    "serialized_tool = tool.model_dump_json()\n",
    "print(f\"Serialized Tool: {serialized_tool}\")"
   ]
  },
  {
   "cell_type": "markdown",
   "metadata": {},
   "source": [
    "**Deserialize the tool**"
   ]
  },
  {
   "cell_type": "code",
   "execution_count": 14,
   "metadata": {},
   "outputs": [
    {
     "name": "stdout",
     "output_type": "stream",
     "text": [
      "Deserialized Tool ID: 0cf28759-ff7b-4584-ba48-596c2fda2ed2\n"
     ]
    }
   ],
   "source": [
    "\n",
    "deserialized_tool = AdditionTool.model_validate_json(serialized_tool)\n",
    "print(f\"Deserialized Tool ID: {deserialized_tool.id}\")"
   ]
  },
  {
   "cell_type": "markdown",
   "metadata": {},
   "source": [
    "### **2. Error Handling**\n",
    "**Proper error handling for tools**"
   ]
  },
  {
   "cell_type": "code",
   "execution_count": 15,
   "metadata": {},
   "outputs": [
    {
     "name": "stdout",
     "output_type": "stream",
     "text": [
      "Error: string indices must be integers, not 'str'\n",
      "Error: string indices must be integers, not 'str'\n"
     ]
    }
   ],
   "source": [
    "def safe_calculate(operation, a, b):\n",
    "    calculator = CalculatorTool()\n",
    "    try:\n",
    "        result = calculator(operation, a, b)\n",
    "        return result['calculated_result']\n",
    "    except Exception as e:\n",
    "        return f\"Error: {str(e)}\"\n",
    "\n",
    "# Test error handling\n",
    "print(safe_calculate('divide', 10, 0))  # Should handle division by zero\n",
    "print(safe_calculate('unknown', 10, 5))  # Should handle unknown operation"
   ]
  },
  {
   "cell_type": "markdown",
   "metadata": {},
   "source": [
    "### **Tool Integration Examples**\n",
    "\n",
    "#### **1. Combining Multiple Tools**\n",
    "\n"
   ]
  },
  {
   "cell_type": "code",
   "execution_count": 16,
   "metadata": {},
   "outputs": [
    {
     "name": "stdout",
     "output_type": "stream",
     "text": [
      "{'text_metrics': {'num_characters': 12, 'num_words': 5, 'num_sentences': 1}, 'calculation': {'operation': 'add', 'calculated_result': '17'}}\n"
     ]
    }
   ],
   "source": [
    "# Example of using multiple tools together\n",
    "\n",
    "def analyze_text_and_numbers(text, num1, num2):\n",
    "    # Initialize tools\n",
    "    text_tool = TextLengthTool()\n",
    "    calc_tool = CalculatorTool()\n",
    "    \n",
    "    # Analyze text\n",
    "    text_metrics = text_tool(text)\n",
    "    \n",
    "    # Perform calculation based on text metrics\n",
    "    word_count = text_metrics['num_words']\n",
    "    char_count = text_metrics['num_characters']\n",
    "    \n",
    "    # Use calculator tool with these metrics\n",
    "    calc_result = calc_tool('add', word_count, char_count)\n",
    "    \n",
    "    return {\n",
    "        'text_metrics': text_metrics,\n",
    "        'calculation': calc_result\n",
    "    }\n",
    "\n",
    "# Test the combined functionality\n",
    "result = analyze_text_and_numbers(\"This is a test.\", 5, 3)\n",
    "print(result)"
   ]
  },
  {
   "cell_type": "markdown",
   "metadata": {},
   "source": [
    "\n",
    "\n",
    "\n",
    "## **Best Practices for Tool Configuration**\n",
    "\n",
    "1. **Initialization Best Practices**\n",
    "   - Always verify tool initialization\n",
    "   - Check tool properties after creation\n",
    "   - Use appropriate error handling\n",
    "\n",
    "2. **Configuration Guidelines**\n",
    "   - Keep tool instances separate for different purposes\n",
    "   - Verify tool configuration before use\n",
    "   - Maintain proper serialization practices\n",
    "\n",
    "3. **Result Handling**\n",
    "   - Always check result types\n",
    "   - Process results according to your needs\n",
    "   - Implement proper error handling\n",
    "\n",
    "4. **Integration Tips**\n",
    "   - Plan tool interactions carefully\n",
    "   - Consider data flow between tools\n",
    "   - Handle errors at each step\n",
    "\n"
   ]
  },
  {
   "cell_type": "markdown",
   "metadata": {},
   "source": [
    "## Troubleshooting Common Issues\n",
    "**Tool Initialization Problems**\n",
    "\n"
   ]
  },
  {
   "cell_type": "code",
   "execution_count": 19,
   "metadata": {},
   "outputs": [
    {
     "name": "stdout",
     "output_type": "stream",
     "text": [
      "Tool initialized successfully\n"
     ]
    }
   ],
   "source": [
    "# Example of checking tool initialization\n",
    "def check_tool_initialization():\n",
    "    try:\n",
    "        tool = AdditionTool()\n",
    "        assert tool.type == 'AdditionTool'\n",
    "        assert tool.resource == 'Tool'\n",
    "        print(\"Tool initialized successfully\")\n",
    "    except Exception as e:\n",
    "        print(f\"Initialization error: {str(e)}\")\n",
    "\n",
    "check_tool_initialization()"
   ]
  },
  {
   "cell_type": "markdown",
   "metadata": {},
   "source": [
    "\n",
    "## **Conclusion**\n",
    "Proper setup and configuration of tool models is crucial for reliable operation:\n",
    "- Always verify tool initialization and properties\n",
    "- Implement proper error handling\n",
    "- Process results appropriately\n",
    "- Follow best practices for tool integration\n",
    "- Maintain clean and organized tool configurations\n",
    "\n",
    "**These practices will help ensure your tools work reliably and efficiently in your applications.**"
   ]
  }
 ],
 "metadata": {
  "kernelspec": {
   "display_name": "swarmauri-0.5.1",
   "language": "python",
   "name": "python3"
  },
  "language_info": {
   "codemirror_mode": {
    "name": "ipython",
    "version": 3
   },
   "file_extension": ".py",
   "mimetype": "text/x-python",
   "name": "python",
   "nbconvert_exporter": "python",
   "pygments_lexer": "ipython3",
   "version": "3.12.7"
  }
 },
 "nbformat": 4,
 "nbformat_minor": 2
}
