{
 "cells": [
  {
   "cell_type": "markdown",
   "metadata": {},
   "source": [
    "# **Notebook 1: Understanding Tool Models**\n",
    "\n",
    "## **Introduction**\n",
    "Tool models are fundamental components in the Swarmauri library that help perform specific tasks or operations. They are designed to be simple, reusable, and easy to understand. In this notebook, we'll explore basic tool models and see how they work with practical examples.\n",
    "\n",
    "## **What are Tool Models?**\n",
    "Tool models are specialized components that perform specific operations, such as:\n",
    "- Mathematical calculations\n",
    "- Text analysis\n",
    "- Data transformations and more complex tasks\n",
    "\n",
    "## **Basic Example: Addition Tool**\n",
    "Let's start with a simple addition tool that adds two numbers:"
   ]
  },
  {
   "cell_type": "code",
   "execution_count": 9,
   "metadata": {},
   "outputs": [],
   "source": [
    "from swarmauri.tools.concrete import AdditionTool"
   ]
  },
  {
   "cell_type": "markdown",
   "metadata": {},
   "source": [
    "**Create an instance of the Addition Tool**"
   ]
  },
  {
   "cell_type": "code",
   "execution_count": 2,
   "metadata": {},
   "outputs": [],
   "source": [
    "addition_tool = AdditionTool()"
   ]
  },
  {
   "cell_type": "markdown",
   "metadata": {},
   "source": [
    "**Basic properties**"
   ]
  },
  {
   "cell_type": "code",
   "execution_count": 10,
   "metadata": {},
   "outputs": [
    {
     "data": {
      "text/plain": [
       "'AdditionTool'"
      ]
     },
     "execution_count": 10,
     "metadata": {},
     "output_type": "execute_result"
    }
   ],
   "source": [
    "addition_tool.type"
   ]
  },
  {
   "cell_type": "code",
   "execution_count": 11,
   "metadata": {},
   "outputs": [
    {
     "data": {
      "text/plain": [
       "'325b719c-a1e8-40d5-858b-02acda3ed900'"
      ]
     },
     "execution_count": 11,
     "metadata": {},
     "output_type": "execute_result"
    }
   ],
   "source": [
    "addition_tool.id"
   ]
  },
  {
   "cell_type": "code",
   "execution_count": 12,
   "metadata": {},
   "outputs": [
    {
     "data": {
      "text/plain": [
       "'Tool'"
      ]
     },
     "execution_count": 12,
     "metadata": {},
     "output_type": "execute_result"
    }
   ],
   "source": [
    "addition_tool.resource"
   ]
  },
  {
   "cell_type": "code",
   "execution_count": 13,
   "metadata": {},
   "outputs": [
    {
     "data": {
      "text/plain": [
       "'/Tool/AdditionTool/325b719c-a1e8-40d5-858b-02acda3ed900'"
      ]
     },
     "execution_count": 13,
     "metadata": {},
     "output_type": "execute_result"
    }
   ],
   "source": [
    "addition_tool.swm_path"
   ]
  },
  {
   "cell_type": "markdown",
   "metadata": {},
   "source": [
    "**Use the tool to add two numbers**"
   ]
  },
  {
   "cell_type": "code",
   "execution_count": 3,
   "metadata": {},
   "outputs": [
    {
     "name": "stdout",
     "output_type": "stream",
     "text": [
      "{'sum': '5'}\n"
     ]
    }
   ],
   "source": [
    "result = addition_tool(2, 3)\n",
    "print(result) "
   ]
  },
  {
   "cell_type": "markdown",
   "metadata": {},
   "source": [
    "**Try with different numbers**"
   ]
  },
  {
   "cell_type": "code",
   "execution_count": 4,
   "metadata": {},
   "outputs": [
    {
     "name": "stdout",
     "output_type": "stream",
     "text": [
      "{'sum': '-5'}\n"
     ]
    }
   ],
   "source": [
    "result = addition_tool(-2, -3)\n",
    "print(result)"
   ]
  },
  {
   "cell_type": "markdown",
   "metadata": {},
   "source": [
    "**Using floating point numbers**"
   ]
  },
  {
   "cell_type": "code",
   "execution_count": 5,
   "metadata": {},
   "outputs": [
    {
     "name": "stdout",
     "output_type": "stream",
     "text": [
      "{'sum': '6.0'}\n"
     ]
    }
   ],
   "source": [
    "result = addition_tool(2.5, 3.5)\n",
    "print(result)  "
   ]
  },
  {
   "cell_type": "markdown",
   "metadata": {},
   "source": [
    "## **Text Length Tool Example**\n",
    "**Here's another example using a tool that analyzes text properties:**"
   ]
  },
  {
   "cell_type": "code",
   "execution_count": 6,
   "metadata": {},
   "outputs": [],
   "source": [
    "from swarmauri.tools.concrete import TextLengthTool"
   ]
  },
  {
   "cell_type": "markdown",
   "metadata": {},
   "source": [
    "**Create an instance of the Text Length Tool**"
   ]
  },
  {
   "cell_type": "code",
   "execution_count": 7,
   "metadata": {},
   "outputs": [],
   "source": [
    "text_tool = TextLengthTool()"
   ]
  },
  {
   "cell_type": "markdown",
   "metadata": {},
   "source": [
    "**Analyze a simple sentence**"
   ]
  },
  {
   "cell_type": "code",
   "execution_count": 8,
   "metadata": {},
   "outputs": [
    {
     "name": "stdout",
     "output_type": "stream",
     "text": [
      "{'num_characters': 26, 'num_words': 7, 'num_sentences': 1}\n"
     ]
    }
   ],
   "source": [
    "text = \"This is a simple test sentence.\"\n",
    "result = text_tool(text)\n",
    "print(result)"
   ]
  },
  {
   "cell_type": "markdown",
   "metadata": {},
   "source": [
    "## **Key Features of Tool Models**\n",
    "1. **Consistent Interface**: All tools follow a similar pattern of initialization and usage\n",
    "2. **Type Safety**: Tools return results in expected formats\n",
    "3. **Error Handling**: Tools handle edge cases (like division by zero) gracefully\n",
    "4. **Serialization**: Tools can be serialized to JSON format for storage or transmission\n",
    "\n",
    "## **Important Properties**\n",
    "Each tool has these basic properties:\n",
    "- `resource`: Identifies the tool type (always 'Tool')\n",
    "- `type`: Specific tool identifier (e.g., 'AdditionTool', 'CalculatorTool')\n",
    "- `id`: Unique identifier for each tool instance\n",
    "- `swm_path`: Path information for the tool\n",
    "\n",
    "## **Conclusion**\n",
    "Tool models in Swarmauri provide a simple yet powerful way to perform specific operations. They are:\n",
    "- Well-documented with clear input/output expectations\n",
    "- Robust with built-in error handling\n",
    "- Flexible enough to handle various data types and operations\n"
   ]
  }
 ],
 "metadata": {
  "kernelspec": {
   "display_name": "swarmauri-0.5.1",
   "language": "python",
   "name": "python3"
  },
  "language_info": {
   "codemirror_mode": {
    "name": "ipython",
    "version": 3
   },
   "file_extension": ".py",
   "mimetype": "text/x-python",
   "name": "python",
   "nbconvert_exporter": "python",
   "pygments_lexer": "ipython3",
   "version": "3.12.7"
  }
 },
 "nbformat": 4,
 "nbformat_minor": 2
}
