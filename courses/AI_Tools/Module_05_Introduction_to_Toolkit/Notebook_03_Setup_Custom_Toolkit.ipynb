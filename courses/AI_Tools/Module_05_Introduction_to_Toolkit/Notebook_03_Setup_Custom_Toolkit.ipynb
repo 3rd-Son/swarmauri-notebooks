{
 "cells": [
  {
   "cell_type": "markdown",
   "id": "0dcbcbc0-0db8-4962-a432-7e23cff5b116",
   "metadata": {},
   "source": [
    "# Introduction\n",
    "\n",
    "The `swarmauri` toolkit provides a powerful set of prebuilt tools that can be used to perform various tasks like text analysis, weather fetching, and other utilities.\n",
    "\n",
    "The toolkit consists of tools that are already defined and registered with the `swarmauri` package. Each tool is a subclass of `ToolBase` and requires specific parameters to function properly.\n",
    "\n",
    "Tools are registered using the `SubclassUnion.update()` method, which allows them to be discovered by the toolkit system. However, in most cases, you do not need to manually register tools since they are automatically registered when imported.\n",
    "\n",
    "If you need to register a new tool or update an existing one, you can do so like this:\n"
   ]
  },
  {
   "cell_type": "code",
   "execution_count": 4,
   "id": "4908acfa-444e-4bbc-b859-bd3e116aeba2",
   "metadata": {},
   "outputs": [],
   "source": [
    "from swarmauri_core.typing import SubclassUnion\n",
    "from swarmauri.tools.base.ToolBase import ToolBase\n",
    "\n",
    "from swarmauri.tools.concrete import WeatherTool\n",
    "SubclassUnion.update(baseclass=ToolBase, type_name=\"WeatherTool\", obj=WeatherTool)"
   ]
  },
  {
   "cell_type": "markdown",
   "id": "26eb6868-6b91-46f5-a06a-a46c18e831d8",
   "metadata": {},
   "source": [
    "# Why Customize?\n",
    "\n",
    "In the previous notebook we saw:"
   ]
  },
  {
   "cell_type": "code",
   "execution_count": 5,
   "id": "67c6efb2-6523-48ef-9f58-ff9575c67461",
   "metadata": {},
   "outputs": [
    {
     "name": "stdout",
     "output_type": "stream",
     "text": [
      "{'weather_info': \"('London', 'celsius')\"}\n"
     ]
    }
   ],
   "source": [
    "# Instantiate the WeatherTool\n",
    "weather_tool = WeatherTool()\n",
    "\n",
    "# Fetch weather for a specific location\n",
    "weather_info = weather_tool(location=\"London\", unit=\"celsius\")\n",
    "print(weather_info)"
   ]
  },
  {
   "cell_type": "markdown",
   "id": "228aed3e-5f27-4231-abf5-64e397b7115b",
   "metadata": {},
   "source": [
    "The output you are seeing indicates that the `WeatherTool` is returning a string representation of the tuple with the location and `unit` parameters, rather than actual weather data.\n",
    "\n",
    "This suggests that the `__call__` method in your WeatherTool class is currently just returning a tuple of the parameters, but it isn't yet implemented to fetch actual weather data.\n",
    "\n",
    "To fix this, you would need to modify the `__call__` method of the WeatherTool class to actually fetch the weather information using a weather API or any other method, instead of just returning the location and unit as a string.\n",
    "\n",
    "# Modifying the WeatherTool Class to Fetch Weather Data\n",
    "\n",
    "To ensure that your `WeatherTool` fetches actual weather data rather than just returning the location and unit, you'll need to modify the `__call__` method of your `WeatherTool` class.\n",
    "\n",
    "Let's assume you are using the OpenWeatherMap API for this. Here's how you can modify the `WeatherTool` class to fetch actual weather data:\n",
    "\n",
    "- Install requests library (if not already installed):\n",
    "```bash\n",
    "pip install requests\n",
    "```\n",
    "## Update `WeatherTool` class to fetch weather data:"
   ]
  },
  {
   "cell_type": "code",
   "execution_count": 19,
   "id": "c705e0a2-fd2f-41cb-a4ac-0fe2d1f93f63",
   "metadata": {},
   "outputs": [],
   "source": [
    "import requests\n",
    "from pydantic import Field\n",
    "from typing import List, Literal, Dict\n",
    "from swarmauri.tools.concrete.Parameter import Parameter"
   ]
  },
  {
   "cell_type": "code",
   "execution_count": 21,
   "id": "69351b00-0845-4369-9a5b-de3cf20cf667",
   "metadata": {},
   "outputs": [],
   "source": [
    "# Fetch environment variables\n",
    "import os\n",
    "from dotenv import load_dotenv\n",
    "\n",
    "load_dotenv()\n",
    "# Fetch the openweather API Key\n",
    "OPENWEATHER_API_KEY = os.getenv(\"OPENWEATHER_API_KEY\")"
   ]
  },
  {
   "cell_type": "code",
   "execution_count": 22,
   "id": "c92e5000-0347-4c76-8f92-f246bf1bac26",
   "metadata": {},
   "outputs": [],
   "source": [
    "class WeatherTool(ToolBase):\n",
    "    version: str = \"0.1.dev1\"\n",
    "    parameters: List[Parameter] = Field(\n",
    "        default_factory=lambda: [\n",
    "            Parameter(\n",
    "                name=\"location\",\n",
    "                type=\"string\",\n",
    "                description=\"The location for which to fetch weather information\",\n",
    "                required=True,\n",
    "            ),\n",
    "            Parameter(\n",
    "                name=\"unit\",\n",
    "                type=\"string\",\n",
    "                description=\"The unit for temperature ('fahrenheit' or 'celsius')\",\n",
    "                required=True,\n",
    "                enum=[\"fahrenheit\", \"celsius\"],\n",
    "            ),\n",
    "        ]\n",
    "    )\n",
    "    name: str = \"WeatherTool\"\n",
    "    description: str = \"Fetch current weather info for a location\"\n",
    "    type: Literal[\"WeatherTool\"] = \"WeatherTool\"\n",
    "\n",
    "    def __call__(self, location, unit=\"fahrenheit\") -> Dict[str, str]:\n",
    "        # OpenWeatherMap API key (replace with your actual API key)\n",
    "        api_key = OPENWEATHER_API_KEY\n",
    "        \n",
    "        # Construct the API request URL\n",
    "        url = f\"http://api.openweathermap.org/data/2.5/weather?q={location}&units={unit}&appid={api_key}\"\n",
    "        \n",
    "        # Send the request and get the response\n",
    "        response = requests.get(url)\n",
    "        \n",
    "        # If the response is successful, parse the data\n",
    "        if response.status_code == 200:\n",
    "            data = response.json()\n",
    "            # Extract the weather information\n",
    "            temperature = data[\"main\"][\"temp\"]\n",
    "            weather_description = data[\"weather\"][0][\"description\"]\n",
    "            \n",
    "            # Return the weather info in a dictionary\n",
    "            return {\n",
    "                \"location\": location,\n",
    "                \"temperature\": temperature,\n",
    "                \"description\": weather_description,\n",
    "                \"unit\": unit\n",
    "            }\n",
    "        else:\n",
    "            # Return an error message if the API request fails\n",
    "            return {\"error\": \"Unable to fetch weather data\"}\n",
    "\n"
   ]
  },
  {
   "cell_type": "markdown",
   "id": "98a098a4-c7b7-4b7e-b4db-fb37e54a913c",
   "metadata": {},
   "source": [
    "# How it Works:\n",
    "\n",
    "- **`__call__` method:** This method makes a request to the OpenWeatherMap API to fetch the weather data for a specified location and temperature unit (Celsius or Fahrenheit).\n",
    "- **API Request:** The API request is formed using the location and the temperature unit passed to the method.\n",
    "- **Response Handling:** If the response status code is 200 (successful), it extracts the temperature and weather description from the JSON data returned by OpenWeatherMap.\n",
    "- **Returned Data:** The method returns a dictionary containing the location, temperature, weather description, and the unit.\n",
    "- **Error Handling:** If the request fails, it returns an error message in a dictionary."
   ]
  },
  {
   "cell_type": "code",
   "execution_count": 23,
   "id": "73e13d4d-872b-4806-9d03-9ef8088f528e",
   "metadata": {},
   "outputs": [
    {
     "name": "stdout",
     "output_type": "stream",
     "text": [
      "{'location': 'Dallas', 'temperature': 287.53, 'description': 'few clouds', 'unit': 'fahrenheit'}\n"
     ]
    }
   ],
   "source": [
    "# Create an instance of the WeatherTool\n",
    "weather_tool = WeatherTool()\n",
    "\n",
    "# Fetch weather information for a location (e.g., \"Dallas\") in Fahrenheit\n",
    "weather_info = weather_tool(\"Dallas\", unit=\"fahrenheit\")\n",
    "\n",
    "# Print the result\n",
    "print(weather_info)\n"
   ]
  },
  {
   "cell_type": "markdown",
   "id": "0ca74c2f-e55c-4f98-8151-3605cf6889f3",
   "metadata": {},
   "source": [
    "# Notebook Metadata"
   ]
  },
  {
   "cell_type": "code",
   "execution_count": 24,
   "id": "fa3e8775-3192-4e3d-817c-50d123c7933a",
   "metadata": {},
   "outputs": [
    {
     "name": "stdout",
     "output_type": "stream",
     "text": [
      "Author: Huzaifa Irshad\n",
      "GitHub Username: irshadhuzaifa\n",
      "Last Modified: 2024-11-11 19:26:32.112423\n",
      "Platform: Windows 11\n",
      "Python Version: 3.12.7 | packaged by Anaconda, Inc. | (main, Oct  4 2024, 13:17:27) [MSC v.1929 64 bit (AMD64)]\n",
      "Swarmauri Version: Swarmauri Version: 0.5.1\n"
     ]
    }
   ],
   "source": [
    "import platform\n",
    "import sys\n",
    "from datetime import datetime\n",
    "\n",
    "# Display author information\n",
    "author_name = \"Huzaifa Irshad\" \n",
    "github_username = \"irshadhuzaifa\"  \n",
    "\n",
    "print(f\"Author: {author_name}\")\n",
    "print(f\"GitHub Username: {github_username}\")\n",
    "\n",
    "# Last modified datetime (file's metadata)\n",
    "notebook_file = \"Notebook_03_Setup_Custom_Toolkit.ipynb\"\n",
    "try:\n",
    "    last_modified_time = os.path.getmtime(notebook_file)\n",
    "    last_modified_datetime = datetime.fromtimestamp(last_modified_time)\n",
    "    print(f\"Last Modified: {last_modified_datetime}\")\n",
    "except Exception as e:\n",
    "    print(f\"Could not retrieve last modified datetime: {e}\")\n",
    "\n",
    "# Display platform, Python version, and Swarmauri version\n",
    "print(f\"Platform: {platform.system()} {platform.release()}\")\n",
    "print(f\"Python Version: {sys.version}\")\n",
    "\n",
    "import swarmauri\n",
    "\n",
    "try:\n",
    "    version = swarmauri.__version__\n",
    "except AttributeError:\n",
    "    version = f\"Swarmauri Version: 0.5.1\"\n",
    "\n",
    "print(f\"Swarmauri Version: {version}\")"
   ]
  },
  {
   "cell_type": "code",
   "execution_count": null,
   "id": "4f79772e-d27f-47e6-a28a-f56da16a93d3",
   "metadata": {},
   "outputs": [],
   "source": []
  }
 ],
 "metadata": {
  "kernelspec": {
   "display_name": "swarmauri(0.5.1)",
   "language": "python",
   "name": "myenv"
  },
  "language_info": {
   "codemirror_mode": {
    "name": "ipython",
    "version": 3
   },
   "file_extension": ".py",
   "mimetype": "text/x-python",
   "name": "python",
   "nbconvert_exporter": "python",
   "pygments_lexer": "ipython3",
   "version": "3.12.7"
  }
 },
 "nbformat": 4,
 "nbformat_minor": 5
}
