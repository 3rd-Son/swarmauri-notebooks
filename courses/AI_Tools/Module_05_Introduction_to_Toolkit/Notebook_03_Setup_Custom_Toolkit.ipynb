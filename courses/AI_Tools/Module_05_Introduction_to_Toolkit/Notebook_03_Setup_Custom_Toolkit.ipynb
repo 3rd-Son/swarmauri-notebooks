{
 "cells": [
  {
   "cell_type": "markdown",
   "id": "228aed3e-5f27-4231-abf5-64e397b7115b",
   "metadata": {},
   "source": [
    "# Setup Custom Toolkit\n",
    "\n",
    "This notebook guides users on how to create their own custom toolkit by extending `ToolkitBase`. It will cover how to define a custom toolkit with unique tools and integrate it into your application."
   ]
  },
  {
   "cell_type": "markdown",
   "id": "ff7666d9-6902-431b-b853-e00b874cd242",
   "metadata": {},
   "source": [
    "## Creating a Custom Toolkit"
   ]
  },
  {
   "cell_type": "markdown",
   "id": "7d81db74-d1c6-481d-8cf1-5624d4371a02",
   "metadata": {},
   "source": [
    "Creating a custom toolkit allows you to tailor the functionality of the toolkit to your specific needs. By extending the `ToolkitBase` class, you can create a personalized toolkit with the tools you require. The custom toolkit can then be used in the same way as the standard `Toolkit`.\n",
    "\n",
    "**Why Create a Custom Toolkit?**\n",
    "\n",
    "- Customize the toolkit with tools specific to your use case.\n",
    "- Group similar tools together for easier management.\n",
    "- Extend functionality without modifying the core `ToolkitBase` class."
   ]
  },
  {
   "cell_type": "markdown",
   "id": "54a548a2-98a3-461e-9389-cda45e5c73cc",
   "metadata": {},
   "source": [
    "### Define `CustomToolkit` with Unique Tools"
   ]
  },
  {
   "cell_type": "code",
   "execution_count": 1,
   "id": "a8b6732e-52e3-4a5a-8454-e8c697773097",
   "metadata": {},
   "outputs": [],
   "source": [
    "from swarmauri.toolkits.base.ToolkitBase import ToolkitBase\n",
    "from swarmauri.tools.concrete.AdditionTool import AdditionTool\n",
    "from swarmauri.tools.concrete.AutomatedReadabilityIndexTool import AutomatedReadabilityIndexTool"
   ]
  },
  {
   "cell_type": "code",
   "execution_count": 2,
   "id": "a2b3200f-fa42-4f97-9e66-d402b9bb8b49",
   "metadata": {},
   "outputs": [
    {
     "name": "stderr",
     "output_type": "stream",
     "text": [
      "WARNING:root:Subclass CustomToolkit does not have a type annotation\n"
     ]
    }
   ],
   "source": [
    "# Define a Custom Toolkit by extending ToolkitBase\n",
    "class CustomToolkit(ToolkitBase):\n",
    "    def __init__(self, **kwargs):\n",
    "        super().__init__(**kwargs)\n",
    "        # Initialize with custom tools\n",
    "        self.add_tool(AdditionTool(name=\"AdditionTool\"))\n",
    "        self.add_tool(AutomatedReadabilityIndexTool(name=\"AutomatedReadabilityIndexTool\"))"
   ]
  },
  {
   "cell_type": "code",
   "execution_count": 3,
   "id": "9f8eb99c-4f44-4b8f-aa7a-975b2d466beb",
   "metadata": {},
   "outputs": [],
   "source": [
    "# Create an instance of the custom toolkit\n",
    "custom_toolkit = CustomToolkit()"
   ]
  },
  {
   "cell_type": "code",
   "execution_count": 4,
   "id": "a9787160-9340-4555-9850-8856d50ee632",
   "metadata": {},
   "outputs": [
    {
     "name": "stdout",
     "output_type": "stream",
     "text": [
      "Custom Toolkit Initialized: name=None id='ea3ed225-3eaa-4885-bf8e-79334b0a3477' members=[] owner=None host=None resource='Toolkit' version='0.1.0' type='ToolkitBase' tools={'AdditionTool': AdditionTool(name='AdditionTool', id='69f8f3bf-1a5a-4ca2-a4f2-be87f51d174b', members=[], owner=None, host=None, resource='Tool', version='0.0.1', type='AdditionTool', description='This tool has two numbers together', parameters=[Parameter(name='x', id='f8d19e64-703c-4960-9a8c-a72ebb10c6dc', members=[], owner=None, host=None, resource='Parameter', version='0.1.0', type='integer', description='The left operand', required=True, enum=None), Parameter(name='y', id='a2857e14-53f2-45de-96bd-639431421fa2', members=[], owner=None, host=None, resource='Parameter', version='0.1.0', type='integer', description='The right operand', required=True, enum=None)]), 'AutomatedReadabilityIndexTool': AutomatedReadabilityIndexTool(name='AutomatedReadabilityIndexTool', id='6a8c0d92-69da-4bf7-a32e-4842b2e80f37', members=[], owner=None, host=None, resource='Tool', version='0.1.dev1', type='AutomatedReadabilityIndexTool', description='Calculates the Automated Readability Index (ARI) for a given text.', parameters=[Parameter(name='input_text', id='a9168a9a-6255-4f35-91be-dc96358e947d', members=[], owner=None, host=None, resource='Parameter', version='0.1.0', type='string', description='The input text for which to calculate the ARI.', required=True, enum=None)])}\n"
     ]
    }
   ],
   "source": [
    "# Display the custom toolkit state\n",
    "print(\"Custom Toolkit Initialized:\", custom_toolkit)"
   ]
  },
  {
   "cell_type": "markdown",
   "id": "1daf0231-4247-4e82-82cf-87654967d419",
   "metadata": {},
   "source": [
    "## Custom Tool Integration"
   ]
  },
  {
   "cell_type": "markdown",
   "id": "5fe10d3e-b890-4ee7-82ab-40591933ba78",
   "metadata": {},
   "source": [
    "After creating a custom toolkit, you can integrate tools specific to your needs. The `CustomToolkit` class can be populated with any tools you require, whether they're predefined tools like `AdditionTool` or custom tools you create yourself. This approach allows you to tailor the toolkit to your exact specifications and workflow.\n",
    "\n",
    "How to Integrate Custom Tools?\n",
    "\n",
    "- Instantiate the custom toolkit and add tools as needed.\n",
    "- Use the `add_tool()` method to integrate new tools into the custom toolkit."
   ]
  },
  {
   "cell_type": "markdown",
   "id": "8abe732f-32b5-4e99-84c9-0f98dcdf8f2f",
   "metadata": {},
   "source": [
    "### Demonstrate the Creation and Use of Custom Tools"
   ]
  },
  {
   "cell_type": "code",
   "execution_count": 5,
   "id": "0fa93b1e-c22e-4bbb-827d-3bf11f66e326",
   "metadata": {},
   "outputs": [],
   "source": [
    "# Retrieve a tool by name from the custom toolkit\n",
    "retrieved_addition_tool = custom_toolkit.get_tool_by_name(\"AdditionTool\")"
   ]
  },
  {
   "cell_type": "code",
   "execution_count": 6,
   "id": "8754cc83-468c-4682-b7c3-479f66afc854",
   "metadata": {},
   "outputs": [
    {
     "name": "stdout",
     "output_type": "stream",
     "text": [
      "Result of Custom AdditionTool: {'sum': '12'}\n"
     ]
    }
   ],
   "source": [
    "# Use the custom AdditionTool\n",
    "if retrieved_addition_tool:\n",
    "    addition_result = retrieved_addition_tool(8, 4)  # Example usage\n",
    "    print(\"Result of Custom AdditionTool:\", addition_result)"
   ]
  },
  {
   "cell_type": "code",
   "execution_count": 7,
   "id": "e1f9a566-e6fb-45b4-912b-8a226cc6ca10",
   "metadata": {},
   "outputs": [],
   "source": [
    "# Retrieve and use the Automated Readability Index tool\n",
    "ari_tool = custom_toolkit.get_tool_by_name(\"AutomatedReadabilityIndexTool\")"
   ]
  },
  {
   "cell_type": "code",
   "execution_count": 8,
   "id": "8692755b-28de-42a5-a117-0abc6077a8ee",
   "metadata": {},
   "outputs": [
    {
     "name": "stdout",
     "output_type": "stream",
     "text": [
      "Result of Custom Automated Readability Index Tool: {'ari_score': 8.984285714285715}\n"
     ]
    }
   ],
   "source": [
    "if ari_tool:\n",
    "    text_result = ari_tool(\"This is another test sentence for readability.\")\n",
    "    print(\"Result of Custom Automated Readability Index Tool:\", text_result)"
   ]
  },
  {
   "cell_type": "markdown",
   "id": "6efdc825-6ad3-41e4-ab9e-c8a87ab2fde2",
   "metadata": {},
   "source": [
    "## Conclusion\n",
    "\n",
    "You have successfully created a custom toolkit by extending the `ToolkitBase` class. This custom toolkit can now be used to integrate any number of tools, whether predefined or custom-built, to meet your application's specific needs. By organizing and modularizing the tools into a custom toolkit, you can easily manage and extend functionality as your project grows."
   ]
  },
  {
   "cell_type": "code",
   "execution_count": null,
   "id": "3bd5a108-05c0-47bc-94bb-2673dafe91e7",
   "metadata": {},
   "outputs": [],
   "source": []
  }
 ],
 "metadata": {
  "kernelspec": {
   "display_name": "swarmauri(0.5.1)",
   "language": "python",
   "name": "myenv"
  },
  "language_info": {
   "codemirror_mode": {
    "name": "ipython",
    "version": 3
   },
   "file_extension": ".py",
   "mimetype": "text/x-python",
   "name": "python",
   "nbconvert_exporter": "python",
   "pygments_lexer": "ipython3",
   "version": "3.12.7"
  }
 },
 "nbformat": 4,
 "nbformat_minor": 5
}
