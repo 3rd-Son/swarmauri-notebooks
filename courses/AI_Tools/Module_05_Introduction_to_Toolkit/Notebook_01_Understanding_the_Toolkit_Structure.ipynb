{
 "cells": [
  {
   "cell_type": "markdown",
   "id": "c242b04f-6817-4146-b58f-28efbca9c68d",
   "metadata": {},
   "source": [
    " # Understanding the Toolkit Structure\n",
    "\n",
    "The purpose of this notebook is to introduce the core structure of the Toolkit and its role in managing tools."
   ]
  },
  {
   "cell_type": "markdown",
   "id": "d9c5e7c9-b8ed-44ca-87a4-647579452c9c",
   "metadata": {},
   "source": [
    "## Introduction to the Toolkit\n",
    "The `ToolkitBase` class is the backbone of Swarmauri's toolkit system. It provides a framework for managing various tools, allowing easy integration and modular functionality.\n",
    "\n",
    "Key Components:\n",
    "\n",
    "- `tools`: A dictionary to store tools by name.\n",
    "- `resource`: A string representing the type of resource managed by the toolkit.\n",
    "- `type`: A literal type identifier for the toolkit.\n",
    "\n",
    "The `ToolkitBase` facilitates:\n",
    "\n",
    "- Adding and removing tools.\n",
    "- Retrieving tools by their name.\n",
    "- Providing a foundation for custom toolkits."
   ]
  },
  {
   "cell_type": "markdown",
   "id": "2deeb039-5662-4a5d-9649-29718f936a0f",
   "metadata": {},
   "source": [
    "## The ToolkitBase Class\n",
    "\n",
    "### Define `ToolkitBase`"
   ]
  },
  {
   "cell_type": "code",
   "execution_count": 1,
   "id": "1ae14033-2e72-4d88-b9be-7130a889285f",
   "metadata": {},
   "outputs": [],
   "source": [
    "from typing import Dict, Optional, Literal\n",
    "from pydantic import BaseModel"
   ]
  },
  {
   "cell_type": "code",
   "execution_count": 2,
   "id": "b6837f00-72e0-4ff4-bb89-b613472417cb",
   "metadata": {},
   "outputs": [],
   "source": [
    "class ToolkitBase(BaseModel):\n",
    "    tools: Dict[str, object] = {}\n",
    "    resource: str = \"ToolkitBase\"\n",
    "    type: Literal['ToolkitBase'] = 'ToolkitBase'\n",
    "\n",
    "    def add_tool(self, tool: object):\n",
    "        \"\"\"Add a tool to the toolkit.\"\"\"\n",
    "        self.tools[tool.name] = tool\n",
    "\n",
    "    def remove_tool(self, name: str):\n",
    "        \"\"\"Remove a tool by its name.\"\"\"\n",
    "        if name in self.tools:\n",
    "            del self.tools[name]\n",
    "\n",
    "    def get_tool_by_name(self, name: str) -> Optional[object]:\n",
    "        \"\"\"Retrieve a tool by its name.\"\"\"\n",
    "        return self.tools.get(name, None)"
   ]
  },
  {
   "cell_type": "markdown",
   "id": "70677d3a-b466-466f-b203-4c484d0b08c5",
   "metadata": {},
   "source": [
    "### Explanation of Methods:\n",
    "\n",
    "- `add_tool(tool)`: Adds a tool to the `tools` dictionary using its name as the key.\n",
    "- `remove_tool(name)`: Removes a tool from the `tools` dictionary by its name.\n",
    "- `get_tool_by_name(name)`: Retrieves a tool by its name or returns `None` if not found."
   ]
  },
  {
   "cell_type": "markdown",
   "id": "c6fec0e5-cefe-452d-894b-e49c93f81b62",
   "metadata": {},
   "source": [
    "### Usage Example:"
   ]
  },
  {
   "cell_type": "code",
   "execution_count": 5,
   "id": "66e92ff0-5df3-4c8e-8c8b-22d56f1e2f7e",
   "metadata": {},
   "outputs": [],
   "source": [
    "# Example Tool\n",
    "class ExampleTool:\n",
    "    def __init__(self, name):\n",
    "        self.name = name\n"
   ]
  },
  {
   "cell_type": "code",
   "execution_count": 6,
   "id": "1dfca88a-6531-4147-9759-fb51f8b142b6",
   "metadata": {},
   "outputs": [],
   "source": [
    "# Initialize ToolkitBase\n",
    "toolkit = ToolkitBase()"
   ]
  },
  {
   "cell_type": "code",
   "execution_count": 7,
   "id": "22467e89-68f8-4290-9b85-2470eedd8c51",
   "metadata": {},
   "outputs": [],
   "source": [
    "# Add a tool\n",
    "example_tool = ExampleTool(name=\"ExampleTool\")\n",
    "toolkit.add_tool(example_tool)"
   ]
  },
  {
   "cell_type": "code",
   "execution_count": 8,
   "id": "39103be4-7fcf-4832-919b-086b5555b267",
   "metadata": {},
   "outputs": [
    {
     "name": "stdout",
     "output_type": "stream",
     "text": [
      "<__main__.ExampleTool object at 0x000001B560EC2DB0>\n"
     ]
    }
   ],
   "source": [
    "# Retrieve the tool\n",
    "retrieved_tool = toolkit.get_tool_by_name(\"ExampleTool\")\n",
    "print(retrieved_tool)  # <__main__.ExampleTool object at ...>"
   ]
  },
  {
   "cell_type": "code",
   "execution_count": 9,
   "id": "6047790e-10b3-4097-96fd-ce5f15717271",
   "metadata": {},
   "outputs": [
    {
     "name": "stdout",
     "output_type": "stream",
     "text": [
      "None\n"
     ]
    }
   ],
   "source": [
    "# Remove the tool\n",
    "toolkit.remove_tool(\"ExampleTool\")\n",
    "print(toolkit.get_tool_by_name(\"ExampleTool\"))  # None"
   ]
  },
  {
   "cell_type": "markdown",
   "id": "878dd3bb-46ac-429f-96bf-34ec067ff53f",
   "metadata": {},
   "source": [
    "## The AccessibilityToolkit and Toolkit Classes"
   ]
  },
  {
   "cell_type": "markdown",
   "id": "90c8d23e-68f7-4018-be1b-3624a17c0c11",
   "metadata": {},
   "source": [
    "### Extend `ToolkitBase`"
   ]
  },
  {
   "cell_type": "code",
   "execution_count": 10,
   "id": "66685dcd-ad04-4580-b544-46f67fd1d9ab",
   "metadata": {},
   "outputs": [],
   "source": [
    "from typing import Literal\n",
    "\n",
    "class AccessibilityToolkit(ToolkitBase):\n",
    "    type: Literal['AccessibilityToolkit'] = 'AccessibilityToolkit'\n",
    "    resource: str = \"AccessibilityToolkit\""
   ]
  },
  {
   "cell_type": "code",
   "execution_count": 11,
   "id": "e92c7d90-3c1f-43ff-95d5-2162e8c7f547",
   "metadata": {},
   "outputs": [],
   "source": [
    "class Toolkit(ToolkitBase):\n",
    "    type: Literal['Toolkit'] = 'Toolkit'\n",
    "    resource: str = \"Toolkit\""
   ]
  },
  {
   "cell_type": "markdown",
   "id": "14f3fc75-f2c1-453e-9060-d7615c52825d",
   "metadata": {},
   "source": [
    "### Customizing the Toolkit:\n",
    "\n",
    "- `AccessibilityToolkit`: Extends `ToolkitBase` to manage accessibility-related tools.\n",
    "- `Toolkit`: A general-purpose toolkit extending `ToolkitBase`.\n",
    "\n",
    "This structure allows for the creation of specialized toolkits by inheriting from `ToolkitBase` and customizing their `type` and `resource`."
   ]
  },
  {
   "cell_type": "markdown",
   "id": "29fffe89-3c1f-43c5-a980-a3e5828d62c1",
   "metadata": {},
   "source": [
    "### Example Usage:"
   ]
  },
  {
   "cell_type": "code",
   "execution_count": 13,
   "id": "856feb96-8370-4097-bca5-ff4e18733cdb",
   "metadata": {},
   "outputs": [],
   "source": [
    "# Initialize an AccessibilityToolkit\n",
    "accessibility_toolkit = AccessibilityToolkit()"
   ]
  },
  {
   "cell_type": "code",
   "execution_count": 14,
   "id": "2f557cbb-9c04-4d09-97d8-89677b2bb89a",
   "metadata": {},
   "outputs": [],
   "source": [
    "# Add a tool (similar process as shown above)\n",
    "accessibility_toolkit.add_tool(ExampleTool(name=\"ReadabilityTool\"))"
   ]
  },
  {
   "cell_type": "code",
   "execution_count": 15,
   "id": "54063469-ea56-45f0-a119-afa2567679e4",
   "metadata": {},
   "outputs": [
    {
     "name": "stdout",
     "output_type": "stream",
     "text": [
      "<__main__.ExampleTool object at 0x000001B5610BD3A0>\n"
     ]
    }
   ],
   "source": [
    "# Retrieve the tool\n",
    "print(accessibility_toolkit.get_tool_by_name(\"ReadabilityTool\"))  # ExampleTool instance"
   ]
  }
 ],
 "metadata": {
  "kernelspec": {
   "display_name": "swarmauri(0.5.1)",
   "language": "python",
   "name": "myenv"
  },
  "language_info": {
   "codemirror_mode": {
    "name": "ipython",
    "version": 3
   },
   "file_extension": ".py",
   "mimetype": "text/x-python",
   "name": "python",
   "nbconvert_exporter": "python",
   "pygments_lexer": "ipython3",
   "version": "3.12.7"
  }
 },
 "nbformat": 4,
 "nbformat_minor": 5
}
