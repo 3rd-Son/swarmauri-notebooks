{
 "cells": [
  {
   "cell_type": "markdown",
   "id": "f77291b2-10ee-4982-8ce5-cd695ad9eb21",
   "metadata": {},
   "source": [
    "# Introduction\n",
    "\n",
    "This notebook will focus on understanding the structure of the toolkit. You will be introduced to the concepts of the toolkit, how different components of the toolkit work together, and the overall architecture.\n",
    "\n"
   ]
  },
  {
   "cell_type": "markdown",
   "id": "79ee663f-866c-475e-8403-052be3379fa5",
   "metadata": {},
   "source": [
    "# Toolkit Overview\n",
    "\n",
    "- The toolkit consists of several components like `ToolBase`, `Parameter`, and concrete tools like `WeatherTool`, `TextLengthTool`, and others. Each tool is a subclass of `ToolBase`.\n",
    "- The toolkit is structured to allow for easy creation of new tools and integration of various functionalities."
   ]
  },
  {
   "cell_type": "markdown",
   "id": "0481810b-9ca9-4dcb-83ee-0ea230d92c46",
   "metadata": {},
   "source": [
    "# Core Concepts:\n",
    "\n",
    "- `ToolBase`: The base class for all tools. This defines the basic interface that any custom tool must implement.\n",
    "- **Attributes:**\n",
    "    - `version`: Version of the tool.\n",
    "    - `parameters`: List of parameters required by the tool.\n",
    "    - `name`: Name of the tool.\n",
    "    - `description`: Description of the tool's functionality.\n",
    "    - `type`: Type of the tool (e.g., `WeatherTool`).\n",
    "- `Parameter`: Represents the individual inputs that the tool requires. Each tool can have multiple parameters.\n",
    "\n",
    "# The Role of SubclassUnion\n",
    "\n",
    "`SubclassUnion.update()`: This is used to register new tool types. Every time a new tool class is created, it gets updated into the union of tool types.\n"
   ]
  },
  {
   "cell_type": "markdown",
   "id": "680f9751-963f-430b-83ea-bc893bb094ee",
   "metadata": {},
   "source": [
    "**Example:**\n",
    "```python\n",
    "SubclassUnion.update(baseclass=ToolBase, type_name=\"WeatherTool\", obj=WeatherTool).\n",
    "```\n",
    "\n",
    "# Understanding Tools in the Toolkit:\n",
    "\n",
    "**Tool Example:** Let's take `WeatherTool` as an example. It fetches weather information for a location.\n",
    "The `WeatherTool` class has parameters like `location` and `unit` that the user provides. It also defines the `__call__()` method, which contains the main logic of the tool."
   ]
  },
  {
   "cell_type": "code",
   "execution_count": 7,
   "id": "428c23c2-f9cb-4c1b-ab17-7b1b267c7f8d",
   "metadata": {},
   "outputs": [],
   "source": [
    "# Imports necessary for defining tools and parameters\n",
    "from typing import List, Literal, Dict\n",
    "from pydantic import Field\n",
    "from swarmauri_core.typing import SubclassUnion\n",
    "from swarmauri.tools.base.ToolBase import ToolBase\n",
    "from swarmauri.tools.concrete.Parameter import Parameter"
   ]
  },
  {
   "cell_type": "code",
   "execution_count": 8,
   "id": "21cf77b9-4e70-491a-aa64-a4a4c53bb24e",
   "metadata": {},
   "outputs": [],
   "source": [
    "class WeatherTool(ToolBase):\n",
    "    version: str = \"0.1.dev1\"\n",
    "    parameters: List[Parameter] = Field(\n",
    "        default_factory=lambda: [\n",
    "            Parameter(\n",
    "                name=\"location\",\n",
    "                type=\"string\",\n",
    "                description=\"The location for which to fetch weather information\",\n",
    "                required=True,\n",
    "            ),\n",
    "            Parameter(\n",
    "                name=\"unit\",\n",
    "                type=\"string\",\n",
    "                description=\"The unit for temperature ('fahrenheit' or 'celsius')\",\n",
    "                required=True,\n",
    "                enum=[\"fahrenheit\", \"celsius\"],\n",
    "            ),\n",
    "        ]\n",
    "    )\n",
    "    name: str = \"WeatherTool\"\n",
    "    description: str = \"Fetch current weather info for a location\"\n",
    "    type: Literal[\"WeatherTool\"] = \"WeatherTool\"\n",
    "\n",
    "    def __call__(self, location, unit=\"fahrenheit\") -> Dict[str, str]:\n",
    "        weather_info = (location, unit)\n",
    "        # Here you would implement the actual logic for fetching the weather information.\n",
    "        # For demonstration, let's just return the parameters as a string.\n",
    "        return {\"weather_info\": str(weather_info)}\n",
    "\n",
    "\n",
    "SubclassUnion.update(baseclass=ToolBase, type_name=\"WeatherTool\", obj=WeatherTool)"
   ]
  },
  {
   "cell_type": "markdown",
   "id": "16bd5b5c-68cb-413c-99fd-e1ae60a16ab1",
   "metadata": {},
   "source": [
    "Each tool has:\n",
    "\n",
    "- A version for tracking updates.\n",
    "- Parameters that are required to interact with the tool.\n",
    "- The main logic encapsulated in the `__call__()` method."
   ]
  },
  {
   "cell_type": "markdown",
   "id": "f4346d76-2ac6-4166-a3ef-1d35117a8c82",
   "metadata": {},
   "source": [
    "# Notebook Metadata"
   ]
  },
  {
   "cell_type": "code",
   "execution_count": 11,
   "id": "0e3a71ba-774b-4f91-b885-9d33a636e871",
   "metadata": {},
   "outputs": [
    {
     "name": "stdout",
     "output_type": "stream",
     "text": [
      "Author: Huzaifa Irshad\n",
      "GitHub Username: irshadhuzaifa\n",
      "Last Modified: 2024-11-11 19:20:12.322964\n",
      "Platform: Windows 11\n",
      "Python Version: 3.12.7 | packaged by Anaconda, Inc. | (main, Oct  4 2024, 13:17:27) [MSC v.1929 64 bit (AMD64)]\n",
      "Swarmauri Version: Swarmauri Version: 0.5.1\n"
     ]
    }
   ],
   "source": [
    "import os\n",
    "import platform\n",
    "import sys\n",
    "from datetime import datetime\n",
    "\n",
    "# Display author information\n",
    "author_name = \"Huzaifa Irshad\" \n",
    "github_username = \"irshadhuzaifa\"  \n",
    "\n",
    "print(f\"Author: {author_name}\")\n",
    "print(f\"GitHub Username: {github_username}\")\n",
    "\n",
    "# Last modified datetime (file's metadata)\n",
    "notebook_file = \"Notebook_01_Understanding_the_Toolkit_Structure.ipynb\"\n",
    "try:\n",
    "    last_modified_time = os.path.getmtime(notebook_file)\n",
    "    last_modified_datetime = datetime.fromtimestamp(last_modified_time)\n",
    "    print(f\"Last Modified: {last_modified_datetime}\")\n",
    "except Exception as e:\n",
    "    print(f\"Could not retrieve last modified datetime: {e}\")\n",
    "\n",
    "# Display platform, Python version, and Swarmauri version\n",
    "print(f\"Platform: {platform.system()} {platform.release()}\")\n",
    "print(f\"Python Version: {sys.version}\")\n",
    "\n",
    "import swarmauri\n",
    "\n",
    "try:\n",
    "    version = swarmauri.__version__\n",
    "except AttributeError:\n",
    "    version = f\"Swarmauri Version: 0.5.1\"\n",
    "\n",
    "print(f\"Swarmauri Version: {version}\")"
   ]
  },
  {
   "cell_type": "code",
   "execution_count": null,
   "id": "050e6a9c-c826-46ab-a815-58bc8a7a4803",
   "metadata": {},
   "outputs": [],
   "source": []
  }
 ],
 "metadata": {
  "kernelspec": {
   "display_name": "swarmauri(0.5.1)",
   "language": "python",
   "name": "myenv"
  },
  "language_info": {
   "codemirror_mode": {
    "name": "ipython",
    "version": 3
   },
   "file_extension": ".py",
   "mimetype": "text/x-python",
   "name": "python",
   "nbconvert_exporter": "python",
   "pygments_lexer": "ipython3",
   "version": "3.12.7"
  }
 },
 "nbformat": 4,
 "nbformat_minor": 5
}
