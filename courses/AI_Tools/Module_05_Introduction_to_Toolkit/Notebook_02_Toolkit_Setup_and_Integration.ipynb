{
 "cells": [
  {
   "cell_type": "markdown",
   "id": "5baeb9e3-ba09-4330-b338-2c5cdc045335",
   "metadata": {},
   "source": [
    "# Introduction\n",
    "This notebook will walk you through setting up the toolkit and integrating different tools. The goal is to provide a clear understanding of how to configure and use the toolkit."
   ]
  },
  {
   "cell_type": "markdown",
   "id": "26e605e6-fa4b-4f6f-8c3b-be8a8adadd81",
   "metadata": {},
   "source": [
    "# Setting Up the Toolkit Environment\n",
    "Before using the `swarmauri` toolkit, make sure all dependencies are installed and ready to go.\n",
    "\n",
    "Install the package:\n",
    "```bash\n",
    "pip install swarmauri\n",
    "```"
   ]
  },
  {
   "cell_type": "markdown",
   "id": "f40985e2-d3f6-41ca-b8b3-497768694bd5",
   "metadata": {},
   "source": [
    "Once installed, you can import and use the tools in your project."
   ]
  },
  {
   "cell_type": "code",
   "execution_count": 13,
   "id": "8d473824-d236-486e-a199-520e03fc0c41",
   "metadata": {},
   "outputs": [],
   "source": [
    "# Necessary imports for setting up and integrating the toolkit\n",
    "from swarmauri.tools.concrete import WeatherTool\n",
    "from swarmauri.tools.concrete import TextLengthTool"
   ]
  },
  {
   "cell_type": "markdown",
   "id": "d6fad4a6-7f6d-4003-9a29-58d016bff0ab",
   "metadata": {},
   "source": [
    "# Using the WeatherTool to Fetch Weather Information\n",
    "\n",
    "Now that the environment is set up, let’s focus on how to use the `WeatherTool` to get weather data.\n",
    "\n",
    "**Example:**"
   ]
  },
  {
   "cell_type": "code",
   "execution_count": 14,
   "id": "c084b814-17b6-48bb-a847-1948f8419358",
   "metadata": {},
   "outputs": [
    {
     "name": "stdout",
     "output_type": "stream",
     "text": [
      "{'weather_info': \"('London', 'celsius')\"}\n"
     ]
    }
   ],
   "source": [
    "# Instantiate the WeatherTool\n",
    "weather_tool = WeatherTool()\n",
    "\n",
    "# Fetch weather for a specific location\n",
    "weather_info = weather_tool(location=\"London\", unit=\"celsius\")\n",
    "print(weather_info)"
   ]
  },
  {
   "cell_type": "markdown",
   "id": "9a7affee-727e-420e-890b-afd0a7b0ed53",
   "metadata": {},
   "source": [
    "# Using the TextLengthTool to Analyze Text\n",
    "\n",
    "You can also use the `TextLengthTool` to analyze the content of a text.\n",
    "\n",
    "**Example:**"
   ]
  },
  {
   "cell_type": "code",
   "execution_count": null,
   "id": "29ffa807-4cf1-40b1-a54f-a3b1c3de28bb",
   "metadata": {},
   "outputs": [],
   "source": [
    "# Instantiate the TextLengthTool\n",
    "text_tool = TextLengthTool()\n",
    "\n",
    "# Pass a sample text to analyze\n",
    "result = text_tool(text=\"Hello, this is a simple example text.\")\n",
    "print(result)"
   ]
  },
  {
   "cell_type": "markdown",
   "id": "cba7fbbe-934d-4b44-a294-93e6f576290a",
   "metadata": {},
   "source": [
    "This will output the character, word, and sentence count for the provided text."
   ]
  },
  {
   "cell_type": "markdown",
   "id": "2766650b-53e2-486d-9d48-764e1614970d",
   "metadata": {},
   "source": [
    "# Integration in Larger Projects\n",
    "\n",
    "You can integrate these tools into larger systems. For example, if you are building a weather dashboard, you can modify and call the `WeatherTool` to display real-time weather data. Similarly, text analysis tools like `TextLengthTool` can be used in content analysis platforms."
   ]
  },
  {
   "cell_type": "markdown",
   "id": "d5b9b038-cebb-4212-b07b-1edb2b1f6496",
   "metadata": {},
   "source": [
    "# Notebook Metadata"
   ]
  },
  {
   "cell_type": "code",
   "execution_count": 17,
   "id": "4310b192-aa3e-4f63-bbc7-56f4e3ab904e",
   "metadata": {},
   "outputs": [
    {
     "name": "stdout",
     "output_type": "stream",
     "text": [
      "Author: Huzaifa Irshad\n",
      "GitHub Username: irshadhuzaifa\n",
      "Last Modified: 2024-11-11 19:20:47.840418\n",
      "Platform: Windows 11\n",
      "Python Version: 3.12.7 | packaged by Anaconda, Inc. | (main, Oct  4 2024, 13:17:27) [MSC v.1929 64 bit (AMD64)]\n",
      "Swarmauri Version: Swarmauri Version: 0.5.1\n"
     ]
    }
   ],
   "source": [
    "import os\n",
    "import platform\n",
    "import sys\n",
    "from datetime import datetime\n",
    "\n",
    "# Display author information\n",
    "author_name = \"Huzaifa Irshad\" \n",
    "github_username = \"irshadhuzaifa\"  \n",
    "\n",
    "print(f\"Author: {author_name}\")\n",
    "print(f\"GitHub Username: {github_username}\")\n",
    "\n",
    "# Last modified datetime (file's metadata)\n",
    "notebook_file = \"Notebook_02_Toolkit_Setup_and_Integration.ipynb\"\n",
    "try:\n",
    "    last_modified_time = os.path.getmtime(notebook_file)\n",
    "    last_modified_datetime = datetime.fromtimestamp(last_modified_time)\n",
    "    print(f\"Last Modified: {last_modified_datetime}\")\n",
    "except Exception as e:\n",
    "    print(f\"Could not retrieve last modified datetime: {e}\")\n",
    "\n",
    "# Display platform, Python version, and Swarmauri version\n",
    "print(f\"Platform: {platform.system()} {platform.release()}\")\n",
    "print(f\"Python Version: {sys.version}\")\n",
    "\n",
    "import swarmauri\n",
    "\n",
    "try:\n",
    "    version = swarmauri.__version__\n",
    "except AttributeError:\n",
    "    version = f\"Swarmauri Version: 0.5.1\"\n",
    "\n",
    "print(f\"Swarmauri Version: {version}\")"
   ]
  },
  {
   "cell_type": "code",
   "execution_count": null,
   "id": "4595a6ee-4dff-4c7b-9c2d-22d15a0042b3",
   "metadata": {},
   "outputs": [],
   "source": []
  }
 ],
 "metadata": {
  "kernelspec": {
   "display_name": "swarmauri(0.5.1)",
   "language": "python",
   "name": "myenv"
  },
  "language_info": {
   "codemirror_mode": {
    "name": "ipython",
    "version": 3
   },
   "file_extension": ".py",
   "mimetype": "text/x-python",
   "name": "python",
   "nbconvert_exporter": "python",
   "pygments_lexer": "ipython3",
   "version": "3.12.7"
  }
 },
 "nbformat": 4,
 "nbformat_minor": 5
}
