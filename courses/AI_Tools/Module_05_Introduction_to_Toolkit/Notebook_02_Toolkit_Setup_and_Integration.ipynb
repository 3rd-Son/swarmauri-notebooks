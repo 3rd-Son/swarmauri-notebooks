{
 "cells": [
  {
   "cell_type": "markdown",
   "id": "fa5300c4-b504-4a44-b16b-9865d7a553b0",
   "metadata": {},
   "source": [
    "# Toolkit Setup and Integration"
   ]
  },
  {
   "cell_type": "markdown",
   "id": "528d0510-b2a9-4da1-ad1a-9ef667f8deda",
   "metadata": {},
   "source": [
    "This notebook demonstrates how to set up and integrate toolkits into an application. You'll learn to configure a `Toolkit`, add tools to it, and dynamically retrieve and use those tools."
   ]
  },
  {
   "cell_type": "markdown",
   "id": "9d0cb638-8353-448f-9aba-e25ca2baa4f5",
   "metadata": {},
   "source": [
    "## Setting up the Toolkit"
   ]
  },
  {
   "cell_type": "markdown",
   "id": "26dbd42b-0f9b-4983-8cdf-30d316b1e5b7",
   "metadata": {},
   "source": [
    "The first step in utilizing a `Toolkit` is to initialize and configure it. The `Toolkit` class serves as a container for various tools that can be dynamically added and used.\n",
    "\n",
    "Key Points:\n",
    "\n",
    "- The `Toolkit` is initialized with no tools.\n",
    "- Tools are added dynamically to extend its functionality."
   ]
  },
  {
   "cell_type": "markdown",
   "id": "bdf34e43-6296-4136-ae60-4f116d0db508",
   "metadata": {},
   "source": [
    "### Create an Instance of Toolkit"
   ]
  },
  {
   "cell_type": "code",
   "execution_count": 1,
   "id": "3f55216a-05ea-4aaf-a14f-295a1dcafa7c",
   "metadata": {},
   "outputs": [],
   "source": [
    "from swarmauri.toolkits.concrete import Toolkit"
   ]
  },
  {
   "cell_type": "code",
   "execution_count": 2,
   "id": "e4684bf3-9f3b-481b-bc97-c16039137761",
   "metadata": {},
   "outputs": [],
   "source": [
    "# Initialize the Toolkit\n",
    "toolkit = Toolkit()"
   ]
  },
  {
   "cell_type": "code",
   "execution_count": 3,
   "id": "2ab4c887-d681-4127-8b9b-0bb39b4bd97e",
   "metadata": {},
   "outputs": [
    {
     "name": "stdout",
     "output_type": "stream",
     "text": [
      "Initial Toolkit State: name=None id='2bb52f04-3b6a-4ae0-8576-6afce8f9d01a' members=[] owner=None host=None resource='Toolkit' version='0.1.0' type='Toolkit' tools={}\n"
     ]
    }
   ],
   "source": [
    "# Display initial state\n",
    "print(\"Initial Toolkit State:\", toolkit)"
   ]
  },
  {
   "cell_type": "markdown",
   "id": "7e1871a8-4be4-48e5-9b53-0b706aba9451",
   "metadata": {},
   "source": [
    "## Adding Tools"
   ]
  },
  {
   "cell_type": "markdown",
   "id": "d8e77d94-aca5-4ee0-8dcb-f7682f09ada2",
   "metadata": {},
   "source": [
    "Tools are essential components of a `Toolkit`. They perform specific tasks, such as calculations or analysis. Adding tools to a `Toolkit` allows dynamic customization.\n",
    "\n",
    "Example Tools:\n",
    "\n",
    "- `AdditionTool`: A tool that performs addition.\n",
    "- `AutomatedReadabilityIndexTool`: Analyzes text readability."
   ]
  },
  {
   "cell_type": "markdown",
   "id": "de5a6f04-2fe0-46b8-a273-487f63b10cd1",
   "metadata": {},
   "source": [
    "### Add Predefined Tools"
   ]
  },
  {
   "cell_type": "code",
   "execution_count": 5,
   "id": "cf303d89-ff01-4421-842e-c8ff052ce23c",
   "metadata": {},
   "outputs": [],
   "source": [
    "from swarmauri.tools.concrete.AdditionTool import AdditionTool\n",
    "from swarmauri.tools.concrete.AutomatedReadabilityIndexTool import AutomatedReadabilityIndexTool"
   ]
  },
  {
   "cell_type": "code",
   "execution_count": 6,
   "id": "f55159c1-ff80-459e-a2ce-8a6bcdb529bc",
   "metadata": {},
   "outputs": [],
   "source": [
    "# Create tool instances\n",
    "addition_tool = AdditionTool(name=\"AdditionTool\")\n",
    "ari_tool = AutomatedReadabilityIndexTool(name=\"AutomatedReadabilityIndexTool\")"
   ]
  },
  {
   "cell_type": "code",
   "execution_count": 7,
   "id": "c91acebc-840c-41c4-b3b8-a1fc97ae03e1",
   "metadata": {},
   "outputs": [],
   "source": [
    "# Add tools to the toolkit\n",
    "toolkit.add_tool(addition_tool)\n",
    "toolkit.add_tool(ari_tool)"
   ]
  },
  {
   "cell_type": "code",
   "execution_count": 8,
   "id": "56503e02-f04b-45d5-b5a2-df68f872629f",
   "metadata": {},
   "outputs": [
    {
     "name": "stdout",
     "output_type": "stream",
     "text": [
      "Updated Toolkit State: name=None id='2bb52f04-3b6a-4ae0-8576-6afce8f9d01a' members=[] owner=None host=None resource='Toolkit' version='0.1.0' type='Toolkit' tools={'AdditionTool': AdditionTool(name='AdditionTool', id='a1d945f8-dd60-4bb0-9c19-e571eee35340', members=[], owner=None, host=None, resource='Tool', version='0.0.1', type='AdditionTool', description='This tool has two numbers together', parameters=[Parameter(name='x', id='a2a607ad-86c7-4490-877d-f8a3d2abb280', members=[], owner=None, host=None, resource='Parameter', version='0.1.0', type='integer', description='The left operand', required=True, enum=None), Parameter(name='y', id='9878787e-28cb-4c38-a1d8-adfd139ba295', members=[], owner=None, host=None, resource='Parameter', version='0.1.0', type='integer', description='The right operand', required=True, enum=None)]), 'AutomatedReadabilityIndexTool': AutomatedReadabilityIndexTool(name='AutomatedReadabilityIndexTool', id='c487e0c3-4ca6-4df3-a1d0-19dd186aca8d', members=[], owner=None, host=None, resource='Tool', version='0.1.dev1', type='AutomatedReadabilityIndexTool', description='Calculates the Automated Readability Index (ARI) for a given text.', parameters=[Parameter(name='input_text', id='acabbdad-7eb3-4393-ba8c-8f803dceca8b', members=[], owner=None, host=None, resource='Parameter', version='0.1.0', type='string', description='The input text for which to calculate the ARI.', required=True, enum=None)])}\n"
     ]
    }
   ],
   "source": [
    "# Display the updated toolkit\n",
    "print(\"Updated Toolkit State:\", toolkit)"
   ]
  },
  {
   "cell_type": "markdown",
   "id": "d91612c4-c5ad-461b-b6fe-df89a55c378b",
   "metadata": {},
   "source": [
    "## Retrieving and Using Tools\n",
    "\n",
    "### Fetch a Tool by Name and Use It"
   ]
  },
  {
   "cell_type": "code",
   "execution_count": 9,
   "id": "82be5118-86a5-449f-847c-bffcbe87be86",
   "metadata": {},
   "outputs": [],
   "source": [
    "# Retrieve a tool by name\n",
    "retrieved_tool = toolkit.get_tool_by_name(\"AdditionTool\")"
   ]
  },
  {
   "cell_type": "code",
   "execution_count": 10,
   "id": "8f3fcff9-d35e-4d2b-840f-08e3b8e044b9",
   "metadata": {},
   "outputs": [
    {
     "name": "stdout",
     "output_type": "stream",
     "text": [
      "Result of AdditionTool: {'sum': '8'}\n"
     ]
    }
   ],
   "source": [
    "# Use the retrieved tool\n",
    "if retrieved_tool:\n",
    "    result = retrieved_tool(5, 3)  # Example usage for AdditionTool\n",
    "    print(\"Result of AdditionTool:\", result)"
   ]
  },
  {
   "cell_type": "code",
   "execution_count": 11,
   "id": "1d794f65-4f3b-4124-81be-3298c9ce64c9",
   "metadata": {},
   "outputs": [],
   "source": [
    "# Retrieve and use another tool\n",
    "ari_tool = toolkit.get_tool_by_name(\"AutomatedReadabilityIndexTool\")"
   ]
  },
  {
   "cell_type": "code",
   "execution_count": 12,
   "id": "5c00155a-3cf6-48c2-b2ca-08938ac24f3e",
   "metadata": {},
   "outputs": [
    {
     "name": "stdout",
     "output_type": "stream",
     "text": [
      "Automated Readability Index Result: {'ari_score': 1.9800000000000004}\n"
     ]
    }
   ],
   "source": [
    "# Use the Automated Readability Index tool on sample text\n",
    "if ari_tool:\n",
    "    text_analysis_result = ari_tool(\"This is a simple test sentence.\")\n",
    "    print(\"Automated Readability Index Result:\", text_analysis_result)"
   ]
  },
  {
   "cell_type": "markdown",
   "id": "289adef6-1d58-42ee-b7dc-119bebc312b8",
   "metadata": {},
   "source": [
    "### Dynamic Retrieval:\n",
    "\n",
    "- Tools are retrieved by their names, allowing for flexible and modular integration.\n",
    "- This approach decouples tool implementation from their usage, enabling dynamic application behavior.\n",
    "\n",
    "By dynamically retrieving and using tools, applications gain flexibility in processing and analyzing data based on runtime requirements."
   ]
  },
  {
   "cell_type": "markdown",
   "id": "a0e3763f-04b6-43a6-89d8-49cc23bca447",
   "metadata": {},
   "source": [
    "## Conclusion\n",
    "\n",
    "You have now learned how to set up a `Toolkit`, add tools to it, and dynamically retrieve and use those tools. This modular approach enhances the flexibility and scalability of your application."
   ]
  },
  {
   "cell_type": "code",
   "execution_count": null,
   "id": "31f23764-877d-46d9-b0be-43c0cf89172a",
   "metadata": {},
   "outputs": [],
   "source": []
  }
 ],
 "metadata": {
  "kernelspec": {
   "display_name": "swarmauri(0.5.1)",
   "language": "python",
   "name": "myenv"
  },
  "language_info": {
   "codemirror_mode": {
    "name": "ipython",
    "version": 3
   },
   "file_extension": ".py",
   "mimetype": "text/x-python",
   "name": "python",
   "nbconvert_exporter": "python",
   "pygments_lexer": "ipython3",
   "version": "3.12.7"
  }
 },
 "nbformat": 4,
 "nbformat_minor": 5
}
