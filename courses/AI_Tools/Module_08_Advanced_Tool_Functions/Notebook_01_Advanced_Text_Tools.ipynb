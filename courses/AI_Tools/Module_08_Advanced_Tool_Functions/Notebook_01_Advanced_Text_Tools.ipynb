{
 "cells": [
  {
   "cell_type": "markdown",
   "metadata": {},
   "source": [
    "# **Advanced Text Tools with Swarmauri**\n",
    "\n",
    "## **Introduction**\n",
    "Text readability analysis is crucial for ensuring content is accessible to your target audience. The swarmauri library provides two powerful tools for this purpose:\n",
    "1. Flesch-Kincaid Tool: Measures reading ease and grade level\n",
    "2. Gunning-Fog Tool: Measures text complexity\n",
    "\n",
    "These tools help writers and content creators optimize their text for specific reading levels and audience comprehension.\n",
    "\n",
    "## **Practical Implementation**\n",
    "\n",
    "### **1. Flesch-Kincaid Analysis**\n",
    "\n",
    "**Why is it used?**\n",
    "\n",
    "The Flesch-Kincaid readability tool is a widely used metric for evaluating the readability of text. It provides a score that estimates the level of education required to understand a piece of writing. This information is valuable for a variety of applications, such as:\n",
    "\n",
    "- Content writing and editing: Ensuring that your written content is accessible to your target audience.\n",
    "- Educational material development: Verifying that your educational resources are appropriate for the intended grade level.\n",
    "- User experience optimization: Improving the clarity and comprehension of your website or application content.\n",
    "\n",
    "**What is it?**\n",
    "\n",
    "The FleschKincaidTool is a readability analysis tool that calculates the Flesch-Kincaid readability score for a given text. This score is a widely used metric that estimates the level of education required to understand a piece of writing. The tool considers factors such as the average number of words per sentence and the average number of syllables per word to determine the readability level.\n",
    "The Flesch-Kincaid readability tool calculates a score based on two factors: the average number of words per sentence and the average number of syllables per word. \n",
    "\n",
    "**How does Swarmauri implement it?**\n",
    "\n",
    "The Swarmauri library provides the FleschKincaidTool, which encapsulates the Flesch-Kincaid readability calculation. \n",
    "You can use this tool by passing in a dictionary with a 'input_text' key, and it will return a dictionary with the calculated 'reading_ease' and 'grade_level' values.\n",
    "\n",
    "\n",
    "Let's see how we can use the FleschKincaidTool in practice:"
   ]
  },
  {
   "cell_type": "code",
   "execution_count": 1,
   "metadata": {},
   "outputs": [],
   "source": [
    "from swarmauri.tools.concrete import FleschKincaidTool"
   ]
  },
  {
   "cell_type": "markdown",
   "metadata": {},
   "source": [
    "**Create sample text**"
   ]
  },
  {
   "cell_type": "code",
   "execution_count": 2,
   "metadata": {},
   "outputs": [],
   "source": [
    "sample_text = \"\"\"\n",
    "The sun rises in the east. Birds sing their morning songs.\n",
    "Children play in the park with their colorful toys.\n",
    "\"\"\""
   ]
  },
  {
   "cell_type": "markdown",
   "metadata": {},
   "source": [
    "**Initialize the tool**"
   ]
  },
  {
   "cell_type": "code",
   "execution_count": 3,
   "metadata": {},
   "outputs": [],
   "source": [
    "flesch_tool = FleschKincaidTool()"
   ]
  },
  {
   "cell_type": "markdown",
   "metadata": {},
   "source": [
    "**Analyze the text**"
   ]
  },
  {
   "cell_type": "code",
   "execution_count": 4,
   "metadata": {},
   "outputs": [],
   "source": [
    "result = flesch_tool({\"input_text\": sample_text})"
   ]
  },
  {
   "cell_type": "markdown",
   "metadata": {},
   "source": [
    "**Print results**"
   ]
  },
  {
   "cell_type": "code",
   "execution_count": 5,
   "metadata": {},
   "outputs": [
    {
     "name": "stdout",
     "output_type": "stream",
     "text": [
      "Reading Ease Score: 94.31833333333333\n",
      "Grade Level: 1.7600000000000016\n"
     ]
    }
   ],
   "source": [
    "print(\"Reading Ease Score:\", result[\"reading_ease\"])\n",
    "print(\"Grade Level:\", result[\"grade_level\"])"
   ]
  },
  {
   "cell_type": "markdown",
   "metadata": {},
   "source": [
    "**The Flesch-Kincaid tool calculates:**\n",
    "- Reading Ease: Higher scores (0-100) indicate easier reading\n",
    "- Grade Level: Indicates US grade level needed to understand the text"
   ]
  },
  {
   "cell_type": "markdown",
   "metadata": {},
   "source": [
    "### **2. Gunning-Fog Analysis**\n",
    "The GunningFogTool is another readability analysis tool that calculates the Gunning Fog Index for a given text. The Gunning Fog Index estimates the level of education required to understand a piece of writing based on the average number of words per sentence and the percentage of words with three or more syllables.\n",
    "\n",
    "**Why is it used?**\n",
    "The Gunning Fog Index is another widely used readability metric that estimates the level of education required to understand a piece of writing. Like the Flesch-Kincaid readability tool, the Gunning Fog Index is valuable for similar applications, such as content writing, educational material development, and user experience optimization.\n",
    "\n",
    "**What is it?**\n",
    "The Gunning Fog Index formula considers two factors: the average number of words per sentence and the percentage of words with three or more syllables. \n",
    "\n",
    "**How does Swarmauri implement it?**\n",
    "\n",
    "The Swarmauri library provides the GunningFogTool, which encapsulates the Gunning Fog Index calculation. You can use this tool by passing in a dictionary with a 'input_text' key, and it will return a dictionary with the calculated 'gunning_fog_score'.\n",
    "\n",
    "Here's an example of how to use the GunningFogTool with swarmauri:"
   ]
  },
  {
   "cell_type": "code",
   "execution_count": 6,
   "metadata": {},
   "outputs": [],
   "source": [
    "from swarmauri.tools.concrete import GunningFogTool"
   ]
  },
  {
   "cell_type": "markdown",
   "metadata": {},
   "source": [
    "**Create sample text**"
   ]
  },
  {
   "cell_type": "code",
   "execution_count": 7,
   "metadata": {},
   "outputs": [],
   "source": [
    "complex_text = \"\"\"\n",
    "The implementation of sophisticated algorithms requires careful consideration.\n",
    "The multifaceted approach demonstrates remarkable effectiveness.\n",
    "\"\"\""
   ]
  },
  {
   "cell_type": "markdown",
   "metadata": {},
   "source": [
    "**Initialize the tool**"
   ]
  },
  {
   "cell_type": "code",
   "execution_count": 8,
   "metadata": {},
   "outputs": [],
   "source": [
    "fog_tool = GunningFogTool()"
   ]
  },
  {
   "cell_type": "markdown",
   "metadata": {},
   "source": [
    "**Analyze the text**"
   ]
  },
  {
   "cell_type": "code",
   "execution_count": 9,
   "metadata": {},
   "outputs": [],
   "source": [
    "result = fog_tool({\"input_text\": complex_text})"
   ]
  },
  {
   "cell_type": "markdown",
   "metadata": {},
   "source": [
    "**Print result**"
   ]
  },
  {
   "cell_type": "code",
   "execution_count": 10,
   "metadata": {},
   "outputs": [
    {
     "name": "stdout",
     "output_type": "stream",
     "text": [
      "Gunning-Fog Score: 31.371428571428574\n"
     ]
    }
   ],
   "source": [
    "print(\"Gunning-Fog Score:\", result[\"gunning_fog_score\"])"
   ]
  },
  {
   "cell_type": "markdown",
   "metadata": {},
   "source": [
    "\n",
    "**The Gunning-Fog score indicates:**\n",
    "- Values under 12: Easy to read\n",
    "- Values 12-14: Moderate difficulty\n",
    "- Values above 14: Complex text\n",
    "\n",
    "## **Conclusion**\n",
    "\n",
    "In this notebook, we've learned how to use the FleschKincaidTool and the GunningFogTool from the Swarmauri library to analyze the readability of text. These tools can be valuable for a variety of applications, such as content writing, educational material development, and user experience optimization.\n",
    "\n",
    "By understanding the readability of your text, you can tailor your writing to better suit your target audience and improve the overall clarity and accessibility of your content.\n",
    "These text analysis tools provide valuable metrics for:\n",
    "- Content optimization\n",
    "- Audience targeting\n",
    "- Readability improvement\n",
    "- Educational material development\n",
    "\n",
    "\n",
    "In the next notebook, we'll explore the data visualization capabilities of the Swarmauri library, which can help you present your textual analysis in a more engaging and insightful way.\n",
    "e."
   ]
  }
 ],
 "metadata": {
  "kernelspec": {
   "display_name": "swarmauri-0.5.1",
   "language": "python",
   "name": "python3"
  },
  "language_info": {
   "codemirror_mode": {
    "name": "ipython",
    "version": 3
   },
   "file_extension": ".py",
   "mimetype": "text/x-python",
   "name": "python",
   "nbconvert_exporter": "python",
   "pygments_lexer": "ipython3",
   "version": "3.12.7"
  }
 },
 "nbformat": 4,
 "nbformat_minor": 2
}
