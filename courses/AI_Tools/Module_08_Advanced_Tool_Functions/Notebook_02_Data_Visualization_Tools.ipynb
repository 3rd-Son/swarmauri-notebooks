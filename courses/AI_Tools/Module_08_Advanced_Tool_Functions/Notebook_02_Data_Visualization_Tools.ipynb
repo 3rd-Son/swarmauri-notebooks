{
 "cells": [
  {
   "cell_type": "markdown",
   "metadata": {},
   "source": [
    "# **Data Visualization Tools with Swarmauri**\n",
    "\n",
    "## **Introduction**\n",
    "Data visualization is essential for understanding patterns and communicating insights effectively. Swarmauri provides two main visualization tools:\n",
    "1. **MatplotlibTool:** For creating basic plots from data arrays\n",
    "2. **MatplotlibCsvTool:** For creating visualizations directly from CSV files\n",
    "\n",
    "These tools simplify the process of creating professional-looking visualizations without complex matplotlib configurations.\n",
    "\n",
    "## **Practical Implementation**\n",
    "\n",
    "### **1. Basic Plotting with MatplotlibTool**\n",
    "\n",
    "The MatplotlibTool is a versatile visualization tool that allows you to create various types of plots directly from your data arrays. It supports multiple plot types including line plots, bar charts, and scatter plots. \n",
    "\n",
    "**Let's explore how to use this tool:**"
   ]
  },
  {
   "cell_type": "code",
   "execution_count": 1,
   "metadata": {},
   "outputs": [],
   "source": [
    "from swarmauri.tools.concrete import MatplotlibTool"
   ]
  },
  {
   "cell_type": "markdown",
   "metadata": {},
   "source": [
    "**Sample data**"
   ]
  },
  {
   "cell_type": "code",
   "execution_count": 2,
   "metadata": {},
   "outputs": [],
   "source": [
    "x_data = [1, 2, 3, 4, 5]\n",
    "y_data = [2, 4, 6, 8, 10]"
   ]
  },
  {
   "cell_type": "markdown",
   "metadata": {},
   "source": [
    "**Initialize the tool**"
   ]
  },
  {
   "cell_type": "code",
   "execution_count": 3,
   "metadata": {},
   "outputs": [],
   "source": [
    "plot_tool = MatplotlibTool()"
   ]
  },
  {
   "cell_type": "markdown",
   "metadata": {},
   "source": [
    "#### **Create different types of plots**\n",
    "\n",
    "**Line Plot**"
   ]
  },
  {
   "cell_type": "code",
   "execution_count": 5,
   "metadata": {},
   "outputs": [
    {
     "name": "stdout",
     "output_type": "stream",
     "text": [
      "{'img_path': 'line_plot.png', 'img_base64': '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', 'data': []}\n"
     ]
    }
   ],
   "source": [
    "line_plot = plot_tool(\n",
    "    plot_type=\"line\",\n",
    "    x_data=x_data,\n",
    "    y_data=y_data,\n",
    "    title=\"Simple Line Plot\",\n",
    "    x_label=\"X Values\",\n",
    "    y_label=\"Y Values\",\n",
    "    save_path=\"line_plot.png\"\n",
    ")\n",
    "\n",
    "print(line_plot)"
   ]
  },
  {
   "cell_type": "markdown",
   "metadata": {},
   "source": [
    "**Bar Plot**"
   ]
  },
  {
   "cell_type": "code",
   "execution_count": 6,
   "metadata": {},
   "outputs": [],
   "source": [
    "bar_plot = plot_tool(\n",
    "    plot_type=\"bar\",\n",
    "    x_data=x_data,\n",
    "    y_data=y_data,\n",
    "    title=\"Simple Bar Plot\",\n",
    "    x_label=\"Categories\",\n",
    "    y_label=\"Values\",\n",
    "    save_path=\"bar_plot.png\"\n",
    ")"
   ]
  },
  {
   "cell_type": "markdown",
   "metadata": {},
   "source": [
    "**Scatter Plot**"
   ]
  },
  {
   "cell_type": "code",
   "execution_count": 7,
   "metadata": {},
   "outputs": [],
   "source": [
    "scatter_plot = plot_tool(\n",
    "    plot_type=\"scatter\",\n",
    "    x_data=x_data,\n",
    "    y_data=y_data,\n",
    "    title=\"Simple Scatter Plot\",\n",
    "    x_label=\"X Values\",\n",
    "    y_label=\"Y Values\",\n",
    "    save_path=\"scatter_plot.png\"\n",
    ")"
   ]
  },
  {
   "cell_type": "markdown",
   "metadata": {},
   "source": [
    "### **2. CSV-based Plotting with MatplotlibCsvTool**\n",
    "**Why is it used?**\n",
    "\n",
    "The Matplotlib CSV Visualization Tool is a powerful tool that enables you to create data visualizations directly from CSV data. This is particularly useful when you want to quickly generate charts and graphs to present your findings or insights without the need for extensive data manipulation or charting code.\n",
    "\n",
    "**What is it?**\n",
    "\n",
    "The MatplotlibCsvTool uses the Matplotlib library to create visualizations based on the data provided in a CSV file. It takes the CSV file path, the column name for the x-axis, and the column name for the y-axis as input, and generates a chart or graph that you can save or further process.\n",
    "\n",
    "**How does Swarmauri implement it?**\n",
    "\n",
    "The Swarmauri library provides the MatplotlibCsvTool, which encapsulates the functionality for generating visualizations from CSV data. You can use this tool by passing in the CSV file path, the x-axis column name, the y-axis column name, and the output file path for the generated image.\n",
    "\n",
    "**Here's an example of how to use the MatplotlibCsvTool:**"
   ]
  },
  {
   "cell_type": "code",
   "execution_count": 9,
   "metadata": {},
   "outputs": [],
   "source": [
    "from swarmauri.tools.concrete import MatplotlibCsvTool"
   ]
  },
  {
   "cell_type": "markdown",
   "metadata": {},
   "source": [
    "**First, create a sample CSV file**"
   ]
  },
  {
   "cell_type": "code",
   "execution_count": 11,
   "metadata": {},
   "outputs": [],
   "source": [
    "with open(\"sample_data.csv\", \"w\") as f:\n",
    "    f.write(\"month,sales\\n\")\n",
    "    f.write(\"Jan,100\\n\")\n",
    "    f.write(\"Feb,120\\n\")\n",
    "    f.write(\"Mar,150\\n\")\n",
    "    f.write(\"Apr,130\\n\")"
   ]
  },
  {
   "cell_type": "markdown",
   "metadata": {},
   "source": [
    "**Initialize the tool**"
   ]
  },
  {
   "cell_type": "code",
   "execution_count": 12,
   "metadata": {},
   "outputs": [],
   "source": [
    "csv_plot_tool = MatplotlibCsvTool()"
   ]
  },
  {
   "cell_type": "markdown",
   "metadata": {},
   "source": [
    "**Create visualization from CSV**"
   ]
  },
  {
   "cell_type": "code",
   "execution_count": 22,
   "metadata": {},
   "outputs": [
    {
     "name": "stdout",
     "output_type": "stream",
     "text": [
      "Plot generated and saved to sales_plot.png\n"
     ]
    }
   ],
   "source": [
    "plot_result = csv_plot_tool(\"sample_data.csv\",x_column=\"month\",y_column=\"sales\",output_file=\"sales_plot.png\")"
   ]
  },
  {
   "cell_type": "markdown",
   "metadata": {},
   "source": [
    "\n",
    "\n",
    "## **Conclusion**\n",
    "\n",
    "\n",
    "In this notebook, we've explored the two main visualization tools provided by the Swarmauri library:\n",
    "\n",
    "1. The MatplotlibTool, which offers flexible plotting capabilities for various types of visualizations directly from data arrays.\n",
    "MatplotlibTool provides:\n",
    "   - Multiple plot types (line, bar, scatter)\n",
    "   - Customizable titles and labels\n",
    "   - Both image file output and base64 encoded data\n",
    "   - Support for numerical data arrays\n",
    "\n",
    "\n",
    "2. The MatplotlibCsvTool, which specializes in creating visualizations from CSV data.\n",
    "MatplotlibCsvTool provides:\n",
    "   - Direct CSV file processing\n",
    "   - Automatic data extraction from columns\n",
    "   - Image generation and saving\n",
    "   - Data validation and error handling\n",
    "\n",
    "These tools complement each other and provide a comprehensive solution for your data visualization needs. The MatplotlibTool is ideal when you have data in array format and want to create specific types of plots, while the MatplotlibCsvTool is perfect for working directly with CSV files.\n",
    "\n",
    "Both tools follow Swarmauri's philosophy of providing simple, intuitive interfaces while maintaining powerful functionality.\n",
    " They handle the complexity of creating visualizations while giving you the control you need to create effective data presentations.\n",
    "\n",
    "**In the next notebook, we'll explore how to combine these visualization tools with other Swarmauri tools to create more complex and comprehensive data analysis workflows.**\n"
   ]
  }
 ],
 "metadata": {
  "kernelspec": {
   "display_name": "swarmauri-0.5.1",
   "language": "python",
   "name": "python3"
  },
  "language_info": {
   "codemirror_mode": {
    "name": "ipython",
    "version": 3
   },
   "file_extension": ".py",
   "mimetype": "text/x-python",
   "name": "python",
   "nbconvert_exporter": "python",
   "pygments_lexer": "ipython3",
   "version": "3.12.7"
  }
 },
 "nbformat": 4,
 "nbformat_minor": 2
}
