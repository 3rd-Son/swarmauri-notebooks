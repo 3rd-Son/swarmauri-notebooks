{
 "cells": [
  {
   "cell_type": "markdown",
   "metadata": {},
   "source": [
    "# **Notebook 01: Creating Basic AI Tools**\n",
    "\n",
    "\n",
    "## **Introduction**\n",
    "\n",
    "#### **WHY DO WE NEED AI TOOLS?**\n",
    "In programming, we often need to perform specific operations or tasks repeatedly. \n",
    "Think of tools as specialized scripts or function calls that we can easily reuse. \n",
    "Rather than writing the same code multiple times, we can create tools that handle \n",
    "these operations efficiently.\n",
    "\n",
    "#### **WHAT ARE AI TOOLS?**\n",
    "Tools are lightweight, focused pieces of functionality that:\n",
    "- Execute specific operations (like a function call)\n",
    "- Return consistent results\n",
    "- Can be easily reused across different parts of your code\n",
    "- Are more flexible than full programs but more structured than loose scripts\n",
    "\n",
    "#### **HOW DOES SWARMAURI IMPLEMENT  AI TOOLS?**\n",
    "Swarmauri provides a straightforward way to create and use these specialized tools. \n",
    "\n",
    "Let's explore how!\n"
   ]
  },
  {
   "cell_type": "markdown",
   "metadata": {},
   "source": [
    "**Import dependencies**"
   ]
  },
  {
   "cell_type": "code",
   "execution_count": 3,
   "metadata": {},
   "outputs": [],
   "source": [
    "from swarmauri.tools.concrete import TestTool"
   ]
  },
  {
   "cell_type": "markdown",
   "metadata": {},
   "source": [
    "**Create a tool instance - think of it as initializing a reusable function**"
   ]
  },
  {
   "cell_type": "code",
   "execution_count": 4,
   "metadata": {},
   "outputs": [],
   "source": [
    "\n",
    "tool = TestTool()"
   ]
  },
  {
   "cell_type": "markdown",
   "metadata": {},
   "source": [
    "\n",
    "**Tools have metadata that helps identify their purpose**"
   ]
  },
  {
   "cell_type": "code",
   "execution_count": 5,
   "metadata": {},
   "outputs": [
    {
     "name": "stdout",
     "output_type": "stream",
     "text": [
      "Tool's Name Tag (Resource): Tool\n",
      "Tool's Job Title (Type): TestTool\n",
      "Tool's ID Card: e8bac21b-d0d0-4869-bee5-3a80e88710cd\n"
     ]
    }
   ],
   "source": [
    "print(\"Tool's Name Tag (Resource):\", tool.resource)\n",
    "print(\"Tool's Job Title (Type):\", tool.type)\n",
    "print(\"Tool's ID Card:\", tool.id)"
   ]
  },
  {
   "cell_type": "markdown",
   "metadata": {},
   "source": [
    "**Execute the tool (similar to a function call)**"
   ]
  },
  {
   "cell_type": "code",
   "execution_count": 6,
   "metadata": {},
   "outputs": [
    {
     "name": "stdout",
     "output_type": "stream",
     "text": [
      "\n",
      "When we ask our helper to open calculator:\n",
      "{'program': 'Program Opened: calc'}\n"
     ]
    }
   ],
   "source": [
    "\n",
    "result = tool('calc')\n",
    "print(\"\\nWhen we ask our helper to open calculator:\")\n",
    "print(result)"
   ]
  },
  {
   "cell_type": "markdown",
   "metadata": {},
   "source": [
    "**Tools can be serialized (saved) and deserialized (loaded)**\n"
   ]
  },
  {
   "cell_type": "code",
   "execution_count": 7,
   "metadata": {},
   "outputs": [
    {
     "name": "stdout",
     "output_type": "stream",
     "text": [
      "\n",
      "Helper packed into a package:\n",
      "{\"name\":\"TestTool\",\"id\":\"e8bac21b-d0d0-4869-bee5-3a80e88710cd\",\"members\":[],\"owner\":null,\"host\":null,\"resource\":\"Tool\",\"version\":\"1.0.0\",\"type\":\"TestTool\",\"description\":\"This opens a program based on the user's request.\",\"parameters\":[{\"name\":\"program\",\"id\":\"d4804131-4cfa-4484-a0c7-9fb7991ba3d4\",\"members\":[],\"owner\":null,\"host\":null,\"resource\":\"Parameter\",\"version\":\"0.1.0\",\"type\":\"string\",\"description\":\"The program that the user wants to open ('notepad' or 'calc' or 'mspaint')\",\"required\":true,\"enum\":[\"notepad\",\"calc\",\"mspaint\"]}]}\n"
     ]
    }
   ],
   "source": [
    "tool_json = tool.model_dump_json()\n",
    "print(\"\\nHelper packed into a package:\")\n",
    "print(tool_json)"
   ]
  },
  {
   "cell_type": "markdown",
   "metadata": {},
   "source": [
    "**Restore tool from serialized state**"
   ]
  },
  {
   "cell_type": "code",
   "execution_count": 8,
   "metadata": {},
   "outputs": [
    {
     "name": "stdout",
     "output_type": "stream",
     "text": [
      "\n",
      "Helper unpacked - still has same ID: e8bac21b-d0d0-4869-bee5-3a80e88710cd\n"
     ]
    }
   ],
   "source": [
    "unpacked_tool = TestTool.model_validate_json(tool_json)\n",
    "print(\"\\nHelper unpacked - still has same ID:\", unpacked_tool.id)\n"
   ]
  },
  {
   "cell_type": "markdown",
   "metadata": {},
   "source": [
    "**Execute multiple operations**"
   ]
  },
  {
   "cell_type": "code",
   "execution_count": 9,
   "metadata": {},
   "outputs": [
    {
     "name": "stdout",
     "output_type": "stream",
     "text": [
      "\n",
      "Let's try opening different programs:\n",
      "Opening notepad: {'program': 'Program Opened: notepad'}\n",
      "Opening paint: {'program': 'Program Opened: paint'}\n",
      "Opening wordpad: {'program': 'Program Opened: wordpad'}\n"
     ]
    }
   ],
   "source": [
    "programs_to_try = ['notepad', 'paint', 'wordpad']\n",
    "print(\"\\nLet's try opening different programs:\")\n",
    "for program in programs_to_try:\n",
    "    print(f\"Opening {program}:\", tool(program))"
   ]
  },
  {
   "cell_type": "markdown",
   "metadata": {},
   "source": [
    "\n",
    "## **Conclusion**\n",
    "\n",
    "### **WHAT DID WE LEARN?**\n",
    "**1. Tools as Specialized Operations:**\n",
    "   - They're lightweight function-like components\n",
    "   - Each tool performs a specific task\n",
    "   - They provide consistent, reusable functionality\n",
    "\n",
    "**2. Tool Structure:**\n",
    "   - Tools have metadata (type, resource, ID)\n",
    "   - They can be serialized and deserialized\n",
    "   - They maintain consistent behavior across calls\n",
    "\n",
    "**3. Tool Usage:**\n",
    "   - Simple, function-like execution\n",
    "   - Predictable results\n",
    "   - Easy to use multiple times\n",
    "\n",
    "### **WHAT'S NEXT?**\n",
    "- Create tools for specific operations\n",
    "- Combine tools for more complex tasks\n",
    "- Integrate tools into larger workflows\n",
    "\n",
    "**Remember:**\n",
    " \n",
    "Tools are like specialized functions that we can easily reuse across \n",
    "our code, making our programs more efficient and maintainable.\n"
   ]
  }
 ],
 "metadata": {
  "kernelspec": {
   "display_name": "swarmauri-0.5.1",
   "language": "python",
   "name": "python3"
  },
  "language_info": {
   "codemirror_mode": {
    "name": "ipython",
    "version": 3
   },
   "file_extension": ".py",
   "mimetype": "text/x-python",
   "name": "python",
   "nbconvert_exporter": "python",
   "pygments_lexer": "ipython3",
   "version": "3.12.7"
  }
 },
 "nbformat": 4,
 "nbformat_minor": 2
}
