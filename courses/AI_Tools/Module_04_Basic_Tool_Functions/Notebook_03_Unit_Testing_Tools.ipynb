{
 "cells": [
  {
   "cell_type": "markdown",
   "metadata": {},
   "source": [
    "# **Notebook 03: Tools for Automated Programming**\n",
    "\n",
    "## **Introduction**\n",
    "Modern software development faces increasing complexity in code management, runtime execution, and dynamic module handling. Automated programming tools serve as essential middleware components that bridge the gap between static codebases and dynamic runtime environments. This notebook explores three fundamental tools from the Swarmauri framework: CodeExtractorTool, ImportMemoryModuleTool, and CodeInterpreterTool.\n",
    "\n",
    "Imagine you're building with LEGO blocks, but instead of physical blocks, you're working with pieces of code. Sometimes you need to:\n",
    "\n",
    "Pick out specific LEGO pieces from a big box (CodeExtractorTool)\n",
    "Create new LEGO instructions while you're building (ImportMemoryModuleTool)\n",
    "Test if your LEGO creation works before adding it to your main project (CodeInterpreterTool)\n",
    "\n",
    "These tools are like smart assistants that help you manage, create, and test code pieces automatically.\n",
    "\n",
    "### **Why Do We Need These Tools?**\n",
    "Let's understand this with simple examples:\n",
    "🤔 ####**Common Programming Problems:**\n",
    "\n",
    "**Problem 1:** \"I have a huge file of code, but I only need certain parts!\"\n",
    "\n",
    "Like finding your favorite chapter in a big book\n",
    "This is where CodeExtractorTool helps\n",
    "\n",
    "\n",
    "**Problem 2:** \"I want to create new code pieces while my program is running!\"\n",
    "\n",
    "Like writing a new recipe while cooking\n",
    "ImportMemoryModuleTool handles this\n",
    "\n",
    "\n",
    "**Problem 3:** \"I need to test if my code works without affecting my main program!\"\n",
    "\n",
    "Like taste-testing a sauce before adding it to the main dish\n",
    "CodeInterpreterTool comes to the rescue\n",
    "\n",
    "\n",
    "\n",
    "## **Understanding Each Tool** \n",
    "### **1. CodeExtractorTool: The Code Librarian** 📚\n",
    "What is it?\n",
    "Think of it as a smart highlighter that can:\n",
    "\n",
    "Pick out the parts of code you want\n",
    "Skip the parts you don't need\n",
    "Keep or remove comments \n",
    "\n",
    "#### **Basic Example:**"
   ]
  },
  {
   "cell_type": "markdown",
   "metadata": {},
   "source": [
    "**Import dependencies**"
   ]
  },
  {
   "cell_type": "code",
   "execution_count": 1,
   "metadata": {},
   "outputs": [],
   "source": [
    "from swarmauri.tools.concrete import CodeExtractorTool"
   ]
  },
  {
   "cell_type": "markdown",
   "metadata": {},
   "source": [
    "**initialize tool**"
   ]
  },
  {
   "cell_type": "code",
   "execution_count": 2,
   "metadata": {},
   "outputs": [],
   "source": [
    "tool = CodeExtractorTool()"
   ]
  },
  {
   "cell_type": "markdown",
   "metadata": {},
   "source": [
    " **Using CodeExtractorTool to get just what we want:**"
   ]
  },
  {
   "cell_type": "markdown",
   "metadata": {},
   "source": [
    "***This is what my_file.py contains***\n",
    "\n",
    "```script\n",
    "\"\"\"This is a big program\"\"\"\n",
    "secret_code = 123\n",
    "important_function = lambda x: x*2\n",
    "print(\"Hello!\")\n",
    "```"
   ]
  },
  {
   "cell_type": "code",
   "execution_count": 5,
   "metadata": {},
   "outputs": [
    {
     "data": {
      "text/plain": [
       "'\"\"\"This is a big program\"\"\"\\nimportant_function = lambda x: x * 2\\nprint(\\'Hello!\\')'"
      ]
     },
     "execution_count": 5,
     "metadata": {},
     "output_type": "execute_result"
    }
   ],
   "source": [
    "result = tool.extract_code(\n",
    "    file_name=\"my_file.py\",\n",
    "    extract_documentation=True,  # Keep the comments\n",
    "    to_be_ignored=[\"secret_code\"]  # Skip this part\n",
    ")\n",
    "\n",
    "result"
   ]
  },
  {
   "cell_type": "markdown",
   "metadata": {},
   "source": [
    "### **2. ImportMemoryModuleTool**\n",
    "**What is it?**\n",
    "\n",
    "The ImportMemoryModuleTool enables dynamic module creation and import during runtime. This tool:\n",
    "\n",
    "- You write new code; Creates new Python modules in memory\n",
    "- Imports code snippets as modules; It instantly becomes part of your program\n",
    "- You can use it right away\n",
    "\n",
    "#### **Basic Example:**\n",
    "\n",
    "**Import dependencies**"
   ]
  },
  {
   "cell_type": "code",
   "execution_count": 12,
   "metadata": {},
   "outputs": [],
   "source": [
    "from swarmauri.tools.concrete import ImportMemoryModuleTool\n",
    "tool = ImportMemoryModuleTool()"
   ]
  },
  {
   "cell_type": "markdown",
   "metadata": {},
   "source": [
    "**Write a new tiny program**"
   ]
  },
  {
   "cell_type": "code",
   "execution_count": 13,
   "metadata": {},
   "outputs": [],
   "source": [
    "\n",
    "code_snippet = \"\"\"\n",
    "def greet(name):\n",
    "    return f'Hi {name}!'\n",
    "\"\"\"\n",
    "name_of_new_module=\"greetings\"\n",
    "\n",
    "dot_separated_package_page=\"my_program\"\n"
   ]
  },
  {
   "cell_type": "code",
   "execution_count": 14,
   "metadata": {},
   "outputs": [],
   "source": [
    "# Make it available in your program\n",
    "result = tool(\n",
    "    name_of_new_module,\n",
    "    code_snippet,\n",
    "    dot_separated_package_page\n",
    ")"
   ]
  },
  {
   "cell_type": "code",
   "execution_count": 15,
   "metadata": {},
   "outputs": [
    {
     "name": "stdout",
     "output_type": "stream",
     "text": [
      "Hi Alice!\n"
     ]
    }
   ],
   "source": [
    "# Now you can use it!\n",
    "from my_program.greetings import greet\n",
    "print(greet(\"Alice\"))  "
   ]
  },
  {
   "cell_type": "markdown",
   "metadata": {},
   "source": [
    "### **3. CodeInterpreterTool**\n",
    "**What is it?**\n",
    "\n",
    "The CodeInterpreterTool provides a safe environment for executing Python code snippets. It:\n",
    "\n",
    "- **You can try out code:** Executes code in a controlled context\n",
    "- **See what it does:** Captures output and results\n",
    "- **Handles execution errors:** Without worrying about breaking anything\n",
    "- **Returns formatted execution results**\n",
    "\n",
    "#### **Basic Example:**\n",
    "\n",
    "**Import dependencies**"
   ]
  },
  {
   "cell_type": "code",
   "execution_count": 16,
   "metadata": {},
   "outputs": [],
   "source": [
    "from swarmauri.tools.concrete import CodeInterpreterTool\n",
    "tool = CodeInterpreterTool()"
   ]
  },
  {
   "cell_type": "code",
   "execution_count": null,
   "metadata": {},
   "outputs": [
    {
     "data": {
      "text/plain": [
       "{'code_output': '4\\n'}"
      ]
     },
     "execution_count": 18,
     "metadata": {},
     "output_type": "execute_result"
    }
   ],
   "source": [
    "# Try running a simple calculation\n",
    "result = tool(\"print(2 + 2)\")\n",
    "result"
   ]
  },
  {
   "cell_type": "code",
   "execution_count": 19,
   "metadata": {},
   "outputs": [
    {
     "data": {
      "text/plain": [
       "{'code_output': 'Count: 0\\nCount: 1\\nCount: 2\\n'}"
      ]
     },
     "execution_count": 19,
     "metadata": {},
     "output_type": "execute_result"
    }
   ],
   "source": [
    "# Try something more fun\n",
    "code_to_test = \"\"\"\n",
    "for i in range(3):\n",
    "    print(f'Count: {i}')\n",
    "\"\"\"\n",
    "result = tool(code_to_test)\n",
    "result"
   ]
  },
  {
   "cell_type": "markdown",
   "metadata": {},
   "source": [
    "### **How Swarmauri Puts It All Together**\n",
    "**Here's a simple example of using all three tools together:**\n",
    "\n",
    "***This is what my_file.py contains***\n",
    "\n",
    "```script\n",
    "\"\"\"This is a big program\"\"\"\n",
    "secret_code = 123\n",
    "important_function = lambda x: x*2\n",
    "print(\"Hello!\")\n",
    "```"
   ]
  },
  {
   "cell_type": "code",
   "execution_count": 21,
   "metadata": {},
   "outputs": [],
   "source": [
    "def magic_code_helper(file_name, new_function):\n",
    "    # 1. Extract some code from a file\n",
    "    extractor = CodeExtractorTool()\n",
    "    base_code = extractor.extract_code(file_name, True, [])\n",
    "    \n",
    "    # 2. Create a new module with the code\n",
    "    importer = ImportMemoryModuleTool()\n",
    "    importer(\"helper_module\", base_code, \"my_project\")\n",
    "    \n",
    "    # 3. Test the new code\n",
    "    interpreter = CodeInterpreterTool()\n",
    "    test_code = f\"\"\"\n",
    "    from my_project.helper_module import *\n",
    "    {new_function}\n",
    "    \"\"\"\n",
    "    return interpreter(test_code)\n",
    "\n"
   ]
  },
  {
   "cell_type": "code",
   "execution_count": 23,
   "metadata": {},
   "outputs": [
    {
     "name": "stdout",
     "output_type": "stream",
     "text": [
      "Hello!\n"
     ]
    }
   ],
   "source": [
    "# Using our helper\n",
    "result = magic_code_helper(\n",
    "    \"my_file.py\", \n",
    "    \"print('Testing new code!')\"\n",
    ")"
   ]
  },
  {
   "cell_type": "markdown",
   "metadata": {},
   "source": [
    "\n",
    "\n",
    "## **Practical Tips for Using These Tools**\n",
    "1. **For CodeExtractorTool**:\n",
    "   - Start small - extract just what you need\n",
    "   - Use the ignore list for sensitive information\n",
    "   - Keep documentation when sharing code\n",
    "\n",
    "2. **For ImportMemoryModuleTool**:\n",
    "   - Test your code before creating modules\n",
    "   - Use clear module names\n",
    "   - Keep modules small and focused\n",
    "\n",
    "3. **For CodeInterpreterTool**:\n",
    "   - Start with simple tests\n",
    "   - Capture all outputs\n",
    "   - Handle errors gracefully\n",
    "\n",
    "## **Conclusion**\n",
    "Think of these tools as your programming superpower:\n",
    "\n",
    "Together, they make programming easier, safer, and more fun! Just like having smart kitchen tools helps a chef cook better meals, these programming tools help developers write better code.\n",
    "\n",
    "**Remember:**\n",
    "- Start simple\n",
    "- Practice with basic examples\n",
    "- Gradually try more complex tasks\n",
    "- Always test in a safe environment first\n",
    "\n",
    "**Happy coding!** 🚀\n",
    "\n",
    "## **What's Next?**\n",
    "- Try combining these tools in different ways\n",
    "- Create your own helper functions\n",
    "- Share your cool tool combinations with others\n",
    "- Keep learning and experimenting!"
   ]
  }
 ],
 "metadata": {
  "kernelspec": {
   "display_name": "swarmauri-0.5.1",
   "language": "python",
   "name": "python3"
  },
  "language_info": {
   "codemirror_mode": {
    "name": "ipython",
    "version": 3
   },
   "file_extension": ".py",
   "mimetype": "text/x-python",
   "name": "python",
   "nbconvert_exporter": "python",
   "pygments_lexer": "ipython3",
   "version": "3.12.7"
  }
 },
 "nbformat": 4,
 "nbformat_minor": 2
}
