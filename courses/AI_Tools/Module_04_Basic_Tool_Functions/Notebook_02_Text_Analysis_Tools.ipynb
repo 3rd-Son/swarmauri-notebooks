{
 "cells": [
  {
   "cell_type": "markdown",
   "metadata": {},
   "source": [
    "# **Notebook 02: Text Analysis Tools**\n",
    "\n",
    "\n",
    "## **Introduction**\n",
    "\n",
    "### **WHY DO WE NEED TEXT ANALYSIS TOOLS?**\n",
    "For instance, While AI can generate impressive content, it sometimes struggles with basic metadata \n",
    "tasks like accurate word counting or assessing readability levels. Text analysis \n",
    "tools help bridge this gap by providing precise measurements and assessments of \n",
    "text content. These tools are essential for:\n",
    "- Verifying AI-generated content meets specific length requirements\n",
    "- Ensuring content matches the intended audience's reading level\n",
    "- Helping AI adjust its output to meet specific criteria\n",
    "\n",
    "### **WHAT ARE TEXT ANALYSIS TOOLS?**\n",
    "These tools act as quality control mechanisms for text content, especially \n",
    "AI-generated text. They provide:\n",
    "- Accurate metadata (word count, character count, sentence count)\n",
    "- Readability metrics for audience targeting\n",
    "- Accessibility assessments for content adaptation\n",
    "\n",
    "### **HOW DOES SWARMAURI IMPLEMENT TEXT ANALYSIS?**\n",
    "Swarmauri gives us several  **Text Analysis Tools.** Let's use them!\n"
   ]
  },
  {
   "cell_type": "markdown",
   "metadata": {},
   "source": [
    "**Import dependencies**"
   ]
  },
  {
   "cell_type": "code",
   "execution_count": 1,
   "metadata": {},
   "outputs": [],
   "source": [
    "from swarmauri.tools.concrete import (TextLengthTool,\n",
    "    FleschReadingEaseTool,\n",
    "    AutomatedReadabilityIndexTool\n",
    ")"
   ]
  },
  {
   "cell_type": "markdown",
   "metadata": {},
   "source": [
    "**Initialize our analysis tools**"
   ]
  },
  {
   "cell_type": "code",
   "execution_count": 6,
   "metadata": {},
   "outputs": [],
   "source": [
    "metadata_tool = TextLengthTool()\n",
    "readability_tool = FleschReadingEaseTool()\n",
    "grade_level_tool = AutomatedReadabilityIndexTool()"
   ]
  },
  {
   "cell_type": "markdown",
   "metadata": {},
   "source": [
    "**Example texts with different complexity level**"
   ]
  },
  {
   "cell_type": "code",
   "execution_count": 7,
   "metadata": {},
   "outputs": [],
   "source": [
    "ai_generated_simple = \"AI helps us work faster. It makes tasks easier.\"\n",
    "ai_generated_medium = \"Artificial Intelligence can process natural language and generate human-like responses.\"\n",
    "ai_generated_complex = \"The implementation of sophisticated machine learning algorithms enables the processing of complex linguistic patterns and semantic relationships.\""
   ]
  },
  {
   "cell_type": "markdown",
   "metadata": {},
   "source": [
    "**Let's analyze the different types of text**"
   ]
  },
  {
   "cell_type": "code",
   "execution_count": 8,
   "metadata": {},
   "outputs": [
    {
     "name": "stdout",
     "output_type": "stream",
     "text": [
      "METADATA ANALYSIS OF AI-GENERATED CONTENT:\n",
      "\n",
      "Simple Content Metrics:\n",
      "Word Count: 11\n",
      "Character Count: 39\n",
      "Sentence Count: 2\n",
      "Readability Score: 89.47\n",
      "Grade Level: 1.2\n",
      "\n",
      "Medium Content Metrics:\n",
      "Word Count: 11\n",
      "Character Count: 78\n",
      "Sentence Count: 1\n",
      "Readability Score: -4.29\n",
      "Grade Level: 17.5\n",
      "\n",
      "Complex Content Metrics:\n",
      "Word Count: 18\n",
      "Character Count: 129\n",
      "Sentence Count: 1\n",
      "Readability Score: -19.43\n",
      "Grade Level: 22.8\n"
     ]
    }
   ],
   "source": [
    "print(\"METADATA ANALYSIS OF AI-GENERATED CONTENT:\")\n",
    "for content_type, text in [\n",
    "    (\"Simple\", ai_generated_simple),\n",
    "    (\"Medium\", ai_generated_medium),\n",
    "    (\"Complex\", ai_generated_complex)\n",
    "]:\n",
    "    metadata = metadata_tool(text)\n",
    "    print(f\"\\n{content_type} Content Metrics:\")\n",
    "    print(f\"Word Count: {metadata['num_words']}\")\n",
    "    print(f\"Character Count: {metadata['num_characters']}\")\n",
    "    print(f\"Sentence Count: {metadata['num_sentences']}\")\n",
    "    \n",
    "    # Check readability\n",
    "    readability = readability_tool(text)['flesch_reading_ease']\n",
    "    grade_level = grade_level_tool(text)['ari_score']\n",
    "    \n",
    "    print(f\"Readability Score: {readability:.2f}\")\n",
    "    print(f\"Grade Level: {grade_level:.1f}\")\n"
   ]
  },
  {
   "cell_type": "markdown",
   "metadata": {},
   "source": [
    "**Demonstrate content adjustment based on analysis**"
   ]
  },
  {
   "cell_type": "code",
   "execution_count": 9,
   "metadata": {},
   "outputs": [],
   "source": [
    "target_text = \"The quantum mechanical principles underlying molecular interactions.\"\n",
    "initial_analysis = metadata_tool(target_text)\n",
    "initial_readability = readability_tool(target_text)['flesch_reading_ease']"
   ]
  },
  {
   "cell_type": "code",
   "execution_count": 10,
   "metadata": {},
   "outputs": [
    {
     "name": "stdout",
     "output_type": "stream",
     "text": [
      "\n",
      "CONTENT ADJUSTMENT EXAMPLE:\n",
      "Original Text: The quantum mechanical principles underlying molecular interactions.\n",
      "Initial Word Count: 8\n",
      "Initial Readability: -54.07\n"
     ]
    }
   ],
   "source": [
    "print(\"\\nCONTENT ADJUSTMENT EXAMPLE:\")\n",
    "print(f\"Original Text: {target_text}\")\n",
    "print(f\"Initial Word Count: {initial_analysis['num_words']}\")\n",
    "print(f\"Initial Readability: {initial_readability:.2f}\")"
   ]
  },
  {
   "cell_type": "markdown",
   "metadata": {},
   "source": [
    "\n",
    "**Simulating AI adjustment for better readability**"
   ]
  },
  {
   "cell_type": "code",
   "execution_count": 11,
   "metadata": {},
   "outputs": [
    {
     "name": "stdout",
     "output_type": "stream",
     "text": [
      "\n",
      "Simplified Text: Quantum mechanics shows how molecules interact with each other.\n",
      "New Word Count: 10\n",
      "New Readability: 28.50\n"
     ]
    }
   ],
   "source": [
    "\n",
    "simplified_text = \"Quantum mechanics shows how molecules interact with each other.\"\n",
    "final_analysis = metadata_tool(simplified_text)\n",
    "final_readability = readability_tool(simplified_text)['flesch_reading_ease']\n",
    "\n",
    "print(f\"\\nSimplified Text: {simplified_text}\")\n",
    "print(f\"New Word Count: {final_analysis['num_words']}\")\n",
    "print(f\"New Readability: {final_readability:.2f}\")"
   ]
  },
  {
   "cell_type": "markdown",
   "metadata": {},
   "source": [
    "\n",
    "## **Conclusion**\n",
    "\n",
    "### **WHAT DID WE LEARN?**\n",
    "\n",
    "**1.  Content Verification:**\n",
    "   - Accurate measurement of content metrics\n",
    "   - Verification of length requirements\n",
    "   - Assessment of content complexity\n",
    "\n",
    "**2. Audience Targeting:**\n",
    "   - Readability scoring for different audiences\n",
    "   - Grade level assessment\n",
    "   - Content accessibility evaluation\n",
    "\n",
    "**3. Content Adjustment:**\n",
    "   - Tools to guide AI content generation\n",
    "   - Metrics for content optimization\n",
    "   - Verification of content modifications\n",
    "\n",
    "**4. We Can Measure Reading Difficulty using  FleschReadingEaseTool:**\n",
    "   - Higher Flesch scores mean easier to read\n",
    "   - Lower Flesch scores mean harder to read\n",
    "   \n",
    "\n",
    "**5. Different Texts Have Different Scores using AutomatedReadabilityIndexTool:**\n",
    "   - Simple texts get lower ari_score\n",
    "   - Complex texts get higher ari_scores\n",
    "   - We can match texts to the right readers\n",
    "   - ARI scores tell us what grade level might be needed\n",
    "\n",
    "### **PRACTICAL APPLICATIONS:** \n",
    "- Verify AI-generated content meets specifications\n",
    "- Adjust content for target audience comprehension\n",
    "- Ensure consistent content quality\n",
    "- Guide AI in generating appropriate content\n",
    "\n",
    "**Remember:** \n",
    "\n",
    "These tools help ensure contents like  AI-generated content meets specific \n",
    "requirements and is appropriate for the intended audience. They provide \n",
    "the metadata and metrics needed to verify and adjust content effectively.\n",
    "\n",
    "\n"
   ]
  }
 ],
 "metadata": {
  "kernelspec": {
   "display_name": "swarmauri-0.5.1",
   "language": "python",
   "name": "python3"
  },
  "language_info": {
   "codemirror_mode": {
    "name": "ipython",
    "version": 3
   },
   "file_extension": ".py",
   "mimetype": "text/x-python",
   "name": "python",
   "nbconvert_exporter": "python",
   "pygments_lexer": "ipython3",
   "version": "3.12.7"
  }
 },
 "nbformat": 4,
 "nbformat_minor": 2
}
