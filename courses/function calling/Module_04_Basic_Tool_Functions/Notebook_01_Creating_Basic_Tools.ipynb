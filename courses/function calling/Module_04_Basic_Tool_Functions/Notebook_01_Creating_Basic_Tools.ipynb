{
 "cells": [
  {
   "cell_type": "markdown",
   "metadata": {},
   "source": [
    "# **Notebook 01: Creating Basic AI Tools**\n",
    "\n",
    "\n",
    "## **Introduction**\n",
    "\n",
    "#### **WHY DO WE NEED AI TOOLS?**\n",
    "Imagine you have a big toy box (your computer), and you want to play with different toys (programs). \n",
    "Instead of opening the toy box each time and searching for a toy, wouldn't it be nice to have a \n",
    "helper that can get any toy for you when you ask? \n",
    "That's what AI tools do in programming - \n",
    "they help us easily work with different programs on our computer.\n",
    "\n",
    "#### **WHAT ARE AI TOOLS?**\n",
    "AI tools are like your personal assistants. Just like how you might use a TV remote to \n",
    "control your television, these tools help you control different programs on your computer. \n",
    "They can:\n",
    "\n",
    "- Open programs for you\n",
    "\n",
    "- Tell you if a program is working\n",
    "\n",
    "- Help you organize your programs\n",
    "\n",
    "#### **HOW DOES SWARMAURI IMPLEMENT  AI TOOLS?**\n",
    "Swarmauri makes creating and using these tools as easy as playing with building blocks.\n",
    "\n",
    "Let's see how!\n"
   ]
  },
  {
   "cell_type": "markdown",
   "metadata": {},
   "source": [
    "**Import dependencies**"
   ]
  },
  {
   "cell_type": "code",
   "execution_count": 3,
   "metadata": {},
   "outputs": [],
   "source": [
    "from swarmauri.tools.concrete import TestTool"
   ]
  },
  {
   "cell_type": "markdown",
   "metadata": {},
   "source": [
    "**Create our Basic AI tool**"
   ]
  },
  {
   "cell_type": "code",
   "execution_count": 4,
   "metadata": {},
   "outputs": [],
   "source": [
    "\n",
    "tool = TestTool()"
   ]
  },
  {
   "cell_type": "markdown",
   "metadata": {},
   "source": [
    "\n",
    "**Let's see what our Basic AI tool knows about itself**"
   ]
  },
  {
   "cell_type": "code",
   "execution_count": 5,
   "metadata": {},
   "outputs": [
    {
     "name": "stdout",
     "output_type": "stream",
     "text": [
      "Tool's Name Tag (Resource): Tool\n",
      "Tool's Job Title (Type): TestTool\n",
      "Tool's ID Card: e8bac21b-d0d0-4869-bee5-3a80e88710cd\n"
     ]
    }
   ],
   "source": [
    "print(\"Tool's Name Tag (Resource):\", tool.resource)\n",
    "print(\"Tool's Job Title (Type):\", tool.type)\n",
    "print(\"Tool's ID Card:\", tool.id)"
   ]
  },
  {
   "cell_type": "markdown",
   "metadata": {},
   "source": [
    "**Ask our Basic AI tool to open a calculator**"
   ]
  },
  {
   "cell_type": "code",
   "execution_count": 6,
   "metadata": {},
   "outputs": [
    {
     "name": "stdout",
     "output_type": "stream",
     "text": [
      "\n",
      "When we ask our helper to open calculator:\n",
      "{'program': 'Program Opened: calc'}\n"
     ]
    }
   ],
   "source": [
    "\n",
    "result = tool('calc')\n",
    "print(\"\\nWhen we ask our helper to open calculator:\")\n",
    "print(result)"
   ]
  },
  {
   "cell_type": "markdown",
   "metadata": {},
   "source": [
    "**Our Basic AI tool can also pack itself into a small package (JSON)**\n"
   ]
  },
  {
   "cell_type": "code",
   "execution_count": 7,
   "metadata": {},
   "outputs": [
    {
     "name": "stdout",
     "output_type": "stream",
     "text": [
      "\n",
      "Helper packed into a package:\n",
      "{\"name\":\"TestTool\",\"id\":\"e8bac21b-d0d0-4869-bee5-3a80e88710cd\",\"members\":[],\"owner\":null,\"host\":null,\"resource\":\"Tool\",\"version\":\"1.0.0\",\"type\":\"TestTool\",\"description\":\"This opens a program based on the user's request.\",\"parameters\":[{\"name\":\"program\",\"id\":\"d4804131-4cfa-4484-a0c7-9fb7991ba3d4\",\"members\":[],\"owner\":null,\"host\":null,\"resource\":\"Parameter\",\"version\":\"0.1.0\",\"type\":\"string\",\"description\":\"The program that the user wants to open ('notepad' or 'calc' or 'mspaint')\",\"required\":true,\"enum\":[\"notepad\",\"calc\",\"mspaint\"]}]}\n"
     ]
    }
   ],
   "source": [
    "tool_json = tool.model_dump_json()\n",
    "print(\"\\nHelper packed into a package:\")\n",
    "print(tool_json)"
   ]
  },
  {
   "cell_type": "markdown",
   "metadata": {},
   "source": [
    "**And unpack itself again!**"
   ]
  },
  {
   "cell_type": "code",
   "execution_count": 8,
   "metadata": {},
   "outputs": [
    {
     "name": "stdout",
     "output_type": "stream",
     "text": [
      "\n",
      "Helper unpacked - still has same ID: e8bac21b-d0d0-4869-bee5-3a80e88710cd\n"
     ]
    }
   ],
   "source": [
    "unpacked_tool = TestTool.model_validate_json(tool_json)\n",
    "print(\"\\nHelper unpacked - still has same ID:\", unpacked_tool.id)\n"
   ]
  },
  {
   "cell_type": "markdown",
   "metadata": {},
   "source": [
    "**Try opening different programs**"
   ]
  },
  {
   "cell_type": "code",
   "execution_count": 9,
   "metadata": {},
   "outputs": [
    {
     "name": "stdout",
     "output_type": "stream",
     "text": [
      "\n",
      "Let's try opening different programs:\n",
      "Opening notepad: {'program': 'Program Opened: notepad'}\n",
      "Opening paint: {'program': 'Program Opened: paint'}\n",
      "Opening wordpad: {'program': 'Program Opened: wordpad'}\n"
     ]
    }
   ],
   "source": [
    "programs_to_try = ['notepad', 'paint', 'wordpad']\n",
    "print(\"\\nLet's try opening different programs:\")\n",
    "for program in programs_to_try:\n",
    "    print(f\"Opening {program}:\", tool(program))"
   ]
  },
  {
   "cell_type": "markdown",
   "metadata": {},
   "source": [
    "\n",
    "## **Conclusion**\n",
    "\n",
    "### **WHAT DID WE LEARN?**\n",
    "**1. Tools are Like Helpers:**\n",
    "   - They make it easy to work with our computer\n",
    "   - They remember who they are (ID, type, resource)\n",
    "   - They can do simple jobs for us (like opening programs)\n",
    "\n",
    "**2. Tools are Smart:**\n",
    "   - They can pack themselves up (serialization)\n",
    "   - They can unpack themselves (deserialization)\n",
    "   - They always remember their ID (like a name tag)\n",
    "\n",
    "**3. Tools are Reliable:**\n",
    "   - They tell us exactly what they're doing\n",
    "   - They give us clear responses\n",
    "   - They work the same way every time\n",
    "\n",
    "### **WHAT'S NEXT?**\n",
    "Now that we understand basic tools, we can:\n",
    "- Create more complex tools\n",
    "- Make tools work together\n",
    "- Use tools for specific tasks\n",
    "\n",
    "**Remember:** \n",
    "Just like real tools help us build things in the real world, \n",
    "these programming tools help us build things in the computer world!\n"
   ]
  },
  {
   "cell_type": "markdown",
   "metadata": {},
   "source": []
  }
 ],
 "metadata": {
  "kernelspec": {
   "display_name": "swarmauri-0.5.1",
   "language": "python",
   "name": "python3"
  },
  "language_info": {
   "codemirror_mode": {
    "name": "ipython",
    "version": 3
   },
   "file_extension": ".py",
   "mimetype": "text/x-python",
   "name": "python",
   "nbconvert_exporter": "python",
   "pygments_lexer": "ipython3",
   "version": "3.12.7"
  }
 },
 "nbformat": 4,
 "nbformat_minor": 2
}
