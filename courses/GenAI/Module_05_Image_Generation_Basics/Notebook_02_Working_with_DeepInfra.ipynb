{
 "cells": [
  {
   "cell_type": "markdown",
   "id": "baf645e2-0a26-4410-b64b-d868edd3d60e",
   "metadata": {},
   "source": [
    "# Notebook_02_Working_with_DeepInfra\n",
    "\n",
    "## Description\n",
    "This notebook demonstrates the process of generating images based on text prompts, converting the images to base64, and uploading them to IMGBB.\n",
    "## Prerequisites \n",
    "Ensure you have API keys for both DeepInfra and IMGBB:\n",
    "- For DEEPINFRA_API_KEY, visit: https://deepinfra.com/login?from=%2Fdash\n",
    "- For IMGBB_API_KEY, visit: https://api.imgbb.com/\n",
    "\n",
    "\n",
    "## Connecting to DeepInfra’s Image Generation Model"
   ]
  },
  {
   "cell_type": "code",
   "execution_count": 26,
   "id": "80130941-2eb2-4a11-b9dc-39af202aad49",
   "metadata": {},
   "outputs": [
    {
     "name": "stdout",
     "output_type": "stream",
     "text": [
      "Connected to model type: DeepInfraImgGenModel\n"
     ]
    }
   ],
   "source": [
    "import os\n",
    "from dotenv import load_dotenv\n",
    "from swarmauri.llms.concrete.DeepInfraImgGenModel import DeepInfraImgGenModel as LLM\n",
    "\n",
    "# Load environment variables from .env file\n",
    "load_dotenv()\n",
    "\n",
    "# Fetch the API key from environment variables\n",
    "DEEPINFRA_API_KEY = os.getenv(\"DEEPINFRA_API_KEY\")\n",
    "\n",
    "# Initialize the DeepInfra Image Generation Model\n",
    "llm_img_gen = LLM(api_key=DEEPINFRA_API_KEY)\n",
    "\n",
    "# Check if the model is correctly initialized\n",
    "print(f\"Connected to model type: {llm_img_gen.type}\")\n"
   ]
  },
  {
   "cell_type": "markdown",
   "id": "650f9897-2563-41d9-9fb3-3ba5374b94b5",
   "metadata": {},
   "source": [
    "## Generating an Image with Basic Prompting"
   ]
  },
  {
   "cell_type": "code",
   "execution_count": 27,
   "id": "2e44b582-290a-4c68-8529-28001a0c6311",
   "metadata": {},
   "outputs": [
    {
     "name": "stdout",
     "output_type": "stream",
     "text": [
      "Generated image data in base64 format.\n"
     ]
    }
   ],
   "source": [
    "# Add a simple prompt message\n",
    "input_data = \"A sunset over mountains\"\n",
    "\n",
    "# Generate the image in base64 format\n",
    "image_base64 = llm_img_gen.generate_image_base64(input_data)\n",
    "\n",
    "# Confirm that image data was generated\n",
    "if image_base64:\n",
    "    print(\"Generated image data in base64 format.\")"
   ]
  },
  {
   "cell_type": "markdown",
   "id": "89b72bdc-5dfe-4817-bed2-c72a52ddedb3",
   "metadata": {},
   "source": [
    "## Displaying Generated Images"
   ]
  },
  {
   "cell_type": "code",
   "execution_count": 28,
   "id": "3a0d39d3-f9bc-412d-94b7-9a4b71fc6b15",
   "metadata": {},
   "outputs": [],
   "source": [
    "import base64\n",
    "import requests\n",
    "from swarmauri.utils.base64_to_img_url import base64_to_img_url\n",
    "\n",
    "# Get API key from environment variable\n",
    "IMGBB_API_KEY = os.getenv(\"IMGBB_API_KEY\")"
   ]
  },
  {
   "cell_type": "code",
   "execution_count": 29,
   "id": "0000b547-12fe-4e15-ac48-eb743cfbb922",
   "metadata": {},
   "outputs": [
    {
     "name": "stdout",
     "output_type": "stream",
     "text": [
      "Image URL: https://i.ibb.co/vQ86vBc/a82bc5fdd4a8.jpg\n"
     ]
    }
   ],
   "source": [
    "# Call the function with the base64 string and API key\n",
    "try:\n",
    "    image_url = base64_to_img_url(image_base64, IMGBB_API_KEY)\n",
    "    print(\"Image URL:\", image_url)\n",
    "except Exception as e:\n",
    "    print(\"Error:\", e)"
   ]
  },
  {
   "cell_type": "markdown",
   "id": "026b02db-6fc6-4a7f-a5bb-ca5e1d1aebdd",
   "metadata": {},
   "source": [
    "# Notebook Metadata"
   ]
  },
  {
   "cell_type": "code",
   "execution_count": 30,
   "id": "abb3ac10-77ea-43be-9b9d-7e035a98bee2",
   "metadata": {},
   "outputs": [
    {
     "name": "stdout",
     "output_type": "stream",
     "text": [
      "Author: Huzaifa Irshad\n",
      "GitHub Username: irshadhuzaifa\n",
      "Last Modified: 2024-11-01 18:31:56.575380\n",
      "Platform: Windows 11\n",
      "Python Version: 3.12.7 | packaged by Anaconda, Inc. | (main, Oct  4 2024, 13:17:27) [MSC v.1929 64 bit (AMD64)]\n",
      "Swarmauri Version: Swarmauri Version: 0.5.1\n"
     ]
    }
   ],
   "source": [
    "import platform\n",
    "import sys\n",
    "from datetime import datetime\n",
    "\n",
    "# Display author information\n",
    "author_name = \"Huzaifa Irshad\" \n",
    "github_username = \"irshadhuzaifa\"  \n",
    "\n",
    "print(f\"Author: {author_name}\")\n",
    "print(f\"GitHub Username: {github_username}\")\n",
    "\n",
    "# Last modified datetime (file's metadata)\n",
    "notebook_file = \"Notebook_02_Working_with_DeepInfra.ipynb\"\n",
    "try:\n",
    "    last_modified_time = os.path.getmtime(notebook_file)\n",
    "    last_modified_datetime = datetime.fromtimestamp(last_modified_time)\n",
    "    print(f\"Last Modified: {last_modified_datetime}\")\n",
    "except Exception as e:\n",
    "    print(f\"Could not retrieve last modified datetime: {e}\")\n",
    "\n",
    "# Display platform, Python version, and Swarmauri version\n",
    "print(f\"Platform: {platform.system()} {platform.release()}\")\n",
    "print(f\"Python Version: {sys.version}\")\n",
    "\n",
    "import swarmauri\n",
    "\n",
    "try:\n",
    "    version = swarmauri.__version__\n",
    "except AttributeError:\n",
    "    version = f\"Swarmauri Version: 0.5.1\"\n",
    "\n",
    "print(f\"Swarmauri Version: {version}\")"
   ]
  },
  {
   "cell_type": "code",
   "execution_count": null,
   "id": "3686f8c0-1796-4b8f-b493-eb28528ab396",
   "metadata": {},
   "outputs": [],
   "source": []
  }
 ],
 "metadata": {
  "kernelspec": {
   "display_name": "swarmauri(0.5.1)",
   "language": "python",
   "name": "myenv"
  },
  "language_info": {
   "codemirror_mode": {
    "name": "ipython",
    "version": 3
   },
   "file_extension": ".py",
   "mimetype": "text/x-python",
   "name": "python",
   "nbconvert_exporter": "python",
   "pygments_lexer": "ipython3",
   "version": "3.12.7"
  }
 },
 "nbformat": 4,
 "nbformat_minor": 5
}
