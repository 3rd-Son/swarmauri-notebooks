{
 "cells": [
  {
   "cell_type": "markdown",
   "id": "baf645e2-0a26-4410-b64b-d868edd3d60e",
   "metadata": {},
   "source": [
    "# Connecting to DeepInfra’s Image Generation Model"
   ]
  },
  {
   "cell_type": "code",
   "execution_count": 19,
   "id": "80130941-2eb2-4a11-b9dc-39af202aad49",
   "metadata": {},
   "outputs": [
    {
     "name": "stdout",
     "output_type": "stream",
     "text": [
      "Connected to model type: DeepInfraImgGenModel\n"
     ]
    }
   ],
   "source": [
    "import os\n",
    "from dotenv import load_dotenv\n",
    "from swarmauri.llms.concrete.DeepInfraImgGenModel import DeepInfraImgGenModel as LLM\n",
    "\n",
    "# Load environment variables from .env file\n",
    "load_dotenv()\n",
    "\n",
    "# Fetch the API key from environment variables\n",
    "API_KEY = os.getenv(\"DEEPINFRA_API_KEY\")\n",
    "\n",
    "# Initialize the DeepInfra Image Generation Model\n",
    "llm_img_gen = LLM(api_key=API_KEY)\n",
    "\n",
    "# Check if the model is correctly initialized\n",
    "print(f\"Connected to model type: {llm_img_gen.type}\")\n"
   ]
  },
  {
   "cell_type": "markdown",
   "id": "650f9897-2563-41d9-9fb3-3ba5374b94b5",
   "metadata": {},
   "source": [
    "# Generating an Image with Basic Prompting"
   ]
  },
  {
   "cell_type": "code",
   "execution_count": 44,
   "id": "2e44b582-290a-4c68-8529-28001a0c6311",
   "metadata": {},
   "outputs": [
    {
     "name": "stdout",
     "output_type": "stream",
     "text": [
      "Generated image data in base64 format.\n"
     ]
    }
   ],
   "source": [
    "# Create a new conversation instance\n",
    "conversation = Conversation()\n",
    "\n",
    "# Add a simple prompt message\n",
    "input_data = \"A sunset over mountains\"\n",
    "\n",
    "# Generate the image in base64 format\n",
    "image_base64 = llm_img_gen.generate_image_base64(input_data)\n",
    "\n",
    "# Confirm that image data was generated\n",
    "if image_base64:\n",
    "    print(\"Generated image data in base64 format.\")"
   ]
  },
  {
   "cell_type": "markdown",
   "id": "89b72bdc-5dfe-4817-bed2-c72a52ddedb3",
   "metadata": {},
   "source": [
    "# Displaying Generated Images"
   ]
  },
  {
   "cell_type": "code",
   "execution_count": 45,
   "id": "3a0d39d3-f9bc-412d-94b7-9a4b71fc6b15",
   "metadata": {},
   "outputs": [],
   "source": [
    "import os\n",
    "import base64\n",
    "import requests\n",
    "from dotenv import load_dotenv\n",
    "\n",
    "# Load environment variables\n",
    "load_dotenv()\n",
    "\n",
    "# Get API key from environment variable\n",
    "API_KEY = os.getenv(\"IMGBB_API_KEY\")"
   ]
  },
  {
   "cell_type": "code",
   "execution_count": 46,
   "id": "ea4a1bfb-25ac-4f82-ade5-11c35271c755",
   "metadata": {},
   "outputs": [
    {
     "name": "stdout",
     "output_type": "stream",
     "text": [
      "Image URL: https://i.ibb.co/4sFD5xt/d212bc62de33.jpg\n"
     ]
    }
   ],
   "source": [
    "# Your base64 string\n",
    "base64_string = image_base64  # Ensure this is a valid base64 string\n",
    "\n",
    "def base64_to_img_url(base64_str, api_key):\n",
    "    \"\"\"Function to upload a base64 image to IMGBB and return the image URL.\"\"\"\n",
    "    url = \"https://api.imgbb.com/1/upload\"\n",
    "    headers = {\"Content-Type\": \"application/x-www-form-urlencoded\"}\n",
    "    \n",
    "    # Check if the base64 string contains a comma\n",
    "    if ',' in base64_str:\n",
    "        base64_data = base64_str.split(\",\")[1]  # Extract only the base64 part\n",
    "    else:\n",
    "        base64_data = base64_str  # Assume it's raw base64 without prefix\n",
    "\n",
    "    # Prepare the payload\n",
    "    payload = {\n",
    "        \"image\": base64_data,\n",
    "        \"key\": api_key\n",
    "    }\n",
    "    \n",
    "    # Send a POST request to IMGBB\n",
    "    response = requests.post(url, headers=headers, data=payload)\n",
    "    \n",
    "    # Check the response status\n",
    "    if response.status_code == 200:\n",
    "        return response.json()['data']['url']\n",
    "    else:\n",
    "        raise Exception(f\"Failed to upload image. Status code: {response.status_code}, Response: {response.text}\")\n",
    "\n",
    "# Call the function with the base64 string and API key\n",
    "try:\n",
    "    image_url = base64_to_img_url(base64_string, API_KEY)\n",
    "    print(\"Image URL:\", image_url)\n",
    "except Exception as e:\n",
    "    print(\"Error:\", e)\n"
   ]
  },
  {
   "cell_type": "code",
   "execution_count": null,
   "id": "6195af04-4557-491a-a753-5a3e69b60622",
   "metadata": {},
   "outputs": [],
   "source": []
  }
 ],
 "metadata": {
  "kernelspec": {
   "display_name": "swarmauri(0.5.1)",
   "language": "python",
   "name": "myenv"
  },
  "language_info": {
   "codemirror_mode": {
    "name": "ipython",
    "version": 3
   },
   "file_extension": ".py",
   "mimetype": "text/x-python",
   "name": "python",
   "nbconvert_exporter": "python",
   "pygments_lexer": "ipython3",
   "version": "3.12.7"
  }
 },
 "nbformat": 4,
 "nbformat_minor": 5
}
