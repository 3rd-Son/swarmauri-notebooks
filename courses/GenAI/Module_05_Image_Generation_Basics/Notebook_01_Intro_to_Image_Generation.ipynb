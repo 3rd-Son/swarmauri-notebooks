{
 "cells": [
  {
   "cell_type": "markdown",
   "id": "d3ea711d-9d5d-4708-8b9c-1817bf48c5c6",
   "metadata": {},
   "source": [
    "# What is Image Generation?\n",
    "\n",
    "## Introduction to Generative AI and Computer Vision\n",
    "\n",
    "- Generative AI involves creating new data samples, such as images, text, or music, that resemble existing data.\n",
    "- In computer vision, AI-driven image generation models are designed to interpret and produce visual content that aligns with human-like creativity or replicates real-world visuals.\n",
    "\n",
    "## Use Cases of Image Generation\n",
    "\n",
    "- **Marketing:** Creating promotional visuals, product designs, and personalized advertising images.\n",
    "- **Art and Design:** Crafting unique artworks, graphic design, and architectural renderings.\n",
    "- **Science and Education:** Producing illustrations for educational materials, simulations, and visual aids for complex scientific data."
   ]
  },
  {
   "cell_type": "markdown",
   "id": "ccd05f71-1059-4a62-8a16-f752d1445554",
   "metadata": {},
   "source": [
    "# Introduction to Diffusion Models\n",
    "\n",
    "## Basics of Diffusion Models\n",
    "\n",
    "- Diffusion Models are a type of generative model that gradually “denoise” random noise into recognizable images.\n",
    "- Stable Diffusion: One of the most widely known models, stable diffusion performs particularly well on large datasets and can create high-quality, complex images based on input prompts."
   ]
  },
  {
   "cell_type": "markdown",
   "id": "b9f66685-1e1c-477f-a8dd-bf724fb25619",
   "metadata": {},
   "source": [
    "## DeepInfra's Approach to Image Generation\n",
    "DeepInfra is a platform that provides scalable access to machine learning and deep learning models through APIs, enabling developers and data scientists to integrate advanced AI capabilities, like image generation or text processing, into their applications without needing to manage the complex infrastructure or model training processes. It often includes models like stable diffusion, GPT models, and other generative or analytical models that are pre-trained and optimized for quick deployment.DeepInfra leverages diffusion models optimized for various use cases and configurations, offering flexibility for generating images based on descriptive prompts."
   ]
  },
  {
   "cell_type": "markdown",
   "id": "62112df5-f738-4fd6-baf5-e060e4b13a59",
   "metadata": {},
   "source": [
    "# Setting Up for DeepInfra\n",
    "\n",
    "## Loading Environment Variables"
   ]
  },
  {
   "cell_type": "code",
   "execution_count": 1,
   "id": "0a0b32f7-5ba1-4ac6-a9ac-7b904cd72e10",
   "metadata": {},
   "outputs": [
    {
     "name": "stdout",
     "output_type": "stream",
     "text": [
      "API Key loaded successfully!\n"
     ]
    }
   ],
   "source": [
    "import os\n",
    "from dotenv import load_dotenv\n",
    "\n",
    "# Load environment variables from .env file\n",
    "load_dotenv()\n",
    "\n",
    "# Fetch the API key from environment variables\n",
    "API_KEY = os.getenv(\"DEEPINFRA_API_KEY\")\n",
    "\n",
    "# Check if the API key loaded successfully\n",
    "if API_KEY:\n",
    "    print(\"API Key loaded successfully!\")\n",
    "else:\n",
    "    print(\"API Key not found. Please check your .env file.\")\n"
   ]
  },
  {
   "cell_type": "markdown",
   "id": "4c630473-9006-4586-b03a-f9e203b5b2d8",
   "metadata": {},
   "source": [
    "## Connecting to the DeepInfra API"
   ]
  },
  {
   "cell_type": "code",
   "execution_count": 2,
   "id": "01f685cc-2e06-426f-8843-b31c35870cb2",
   "metadata": {},
   "outputs": [
    {
     "name": "stdout",
     "output_type": "stream",
     "text": [
      "Model type: DeepInfraModel\n"
     ]
    }
   ],
   "source": [
    "from swarmauri.llms.concrete.DeepInfraModel import DeepInfraModel as LLM\n",
    "\n",
    "# Initialize the model with the API key\n",
    "llm = LLM(api_key=API_KEY)\n",
    "\n",
    "# Check if the model is ready for generating images\n",
    "print(f\"Model type: {llm.type}\")\n"
   ]
  },
  {
   "cell_type": "markdown",
   "id": "1a335651-45c1-411b-b16c-11c4a0c7f4f7",
   "metadata": {},
   "source": [
    "# Basic DeepInfra API Setup for Image Generation"
   ]
  },
  {
   "cell_type": "code",
   "execution_count": 4,
   "id": "8d6a7ca6-af37-40f8-b791-68e9ea8af75c",
   "metadata": {},
   "outputs": [],
   "source": [
    "from swarmauri.messages.concrete.HumanMessage import HumanMessage\n",
    "from swarmauri.conversations.concrete.Conversation import Conversation"
   ]
  },
  {
   "cell_type": "code",
   "execution_count": 5,
   "id": "53365e10-6cb5-4cfd-990a-4e61a19221f3",
   "metadata": {},
   "outputs": [],
   "source": [
    "# Create a new conversation instance\n",
    "conversation = Conversation()"
   ]
  },
  {
   "cell_type": "code",
   "execution_count": 6,
   "id": "04ebf7dd-bdaa-4240-925e-1d9b2df5bdc3",
   "metadata": {},
   "outputs": [],
   "source": [
    "# Add a simple prompt message\n",
    "input_data = \"A futuristic city skyline at night with neon lights\"\n",
    "human_message = HumanMessage(content=input_data)\n",
    "conversation.add_message(human_message)"
   ]
  },
  {
   "cell_type": "code",
   "execution_count": 7,
   "id": "7febdcb6-e0a7-4064-815a-e6a2d25a9be2",
   "metadata": {},
   "outputs": [],
   "source": [
    "# Generate the image\n",
    "llm.predict(conversation=conversation, **{\"temperature\": 0})\n",
    "prediction = conversation.get_last().content"
   ]
  },
  {
   "cell_type": "code",
   "execution_count": 8,
   "id": "0e8699cc-1bbd-4c98-821a-307bbd208cd2",
   "metadata": {},
   "outputs": [
    {
     "name": "stdout",
     "output_type": "stream",
     "text": [
      "Generated Image Prediction: Imagine a futuristic city skyline at night, where the sky is a deep indigo, dotted with stars that seem to pale in comparison to the vibrant, pulsating lights below. The buildings are towering, sleek, and modern, their surfaces reflecting the neon glow that permeates the entire city. \n",
      "\n",
      "Neon lights in shades of electric blue, vivid pink, and fiery orange dance along the edges of skyscrapers, forming intricate patterns and advertisements that seem to come to life. The streets below are a web of glowing pathways, with self-driving vehicles and hovercrafts zipping by, their headlights and taillights leaving trails of light in their wake.\n",
      "\n",
      "In the heart of the city, a massive digital billboard displays a rotating series of images and messages, its brightness rivaling that of the moon. Pedestrian walkways are lined with holographic displays, showcasing the latest in technology, fashion, and entertainment. \n",
      "\n",
      "The air is filled with the soft hum of advanced machinery and the occasional whoosh of a flying drone delivering goods or capturing the city's vibrant energy. Despite the high-tech atmosphere, there's a sense of community and excitement, as people from all walks of life enjoy the city's nightlife, from bustling markets to serene rooftop gardens.\n",
      "\n",
      "This futuristic city is a blend\n"
     ]
    }
   ],
   "source": [
    "# Display the response\n",
    "print(\"Generated Image Prediction:\", prediction)"
   ]
  },
  {
   "cell_type": "code",
   "execution_count": null,
   "id": "31c7b785-b226-4908-8078-fa8895d8e497",
   "metadata": {},
   "outputs": [],
   "source": []
  }
 ],
 "metadata": {
  "kernelspec": {
   "display_name": "swarmauri(0.5.1)",
   "language": "python",
   "name": "myenv"
  },
  "language_info": {
   "codemirror_mode": {
    "name": "ipython",
    "version": 3
   },
   "file_extension": ".py",
   "mimetype": "text/x-python",
   "name": "python",
   "nbconvert_exporter": "python",
   "pygments_lexer": "ipython3",
   "version": "3.12.7"
  }
 },
 "nbformat": 4,
 "nbformat_minor": 5
}
