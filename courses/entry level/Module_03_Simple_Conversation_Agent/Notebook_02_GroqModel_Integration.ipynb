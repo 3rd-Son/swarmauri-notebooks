{
 "cells": [
  {
   "cell_type": "markdown",
   "id": "c516516c-74e1-4ae1-9388-fdb47a1d0f6d",
   "metadata": {},
   "source": [
    "# Notebook 02: GroqModel Integration\n",
    "\n",
    "## Introduction\n",
    "Now that we have set up the `SimpleConversationAgent`, let's integrate the `GroqModel` to handle conversation execution. We will see how the agent interacts with the language model to process user input and generate responses.\n",
    "\n",
    "### Repeating Necessary Imports and Setup of Notebook 01\n",
    "\n",
    "We need to import the required libraries and set up the agent again to ensure this notebook works independently.\n",
    "\n"
   ]
  },
  {
   "cell_type": "code",
   "execution_count": 3,
   "id": "d05d3516-8050-43b5-8b5b-8667d6f9ea7a",
   "metadata": {},
   "outputs": [
    {
     "name": "stdout",
     "output_type": "stream",
     "text": [
      "Agent created successfully\n"
     ]
    }
   ],
   "source": [
    "import os\n",
    "from swarmauri.llms.concrete.GroqModel import GroqModel\n",
    "from swarmauri.conversations.concrete.Conversation import Conversation\n",
    "from swarmauri.agents.concrete.SimpleConversationAgent import SimpleConversationAgent\n",
    "from dotenv import load_dotenv\n",
    "\n",
    "# Load environment variables\n",
    "load_dotenv()\n",
    "\n",
    "# Function that would set up and return the agent\n",
    "def simple_conversation_agent():\n",
    "    API_KEY = os.getenv(\"GROQ_API_KEY\")\n",
    "    if not API_KEY:\n",
    "        raise ValueError(\"GROQ_API_KEY not found in environment variables\")\n",
    "\n",
    "    llm = GroqModel(api_key=API_KEY)\n",
    "    conversation = Conversation()\n",
    "    agent = SimpleConversationAgent(conversation=conversation, llm=llm)\n",
    "    return agent\n",
    "\n",
    "\n",
    "# Calling the simple_conversation_agent function\n",
    "agent = simple_conversation_agent()\n",
    "if agent:\n",
    "    print(\"Agent created successfully\")"
   ]
  },
  {
   "cell_type": "markdown",
   "id": "ffd4565f-956e-4632-ba5e-01d656f7eb00",
   "metadata": {},
   "source": [
    "## Using the Agent for Conversations\n",
    "\n",
    "Let's create a function to simulate a conversation between the agent and a user."
   ]
  },
  {
   "cell_type": "code",
   "execution_count": 4,
   "id": "aa6f01ab-ec56-4314-a2a9-939bd20f3a3a",
   "metadata": {},
   "outputs": [
    {
     "name": "stdout",
     "output_type": "stream",
     "text": [
      "Conversation result: I am an AI language model and do not have personal experiences or emotions. However, I am functioning optimally and ready to assist you with any information or task you may have. How can I help you today?\n"
     ]
    }
   ],
   "source": [
    "# Example of using the agent to execute a conversation\n",
    "def execute_conversation(agent, user_input):\n",
    "    result = agent.exec(user_input)\n",
    "    print(\"Conversation result:\", result)\n",
    "\n",
    "# Test the execution\n",
    "execute_conversation(agent, \"Hello, how are you?\")\n"
   ]
  },
  {
   "cell_type": "markdown",
   "id": "f9b067db-93e6-4485-9b83-73894003fc56",
   "metadata": {},
   "source": [
    "## Explanation\n",
    "\n",
    "- The function `execute_conversation` sends user input to the agent's `exec` method, which processes the input via the `GroqModel`.\n",
    "- The result is then printed out, showing the agent's response."
   ]
  },
  {
   "cell_type": "markdown",
   "id": "b9605336-e432-4bbd-adc7-3190fddc64f4",
   "metadata": {},
   "source": [
    "## Notebook Metadata"
   ]
  },
  {
   "cell_type": "code",
   "execution_count": 5,
   "id": "8be37be4-f590-4512-b6e6-b1999a809c34",
   "metadata": {},
   "outputs": [
    {
     "name": "stdout",
     "output_type": "stream",
     "text": [
      "Author: Huzaifa Irshad \n",
      "GitHub Username: irshadhuzaifa\n",
      "Last Modified: 2024-10-16 13:40:43.924271\n",
      "Platform: Windows 11\n",
      "Python Version: 3.12.7 | packaged by Anaconda, Inc. | (main, Oct  4 2024, 13:17:27) [MSC v.1929 64 bit (AMD64)]\n",
      "Swarmauri Version: 0.5.0\n"
     ]
    }
   ],
   "source": [
    "import platform\n",
    "import sys\n",
    "from datetime import datetime\n",
    "\n",
    "author_name = \"Huzaifa Irshad \" \n",
    "github_username = \"irshadhuzaifa\"\n",
    "\n",
    "print(f\"Author: {author_name}\")\n",
    "print(f\"GitHub Username: {github_username}\")\n",
    "\n",
    "notebook_file = \"Notebook_02_GroqModel_Integration.ipynb\"\n",
    "try:\n",
    "    last_modified_time = os.path.getmtime(notebook_file)\n",
    "    last_modified_datetime = datetime.fromtimestamp(last_modified_time)\n",
    "    print(f\"Last Modified: {last_modified_datetime}\")\n",
    "except Exception as e:\n",
    "    print(f\"Could not retrieve last modified datetime: {e}\")\n",
    "\n",
    "print(f\"Platform: {platform.system()} {platform.release()}\")\n",
    "print(f\"Python Version: {sys.version}\")\n",
    "\n",
    "try:\n",
    "    import swarmauri\n",
    "    print(f\"Swarmauri Version: {swarmauri.__version__}\")\n",
    "except ImportError:\n",
    "    print(\"Swarmauri is not installed.\")"
   ]
  },
  {
   "cell_type": "code",
   "execution_count": null,
   "id": "bad5fa15-15ef-4f1b-84a4-949689919e32",
   "metadata": {},
   "outputs": [],
   "source": []
  }
 ],
 "metadata": {
  "kernelspec": {
   "display_name": "swarmauri(0.5)",
   "language": "python",
   "name": "swarmauri-0.5.0"
  },
  "language_info": {
   "codemirror_mode": {
    "name": "ipython",
    "version": 3
   },
   "file_extension": ".py",
   "mimetype": "text/x-python",
   "name": "python",
   "nbconvert_exporter": "python",
   "pygments_lexer": "ipython3",
   "version": "3.12.7"
  }
 },
 "nbformat": 4,
 "nbformat_minor": 5
}
