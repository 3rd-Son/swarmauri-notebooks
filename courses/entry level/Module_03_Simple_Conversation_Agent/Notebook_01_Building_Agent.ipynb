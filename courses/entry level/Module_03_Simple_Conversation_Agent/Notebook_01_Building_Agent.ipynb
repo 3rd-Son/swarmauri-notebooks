{
 "cells": [
  {
   "cell_type": "markdown",
   "id": "846801c8-cc16-4818-a06d-ca588103b35c",
   "metadata": {},
   "source": [
    "# Notebook 01: Building the Simple Conversation Agent\n",
    "\n",
    "## Introduction\n",
    "In this notebook, we will cover the basic construction of the `SimpleConversationAgent`, which uses the `GroqModel` large language model (LLM) to handle conversations. The agent also utilizes a `Conversation` class to manage dialogues.\n",
    "\n",
    "## Setting Up the Agent\n",
    "\n",
    "First let us import the necessary modules and set up the agent."
   ]
  },
  {
   "cell_type": "code",
   "execution_count": 14,
   "id": "31aed653-59b2-4ec1-b4eb-8f80b1942517",
   "metadata": {},
   "outputs": [],
   "source": [
    "import os\n",
    "from swarmauri.llms.concrete.GroqModel import GroqModel\n",
    "from swarmauri.conversations.concrete.Conversation import Conversation\n",
    "from swarmauri.agents.concrete.SimpleConversationAgent import SimpleConversationAgent\n",
    "from dotenv import load_dotenv"
   ]
  },
  {
   "cell_type": "code",
   "execution_count": 15,
   "id": "231161bb-aa1b-49ed-84d2-f9dd26e12314",
   "metadata": {},
   "outputs": [
    {
     "name": "stdout",
     "output_type": "stream",
     "text": [
      "Agent created successfully\n"
     ]
    }
   ],
   "source": [
    "# Load environment variables\n",
    "load_dotenv()\n",
    "\n",
    "# Function that would set up and return the agent\n",
    "def simple_conversation_agent():\n",
    "    API_KEY = os.getenv(\"GROQ_API_KEY\")\n",
    "    if not API_KEY:\n",
    "        raise ValueError(\"GROQ_API_KEY not found in environment variables\")\n",
    "\n",
    "    llm = GroqModel(api_key=API_KEY)\n",
    "    conversation = Conversation()\n",
    "    agent = SimpleConversationAgent(conversation=conversation, llm=llm)\n",
    "    return agent\n",
    "\n",
    "\n",
    "# Calling the simple_conversation_agent function\n",
    "agent = simple_conversation_agent()\n",
    "if agent:\n",
    "    print(\"Agent created successfully\")"
   ]
  },
  {
   "cell_type": "markdown",
   "id": "111e63d0-29d4-4209-8cfa-a8de3fba6983",
   "metadata": {},
   "source": [
    "## Explanation"
   ]
  },
  {
   "cell_type": "markdown",
   "id": "9578e61b-83b8-43e3-ad97-5d3e1d0782c1",
   "metadata": {},
   "source": [
    "- `GroqModel`: This is the large language model that the agent will interact with to generate responses.\n",
    "- `Conversation`: This class helps manage and store dialogues between the user and the agent.\n",
    "- `SimpleConversationAgent`: The core agent that ties everything together, connecting the `GroqModel` and `Conversation`."
   ]
  },
  {
   "cell_type": "markdown",
   "id": "e65a1c9e-d806-47ea-8b10-e7363f649538",
   "metadata": {},
   "source": [
    "## Notebook Metadata"
   ]
  },
  {
   "cell_type": "code",
   "execution_count": 16,
   "id": "058378d7-e5df-486e-8edc-d5b216d28d61",
   "metadata": {},
   "outputs": [
    {
     "name": "stdout",
     "output_type": "stream",
     "text": [
      "Author: Huzaifa Irshad \n",
      "GitHub Username: irshadhuzaifa\n",
      "Last Modified: 2024-10-16 16:33:57.189535\n",
      "Platform: Windows 11\n",
      "Python Version: 3.12.7 | packaged by Anaconda, Inc. | (main, Oct  4 2024, 13:17:27) [MSC v.1929 64 bit (AMD64)]\n",
      "Swarmauri Version: 0.5.0\n"
     ]
    }
   ],
   "source": [
    "import platform\n",
    "import sys\n",
    "from datetime import datetime\n",
    "\n",
    "author_name = \"Huzaifa Irshad \" \n",
    "github_username = \"irshadhuzaifa\"\n",
    "\n",
    "print(f\"Author: {author_name}\")\n",
    "print(f\"GitHub Username: {github_username}\")\n",
    "\n",
    "notebook_file = \"Notebook_01_Building_Agent.ipynb\"\n",
    "try:\n",
    "    last_modified_time = os.path.getmtime(notebook_file)\n",
    "    last_modified_datetime = datetime.fromtimestamp(last_modified_time)\n",
    "    print(f\"Last Modified: {last_modified_datetime}\")\n",
    "except Exception as e:\n",
    "    print(f\"Could not retrieve last modified datetime: {e}\")\n",
    "\n",
    "print(f\"Platform: {platform.system()} {platform.release()}\")\n",
    "print(f\"Python Version: {sys.version}\")\n",
    "\n",
    "try:\n",
    "    import swarmauri\n",
    "    print(f\"Swarmauri Version: {swarmauri.__version__}\")\n",
    "except ImportError:\n",
    "    print(\"Swarmauri is not installed.\")"
   ]
  },
  {
   "cell_type": "code",
   "execution_count": null,
   "id": "5da4f034-acb6-4b20-8d93-b90be2087936",
   "metadata": {},
   "outputs": [],
   "source": []
  }
 ],
 "metadata": {
  "kernelspec": {
   "display_name": "swarmauri(0.5)",
   "language": "python",
   "name": "swarmauri-0.5.0"
  },
  "language_info": {
   "codemirror_mode": {
    "name": "ipython",
    "version": 3
   },
   "file_extension": ".py",
   "mimetype": "text/x-python",
   "name": "python",
   "nbconvert_exporter": "python",
   "pygments_lexer": "ipython3",
   "version": "3.12.7"
  }
 },
 "nbformat": 4,
 "nbformat_minor": 5
}
