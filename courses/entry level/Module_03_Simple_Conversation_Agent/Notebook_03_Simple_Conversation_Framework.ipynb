{
 "cells": [
  {
   "cell_type": "markdown",
   "id": "814f834d-64bd-4161-8af0-b795dd9f2e69",
   "metadata": {},
   "source": [
    "# Notebook 03: Simple Conversation Framework\n",
    "\n",
    "## Introduction\n",
    "In this notebook, we will explore how to validate the functionality of the `SimpleConversationAgent`. This will include checking its resource handling, type identification, and serialization.\n",
    "\n",
    "### Repeating Necessary Imports and Setup of Notebook 01\n",
    "\n",
    "Before we proceed, let's repeat the necessary imports and agent setup from Notebook 1 to ensure the notebook runs independently."
   ]
  },
  {
   "cell_type": "code",
   "execution_count": 2,
   "id": "05e2a9cc-0f00-4743-9b3b-333bb30a3bc0",
   "metadata": {},
   "outputs": [
    {
     "name": "stdout",
     "output_type": "stream",
     "text": [
      "Agent created successfully\n"
     ]
    }
   ],
   "source": [
    "import os\n",
    "from swarmauri.llms.concrete.GroqModel import GroqModel\n",
    "from swarmauri.conversations.concrete.Conversation import Conversation\n",
    "from swarmauri.agents.concrete.SimpleConversationAgent import SimpleConversationAgent\n",
    "from dotenv import load_dotenv\n",
    "\n",
    "# Load environment variables\n",
    "load_dotenv()\n",
    "\n",
    "# Function that would set up and return the agent\n",
    "def simple_conversation_agent():\n",
    "    API_KEY = os.getenv(\"GROQ_API_KEY\")\n",
    "    if not API_KEY:\n",
    "        raise ValueError(\"GROQ_API_KEY not found in environment variables\")\n",
    "\n",
    "    llm = GroqModel(api_key=API_KEY)\n",
    "    conversation = Conversation()\n",
    "    agent = SimpleConversationAgent(conversation=conversation, llm=llm)\n",
    "    return agent\n",
    "\n",
    "\n",
    "# Calling the simple_conversation_agent function\n",
    "agent = simple_conversation_agent()\n",
    "if agent:\n",
    "    print(\"Agent created successfully\")"
   ]
  },
  {
   "cell_type": "markdown",
   "id": "ea078e91-aa1e-4ca0-8219-e36c9aadf252",
   "metadata": {},
   "source": [
    "## Testing the Agent's Attributes\n",
    "\n",
    "### Test 1: Resource Validation\n",
    "\n",
    "Let's verify that the agent's `resource` attribute is correctly set to `\"Agent\"`.\n"
   ]
  },
  {
   "cell_type": "code",
   "execution_count": 3,
   "id": "fe5f7e3a-4e27-47e2-925b-24486fe6b25a",
   "metadata": {},
   "outputs": [],
   "source": [
    "# Checking the resource attribute\n",
    "assert agent.resource == \"Agent\", \"Resource validation failed!\""
   ]
  },
  {
   "cell_type": "markdown",
   "id": "6a63ef6c-f275-493e-9ffb-184abf0fdace",
   "metadata": {},
   "source": [
    "### Test 2: Type Validation"
   ]
  },
  {
   "cell_type": "code",
   "execution_count": 4,
   "id": "514cc435-e230-41d3-83c9-8a255adc695b",
   "metadata": {},
   "outputs": [],
   "source": [
    "# Checking the type attribute\n",
    "assert agent.type == \"SimpleConversationAgent\", \"Type validation failed!\""
   ]
  },
  {
   "cell_type": "markdown",
   "id": "bf1d57eb-e142-48bf-bab4-4e4590d0781a",
   "metadata": {},
   "source": [
    "### Test 3: Serialization"
   ]
  },
  {
   "cell_type": "code",
   "execution_count": 6,
   "id": "0a6607b2-eb93-43a5-a8ca-a873dd64849a",
   "metadata": {},
   "outputs": [],
   "source": [
    "# Testing serialization and deserialization\n",
    "serialized = agent.model_dump_json()\n",
    "deserialized = SimpleConversationAgent.model_validate_json(serialized)\n",
    "\n",
    "assert agent.id == deserialized.id, \"Serialization validation failed!\""
   ]
  },
  {
   "cell_type": "markdown",
   "id": "b06ffa49-a37a-4c8c-bc2a-66336fa9d57b",
   "metadata": {},
   "source": [
    "### Test 4: Agent Execution"
   ]
  },
  {
   "cell_type": "code",
   "execution_count": 7,
   "id": "541c2a92-56c7-490e-b6c1-6a0c526761ff",
   "metadata": {},
   "outputs": [
    {
     "name": "stdout",
     "output_type": "stream",
     "text": [
      "Agent response: Hello! 👋 It's great to hear from you. How can I help you today? 😊\n"
     ]
    }
   ],
   "source": [
    "# Testing conversation execution\n",
    "result = agent.exec(\"hello\")\n",
    "assert isinstance(result, str), \"Execution result is not a string!\"\n",
    "print(\"Agent response:\", result)"
   ]
  },
  {
   "cell_type": "markdown",
   "id": "9fce2ee4-af69-40cb-863f-8c43c376756b",
   "metadata": {},
   "source": [
    "## Conclusion\n",
    "\n",
    "In this notebook, we've demonstrated how to test various aspects of the `SimpleConversationAgent`, including resource validation, type checking, serialization, and input processing."
   ]
  },
  {
   "cell_type": "markdown",
   "id": "88ba0074-4548-48c5-8f83-f12afd9f9164",
   "metadata": {},
   "source": [
    "## Notebook Metadata"
   ]
  },
  {
   "cell_type": "code",
   "execution_count": 8,
   "id": "21775ae3-6781-481d-87a1-38778f663c09",
   "metadata": {},
   "outputs": [
    {
     "name": "stdout",
     "output_type": "stream",
     "text": [
      "Author: Huzaifa Irshad \n",
      "GitHub Username: irshadhuzaifa\n",
      "Last Modified: 2024-10-16 17:27:46.494356\n",
      "Platform: Windows 11\n",
      "Python Version: 3.12.7 | packaged by Anaconda, Inc. | (main, Oct  4 2024, 13:17:27) [MSC v.1929 64 bit (AMD64)]\n",
      "Swarmauri Version: 0.5.0\n"
     ]
    }
   ],
   "source": [
    "import platform\n",
    "import sys\n",
    "from datetime import datetime\n",
    "\n",
    "author_name = \"Huzaifa Irshad \" \n",
    "github_username = \"irshadhuzaifa\"\n",
    "\n",
    "print(f\"Author: {author_name}\")\n",
    "print(f\"GitHub Username: {github_username}\")\n",
    "\n",
    "notebook_file = \"Notebook_03_Simple_Conversation_Framework.ipynb\"\n",
    "try:\n",
    "    last_modified_time = os.path.getmtime(notebook_file)\n",
    "    last_modified_datetime = datetime.fromtimestamp(last_modified_time)\n",
    "    print(f\"Last Modified: {last_modified_datetime}\")\n",
    "except Exception as e:\n",
    "    print(f\"Could not retrieve last modified datetime: {e}\")\n",
    "\n",
    "print(f\"Platform: {platform.system()} {platform.release()}\")\n",
    "print(f\"Python Version: {sys.version}\")\n",
    "\n",
    "try:\n",
    "    import swarmauri\n",
    "    print(f\"Swarmauri Version: {swarmauri.__version__}\")\n",
    "except ImportError:\n",
    "    print(\"Swarmauri is not installed.\")"
   ]
  },
  {
   "cell_type": "code",
   "execution_count": null,
   "id": "68ce23c7-7287-473e-919e-e59b2380d8dc",
   "metadata": {},
   "outputs": [],
   "source": []
  }
 ],
 "metadata": {
  "kernelspec": {
   "display_name": "swarmauri(0.5)",
   "language": "python",
   "name": "swarmauri-0.5.0"
  },
  "language_info": {
   "codemirror_mode": {
    "name": "ipython",
    "version": 3
   },
   "file_extension": ".py",
   "mimetype": "text/x-python",
   "name": "python",
   "nbconvert_exporter": "python",
   "pygments_lexer": "ipython3",
   "version": "3.12.7"
  }
 },
 "nbformat": 4,
 "nbformat_minor": 5
}
