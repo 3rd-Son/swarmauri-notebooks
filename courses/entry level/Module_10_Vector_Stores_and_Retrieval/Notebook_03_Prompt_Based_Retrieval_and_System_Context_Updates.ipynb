{
 "cells": [
  {
   "cell_type": "markdown",
   "metadata": {},
   "source": [
    "## **Notebook 03: Prompt-Based Retrieval and System Context Updates**\n",
    "## **Introduction:**\n",
    "In this notebook, we will demonstrate how to use a prompt to trigger a document retrieval process and then update the system context of an agent. This showcases the underlying mechanics of a Retrieval-Augmented Generation (RAG) system, where external knowledge is retrieved from a vector store to provide contextually relevant responses. The Swarmauri framework will be used to manage both the document retrieval process and the system context updates in a conversational agent. This is crucial for developing advanced conversational AI systems that can leverage external knowledge dynamically."
   ]
  },
  {
   "cell_type": "markdown",
   "metadata": {},
   "source": [
    "**Import dependencies**"
   ]
  },
  {
   "cell_type": "code",
   "execution_count": 17,
   "metadata": {},
   "outputs": [],
   "source": [
    "from swarmauri.documents.concrete.Document import Document\n",
    "from swarmauri.vector_stores.concrete.TfidfVectorStore import TfidfVectorStore\n",
    "from swarmauri.prompts.concrete.PromptTemplate import PromptTemplate\n",
    "from swarmauri.messages.concrete.SystemMessage import SystemMessage\n",
    "from swarmauri.conversations.concrete.MaxSystemContextConversation import MaxSystemContextConversation"
   ]
  },
  {
   "cell_type": "markdown",
   "metadata": {},
   "source": [
    "**Create a TFIDF Vector Store and load documents**"
   ]
  },
  {
   "cell_type": "code",
   "execution_count": 18,
   "metadata": {},
   "outputs": [],
   "source": [
    "vector_store = TfidfVectorStore()"
   ]
  },
  {
   "cell_type": "code",
   "execution_count": 19,
   "metadata": {},
   "outputs": [],
   "source": [
    "documents = [\n",
    "    Document(content=\"Machine learning is transforming industries.\"),\n",
    "    Document(content=\"Python is a widely-used language in data science.\"),\n",
    "    Document(content=\"Artificial intelligence is the future of technology.\"),\n",
    "    Document(content=\"Deep learning models power modern AI systems.\"),\n",
    "]"
   ]
  },
  {
   "cell_type": "code",
   "execution_count": 20,
   "metadata": {},
   "outputs": [],
   "source": [
    "vector_store.add_documents(documents)\n"
   ]
  },
  {
   "cell_type": "markdown",
   "metadata": {},
   "source": [
    "**Setting up the Conversation with Prompts**"
   ]
  },
  {
   "cell_type": "code",
   "execution_count": 35,
   "metadata": {},
   "outputs": [
    {
     "name": "stdout",
     "output_type": "stream",
     "text": [
      "Initial System Context:\n",
      "\n"
     ]
    }
   ],
   "source": [
    "# Display initial system context\n",
    "conversation = MaxSystemContextConversation()\n",
    "print(\"Initial System Context:\")\n",
    "print(conversation.system_context.content)"
   ]
  },
  {
   "cell_type": "markdown",
   "metadata": {},
   "source": [
    "**Create a prompt template for retrieving documents:**\n",
    "The prompt template will serve as a dynamic input for the retrieval process"
   ]
  },
  {
   "cell_type": "code",
   "execution_count": 90,
   "metadata": {},
   "outputs": [
    {
     "name": "stdout",
     "output_type": "stream",
     "text": [
      "\n",
      "Generated Prompt:\n",
      "Retrieve information about  Machine learning\n"
     ]
    }
   ],
   "source": [
    "# Generate a prompt using the template\n",
    "retrieval_prompt_template = PromptTemplate(template=\"Retrieve information about {topic}\")\n",
    "prompt_content = retrieval_prompt_template(variables={\"topic\": \" Machine learning\"})\n",
    "print(\"\\nGenerated Prompt:\")\n",
    "print(prompt_content)\n"
   ]
  },
  {
   "cell_type": "markdown",
   "metadata": {},
   "source": [
    "**Use the prompt to trigger a document retrieval from the vector store**"
   ]
  },
  {
   "cell_type": "code",
   "execution_count": 87,
   "metadata": {},
   "outputs": [],
   "source": [
    "query = \"Machine learning\"\n",
    "retrieved_documents = vector_store.retrieve(query=query, top_k=1)"
   ]
  },
  {
   "cell_type": "code",
   "execution_count": 88,
   "metadata": {},
   "outputs": [
    {
     "data": {
      "text/plain": [
       "[Document(name=None, id='168e1c79-9a1d-48b6-a17b-1f6264b1101b', members=[], owner=None, host=None, resource='Document', version='0.1.0', type='Document', content='Machine learning is transforming industries.', metadata={}, embedding=None)]"
      ]
     },
     "execution_count": 88,
     "metadata": {},
     "output_type": "execute_result"
    }
   ],
   "source": [
    "retrieved_documents"
   ]
  },
  {
   "cell_type": "code",
   "execution_count": 89,
   "metadata": {},
   "outputs": [
    {
     "name": "stdout",
     "output_type": "stream",
     "text": [
      "\n",
      "Retrieved Documents:\n",
      "Document 1: Machine learning is transforming industries.\n"
     ]
    }
   ],
   "source": [
    "# Display the retrieved results\n",
    "print(\"\\nRetrieved Documents:\")\n",
    "for idx, doc in enumerate(retrieved_documents, 1):\n",
    "    print(f\"Document {idx}: {doc.content}\")"
   ]
  },
  {
   "cell_type": "markdown",
   "metadata": {},
   "source": [
    "**Update the system context based on the retrieved information**"
   ]
  },
  {
   "cell_type": "code",
   "execution_count": 91,
   "metadata": {},
   "outputs": [],
   "source": [
    "\n",
    "retrieved_content = \"\\n\".join([doc.content for doc in retrieved_documents])"
   ]
  },
  {
   "cell_type": "code",
   "execution_count": 97,
   "metadata": {},
   "outputs": [],
   "source": [
    "system_update_message = SystemMessage(content=f\"Here is some information on {query}: {retrieved_content}\")\n"
   ]
  },
  {
   "cell_type": "code",
   "execution_count": 99,
   "metadata": {},
   "outputs": [],
   "source": [
    "conversation = MaxSystemContextConversation(system_context=system_update_message,  max_size=2)"
   ]
  },
  {
   "cell_type": "code",
   "execution_count": 101,
   "metadata": {},
   "outputs": [
    {
     "name": "stdout",
     "output_type": "stream",
     "text": [
      "Updated System Context:\n",
      "Here is some information on Machine learning: Machine learning is transforming industries.\n"
     ]
    }
   ],
   "source": [
    "print(\"Updated System Context:\")\n",
    "print(conversation.system_context.content)"
   ]
  },
  {
   "cell_type": "markdown",
   "metadata": {},
   "source": [
    "## **Conclusion:**\n",
    "In this notebook, we demonstrated how to use a prompt to trigger document retrieval from a vector store and update the system context of an agent. By using the Swarmauri framework, we showcased the internal workings of a Retrieval-Augmented Generation (RAG) system, where external knowledge is dynamically fetched and integrated into a conversation. This process is key for developing intelligent agents that provide relevant, context-aware information in real-time interactions."
   ]
  },
  {
   "cell_type": "code",
   "execution_count": 102,
   "metadata": {},
   "outputs": [
    {
     "name": "stdout",
     "output_type": "stream",
     "text": [
      "Author: Dominion John \n",
      "GitHub Username: DOMINION-JOHN1\n",
      "Last Modified: 2024-10-17 13:52:54.916858\n",
      "Platform: Windows 11\n",
      "Python Version: 3.12.7 (tags/v3.12.7:0b05ead, Oct  1 2024, 03:06:41) [MSC v.1941 64 bit (AMD64)]\n",
      "Swarmauri Version: 0.5.0\n"
     ]
    }
   ],
   "source": [
    "import os\n",
    "import platform\n",
    "import sys\n",
    "from datetime import datetime\n",
    "\n",
    "# Display author information\n",
    "author_name = \"Dominion John \" \n",
    "github_username = \"DOMINION-JOHN1\"  \n",
    "\n",
    "print(f\"Author: {author_name}\")\n",
    "print(f\"GitHub Username: {github_username}\")\n",
    "\n",
    "# Last modified datetime (file's metadata)\n",
    "notebook_file = \"Notebook_02_Document_Loading_and_Retrieval.ipynb\"  \n",
    "try:\n",
    "    last_modified_time = os.path.getmtime(notebook_file)\n",
    "    last_modified_datetime = datetime.fromtimestamp(last_modified_time)\n",
    "    print(f\"Last Modified: {last_modified_datetime}\")\n",
    "except Exception as e:\n",
    "    print(f\"Could not retrieve last modified datetime: {e}\")\n",
    "\n",
    "# Display platform, Python version, and Swarmauri version\n",
    "print(f\"Platform: {platform.system()} {platform.release()}\")\n",
    "print(f\"Python Version: {sys.version}\")\n",
    "\n",
    "# Checking Swarmauri version\n",
    "try:\n",
    "    import swarmauri\n",
    "    print(f\"Swarmauri Version: {swarmauri.__version__}\")\n",
    "except ImportError:\n",
    "    print(\"Swarmauri is not installed.\")"
   ]
  }
 ],
 "metadata": {
  "kernelspec": {
   "display_name": "swarmauri(0.5.0)",
   "language": "python",
   "name": "swarmauri-0.5.0"
  },
  "language_info": {
   "codemirror_mode": {
    "name": "ipython",
    "version": 3
   },
   "file_extension": ".py",
   "mimetype": "text/x-python",
   "name": "python",
   "nbconvert_exporter": "python",
   "pygments_lexer": "ipython3",
   "version": "3.12.7"
  }
 },
 "nbformat": 4,
 "nbformat_minor": 2
}
