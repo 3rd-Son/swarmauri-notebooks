{
 "cells": [
  {
   "cell_type": "markdown",
   "id": "09bf6be1-0247-4e01-bb32-95293b83831a",
   "metadata": {},
   "source": [
    "# Similarity Searches and Embeddings\n",
    "\n",
    "## Introduction to Similarity and Distance\n",
    "In the realm of embeddings, similarity and distance have an inverse relationship. Similarity measures how close two documents are in meaning, while distance quantifies how far apart they are. To find similarities between documents represented as vectors, we often utilize a distance metric, such as Cosine Distance.\n",
    "\n",
    "## Similarity with CosineDistance\n",
    "Cosine similarity (or distance) measures the angular distance between two vectors. It is commonly used in document embeddings to determine how similar two documents are based on their vector representations."
   ]
  },
  {
   "cell_type": "code",
   "execution_count": 1,
   "id": "e71c38d0-f37b-436e-b8f4-9961c7173736",
   "metadata": {},
   "outputs": [
    {
     "name": "stdout",
     "output_type": "stream",
     "text": [
      "Cosine Distance between [1,2] and [1,2]: 2.220446049250313e-16\n"
     ]
    }
   ],
   "source": [
    "from swarmauri.distances.concrete.CosineDistance import CosineDistance\n",
    "from swarmauri.vectors.concrete.Vector import Vector\n",
    "\n",
    "# Example documents represented as vectors\n",
    "doc1_vector = Vector(value=[1, 2])\n",
    "doc2_vector = Vector(value=[1, 2])\n",
    "\n",
    "# Calculate Cosine Distance between the two vectors\n",
    "cosine_distance = CosineDistance().distance(doc1_vector, doc2_vector)\n",
    "print(f\"Cosine Distance between [1,2] and [1,2]: {cosine_distance}\")"
   ]
  },
  {
   "cell_type": "markdown",
   "id": "22c4f192-7832-46ac-b552-201095ea7470",
   "metadata": {},
   "source": [
    "## Explanation of Floating-Point Precision\n",
    "\n",
    "#### Floating-point precision is a crucial concept in numerical computations, particularly in machine learning. It refers to the limitations of how computers represent real numbers.\n",
    "\n",
    "When calculating cosine distance, you may encounter situations where the expected distance between two identical vectors is not zero. This discrepancy arises because:\n",
    "\n",
    "- **Cosine Distance and Angular Measurement:** Theoretically, the cosine distance between two identical vectors should be zero, as there is no angular difference.\n",
    "- **Floating-Point Arithmetic:** Computers store numbers using finite precision (typically 64 bits for floating-point numbers). This limitation can lead to tiny rounding errors in calculations."
   ]
  },
  {
   "cell_type": "markdown",
   "id": "3b0e69be-595b-4cb8-a7db-d561b807a47c",
   "metadata": {},
   "source": [
    "### Example: Why Cosine Distance Doesn't Equal 0"
   ]
  },
  {
   "cell_type": "code",
   "execution_count": 2,
   "id": "e11760e2-358b-401b-9f22-ddf7e6e3e2d4",
   "metadata": {},
   "outputs": [
    {
     "name": "stdout",
     "output_type": "stream",
     "text": [
      "Expected Result: 0.0, Actual Result: 2.220446049250313e-16\n",
      "Difference due to Floating Point Precision: 2.220446049250313e-16\n"
     ]
    }
   ],
   "source": [
    "# Floating point precision explanation\n",
    "# Theoretical cosine distance between identical vectors should be 0, but due to FP64 limitations:\n",
    "expected_result = 0.0\n",
    "actual_result = CosineDistance().distance(Vector(value=[1, 2]), Vector(value=[1, 2]))\n",
    "print(f\"Expected Result: {expected_result}, Actual Result: {actual_result}\")\n",
    "\n",
    "# Difference due to floating-point precision\n",
    "difference = abs(expected_result - actual_result)\n",
    "print(f\"Difference due to Floating Point Precision: {difference}\")"
   ]
  },
  {
   "cell_type": "markdown",
   "id": "538b2b1e-14e3-4884-a469-dea9bac55adb",
   "metadata": {},
   "source": [
    "## Similarity Search Example\n",
    "\n",
    "Now, let’s create a list of document embeddings and find the most similar document using `CosineDistance`."
   ]
  },
  {
   "cell_type": "code",
   "execution_count": 16,
   "id": "9342862c-b48b-43ef-98f5-b42571e82c44",
   "metadata": {},
   "outputs": [
    {
     "name": "stdout",
     "output_type": "stream",
     "text": [
      "Query embedding shape: [0.5, 0.5, 0.5, 0.5]\n",
      "Documents embeddings shapes:\n",
      "[0.0, 0.0, 0.3535533905932738, 0.0, 0.0, 0.3535533905932738, 0.0, 0.0, 0.3535533905932738, 0.3535533905932738, 0.0, 0.7071067811865476]\n",
      "[0.5, 0.0, 0.0, 0.5, 0.0, 0.0, 0.0, 0.5, 0.0, 0.0, 0.5, 0.0]\n",
      "[0.0, 0.5773502691896257, 0.0, 0.0, 0.5773502691896257, 0.0, 0.5773502691896257, 0.0, 0.0, 0.0, 0.0, 0.0]\n",
      "Most similar document: Dogs are loyal pets\n"
     ]
    }
   ],
   "source": [
    "from swarmauri.vectors.concrete.Vector import Vector\n",
    "\n",
    "# Example documents and embeddings\n",
    "documents = [\"The cat is on the mat\", \"Dogs are loyal pets\", \"I love eating bananas\"]\n",
    "# Generate embeddings for the example documents\n",
    "# Generate embeddings for the example documents\n",
    "embeddings = embedder.fit_transform(documents)\n",
    "\n",
    "# Example of embedding generation (you should adapt this based on your setup)\n",
    "# Make sure you use the same embedding method for both query and documents\n",
    "query_embedding = embedder.fit_transform([\"The cat is playing\"])[0]\n",
    "documents_embeddings = embedder.fit_transform(documents)\n",
    "\n",
    "# Check the shapes of both embeddings\n",
    "print(\"Query embedding shape:\", query_embedding.value)\n",
    "print(\"Documents embeddings shapes:\")\n",
    "for doc_embedding in documents_embeddings:\n",
    "    print(doc_embedding.value)\n",
    "\n",
    "# Determine the maximum length for padding/trimming\n",
    "max_length = max(len(query_embedding_values), max(len(embedding.value) for embedding in embeddings))\n",
    "\n",
    "# Function to pad or trim vectors\n",
    "def normalize_vector(vector, max_length):\n",
    "    return vector + [0] * (max_length - len(vector)) if len(vector) < max_length else vector[:max_length]\n",
    "\n",
    "# Normalize query and embeddings\n",
    "query_embedding_values_normalized = normalize_vector(query_embedding_values, max_length)\n",
    "embeddings_normalized = [normalize_vector(embedding.value, max_length) for embedding in embeddings]\n",
    "\n",
    "# Compute the distances with normalized vectors\n",
    "distances = []\n",
    "for i, embedding_normalized in enumerate(embeddings_normalized):\n",
    "    distances.append(cosine.distance(Vector(value=query_embedding_values_normalized), Vector(value=embedding_normalized)))\n",
    "\n",
    "# Find the most similar document (smallest distance)\n",
    "most_similar_index = distances.index(min(distances))\n",
    "print(f\"Most similar document: {documents[most_similar_index]}\")\n"
   ]
  },
  {
   "cell_type": "markdown",
   "id": "046ef1aa-baed-4043-8945-b0e21a192fc8",
   "metadata": {},
   "source": [
    "#### The code takes a set of documents and a query, generates their embeddings, normalizes those embeddings, calculates the cosine distances between the query and each document, and identifies the document that is most similar to the query based on the smallest cosine distance."
   ]
  },
  {
   "cell_type": "markdown",
   "id": "eca9b8a6-5ecb-45df-8122-ea18f85930b1",
   "metadata": {},
   "source": [
    "## Notebook Metadata"
   ]
  },
  {
   "cell_type": "code",
   "execution_count": 17,
   "id": "b7abfa5d-c6e6-48ad-a2b0-70b0ce873b10",
   "metadata": {},
   "outputs": [
    {
     "name": "stdout",
     "output_type": "stream",
     "text": [
      "Author: Huzaifa Irshad \n",
      "GitHub Username: irshadhuzaifa\n",
      "Last Modified: 2024-10-18 11:16:32.881434\n",
      "Platform: Windows 11\n",
      "Python Version: 3.12.7 | packaged by Anaconda, Inc. | (main, Oct  4 2024, 13:17:27) [MSC v.1929 64 bit (AMD64)]\n",
      "Swarmauri Version: 0.5.0\n"
     ]
    }
   ],
   "source": [
    "import os\n",
    "import platform\n",
    "import sys\n",
    "from datetime import datetime\n",
    "\n",
    "author_name = \"Huzaifa Irshad \" \n",
    "github_username = \"irshadhuzaifa\"\n",
    "\n",
    "print(f\"Author: {author_name}\")\n",
    "print(f\"GitHub Username: {github_username}\")\n",
    "\n",
    "notebook_file = \"Notebook_02_Preprocessing_Data_For_Embeddings.ipynb\"\n",
    "try:\n",
    "    last_modified_time = os.path.getmtime(notebook_file)\n",
    "    last_modified_datetime = datetime.fromtimestamp(last_modified_time)\n",
    "    print(f\"Last Modified: {last_modified_datetime}\")\n",
    "except Exception as e:\n",
    "    print(f\"Could not retrieve last modified datetime: {e}\")\n",
    "\n",
    "print(f\"Platform: {platform.system()} {platform.release()}\")\n",
    "print(f\"Python Version: {sys.version}\")\n",
    "\n",
    "try:\n",
    "    import swarmauri\n",
    "    print(f\"Swarmauri Version: {swarmauri.__version__}\")\n",
    "except ImportError:\n",
    "    print(\"Swarmauri is not installed.\")"
   ]
  },
  {
   "cell_type": "code",
   "execution_count": null,
   "id": "45fa47e7-160c-4cb1-934d-bda80771d002",
   "metadata": {},
   "outputs": [],
   "source": []
  }
 ],
 "metadata": {
  "kernelspec": {
   "display_name": "swarmauri(0.5)",
   "language": "python",
   "name": "swarmauri-0.5.0"
  },
  "language_info": {
   "codemirror_mode": {
    "name": "ipython",
    "version": 3
   },
   "file_extension": ".py",
   "mimetype": "text/x-python",
   "name": "python",
   "nbconvert_exporter": "python",
   "pygments_lexer": "ipython3",
   "version": "3.12.7"
  }
 },
 "nbformat": 4,
 "nbformat_minor": 5
}
