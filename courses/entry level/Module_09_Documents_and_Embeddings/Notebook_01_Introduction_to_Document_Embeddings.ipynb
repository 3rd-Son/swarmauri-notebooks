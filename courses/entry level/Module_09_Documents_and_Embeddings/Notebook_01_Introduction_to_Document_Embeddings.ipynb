{
 "cells": [
  {
   "cell_type": "markdown",
   "id": "adbe8d11-9a09-4564-b90a-70a8e97666f8",
   "metadata": {},
   "source": [
    "# Introduction to Document Embeddings\n",
    "\n",
    "## Introduction\n",
    "Embeddings are numerical representations of words, phrases, or entire documents. They are used in machine learning models to understand and compare textual data by converting it into vectors in a continuous vector space. By placing similar items closer together, embeddings allow us to perform tasks like similarity comparisons and clustering.\n",
    "\n",
    "## TF-IDF Embedder\n",
    "Term Frequency-Inverse Document Frequency (TF-IDF) embeddings help transform textual documents into numerical vectors, reflecting how important a word is within a document relative to a collection of documents. This method weighs the frequency of terms against their commonality across documents to prioritize more significant terms.\n",
    "\n",
    "## Creating Document Models with TF-IDF Embedder\n",
    "In this section, we'll create document models and embed them using the `TfidfEmbedder`."
   ]
  },
  {
   "cell_type": "code",
   "execution_count": 1,
   "id": "828c5ab8-b30d-4468-b86b-19da113cc3d4",
   "metadata": {},
   "outputs": [],
   "source": [
    "# Introduction to embeddings using TfidfEmbedder\n",
    "from swarmauri.embeddings.concrete.TfidfEmbedding import TfidfEmbedding"
   ]
  },
  {
   "cell_type": "code",
   "execution_count": 2,
   "id": "d2b5a59d-10a5-448e-b59e-f6460989cb6b",
   "metadata": {},
   "outputs": [
    {
     "name": "stdout",
     "output_type": "stream",
     "text": [
      "Embedding for Document 1: name=None id='03a2ff7c-f361-4b2f-b244-c03ce07a91f7' members=[] owner=None host=None resource='Vector' version='0.1.0' type='Vector' value=[0.0, 0.0, 0.0, 0.3015113445777637, 0.0, 0.3015113445777637, 0.3015113445777637, 0.0, 0.3015113445777637, 0.3015113445777637, 0.3015113445777637, 0.0, 0.3015113445777637, 0.0, 0.6030226891555274, 0.0]\n",
      "Embedding for Document 2: name=None id='2e45bab4-a64f-4764-bb48-bf8d011587f2' members=[] owner=None host=None resource='Vector' version='0.1.0' type='Vector' value=[0.0, 0.4020402441612698, 0.0, 0.0, 0.5286346066596935, 0.0, 0.0, 0.5286346066596935, 0.0, 0.0, 0.0, 0.5286346066596935, 0.0, 0.0, 0.0, 0.0]\n",
      "Embedding for Document 3: name=None id='052c5585-ce0d-4ce7-87bf-868209dcf2c5' members=[] owner=None host=None resource='Vector' version='0.1.0' type='Vector' value=[0.4673509818107163, 0.35543246785041743, 0.4673509818107163, 0.0, 0.0, 0.0, 0.0, 0.0, 0.0, 0.0, 0.0, 0.0, 0.0, 0.4673509818107163, 0.0, 0.4673509818107163]\n"
     ]
    }
   ],
   "source": [
    "# Initialize the TF-IDF embedder\n",
    "embedder = TfidfEmbedding()\n",
    "\n",
    "# Example documents\n",
    "documents = [\n",
    "    \"The quick brown fox jumps over the lazy dog\",\n",
    "    \"Cats are great pets\",\n",
    "    \"Bananas are yellow and tasty\"\n",
    "]\n",
    "\n",
    "# Fit the embedder on the documents and transform them into embeddings\n",
    "embeddings = embedder.fit_transform(documents)\n",
    "\n",
    "# Display embeddings for each document\n",
    "for i, embedding in enumerate(embeddings):\n",
    "    print(f\"Embedding for Document {i+1}: {embedding}\")"
   ]
  },
  {
   "cell_type": "markdown",
   "id": "677f4f91-43f4-4066-bca1-b7f874123462",
   "metadata": {},
   "source": [
    "## Explanation\n",
    "\n",
    "Each document has been transformed into a vector of numbers. These numbers represent the importance of each word in the context of the whole corpus. The TF-IDF embeddings work well for simple tasks like document classification and information retrieval, but they may not capture semantic meaning as effectively as more advanced embedding techniques such as `word2vec` or `BERT`\n",
    "."
   ]
  },
  {
   "cell_type": "markdown",
   "id": "dcc54ca7-b65c-4872-b611-4d4313704817",
   "metadata": {},
   "source": [
    "## Notebook Metadata"
   ]
  },
  {
   "cell_type": "code",
   "execution_count": 4,
   "id": "61f76b4c-af9f-416a-8d52-2f798bf73597",
   "metadata": {},
   "outputs": [
    {
     "name": "stdout",
     "output_type": "stream",
     "text": [
      "Author: Huzaifa Irshad \n",
      "GitHub Username: irshadhuzaifa\n",
      "Last Modified: 2024-10-18 09:31:45.414431\n",
      "Platform: Windows 11\n",
      "Python Version: 3.12.7 | packaged by Anaconda, Inc. | (main, Oct  4 2024, 13:17:27) [MSC v.1929 64 bit (AMD64)]\n",
      "Swarmauri Version: 0.5.0\n"
     ]
    }
   ],
   "source": [
    "import os\n",
    "import platform\n",
    "import sys\n",
    "from datetime import datetime\n",
    "\n",
    "author_name = \"Huzaifa Irshad \" \n",
    "github_username = \"irshadhuzaifa\"\n",
    "\n",
    "print(f\"Author: {author_name}\")\n",
    "print(f\"GitHub Username: {github_username}\")\n",
    "\n",
    "notebook_file = \"Notebook_01_Introduction_to_Document_Embeddings.ipynb\"\n",
    "try:\n",
    "    last_modified_time = os.path.getmtime(notebook_file)\n",
    "    last_modified_datetime = datetime.fromtimestamp(last_modified_time)\n",
    "    print(f\"Last Modified: {last_modified_datetime}\")\n",
    "except Exception as e:\n",
    "    print(f\"Could not retrieve last modified datetime: {e}\")\n",
    "\n",
    "print(f\"Platform: {platform.system()} {platform.release()}\")\n",
    "print(f\"Python Version: {sys.version}\")\n",
    "\n",
    "try:\n",
    "    import swarmauri\n",
    "    print(f\"Swarmauri Version: {swarmauri.__version__}\")\n",
    "except ImportError:\n",
    "    print(\"Swarmauri is not installed.\")"
   ]
  },
  {
   "cell_type": "code",
   "execution_count": null,
   "id": "1ddcbf6a-4daa-4efa-a88d-1b52b1182a1d",
   "metadata": {},
   "outputs": [],
   "source": []
  }
 ],
 "metadata": {
  "kernelspec": {
   "display_name": "swarmauri(0.5)",
   "language": "python",
   "name": "swarmauri-0.5.0"
  },
  "language_info": {
   "codemirror_mode": {
    "name": "ipython",
    "version": 3
   },
   "file_extension": ".py",
   "mimetype": "text/x-python",
   "name": "python",
   "nbconvert_exporter": "python",
   "pygments_lexer": "ipython3",
   "version": "3.12.7"
  }
 },
 "nbformat": 4,
 "nbformat_minor": 5
}
