{
 "cells": [
  {
   "cell_type": "markdown",
   "metadata": {},
   "source": [
    "## **Notebook 2: Testing and Refinement - (Peer Review and Feedback)**\n",
    "## **Introduction:**\n",
    "\n",
    "In this notebook, we’ll focus on testing and refining the RAG agent developed in the previous step. By simulating different queries and examining the responses, you can identify areas where the retrieval or generation could be improved. Testing is crucial for ensuring robust performance, especially in complex systems involving both retrieval and generation. We encourage you to share your results with peers and gather feedback to improve your project.\n",
    "\n",
    "After running the queries, analyze the results. Are they accurate? Do they match your expectations? Share your findings with your peers to gain new insights and potential improvements."
   ]
  },
  {
   "cell_type": "code",
   "execution_count": 1,
   "metadata": {},
   "outputs": [
    {
     "name": "stdout",
     "output_type": "stream",
     "text": [
      "RagAgent Resource Type: Agent\n"
     ]
    }
   ],
   "source": [
    "# Import dependencies\n",
    "import os\n",
    "from swarmauri.chunkers.concrete.SentenceChunker import SentenceChunker\n",
    "from swarmauri_community.parsers.concrete.FitzPdfParser import PDFtoTextParser as Parser\n",
    "from swarmauri.llms.concrete.GroqModel import GroqModel\n",
    "from swarmauri.vector_stores.concrete.TfidfVectorStore import TfidfVectorStore\n",
    "from swarmauri.agents.concrete.RagAgent import RagAgent\n",
    "from swarmauri.documents.concrete.Document import Document\n",
    "from swarmauri.messages.concrete.SystemMessage import SystemMessage\n",
    "from swarmauri.conversations.concrete.MaxSystemContextConversation import MaxSystemContextConversation\n",
    "from dotenv import load_dotenv\n",
    "\n",
    "# Load environment variables \n",
    "load_dotenv()\n",
    "\n",
    "# Initialize PDF parser\n",
    "parser = Parser()\n",
    "file_path = \"main.pdf\"\n",
    "documents = parser.parse(file_path)\n",
    "\n",
    "# Chunk the parsed text\n",
    "chunker = SentenceChunker()\n",
    "chunked_documents = [Document(content=chunk) for chunk in chunker.chunk_text(documents[0].content)]\n",
    "\n",
    "# Initialize Vector Store and add chunked documents\n",
    "vector_store = TfidfVectorStore()\n",
    "vector_store.add_documents(chunked_documents)\n",
    "\n",
    "# Set up the LLM and system context for RagAgent\n",
    "API_KEY = os.getenv(\"API_KEY\")\n",
    "llm = GroqModel(api_key=API_KEY)\n",
    "system_context = SystemMessage(content=\"Your name is PDF reading assistant. You are to help readers with accurate informations\")\n",
    "conversation = MaxSystemContextConversation(system_context=system_context, max_size=4)\n",
    "\n",
    "# Initialize RagAgent\n",
    "agent = RagAgent(llm=llm, conversation=conversation, system_context=system_context, vector_store=vector_store)\n",
    "\n",
    "# Check agent resource type\n",
    "print(\"RagAgent Resource Type:\", agent.resource)\n"
   ]
  },
  {
   "cell_type": "markdown",
   "metadata": {},
   "source": [
    "**Use different queries to test the RAGAgent**"
   ]
  },
  {
   "cell_type": "markdown",
   "metadata": {},
   "source": [
    "Query the RagAgent with a prompts based on the pdf content"
   ]
  },
  {
   "cell_type": "code",
   "execution_count": 8,
   "metadata": {},
   "outputs": [],
   "source": [
    "query = \"What is Transformer \"\n",
    "response = agent.exec(query)"
   ]
  },
  {
   "cell_type": "code",
   "execution_count": 9,
   "metadata": {},
   "outputs": [
    {
     "name": "stdout",
     "output_type": "stream",
     "text": [
      "Query: What is Transformer \n",
      "Response: , visual surveillance.\n",
      "* **Autonomous vehicles:** Object avoidance, lane detection, pedestrian detection.\n",
      "* **Robotics:** Object manipulation, autonomous navigation.\n",
      "* **Healthcare:** Disease diagnosis, tissue analysis.\n",
      "* **Security:** Facial recognition, surveillance.\n",
      "\n",
      "**Key concepts in object detection:**\n",
      "\n",
      "* **Bounding boxes:** Rectangles that enclose detected objects.\n",
      "* **Precision:** Accuracy of the detected object boundaries.\n",
      "* **Recall:** Ability to detect all true positive objects.\n",
      "* **Accuracy:** Overall performance of the detection algorithm.\n",
      "* **Objectness:** Ratio of true positive pixels to total pixels in the detected object.\n",
      "\n",
      "**Recent advancements in object detection:**\n",
      "\n",
      "* **Faster and more accurate algorithms.**\n",
      "* **Ability to detect smaller and more complex objects.**\n",
      "* **End-to-end learning approaches.**\n",
      "* **Applications in various fields continue to expand.**\n"
     ]
    }
   ],
   "source": [
    "# Display the response\n",
    "print(f\"Query: {query}\")\n",
    "print(f\"Response: {response}\")\n",
    "\n"
   ]
  },
  {
   "cell_type": "markdown",
   "metadata": {},
   "source": [
    "Another test query based on the pdf content"
   ]
  },
  {
   "cell_type": "code",
   "execution_count": 6,
   "metadata": {},
   "outputs": [],
   "source": [
    "query_2 = \"Explain object detection\"\n",
    "response_2 = agent.exec(query_2)\n",
    "\n",
    "\n"
   ]
  },
  {
   "cell_type": "markdown",
   "metadata": {},
   "source": [
    "Display the response"
   ]
  },
  {
   "cell_type": "code",
   "execution_count": 7,
   "metadata": {},
   "outputs": [
    {
     "name": "stdout",
     "output_type": "stream",
     "text": [
      "Query: Explain object detection\n",
      "Response: **Object detection** is a computer vision and machine learning task aimed at locating and identifying objects in images or videos. It involves two primary stages: **detection** and **localization**.\n",
      "\n",
      "**Detection:**\n",
      "- Detects the presence of objects in an image.\n",
      "- Identifies the location of potential objects.\n",
      "\n",
      "**Localization:**\n",
      "- Precisely determines the boundaries of detected objects.\n",
      "- Provides information about the object's location and size.\n",
      "\n",
      "**How it works:**\n",
      "\n",
      "Object detection algorithms typically employ a combination of machine learning techniques, including:\n",
      "\n",
      "* **Feature extraction:** Extracting visual cues from the image to represent objects.\n",
      "* **Classification:** Classifying the extracted features to determine the type of object.\n",
      "* **Localization:** Determining the precise location and size of the object.\n",
      "\n",
      "**Types of object detection algorithms:**\n",
      "\n",
      "* **Anchor-based:** Uses pre-defined anchors to locate objects.\n",
      "* **Anchor-free:** Detects objects without relying on anchors.\n",
      "* **Object-based:** Detects objects based on their visual similarity to known objects.\n",
      "* **Deep learning-based:** Uses convolutional neural networks to learn object patterns and detect objects.\n",
      "\n",
      "**Applications of object detection:**\n",
      "\n",
      "* **Computer vision:** Object recognition, image search\n"
     ]
    }
   ],
   "source": [
    "\n",
    "print(f\"Query: {query_2}\")\n",
    "print(f\"Response: {response_2}\")"
   ]
  },
  {
   "cell_type": "markdown",
   "metadata": {},
   "source": [
    "## **Conclusion**\n",
    "\n",
    "By testing the RagAgent and seeking peer feedback, you can enhance the performance and reliability of your solution. Refinement based on constructive input ensures a robust final product."
   ]
  },
  {
   "cell_type": "markdown",
   "metadata": {},
   "source": [
    "## **NOTEBOOK METADATA**"
   ]
  },
  {
   "cell_type": "code",
   "execution_count": 2,
   "metadata": {},
   "outputs": [
    {
     "name": "stdout",
     "output_type": "stream",
     "text": [
      "Author: Dominion John \n",
      "GitHub Username: DOMINION-JOHN1\n",
      "Last Modified: 2024-10-23 09:39:59.679406\n",
      "Platform: Windows 11\n",
      "Python Version: 3.12.7 (tags/v3.12.7:0b05ead, Oct  1 2024, 03:06:41) [MSC v.1941 64 bit (AMD64)]\n",
      "Swarmauri Version: 0.5.0\n"
     ]
    }
   ],
   "source": [
    "import os\n",
    "import platform\n",
    "import sys\n",
    "from datetime import datetime\n",
    "\n",
    "# Display author information\n",
    "author_name = \"Dominion John \" \n",
    "github_username = \"DOMINION-JOHN1\"  \n",
    "\n",
    "print(f\"Author: {author_name}\")\n",
    "print(f\"GitHub Username: {github_username}\")\n",
    "\n",
    "# Last modified datetime (file's metadata)\n",
    "notebook_file = \"Notebook 2 Testing and Refinement.ipynb\"\n",
    "try:\n",
    "    last_modified_time = os.path.getmtime(notebook_file)\n",
    "    last_modified_datetime = datetime.fromtimestamp(last_modified_time)\n",
    "    print(f\"Last Modified: {last_modified_datetime}\")\n",
    "except Exception as e:\n",
    "    print(f\"Could not retrieve last modified datetime: {e}\")\n",
    "\n",
    "# Display platform, Python version, and Swarmauri version\n",
    "print(f\"Platform: {platform.system()} {platform.release()}\")\n",
    "print(f\"Python Version: {sys.version}\")\n",
    "\n",
    "# Checking Swarmauri version\n",
    "try:\n",
    "    import swarmauri\n",
    "    print(f\"Swarmauri Version: {swarmauri.__version__}\")\n",
    "except ImportError:\n",
    "    print(\"Swarmauri is not installed.\")\n",
    "\n"
   ]
  },
  {
   "cell_type": "code",
   "execution_count": null,
   "metadata": {},
   "outputs": [],
   "source": []
  },
  {
   "cell_type": "code",
   "execution_count": null,
   "metadata": {},
   "outputs": [],
   "source": []
  },
  {
   "cell_type": "code",
   "execution_count": null,
   "metadata": {},
   "outputs": [],
   "source": []
  }
 ],
 "metadata": {
  "kernelspec": {
   "display_name": "swarmauri(0.5.0)",
   "language": "python",
   "name": "swarmauri-0.5.0"
  },
  "language_info": {
   "codemirror_mode": {
    "name": "ipython",
    "version": 3
   },
   "file_extension": ".py",
   "mimetype": "text/x-python",
   "name": "python",
   "nbconvert_exporter": "python",
   "pygments_lexer": "ipython3",
   "version": "3.12.7"
  }
 },
 "nbformat": 4,
 "nbformat_minor": 2
}
