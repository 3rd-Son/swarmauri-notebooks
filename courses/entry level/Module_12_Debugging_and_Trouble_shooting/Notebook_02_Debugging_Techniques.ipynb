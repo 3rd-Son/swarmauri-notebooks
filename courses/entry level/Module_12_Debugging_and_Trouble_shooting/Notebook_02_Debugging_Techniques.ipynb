{
 "cells": [
  {
   "cell_type": "markdown",
   "metadata": {},
   "source": [
    "## **Notebook 2: Debugging Techniques**\n",
    "## **Introduction:**\n",
    "Once bugs are identified, the next step is to debug them efficiently. In this notebook, we will cover:\n",
    "\n",
    "Basic debugging techniques using print statements and debuggers.\n",
    "\n",
    "How to debug import, environment, and API key-related errors in Swarmauri projects."
   ]
  },
  {
   "cell_type": "markdown",
   "metadata": {},
   "source": [
    "**Debugging Environment Issues**\n",
    "\n",
    "Check on your Terminal  if environment variables are correctly set\n",
    "\n",
    "*echo $DATA_PATH*"
   ]
  },
  {
   "cell_type": "markdown",
   "metadata": {},
   "source": [
    "**Using Debuggers:**\n",
    "\n",
    "You can use Python’s built-in  %pdb on to automatically trigger the debugger when an exception occurs. It can help trace the error without needing to explicitly set a breakpoint."
   ]
  },
  {
   "cell_type": "code",
   "execution_count": 6,
   "metadata": {},
   "outputs": [
    {
     "name": "stdout",
     "output_type": "stream",
     "text": [
      "Automatic pdb calling has been turned ON\n"
     ]
    }
   ],
   "source": [
    "%pdb on\n"
   ]
  },
  {
   "cell_type": "markdown",
   "metadata": {},
   "source": [
    "**Debugging Import Errors:**\n",
    "\n",
    "When working with Swarmauri, ensure that your modules are correctly installed and paths are set correctly."
   ]
  },
  {
   "cell_type": "code",
   "execution_count": 7,
   "metadata": {},
   "outputs": [
    {
     "name": "stdout",
     "output_type": "stream",
     "text": [
      "['C:\\\\Users\\\\Admin\\\\AppData\\\\Local\\\\Programs\\\\Python\\\\Python312\\\\python312.zip', 'C:\\\\Users\\\\Admin\\\\AppData\\\\Local\\\\Programs\\\\Python\\\\Python312\\\\DLLs', 'C:\\\\Users\\\\Admin\\\\AppData\\\\Local\\\\Programs\\\\Python\\\\Python312\\\\Lib', 'C:\\\\Users\\\\Admin\\\\AppData\\\\Local\\\\Programs\\\\Python\\\\Python312', 'c:\\\\Users\\\\Admin\\\\Documents\\\\TECH PROJECTS\\\\SWARMAURI\\\\swarmauri-0.5.0', '', 'c:\\\\Users\\\\Admin\\\\Documents\\\\TECH PROJECTS\\\\SWARMAURI\\\\swarmauri-0.5.0\\\\Lib\\\\site-packages', 'c:\\\\Users\\\\Admin\\\\Documents\\\\TECH PROJECTS\\\\SWARMAURI\\\\swarmauri-0.5.0\\\\Lib\\\\site-packages\\\\win32', 'c:\\\\Users\\\\Admin\\\\Documents\\\\TECH PROJECTS\\\\SWARMAURI\\\\swarmauri-0.5.0\\\\Lib\\\\site-packages\\\\win32\\\\lib', 'c:\\\\Users\\\\Admin\\\\Documents\\\\TECH PROJECTS\\\\SWARMAURI\\\\swarmauri-0.5.0\\\\Lib\\\\site-packages\\\\Pythonwin']\n"
     ]
    }
   ],
   "source": [
    "import sys\n",
    "print(sys.path) \n"
   ]
  },
  {
   "cell_type": "markdown",
   "metadata": {},
   "source": [
    "**Debugging API Key Issues:**\n",
    "\n",
    "Ensure that API keys are correctly loaded from environment variables."
   ]
  },
  {
   "cell_type": "code",
   "execution_count": null,
   "metadata": {},
   "outputs": [],
   "source": [
    "# Print the API key for debugging\n",
    "api_key = os.getenv('SWARMAURI_API_KEY')\n",
    "print(f\"API Key: {api_key}\")\n",
    "\n",
    "# Check if the API key is missing\n",
    "if not api_key:\n",
    "    raise ValueError(\"API key is missing or invalid.\")"
   ]
  },
  {
   "cell_type": "markdown",
   "metadata": {},
   "source": [
    "## **Conclusion:**\n",
    "\n",
    "Debugging is essential to solve identified problems. This notebook introduced techniques such as using  debuggers, and methods for debugging API key-related issues. Applying these methods will make the debugging process more efficient."
   ]
  },
  {
   "cell_type": "markdown",
   "metadata": {},
   "source": [
    "## **NOTEBOOK METADATA**"
   ]
  },
  {
   "cell_type": "code",
   "execution_count": 8,
   "metadata": {},
   "outputs": [
    {
     "name": "stdout",
     "output_type": "stream",
     "text": [
      "Author: Dominion John \n",
      "GitHub Username: DOMINION-JOHN1\n",
      "Last Modified: 2024-10-22 10:35:33.131485\n",
      "Platform: Windows 11\n",
      "Python Version: 3.12.7 (tags/v3.12.7:0b05ead, Oct  1 2024, 03:06:41) [MSC v.1941 64 bit (AMD64)]\n",
      "Swarmauri Version: 0.5.0\n"
     ]
    }
   ],
   "source": [
    "import os\n",
    "import platform\n",
    "import sys\n",
    "from datetime import datetime\n",
    "\n",
    "# Display author information\n",
    "author_name = \"Dominion John \" \n",
    "github_username = \"DOMINION-JOHN1\"  \n",
    "\n",
    "print(f\"Author: {author_name}\")\n",
    "print(f\"GitHub Username: {github_username}\")\n",
    "\n",
    "# Last modified datetime (file's metadata)\n",
    "notebook_file = \"Notebook_02_Debugging_Techniques.ipynb\"\n",
    "try:\n",
    "    last_modified_time = os.path.getmtime(notebook_file)\n",
    "    last_modified_datetime = datetime.fromtimestamp(last_modified_time)\n",
    "    print(f\"Last Modified: {last_modified_datetime}\")\n",
    "except Exception as e:\n",
    "    print(f\"Could not retrieve last modified datetime: {e}\")\n",
    "\n",
    "# Display platform, Python version, and Swarmauri version\n",
    "print(f\"Platform: {platform.system()} {platform.release()}\")\n",
    "print(f\"Python Version: {sys.version}\")\n",
    "\n",
    "# Checking Swarmauri version\n",
    "try:\n",
    "    import swarmauri\n",
    "    print(f\"Swarmauri Version: {swarmauri.__version__}\")\n",
    "except ImportError:\n",
    "    print(\"Swarmauri is not installed.\")\n",
    "\n"
   ]
  },
  {
   "cell_type": "code",
   "execution_count": null,
   "metadata": {},
   "outputs": [],
   "source": []
  }
 ],
 "metadata": {
  "kernelspec": {
   "display_name": "swarmauri(0.5.0)",
   "language": "python",
   "name": "swarmauri-0.5.0"
  },
  "language_info": {
   "codemirror_mode": {
    "name": "ipython",
    "version": 3
   },
   "file_extension": ".py",
   "mimetype": "text/x-python",
   "name": "python",
   "nbconvert_exporter": "python",
   "pygments_lexer": "ipython3",
   "version": "3.12.7"
  }
 },
 "nbformat": 4,
 "nbformat_minor": 2
}
