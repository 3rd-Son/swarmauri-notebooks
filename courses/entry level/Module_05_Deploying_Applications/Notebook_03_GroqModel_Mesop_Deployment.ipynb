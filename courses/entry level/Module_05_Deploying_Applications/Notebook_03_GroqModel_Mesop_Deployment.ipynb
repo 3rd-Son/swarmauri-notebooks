{
 "cells": [
  {
   "cell_type": "markdown",
   "id": "b7ada1a3-45c2-44a4-8645-81d5c754e526",
   "metadata": {},
   "source": [
    "# Mesop Application Using Swarmauri’s GroqModel\n",
    "This notebook provides a step-by-step guide on creating a Mesop application using Swarmauri’s GroqModel in Python.\n",
    "\n",
    "## Step 1: Environment Setup\n",
    "Ensure you have the necessary libraries installed. Use the following command to install Swarmauri's SDK and Mesop:\n",
    "```bash\n",
    "pip install swarmauri==0.5.0 swarmauri_community==0.5.0 jupyter ipykernel\n",
    "pip install mesop\n",
    "```\n",
    "## Step 2: Create your `app.py`\n",
    "Create a new Python file named `app.py` and import the required libraries:\n",
    "```python\n",
    "import os\n",
    "import mesop as me\n",
    "from dotenv import load_dotenv\n",
    "import mesop.labs as mel\n",
    "from swarmauri.llms.concrete.GroqModel import GroqModel\n",
    "from swarmauri.agents.concrete.SimpleConversationAgent import SimpleConversationAgent\n",
    "from swarmauri.conversations.concrete.Conversation import Conversation\n",
    "```\n",
    "## Step 3: Initialize the GroqModel\n",
    "Set up your GroqModel using your API key. It's recommended to store your API key securely in environment variables:\n",
    "```python\n",
    "\n",
    "# Load environment variables from a .env file\n",
    "load_dotenv()\n",
    "\n",
    "# Fetch the API key from environment variables\n",
    "API_KEY = os.getenv('GROQ_API_KEY')\n",
    "\n",
    "# Initialize the GroqModel\n",
    "llm = GroqModel(api_key=API_KEY)\n",
    "\n",
    "# Create a SimpleConversationAgent with the GroqModel\n",
    "agent = SimpleConversationAgent(llm=llm, conversation=Conversation())\n",
    "```"
   ]
  },
  {
   "cell_type": "markdown",
   "id": "dfb9f94f-be3e-44f9-801e-b5425535fc05",
   "metadata": {},
   "source": [
    "## Step 4: Define the Mesop Interface\n",
    "Set up the Mesop interface and define a function to handle user inputs:\n",
    "```python\n",
    "# Define the function to be executed for the mesop interface\n",
    "def converse(input: str, history: list[mel.ChatMessage]):\n",
    "    result = agent.exec(input)\n",
    "    yield result\n",
    "\n",
    "@me.page(\n",
    "    security_policy=me.SecurityPolicy(\n",
    "        allowed_iframe_parents=[\"https://google.github.io\"]\n",
    "    ),\n",
    "    path=\"/chat\",\n",
    "    title=\"Swarmauri Agent\",\n",
    ")\n",
    "def page():\n",
    "    mel.chat(converse, title=\"Swarmauri Agent\", bot_user=\"Groq\")\n",
    "```"
   ]
  },
  {
   "cell_type": "markdown",
   "id": "db3b82df-3980-4130-bdd4-ae4d9024fdb0",
   "metadata": {},
   "source": [
    "## Complete `app.py` Code\n",
    "Here’s how your complete `app.py` should look:\n",
    "```python\n",
    "import os\n",
    "import mesop as me\n",
    "from dotenv import load_dotenv\n",
    "import mesop.labs as mel\n",
    "from swarmauri.llms.concrete.GroqModel import GroqModel\n",
    "from swarmauri.agents.concrete.SimpleConversationAgent import SimpleConversationAgent\n",
    "from swarmauri.conversations.concrete.Conversation import Conversation\n",
    "\n",
    "\n",
    "# Load environment variables from a .env file\n",
    "load_dotenv()\n",
    "\n",
    "# Fetch the API key from environment variables\n",
    "API_KEY = os.getenv('GROQ_API_KEY')\n",
    "\n",
    "# Initialize the GroqModel\n",
    "llm = GroqModel(api_key=API_KEY)\n",
    "\n",
    "# Create a SimpleConversationAgent with the GroqModel\n",
    "agent = SimpleConversationAgent(llm=llm, conversation=Conversation())\n",
    "\n",
    "# Define the function to be executed for the mesop interface\n",
    "def converse(input: str, history: list[mel.ChatMessage]):\n",
    "    result = agent.exec(input)\n",
    "    yield result\n",
    "\n",
    "@me.page(\n",
    "    security_policy=me.SecurityPolicy(\n",
    "        allowed_iframe_parents=[\"https://google.github.io\"]\n",
    "    ),\n",
    "    path=\"/chat\",\n",
    "    title=\"Swarmauri Agent\",\n",
    ")\n",
    "def page():\n",
    "    mel.chat(converse, title=\"Swarmauri Agent\", bot_user=\"Groq\")\n",
    "```"
   ]
  },
  {
   "cell_type": "markdown",
   "id": "e0ac6acf-ffdb-4e4c-b79f-f27d35654011",
   "metadata": {},
   "source": [
    "## Running the Application\n",
    "To run your application, navigate to the directory where `app.py` is located and execute:\n",
    "```bash\n",
    "mesop app.py\n",
    "```\n",
    "You will see a URL in the terminal (e.g., `http://127.0.0.1:32123/chat`). Open this URL in your web browser to interact with your Swarmauri agent."
   ]
  },
  {
   "cell_type": "markdown",
   "id": "08b63f36-6454-412d-8f6a-8601ad54a431",
   "metadata": {},
   "source": [
    "## Notebook Metadata"
   ]
  },
  {
   "cell_type": "code",
   "execution_count": 2,
   "id": "e1708056-3340-4fa2-aa52-ab0a9252b454",
   "metadata": {},
   "outputs": [
    {
     "name": "stdout",
     "output_type": "stream",
     "text": [
      "Author: Huzaifa Irshad \n",
      "GitHub Username: irshadhuzaifa\n",
      "Last Modified: 2024-10-23 19:05:18.837444\n",
      "Platform: Windows 11\n",
      "Python Version: 3.12.7 | packaged by Anaconda, Inc. | (main, Oct  4 2024, 13:17:27) [MSC v.1929 64 bit (AMD64)]\n",
      "Swarmauri Version: 0.5.0\n"
     ]
    }
   ],
   "source": [
    "import os\n",
    "import platform\n",
    "import sys\n",
    "from datetime import datetime\n",
    "\n",
    "author_name = \"Huzaifa Irshad \" \n",
    "github_username = \"irshadhuzaifa\"\n",
    "\n",
    "print(f\"Author: {author_name}\")\n",
    "print(f\"GitHub Username: {github_username}\")\n",
    "\n",
    "notebook_file = \"Notebook_03_Deployment_Walkthrough.ipynb\"\n",
    "try:\n",
    "    last_modified_time = os.path.getmtime(notebook_file)\n",
    "    last_modified_datetime = datetime.fromtimestamp(last_modified_time)\n",
    "    print(f\"Last Modified: {last_modified_datetime}\")\n",
    "except Exception as e:\n",
    "    print(f\"Could not retrieve last modified datetime: {e}\")\n",
    "\n",
    "print(f\"Platform: {platform.system()} {platform.release()}\")\n",
    "print(f\"Python Version: {sys.version}\")\n",
    "\n",
    "try:\n",
    "    import swarmauri\n",
    "    print(f\"Swarmauri Version: {swarmauri.__version__}\")\n",
    "except ImportError:\n",
    "    print(\"Swarmauri is not installed.\")"
   ]
  },
  {
   "cell_type": "code",
   "execution_count": null,
   "id": "a7a82a94-babe-476a-a75d-de648eb1d93a",
   "metadata": {},
   "outputs": [],
   "source": []
  }
 ],
 "metadata": {
  "kernelspec": {
   "display_name": "swarmauri(0.5)",
   "language": "python",
   "name": "swarmauri-0.5.0"
  },
  "language_info": {
   "codemirror_mode": {
    "name": "ipython",
    "version": 3
   },
   "file_extension": ".py",
   "mimetype": "text/x-python",
   "name": "python",
   "nbconvert_exporter": "python",
   "pygments_lexer": "ipython3",
   "version": "3.12.7"
  }
 },
 "nbformat": 4,
 "nbformat_minor": 5
}
