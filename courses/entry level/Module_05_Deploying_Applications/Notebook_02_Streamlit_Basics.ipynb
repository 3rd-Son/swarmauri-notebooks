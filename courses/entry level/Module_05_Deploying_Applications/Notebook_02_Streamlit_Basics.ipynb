{
 "cells": [
  {
   "cell_type": "markdown",
   "id": "2b8289e4-3da6-48f6-befb-844541e16434",
   "metadata": {},
   "source": [
    "# Streamlit Basics"
   ]
  },
  {
   "cell_type": "markdown",
   "id": "d17e31d6-6c53-4c1a-858b-e1a8c8569454",
   "metadata": {},
   "source": [
    "## Introduction\n",
    "\n",
    "Streamlit is an open-source Python framework for creating interactive, data-driven web applications quickly and easily. It is designed to help developers build UIs for machine learning models, data analysis, and other applications with minimal effort. One of the key strengths of Streamlit is its focus on simplicity and immediate feedback — it automatically updates your app whenever you modify your code, making the development process smooth and fast.\n",
    "\n",
    "Use Cases:\n",
    "\n",
    "- Building real-time dashboards for machine learning models.\n",
    "- Creating interactive data analysis apps.\n",
    "- Prototyping and sharing Python-based tools.\n",
    "\n",
    "Key Difference from Gradio:\n",
    "\n",
    "- Streamlit provides more flexibility in terms of layouts and design, allowing developers to create complex applications with multiple views and custom widgets.\n",
    "- Gradio focuses more on providing easy-to-use interfaces for machine learning models, while Streamlit is suitable for a wider variety of web apps beyond ML models."
   ]
  },
  {
   "cell_type": "markdown",
   "id": "3d04b28a-efe1-4abc-ae91-f7b9e4a7ce8c",
   "metadata": {},
   "source": [
    "## Building a Simple Conversational Streamlit App\n",
    "\n",
    "In this notebook, we will walk through the basic steps to create a simple Streamlit app.\n",
    "\n",
    "By the end of this notebook, you will be able to create a simple Streamlit app, run it locally, and understand the core features of Streamlit.\n",
    "\n",
    "---\n",
    "\n",
    "### 1. Installing Streamlit\n",
    "\n",
    "Before you start building your Streamlit app, you need to install the `streamlit` package and the necessary libraries. You can do this using the following command in your terminal:\n",
    "\n",
    "```bash\n",
    "pip install streamlit openai python-dotenv\n",
    "```"
   ]
  },
  {
   "cell_type": "markdown",
   "id": "e13f194f-f8cd-4d55-9315-29bb4edf981e",
   "metadata": {},
   "source": [
    "### 2. Importing Required Libraries\n",
    "\n",
    "To build a Streamlit app, the first step is to import the streamlit module, required libaries and set up the environment variables."
   ]
  },
  {
   "cell_type": "markdown",
   "id": "296e8dae-cbe4-489a-a28c-b5f1afe6031a",
   "metadata": {},
   "source": [
    "```python\n",
    "import os\n",
    "from openai import OpenAI\n",
    "import streamlit as st\n",
    "from dotenv import load_dotenv\n",
    "\n",
    "# Load environment variables from .env file\n",
    "load_dotenv()\n",
    "\n",
    "# Initialize the OpenAI client\n",
    "client = OpenAI(api_key=os.environ.get(\"OPENAI_API_KEY\"))\n",
    "```"
   ]
  },
  {
   "cell_type": "markdown",
   "id": "6edd7a96-6f2e-4097-99f0-9c2b57380582",
   "metadata": {},
   "source": [
    "### 3. Creating a Simple Streamlit App\n",
    "\n",
    "In this section, we will create a simple Streamlit app that accepts user input, and gives a response."
   ]
  },
  {
   "cell_type": "markdown",
   "id": "45614843-ff1a-4ab8-9fc2-43dfb89b5dcc",
   "metadata": {},
   "source": [
    "```python\n",
    "# Streamlit App\n",
    "st.title(\"Conversational Chatbot\")\n",
    "st.write(\"Hello! I'm your friendly conversational chatbot. How can I help you today?\")\n",
    "\n",
    "# Initialize session state for chat history if not already initialized\n",
    "if 'chat_history' not in st.session_state:\n",
    "    st.session_state['chat_history'] = []\n",
    "\n",
    "\n",
    "# Function to handle conversation\n",
    "def get_chatbot_response(user_input):\n",
    "    try:\n",
    "        # Use the new ChatCompletion method\n",
    "        response = client.chat.completions.create(\n",
    "            model=\"gpt-3.5-turbo\",  # or \"gpt-4\" if you have access\n",
    "            messages=[\n",
    "                {\"role\": \"user\", \"content\": user_input}\n",
    "            ]\n",
    "        )\n",
    "        return response['choices'][0]['message']['content'].strip()\n",
    "    except Exception as e:\n",
    "        return f\"Error: {str(e)}\"\n",
    "\n",
    "\n",
    "# Text input box for user input\n",
    "user_input = st.text_input(\"You: \", placeholder=\"Type your message here...\")\n",
    "\n",
    "# When user presses Enter\n",
    "if user_input:\n",
    "    # Get response from chatbot\n",
    "    bot_response = get_chatbot_response(user_input)\n",
    "\n",
    "    # Append to chat history\n",
    "    st.session_state.chat_history.append({\"user\": user_input, \"bot\": bot_response})\n",
    "\n",
    "    # Display conversation history\n",
    "    for chat in st.session_state.chat_history:\n",
    "        st.write(f\"You: {chat['user']}\")\n",
    "        st.write(f\"Bot: {chat['bot']}\")\n",
    "```"
   ]
  },
  {
   "cell_type": "markdown",
   "id": "60810ff5-2029-4d60-a262-d228d922cdb6",
   "metadata": {},
   "source": [
    "### 4. Saving the Streamlit App to a File\n",
    "\n",
    "Streamlit apps need to be run as standalone scripts, so the next step is to save the Python code for the app into a `.py` file. Save the code to a Python script.\n",
    "\n",
    "Create a file named `.env` in the same directory where you will create your Streamlit app. This file will store your OpenAI API key:\n",
    "```command\n",
    "OPENAI_API_KEY=\"your_openai_api_key_here\"\n",
    "```"
   ]
  },
  {
   "cell_type": "markdown",
   "id": "20715b66-0eb5-4ba7-aa77-c9654276c810",
   "metadata": {},
   "source": [
    "### 5. Running the Streamlit App\n",
    "\n",
    "Now that the app is saved to a Python script, you can run the Streamlit app locally on your machine. To do this, run the following command in the terminal:\n",
    "```bash\n",
    "streamlit run your_app.py"
   ]
  },
  {
   "cell_type": "markdown",
   "id": "cef97350-ae05-4fe3-ba5b-e5ae8cc37ef4",
   "metadata": {},
   "source": [
    "## Notebook Metadata"
   ]
  },
  {
   "cell_type": "code",
   "execution_count": 11,
   "id": "1c5642eb-e206-42ab-bd06-016461cfd14f",
   "metadata": {},
   "outputs": [
    {
     "name": "stdout",
     "output_type": "stream",
     "text": [
      "Author: Huzaifa Irshad \n",
      "GitHub Username: irshadhuzaifa\n",
      "Last Modified: 2024-10-23 16:26:26.879374\n",
      "Platform: Windows 11\n",
      "Python Version: 3.12.7 | packaged by Anaconda, Inc. | (main, Oct  4 2024, 13:17:27) [MSC v.1929 64 bit (AMD64)]\n",
      "Swarmauri Version: 0.5.0\n"
     ]
    }
   ],
   "source": [
    "import os\n",
    "import platform\n",
    "import sys\n",
    "from datetime import datetime\n",
    "\n",
    "author_name = \"Huzaifa Irshad \" \n",
    "github_username = \"irshadhuzaifa\"\n",
    "\n",
    "print(f\"Author: {author_name}\")\n",
    "print(f\"GitHub Username: {github_username}\")\n",
    "\n",
    "notebook_file = \"Notebook_02_Streamlit_Basics.ipynb\"\n",
    "try:\n",
    "    last_modified_time = os.path.getmtime(notebook_file)\n",
    "    last_modified_datetime = datetime.fromtimestamp(last_modified_time)\n",
    "    print(f\"Last Modified: {last_modified_datetime}\")\n",
    "except Exception as e:\n",
    "    print(f\"Could not retrieve last modified datetime: {e}\")\n",
    "\n",
    "print(f\"Platform: {platform.system()} {platform.release()}\")\n",
    "print(f\"Python Version: {sys.version}\")\n",
    "\n",
    "try:\n",
    "    import swarmauri\n",
    "    print(f\"Swarmauri Version: {swarmauri.__version__}\")\n",
    "except ImportError:\n",
    "    print(\"Swarmauri is not installed.\")"
   ]
  },
  {
   "cell_type": "code",
   "execution_count": null,
   "id": "8f01e1db-e6d9-47f3-82ec-cf998bf8d733",
   "metadata": {},
   "outputs": [],
   "source": []
  }
 ],
 "metadata": {
  "kernelspec": {
   "display_name": "swarmauri(0.5)",
   "language": "python",
   "name": "swarmauri-0.5.0"
  },
  "language_info": {
   "codemirror_mode": {
    "name": "ipython",
    "version": 3
   },
   "file_extension": ".py",
   "mimetype": "text/x-python",
   "name": "python",
   "nbconvert_exporter": "python",
   "pygments_lexer": "ipython3",
   "version": "3.12.7"
  }
 },
 "nbformat": 4,
 "nbformat_minor": 5
}
