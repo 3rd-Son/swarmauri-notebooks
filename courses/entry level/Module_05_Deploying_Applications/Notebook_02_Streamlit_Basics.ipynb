{
 "cells": [
  {
   "cell_type": "markdown",
   "id": "2b8289e4-3da6-48f6-befb-844541e16434",
   "metadata": {},
   "source": [
    "# Streamlit Basics"
   ]
  },
  {
   "cell_type": "markdown",
   "id": "d17e31d6-6c53-4c1a-858b-e1a8c8569454",
   "metadata": {},
   "source": [
    "## Introduction\n",
    "\n",
    "Streamlit is an open-source Python framework for creating interactive, data-driven web applications quickly and easily. It is designed to help developers build UIs for machine learning models, data analysis, and other applications with minimal effort. One of the key strengths of Streamlit is its focus on simplicity and immediate feedback — it automatically updates your app whenever you modify your code, making the development process smooth and fast.\n",
    "\n",
    "Use Cases:\n",
    "\n",
    "- Building real-time dashboards for machine learning models.\n",
    "- Creating interactive data analysis apps.\n",
    "- Prototyping and sharing Python-based tools.\n",
    "\n",
    "Key Difference from Gradio:\n",
    "\n",
    "- Streamlit provides more flexibility in terms of layouts and design, allowing developers to create complex applications with multiple views and custom widgets.\n",
    "- Gradio focuses more on providing easy-to-use interfaces for machine learning models, while Streamlit is suitable for a wider variety of web apps beyond ML models."
   ]
  },
  {
   "cell_type": "markdown",
   "id": "3d04b28a-efe1-4abc-ae91-f7b9e4a7ce8c",
   "metadata": {},
   "source": [
    "## Installing Streamlit\n",
    "\n",
    "To get started with Streamlit, we first need to install it. Run the following command in your terminal:\n",
    "```bash\n",
    "pip install streamlit\n",
    "```\n",
    "## Creating a Simple Streamlit App\n",
    "\n",
    "Let’s start by creating a basic Streamlit app. To run a Streamlit app, save the code to a `.py` file and use the command `streamlit run your_app.py` in your terminal.\n",
    "```python\n",
    "import streamlit as st\n",
    "\n",
    "# Title and description\n",
    "st.title(\"Streamlit Basics\")\n",
    "st.write(\"This is an example Streamlit application\")\n",
    "\n",
    "# Dropdown menu for selecting models\n",
    "options = ['llama3-8b-8192', 'llama3-70b-8192', 'mixtral-8x7b-32768', 'gemma-7b-it']\n",
    "model = st.selectbox(\"Select a model\", options)\n",
    "\n",
    "# Display the selected model\n",
    "st.write(f\"You selected: {model}\")"
   ]
  },
  {
   "cell_type": "markdown",
   "id": "e13f194f-f8cd-4d55-9315-29bb4edf981e",
   "metadata": {},
   "source": [
    "## Streamlit Widgets and Layouts\n",
    "Streamlit provides a wide variety of widgets, including sliders, buttons, and input fields. Here's an example of a more interactive app:"
   ]
  },
  {
   "cell_type": "markdown",
   "id": "4056c3ad-1c20-4398-9dc2-57deaabedf4c",
   "metadata": {},
   "source": [
    "```python\n",
    "# Example with sliders and text input\n",
    "age = st.slider('How old are you?', 0, 130, 25)\n",
    "st.write(f\"I am {age} years old.\")"
   ]
  },
  {
   "cell_type": "markdown",
   "id": "6edd7a96-6f2e-4097-99f0-9c2b57380582",
   "metadata": {},
   "source": [
    "## Deploying Streamlit Apps\n",
    "Streamlit apps can be deployed easily on services like Streamlit Cloud, Heroku, or AWS. Streamlit also offers built-in support for deploying apps directly."
   ]
  },
  {
   "cell_type": "markdown",
   "id": "cef97350-ae05-4fe3-ba5b-e5ae8cc37ef4",
   "metadata": {},
   "source": [
    "## Notebook Metadata"
   ]
  },
  {
   "cell_type": "code",
   "execution_count": 1,
   "id": "1c5642eb-e206-42ab-bd06-016461cfd14f",
   "metadata": {},
   "outputs": [
    {
     "name": "stdout",
     "output_type": "stream",
     "text": [
      "Author: Huzaifa Irshad \n",
      "GitHub Username: irshadhuzaifa\n",
      "Last Modified: 2024-10-21 17:20:42.053972\n",
      "Platform: Windows 11\n",
      "Python Version: 3.12.7 | packaged by Anaconda, Inc. | (main, Oct  4 2024, 13:17:27) [MSC v.1929 64 bit (AMD64)]\n",
      "Swarmauri Version: 0.5.0\n"
     ]
    }
   ],
   "source": [
    "import os\n",
    "import platform\n",
    "import sys\n",
    "from datetime import datetime\n",
    "\n",
    "author_name = \"Huzaifa Irshad \" \n",
    "github_username = \"irshadhuzaifa\"\n",
    "\n",
    "print(f\"Author: {author_name}\")\n",
    "print(f\"GitHub Username: {github_username}\")\n",
    "\n",
    "notebook_file = \"Notebook_02_Streamlit_Basics.ipynb\"\n",
    "try:\n",
    "    last_modified_time = os.path.getmtime(notebook_file)\n",
    "    last_modified_datetime = datetime.fromtimestamp(last_modified_time)\n",
    "    print(f\"Last Modified: {last_modified_datetime}\")\n",
    "except Exception as e:\n",
    "    print(f\"Could not retrieve last modified datetime: {e}\")\n",
    "\n",
    "print(f\"Platform: {platform.system()} {platform.release()}\")\n",
    "print(f\"Python Version: {sys.version}\")\n",
    "\n",
    "try:\n",
    "    import swarmauri\n",
    "    print(f\"Swarmauri Version: {swarmauri.__version__}\")\n",
    "except ImportError:\n",
    "    print(\"Swarmauri is not installed.\")"
   ]
  },
  {
   "cell_type": "code",
   "execution_count": null,
   "id": "8f01e1db-e6d9-47f3-82ec-cf998bf8d733",
   "metadata": {},
   "outputs": [],
   "source": []
  }
 ],
 "metadata": {
  "kernelspec": {
   "display_name": "swarmauri(0.5)",
   "language": "python",
   "name": "swarmauri-0.5.0"
  },
  "language_info": {
   "codemirror_mode": {
    "name": "ipython",
    "version": 3
   },
   "file_extension": ".py",
   "mimetype": "text/x-python",
   "name": "python",
   "nbconvert_exporter": "python",
   "pygments_lexer": "ipython3",
   "version": "3.12.7"
  }
 },
 "nbformat": 4,
 "nbformat_minor": 5
}
