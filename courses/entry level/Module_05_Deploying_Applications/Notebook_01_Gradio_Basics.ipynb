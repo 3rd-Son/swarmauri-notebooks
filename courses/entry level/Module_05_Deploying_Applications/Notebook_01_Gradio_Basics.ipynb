{
 "cells": [
  {
   "cell_type": "markdown",
   "id": "ca645bce-0955-48cd-a249-57fa20fd8562",
   "metadata": {},
   "source": [
    "# Gradio Basics\n",
    "\n",
    "## Introduction\n",
    "\n",
    "Gradio is an open-source Python library that simplifies the creation of user-friendly interfaces for machine learning models. It allows you to quickly create interactive UIs that can be shared with others via a link, even if they do not have Python or any libraries installed. Gradio supports various inputs (like sliders, textboxes, and images) and outputs (such as text, labels, or graphs), making it versatile for prototyping and demonstrating models.\n",
    "\n",
    "Use Cases:\n",
    "\n",
    "- Creating web-based interfaces for machine learning models.\n",
    "- Enabling interactive demos for AI projects.\n",
    "- Quickly building shareable UIs without extensive web development knowledge.\n",
    "\n",
    "## Installing Gradio\n",
    "\n",
    "First, we need to install Gradio. Run the following command in yout terminal:\n",
    "```bash\n",
    "pip install gradio"
   ]
  },
  {
   "cell_type": "markdown",
   "id": "f645fc7d-e72b-48b4-9902-2edbe7e620cb",
   "metadata": {},
   "source": [
    "## Creating a Simple Gradio Interface\n",
    "\n",
    "Let's begin by creating a simple interface using a dropdown to select a model. The dropdown options include different machine learning models, and the selected model will be displayed as output."
   ]
  },
  {
   "cell_type": "code",
   "execution_count": 2,
   "id": "f1f66da1-a756-49ec-a55d-ea14f2377571",
   "metadata": {},
   "outputs": [
    {
     "name": "stdout",
     "output_type": "stream",
     "text": [
      "* Running on local URL:  http://127.0.0.1:7861\n",
      "* Running on public URL: https://c83ca78d52f0dbd5dc.gradio.live\n",
      "\n",
      "This share link expires in 72 hours. For free permanent hosting and GPU upgrades, run `gradio deploy` from the terminal in the working directory to deploy to Hugging Face Spaces (https://huggingface.co/spaces)\n"
     ]
    },
    {
     "data": {
      "text/html": [
       "<div><iframe src=\"https://c83ca78d52f0dbd5dc.gradio.live\" width=\"100%\" height=\"500\" allow=\"autoplay; camera; microphone; clipboard-read; clipboard-write;\" frameborder=\"0\" allowfullscreen></iframe></div>"
      ],
      "text/plain": [
       "<IPython.core.display.HTML object>"
      ]
     },
     "metadata": {},
     "output_type": "display_data"
    },
    {
     "data": {
      "text/plain": []
     },
     "execution_count": 2,
     "metadata": {},
     "output_type": "execute_result"
    }
   ],
   "source": [
    "import gradio as gr\n",
    "\n",
    "# the dropdown options\n",
    "options = ['llama3-8b-8192', 'llama3-70b-8192', 'mixtral-8x7b-32768', 'gemma-7b-it']\n",
    "\n",
    "# Gradio interface\n",
    "demo = gr.Interface(\n",
    "    fn=lambda x: f\"You selected: {x}\",\n",
    "    inputs=gr.Dropdown(options, label=\"Select a model\"),\n",
    "    outputs=\"text\",\n",
    "    title=\"Playground Application\",\n",
    "    description=\"Select a model from the dropdown menu\"\n",
    ")\n",
    "\n",
    "# Launch the app\n",
    "demo.launch(share=True)\n"
   ]
  },
  {
   "cell_type": "markdown",
   "id": "cd0d56ea-80c8-4fd0-9302-39b6aa0649f0",
   "metadata": {},
   "source": [
    "## Using Gradio Sliders and Textboxes\n",
    "\n",
    "Gradio supports other types of inputs like sliders and textboxes. Let's see how to use sliders to adjust values (e.g., temperature for model generation) and textboxes for user input."
   ]
  },
  {
   "cell_type": "code",
   "execution_count": 3,
   "id": "795d8c9a-ca07-4388-90d6-bd03c2108318",
   "metadata": {},
   "outputs": [
    {
     "name": "stdout",
     "output_type": "stream",
     "text": [
      "* Running on local URL:  http://127.0.0.1:7862\n",
      "* Running on public URL: https://dc8344ff3117e66b02.gradio.live\n",
      "\n",
      "This share link expires in 72 hours. For free permanent hosting and GPU upgrades, run `gradio deploy` from the terminal in the working directory to deploy to Hugging Face Spaces (https://huggingface.co/spaces)\n"
     ]
    },
    {
     "data": {
      "text/html": [
       "<div><iframe src=\"https://dc8344ff3117e66b02.gradio.live\" width=\"100%\" height=\"500\" allow=\"autoplay; camera; microphone; clipboard-read; clipboard-write;\" frameborder=\"0\" allowfullscreen></iframe></div>"
      ],
      "text/plain": [
       "<IPython.core.display.HTML object>"
      ]
     },
     "metadata": {},
     "output_type": "display_data"
    },
    {
     "data": {
      "text/plain": []
     },
     "execution_count": 3,
     "metadata": {},
     "output_type": "execute_result"
    }
   ],
   "source": [
    "import gradio as gr\n",
    "\n",
    "def process_inputs(text, slider_value):\n",
    "    return f\"Text: {text}, Slider Value: {slider_value}\"\n",
    "\n",
    "# Gradio interface\n",
    "demo = gr.Interface(\n",
    "    fn=process_inputs,\n",
    "    inputs=[gr.Textbox(label=\"Enter text\"), gr.Slider(minimum=0, maximum=100, label=\"Select a value\")],\n",
    "    outputs=\"text\",\n",
    "    title=\"Slider and Textbox Demo\",\n",
    "    description=\"Enter some text and adjust the slider value.\"\n",
    ")\n",
    "\n",
    "# Launch the app\n",
    "demo.launch(share=True)\n"
   ]
  },
  {
   "cell_type": "markdown",
   "id": "18f46e43-b04f-4514-a1ea-aab1e813c818",
   "metadata": {},
   "source": [
    "## Notebook Metadata"
   ]
  },
  {
   "cell_type": "code",
   "execution_count": 4,
   "id": "79c06f4a-673b-4ea9-a846-e74442e3a634",
   "metadata": {},
   "outputs": [
    {
     "name": "stdout",
     "output_type": "stream",
     "text": [
      "Author: Huzaifa Irshad \n",
      "GitHub Username: irshadhuzaifa\n",
      "Last Modified: 2024-10-21 17:20:50.751963\n",
      "Platform: Windows 11\n",
      "Python Version: 3.12.7 | packaged by Anaconda, Inc. | (main, Oct  4 2024, 13:17:27) [MSC v.1929 64 bit (AMD64)]\n",
      "Swarmauri Version: 0.5.0\n"
     ]
    }
   ],
   "source": [
    "import os\n",
    "import platform\n",
    "import sys\n",
    "from datetime import datetime\n",
    "\n",
    "author_name = \"Huzaifa Irshad \" \n",
    "github_username = \"irshadhuzaifa\"\n",
    "\n",
    "print(f\"Author: {author_name}\")\n",
    "print(f\"GitHub Username: {github_username}\")\n",
    "\n",
    "notebook_file = \"Notebook_01_Gradio_Basics.ipynb\"\n",
    "try:\n",
    "    last_modified_time = os.path.getmtime(notebook_file)\n",
    "    last_modified_datetime = datetime.fromtimestamp(last_modified_time)\n",
    "    print(f\"Last Modified: {last_modified_datetime}\")\n",
    "except Exception as e:\n",
    "    print(f\"Could not retrieve last modified datetime: {e}\")\n",
    "\n",
    "print(f\"Platform: {platform.system()} {platform.release()}\")\n",
    "print(f\"Python Version: {sys.version}\")\n",
    "\n",
    "try:\n",
    "    import swarmauri\n",
    "    print(f\"Swarmauri Version: {swarmauri.__version__}\")\n",
    "except ImportError:\n",
    "    print(\"Swarmauri is not installed.\")"
   ]
  },
  {
   "cell_type": "code",
   "execution_count": null,
   "id": "f4ba1615-667a-4655-bd42-a1f975a06fd8",
   "metadata": {},
   "outputs": [],
   "source": []
  }
 ],
 "metadata": {
  "kernelspec": {
   "display_name": "swarmauri(0.5)",
   "language": "python",
   "name": "swarmauri-0.5.0"
  },
  "language_info": {
   "codemirror_mode": {
    "name": "ipython",
    "version": 3
   },
   "file_extension": ".py",
   "mimetype": "text/x-python",
   "name": "python",
   "nbconvert_exporter": "python",
   "pygments_lexer": "ipython3",
   "version": "3.12.7"
  }
 },
 "nbformat": 4,
 "nbformat_minor": 5
}
