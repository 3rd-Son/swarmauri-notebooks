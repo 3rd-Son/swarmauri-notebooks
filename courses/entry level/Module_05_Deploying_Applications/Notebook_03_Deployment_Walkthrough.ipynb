{
 "cells": [
  {
   "cell_type": "markdown",
   "id": "bd540654-1fb4-4f01-9118-3e173a297b0d",
   "metadata": {},
   "source": [
    "# Advanced Gradio App Deployment on Localhost\n",
    "\n",
    "## Introduction\n",
    "\n",
    "In this notebook, we will build a more advanced Gradio app using multiple components, including dropdowns and sliders.\n",
    "We will also integrate an example of how to use different LLMs like GroqModel and OpenAIModel.\n",
    "\n",
    "## Installing Gradio\n",
    "Run the following command in your terminal to install Gradio if it's not already installed:\n",
    "```bash\n",
    "pip install gradio"
   ]
  },
  {
   "cell_type": "markdown",
   "id": "95cd5e90-fa7a-401b-9233-5c2cda2da785",
   "metadata": {},
   "source": [
    "## Creating an Advanced Gradio Interface with LLMs\n",
    "Below is a more complex Gradio application that integrates different language models."
   ]
  },
  {
   "cell_type": "code",
   "execution_count": 1,
   "id": "e6f23f7a-2db5-4988-8054-0721f2d4d059",
   "metadata": {},
   "outputs": [
    {
     "name": "stdout",
     "output_type": "stream",
     "text": [
      "* Running on local URL:  http://127.0.0.1:7860\n",
      "* Running on public URL: https://fa0229a05f6962174b.gradio.live\n",
      "\n",
      "This share link expires in 72 hours. For free permanent hosting and GPU upgrades, run `gradio deploy` from the terminal in the working directory to deploy to Hugging Face Spaces (https://huggingface.co/spaces)\n"
     ]
    },
    {
     "data": {
      "text/html": [
       "<div><iframe src=\"https://fa0229a05f6962174b.gradio.live\" width=\"100%\" height=\"500\" allow=\"autoplay; camera; microphone; clipboard-read; clipboard-write;\" frameborder=\"0\" allowfullscreen></iframe></div>"
      ],
      "text/plain": [
       "<IPython.core.display.HTML object>"
      ]
     },
     "metadata": {},
     "output_type": "display_data"
    }
   ],
   "source": [
    "import os\n",
    "import gradio as gr\n",
    "from swarmauri.llms.concrete.GroqModel import GroqModel\n",
    "from swarmauri.llms.concrete.OpenAIModel import OpenAIModel\n",
    "from swarmauri.agents.concrete.SimpleConversationAgent import SimpleConversationAgent\n",
    "from swarmauri.conversations.concrete.Conversation import Conversation\n",
    "\n",
    "# Fetch the API keys from environment variables\n",
    "GROQ_API_KEY = os.getenv(\"GROQ_API_KEY\")\n",
    "OPENAI_API_KEY = os.getenv(\"OPENAI_API_KEY\")\n",
    "\n",
    "available_llms = {\n",
    "    \"GroqModel\": (GroqModel, GROQ_API_KEY),\n",
    "    \"OpenAIModel\": (OpenAIModel, OPENAI_API_KEY),\n",
    "}\n",
    "\n",
    "llms = {\n",
    "    \"GroqModel\": [model for model in GroqModel(api_key=GROQ_API_KEY).allowed_models],\n",
    "    \"OpenAIModel\": [model for model in OpenAIModel(api_key=OPENAI_API_KEY).allowed_models],\n",
    "}\n",
    "\n",
    "# Initialize Conversation\n",
    "conversation = Conversation()\n",
    "\n",
    "# Default settings\n",
    "CHOSEN_LLM = available_llms[\"GroqModel\"][0]\n",
    "API_KEY = available_llms[\"GroqModel\"][1]\n",
    "DEFAULT_AI = \"GroqModel\"\n",
    "DEFAULT_MODEL = llms[\"GroqModel\"][0]\n",
    "TEMPERATURE = 0.7\n",
    "MAX_TOKENS = 512\n",
    "\n",
    "def handle_conversation(user_message, history):\n",
    "    agent = SimpleConversationAgent(\n",
    "        llm=CHOSEN_LLM(api_key=API_KEY, name=DEFAULT_MODEL),\n",
    "        conversation=conversation,\n",
    "    )\n",
    "    response = agent.exec(user_message)\n",
    "    \n",
    "    # Format messages as dictionaries\n",
    "    history.append({\"role\": \"user\", \"content\": user_message})\n",
    "    history.append({\"role\": \"assistant\", \"content\": response})\n",
    "    \n",
    "    return history, \"\"\n",
    "\n",
    "# Create the interface within a Blocks context\n",
    "with gr.Blocks() as interface:\n",
    "    gr.Markdown(\"# Welcome to the Chatbot\")\n",
    "    \n",
    "    with gr.Row():\n",
    "        with gr.Column():\n",
    "            user_input = gr.Textbox(label=\"Your Message\")\n",
    "            chat_interface = gr.Chatbot(label=\"Chat History\", container=False, type='messages')\n",
    "            user_input.submit(handle_conversation, inputs=[user_input, chat_interface], outputs=[chat_interface, user_input])\n",
    "    \n",
    "    with gr.Column():\n",
    "        code_preview = gr.Code(language=\"python\", label=\"Code Preview\", value=\"Your code will appear here.\")\n",
    "\n",
    "# Launch the interface\n",
    "if __name__ == \"__main__\":\n",
    "    interface.launch(share=True)\n"
   ]
  },
  {
   "cell_type": "markdown",
   "id": "d7bfb0a0-32ca-4d50-9878-2163a6aaaf2b",
   "metadata": {},
   "source": [
    "## Code Explanation\n",
    "\n",
    "This code sets up a conversational AI application using Gradio, allowing users to interact with different language models. Below are the key components and their functionalities:\n",
    "\n",
    "**Library Imports:**\n",
    "- The necessary libraries, including `os` for environment variable access and `gradio` for creating the web interface, are imported alongside specific classes from the `swarmauri` library that facilitate interaction with language models.\n",
    "\n",
    "**API Key Retrieval:**\n",
    "- API keys for Groq and OpenAI models are retrieved from environment variables to ensure security by avoiding hardcoded values.\n",
    "\n",
    "**Language Model Configuration:**\n",
    "- A dictionary named `available_llms` is created to associate model names with their corresponding classes and API keys.\n",
    "- A second dictionary, `llms`, is populated with the allowed models for each language model class.\n",
    "\n",
    "**Conversation Initialization:**\n",
    "- An instance of the `Conversation` class is created to manage the state and history of user interactions.\n",
    "\n",
    "**Default Settings:**\n",
    "- Default values for the chosen model, API key, and parameters like temperature and max tokens are defined to configure the model's behavior.\n",
    "\n",
    "**Message Handling Function:**\n",
    "- A function named `handle_conversation` is defined to process user messages. It utilizes a `SimpleConversationAgent` to generate responses based on the user's input, appending the conversation history for display.\n",
    "\n",
    "**Gradio Interface Creation:**\n",
    "- The Gradio interface is constructed using a block structure:\n",
    "    - A header with a welcome message.\n",
    "    - A row containing user input and chat history components.\n",
    "    - Optional sections for displaying additional content, like a code preview.\n",
    "- The user input is linked to the message handling function through the `submit` method.\n",
    "\n",
    "**Launching the App:**\n",
    "    - Finally, the application is launched, allowing users to interact with the AI model through a web interface. The `share=True` parameter enables sharing the app via a public link."
   ]
  },
  {
   "cell_type": "markdown",
   "id": "08b63f36-6454-412d-8f6a-8601ad54a431",
   "metadata": {},
   "source": [
    "## Notebook Metadata"
   ]
  },
  {
   "cell_type": "code",
   "execution_count": 2,
   "id": "e1708056-3340-4fa2-aa52-ab0a9252b454",
   "metadata": {},
   "outputs": [
    {
     "name": "stdout",
     "output_type": "stream",
     "text": [
      "Author: Huzaifa Irshad \n",
      "GitHub Username: irshadhuzaifa\n",
      "Could not retrieve last modified datetime: [WinError 2] The system cannot find the file specified: 'Notebook_03_Deployment_Walkthrough'\n",
      "Platform: Windows 11\n",
      "Python Version: 3.12.7 | packaged by Anaconda, Inc. | (main, Oct  4 2024, 13:17:27) [MSC v.1929 64 bit (AMD64)]\n",
      "Swarmauri Version: 0.5.0\n"
     ]
    }
   ],
   "source": [
    "import os\n",
    "import platform\n",
    "import sys\n",
    "from datetime import datetime\n",
    "\n",
    "author_name = \"Huzaifa Irshad \" \n",
    "github_username = \"irshadhuzaifa\"\n",
    "\n",
    "print(f\"Author: {author_name}\")\n",
    "print(f\"GitHub Username: {github_username}\")\n",
    "\n",
    "notebook_file = \"Notebook_03_Deployment_Walkthrough\"\n",
    "try:\n",
    "    last_modified_time = os.path.getmtime(notebook_file)\n",
    "    last_modified_datetime = datetime.fromtimestamp(last_modified_time)\n",
    "    print(f\"Last Modified: {last_modified_datetime}\")\n",
    "except Exception as e:\n",
    "    print(f\"Could not retrieve last modified datetime: {e}\")\n",
    "\n",
    "print(f\"Platform: {platform.system()} {platform.release()}\")\n",
    "print(f\"Python Version: {sys.version}\")\n",
    "\n",
    "try:\n",
    "    import swarmauri\n",
    "    print(f\"Swarmauri Version: {swarmauri.__version__}\")\n",
    "except ImportError:\n",
    "    print(\"Swarmauri is not installed.\")"
   ]
  },
  {
   "cell_type": "code",
   "execution_count": null,
   "id": "a7a82a94-babe-476a-a75d-de648eb1d93a",
   "metadata": {},
   "outputs": [],
   "source": []
  }
 ],
 "metadata": {
  "kernelspec": {
   "display_name": "swarmauri(0.5)",
   "language": "python",
   "name": "swarmauri-0.5.0"
  },
  "language_info": {
   "codemirror_mode": {
    "name": "ipython",
    "version": 3
   },
   "file_extension": ".py",
   "mimetype": "text/x-python",
   "name": "python",
   "nbconvert_exporter": "python",
   "pygments_lexer": "ipython3",
   "version": "3.12.7"
  }
 },
 "nbformat": 4,
 "nbformat_minor": 5
}
