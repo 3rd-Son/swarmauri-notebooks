{
 "cells": [
  {
   "cell_type": "markdown",
   "metadata": {},
   "source": [
    "## **Notebook 3: Documentation and Presentation**\n",
    "## **Introduction:**\n",
    "\n",
    "This notebook focuses on documenting your project and presenting your RAG agent with the GroqModel integration. Good documentation and preservation techniques will make your work easier to understand, reproduce, and collaborate on in the future. This step will also guide you on sharing your project using platforms like GitHub and Hugging Face."
   ]
  },
  {
   "cell_type": "markdown",
   "metadata": {},
   "source": [
    "**Documentation and Preservation Techniques:**\n",
    "\n",
    "**Creating a README.md:** \n",
    "Your project’s README should clearly outline the purpose, setup instructions, and usage examples for the RAG agent."
   ]
  },
  {
   "cell_type": "markdown",
   "metadata": {},
   "source": [
    "## **Setup Instructions**\n",
    "1. Create the work directory.\n",
    "2. Install the required dependencies.\n",
    "3. Set up your environment variables using a `.env` file."
   ]
  },
  {
   "cell_type": "markdown",
   "metadata": {},
   "source": [
    "## **Preserving the Project:**\n",
    "\n",
    "**GitHub:** \n",
    "\n",
    "Ensure your project is well documented, including setup instructions, sample queries, and an explanation of the GroqModel integration."
   ]
  },
  {
   "cell_type": "markdown",
   "metadata": {},
   "source": [
    "*git init*\n",
    "\n",
    "*git add .*\n",
    "\n",
    "*git commit -m \"Initial commit with GroqModel integration\"*\n",
    "\n",
    "*git remote add origin <your-github-repo-url>*\n",
    "\n",
    "*git push -u origin main*\n"
   ]
  },
  {
   "cell_type": "markdown",
   "metadata": {},
   "source": [
    "**Hugging Face:**\n",
    "\n",
    " If you're building an AI model-based project, consider sharing your model on Hugging Face. \n",
    " Upload your model and its configuration so that others can easily download and integrate it into their projects.\n",
    "\n",
    "## **Project Presentation:**\n",
    " \n",
    "Provide a demo or presentation video showing how the RAG agent works. Consider recording a screen capture where you walk through the agent responding to queries."
   ]
  },
  {
   "cell_type": "markdown",
   "metadata": {},
   "source": [
    "## **Conclusion:**\n",
    "\n",
    "In this notebook, we have focused on documenting and preserving your work for future use and collaboration.\n",
    " With your project now hosted on platforms like GitHub and/or Hugging Face, you can easily share and showcase your solution. \n",
    " Proper documentation ensures others can easily understand and build on your work."
   ]
  },
  {
   "cell_type": "markdown",
   "metadata": {},
   "source": [
    "## **NOTEBOOK METADATA**"
   ]
  },
  {
   "cell_type": "code",
   "execution_count": 1,
   "metadata": {},
   "outputs": [
    {
     "name": "stdout",
     "output_type": "stream",
     "text": [
      "Author: Dominion John \n",
      "GitHub Username: DOMINION-JOHN1\n",
      "Last Modified: 2024-10-23 09:40:35.718579\n",
      "Platform: Windows 11\n",
      "Python Version: 3.12.7 (tags/v3.12.7:0b05ead, Oct  1 2024, 03:06:41) [MSC v.1941 64 bit (AMD64)]\n",
      "Swarmauri Version: 0.5.0\n"
     ]
    }
   ],
   "source": [
    "import os\n",
    "import platform\n",
    "import sys\n",
    "from datetime import datetime\n",
    "\n",
    "# Display author information\n",
    "author_name = \"Dominion John \" \n",
    "github_username = \"DOMINION-JOHN1\"  \n",
    "\n",
    "print(f\"Author: {author_name}\")\n",
    "print(f\"GitHub Username: {github_username}\")\n",
    "\n",
    "# Last modified datetime (file's metadata)\n",
    "notebook_file = \"Notebook 3 Documentation and Presentation.ipynb\"\n",
    "try:\n",
    "    last_modified_time = os.path.getmtime(notebook_file)\n",
    "    last_modified_datetime = datetime.fromtimestamp(last_modified_time)\n",
    "    print(f\"Last Modified: {last_modified_datetime}\")\n",
    "except Exception as e:\n",
    "    print(f\"Could not retrieve last modified datetime: {e}\")\n",
    "\n",
    "# Display platform, Python version, and Swarmauri version\n",
    "print(f\"Platform: {platform.system()} {platform.release()}\")\n",
    "print(f\"Python Version: {sys.version}\")\n",
    "\n",
    "# Checking Swarmauri version\n",
    "try:\n",
    "    import swarmauri\n",
    "    print(f\"Swarmauri Version: {swarmauri.__version__}\")\n",
    "except ImportError:\n",
    "    print(\"Swarmauri is not installed.\")\n",
    "\n"
   ]
  },
  {
   "cell_type": "code",
   "execution_count": null,
   "metadata": {},
   "outputs": [],
   "source": []
  }
 ],
 "metadata": {
  "kernelspec": {
   "display_name": "swarmauri(0.5.0)",
   "language": "python",
   "name": "swarmauri-0.5.0"
  },
  "language_info": {
   "codemirror_mode": {
    "name": "ipython",
    "version": 3
   },
   "file_extension": ".py",
   "mimetype": "text/x-python",
   "name": "python",
   "nbconvert_exporter": "python",
   "pygments_lexer": "ipython3",
   "version": "3.12.7"
  }
 },
 "nbformat": 4,
 "nbformat_minor": 2
}
