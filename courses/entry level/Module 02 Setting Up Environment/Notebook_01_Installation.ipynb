{
 "cells": [
  {
   "cell_type": "code",
   "execution_count": 1,
   "metadata": {},
   "outputs": [
    {
     "name": "stdout",
     "output_type": "stream",
     "text": [
      "Notebook is invalid: [Errno 2] No such file or directory: 'Notebook_01_Installation.ipynb'\n"
     ]
    }
   ],
   "source": [
    "import nbformat\n",
    "\n",
    "notebook_file = \"Notebook_01_Installation.ipynb\"  # Replace with your file path\n",
    "\n",
    "try:\n",
    "    with open(notebook_file, 'r', encoding='utf-8') as f:\n",
    "        nb = nbformat.read(f, as_version=4)\n",
    "    print(\"Notebook is valid.\")\n",
    "except Exception as e:\n",
    "    print(f\"Notebook is invalid: {e}\")"
   ]
  },
  {
   "cell_type": "code",
   "execution_count": null,
   "metadata": {},
   "outputs": [],
   "source": []
  }
 ],
 "metadata": {
  "kernelspec": {
   "display_name": "swarmauri(0.5.0)",
   "language": "python",
   "name": "swarmauri-0.5.0"
  },
  "language_info": {
   "codemirror_mode": {
    "name": "ipython",
    "version": 3
   },
   "file_extension": ".py",
   "mimetype": "text/x-python",
   "name": "python",
   "nbconvert_exporter": "python",
   "pygments_lexer": "ipython3",
   "version": "3.12.7"
  }
 },
 "nbformat": 4,
 "nbformat_minor": 2
}
