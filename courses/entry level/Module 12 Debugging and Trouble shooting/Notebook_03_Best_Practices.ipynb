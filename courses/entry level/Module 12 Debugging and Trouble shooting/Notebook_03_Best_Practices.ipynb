{
 "cells": [
  {
   "cell_type": "markdown",
   "metadata": {},
   "source": [
    "## **Notebook 3: Best Practices**\n",
    "## **Introduction:**\n",
    "Good debugging isn’t just about solving problems but also about preventing them from recurring. \n",
    "\n",
    "Best practices for debugging help maintain code quality and avoid common pitfalls. In this notebook, we will cover:\n",
    "\n",
    "How to structure your code to minimize bugs.\n",
    "\n",
    "Best practices for debugging Swarmauri-related issues.\n",
    "\n",
    "Proper API key management and security.\n",
    "\n",
    "**Best Practices for Environment Setup:**\n",
    "\n",
    "Always document your environment configuration.\n",
    "\n",
    "Use virtual environments to isolate dependencies."
   ]
  },
  {
   "cell_type": "markdown",
   "metadata": {},
   "source": [
    "**Create a new virtual environment using your Terminal**\n",
    "\n",
    "*conda create --name swarmauri-0.5.0 python=3.12*\n",
    "\n",
    "*conda activate swarmauri-0.5.0*\n",
    "\n",
    "*python --version*\n",
    "\n",
    "**Best Practices for Package Installation**:\n",
    "Always specify package versions in a requirements file to avoid conflicts.\n",
    "\n",
    "**This installs the SDK:** \n",
    "     *pip install swarmauri==0.5.0* \n"
   ]
  },
  {
   "cell_type": "markdown",
   "metadata": {},
   "source": [
    "**Best Practices for Imports:**\n",
    "Keep imports organized and handle them inside try-except blocks for robustness."
   ]
  },
  {
   "cell_type": "code",
   "execution_count": 1,
   "metadata": {},
   "outputs": [],
   "source": [
    "try:\n",
    "    import swarmauri\n",
    "except ImportError:\n",
    "    raise ImportError(\"Swarmauri module not found. Ensure it is installed and in your path.\")\n"
   ]
  },
  {
   "cell_type": "markdown",
   "metadata": {},
   "source": [
    "**Best Practices for API Key Management:**\n",
    "\n",
    "Store API keys securely using environment variables, not hard-coded into your code.\n",
    "\n",
    "Use *.env* files for local development and ensure they are excluded from version control with *.gitignore*"
   ]
  },
  {
   "cell_type": "markdown",
   "metadata": {},
   "source": [
    "\n",
    "**For example :** *SWARMAURI_API_KEY=your_api_key_here*\n"
   ]
  },
  {
   "cell_type": "markdown",
   "metadata": {},
   "source": [
    "**Load the api key inside your notebook**"
   ]
  },
  {
   "cell_type": "code",
   "execution_count": null,
   "metadata": {},
   "outputs": [],
   "source": [
    "\n",
    "from dotenv import load_dotenv\n",
    "load_dotenv()\n",
    "\n",
    "api_key = os.getenv('SWARMAURI_API_KEY')\n",
    "if not api_key:\n",
    "    raise ValueError(\"API key not found. Please check your environment configuration.\")\n"
   ]
  },
  {
   "cell_type": "markdown",
   "metadata": {},
   "source": [
    "**General Debugging Best Practices:**\n",
    "\n",
    "Use logging instead of print statements for better tracking in production environments.\n",
    "\n",
    "Write tests to catch bugs early (e.g., use pytest for unit tests).\n"
   ]
  },
  {
   "cell_type": "code",
   "execution_count": 2,
   "metadata": {},
   "outputs": [
    {
     "name": "stderr",
     "output_type": "stream",
     "text": [
      "INFO:root:This is a log message\n"
     ]
    }
   ],
   "source": [
    "import logging\n",
    "\n",
    "logging.basicConfig(level=logging.INFO)\n",
    "logging.info(\"This is a log message\")\n"
   ]
  },
  {
   "cell_type": "markdown",
   "metadata": {},
   "source": [
    "**Conclusion:**\n",
    "\n",
    "Following best practices not only helps in debugging but also prevents future bugs. \n",
    "This notebook provided guidelines for environment setup, package installation, API key management, and general debugging strategies that will help you maintain a clean, error-free codebase.\n",
    "\n"
   ]
  },
  {
   "cell_type": "markdown",
   "metadata": {},
   "source": [
    "## **NOTEBOOK METADATA**\n"
   ]
  },
  {
   "cell_type": "code",
   "execution_count": 3,
   "metadata": {},
   "outputs": [
    {
     "name": "stdout",
     "output_type": "stream",
     "text": [
      "Author: Dominion John \n",
      "GitHub Username: DOMINION-JOHN1\n",
      "Last Modified: 2024-10-22 10:35:09.085414\n",
      "Platform: Windows 11\n",
      "Python Version: 3.12.7 (tags/v3.12.7:0b05ead, Oct  1 2024, 03:06:41) [MSC v.1941 64 bit (AMD64)]\n",
      "Swarmauri Version: 0.5.0\n"
     ]
    }
   ],
   "source": [
    "import os\n",
    "import platform\n",
    "import sys\n",
    "from datetime import datetime\n",
    "\n",
    "# Display author information\n",
    "author_name = \"Dominion John \" \n",
    "github_username = \"DOMINION-JOHN1\"  \n",
    "\n",
    "print(f\"Author: {author_name}\")\n",
    "print(f\"GitHub Username: {github_username}\")\n",
    "\n",
    "# Last modified datetime (file's metadata)\n",
    "notebook_file = \"Notebook_03_Best_Practices.ipynb\"\n",
    "try:\n",
    "    last_modified_time = os.path.getmtime(notebook_file)\n",
    "    last_modified_datetime = datetime.fromtimestamp(last_modified_time)\n",
    "    print(f\"Last Modified: {last_modified_datetime}\")\n",
    "except Exception as e:\n",
    "    print(f\"Could not retrieve last modified datetime: {e}\")\n",
    "\n",
    "# Display platform, Python version, and Swarmauri version\n",
    "print(f\"Platform: {platform.system()} {platform.release()}\")\n",
    "print(f\"Python Version: {sys.version}\")\n",
    "\n",
    "# Checking Swarmauri version\n",
    "try:\n",
    "    import swarmauri\n",
    "    print(f\"Swarmauri Version: {swarmauri.__version__}\")\n",
    "except ImportError:\n",
    "    print(\"Swarmauri is not installed.\")\n",
    "\n"
   ]
  },
  {
   "cell_type": "code",
   "execution_count": null,
   "metadata": {},
   "outputs": [],
   "source": []
  }
 ],
 "metadata": {
  "kernelspec": {
   "display_name": "swarmauri(0.5.0)",
   "language": "python",
   "name": "swarmauri-0.5.0"
  },
  "language_info": {
   "codemirror_mode": {
    "name": "ipython",
    "version": 3
   },
   "file_extension": ".py",
   "mimetype": "text/x-python",
   "name": "python",
   "nbconvert_exporter": "python",
   "pygments_lexer": "ipython3",
   "version": "3.12.7"
  }
 },
 "nbformat": 4,
 "nbformat_minor": 2
}
