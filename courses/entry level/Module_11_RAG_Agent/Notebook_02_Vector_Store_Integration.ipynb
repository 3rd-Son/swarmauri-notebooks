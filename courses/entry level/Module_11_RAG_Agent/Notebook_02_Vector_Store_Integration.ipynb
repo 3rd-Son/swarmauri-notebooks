{
 "cells": [
  {
   "cell_type": "markdown",
   "id": "754095c4-0a44-4152-90d1-f513063aee74",
   "metadata": {},
   "source": [
    "# Notebook 02: Vector Store Integration\n",
    "\n",
    "This notebook focuses on integrating the `TfidfVectorStore` with the RAG framework. We'll explain how vector stores work, how to store and query documents, and retrieve relevant documents based on queries.\n",
    "\n",
    "## What is a Vector Store?\n",
    "\n",
    "A vector store is a specialized data structure that stores embeddings of documents in a numerical format. In this notebook, we will be using the `TfidfVectorStore`, which leverages the Term Frequency-Inverse Document Frequency (TF-IDF) technique to create document vectors. The vectors are used for similarity search, which allows us to query the store and retrieve documents that are most relevant to the query.\n",
    "\n",
    "## Setting Up the Vector Store\n",
    "\n",
    "We will begin by initializing the vector store and adding some documents."
   ]
  },
  {
   "cell_type": "code",
   "execution_count": 55,
   "id": "70b57bb5-b08a-49b2-9e8a-e7d53acb7774",
   "metadata": {},
   "outputs": [
    {
     "name": "stdout",
     "output_type": "stream",
     "text": [
      "Documents successfully added to the vector store!\n"
     ]
    }
   ],
   "source": [
    "from swarmauri.vector_stores.concrete.TfidfVectorStore import TfidfVectorStore\n",
    "from swarmauri.documents.concrete.Document import Document\n",
    "\n",
    "# Initialize the vector store\n",
    "vector_store = TfidfVectorStore()\n",
    "\n",
    "# Sample documents\n",
    "documents = [\n",
    "    Document(content=\"Python is a versatile programming language.\"),\n",
    "    Document(content=\"Data science uses machine learning and statistics.\"),\n",
    "    Document(content=\"Python is popular in data science.\"),\n",
    "    Document(content=\"AI advancements are driven by machine learning.\"),\n",
    "]\n",
    "\n",
    "# Add documents to the vector store\n",
    "vector_store.add_documents(documents)\n",
    "\n",
    "print(\"Documents successfully added to the vector store!\")\n"
   ]
  },
  {
   "cell_type": "markdown",
   "id": "8de65905-9657-4d4c-8379-fad0fd8bd2e7",
   "metadata": {},
   "source": [
    "## Retrieving Relevant Documents Based on Query\n",
    "\n",
    "Once the documents are stored, we can retrieve the most relevant documents for a given query by calculating the similarity between the query and the stored document."
   ]
  },
  {
   "cell_type": "code",
   "execution_count": 56,
   "id": "5d9f0ee1-4851-49f3-a536-6371ad14d291",
   "metadata": {},
   "outputs": [
    {
     "name": "stdout",
     "output_type": "stream",
     "text": [
      "Query results:\n",
      "Result 1: Python is popular in data science.\n",
      "Result 2: Python is a versatile programming language.\n"
     ]
    }
   ],
   "source": [
    "# Query with specific text\n",
    "query = \"Python in data science\"\n",
    "results = vector_store.retrieve(query=query, top_k=2)\n",
    "\n",
    "# Display the results\n",
    "print(\"Query results:\")\n",
    "for idx, result in enumerate(results, 1):\n",
    "    print(f\"Result {idx}: {result.content}\")\n"
   ]
  },
  {
   "cell_type": "markdown",
   "id": "625e6da7-524a-420a-a39f-ecdf49508bbe",
   "metadata": {},
   "source": [
    "## Additional Features\n",
    "\n",
    "We can add more documents and also retrieve all the documents that are in the Vector Store."
   ]
  },
  {
   "cell_type": "code",
   "execution_count": 57,
   "id": "ebe57bc5-561a-486e-804e-771628b82be6",
   "metadata": {},
   "outputs": [
    {
     "name": "stdout",
     "output_type": "stream",
     "text": [
      "All documents in the vector store:\n",
      "Python is a versatile programming language.\n",
      "Data science uses machine learning and statistics.\n",
      "Python is popular in data science.\n",
      "AI advancements are driven by machine learning.\n",
      "Artificial Intelligence is transforming industries.\n",
      "Blockchain technology ensures data security.\n",
      "Cloud computing provides scalable resources.\n",
      "The Internet of Things connects everyday devices.\n"
     ]
    }
   ],
   "source": [
    "# Add more test documents\n",
    "test_documents = [\n",
    "    Document(content=\"Artificial Intelligence is transforming industries.\"),\n",
    "    Document(content=\"Blockchain technology ensures data security.\"),\n",
    "    Document(content=\"Cloud computing provides scalable resources.\"),\n",
    "    Document(content=\"The Internet of Things connects everyday devices.\")\n",
    "]\n",
    "\n",
    "\n",
    "# Add these test documents to the vector store\n",
    "vector_store.add_documents(test_documents)\n",
    "\n",
    "\n",
    "# Retrieve and print all documents\n",
    "all_docs = vector_store.get_all_documents()\n",
    "\n",
    "print(\"All documents in the vector store:\")\n",
    "for doc in all_docs:\n",
    "    print(doc.content)\n"
   ]
  },
  {
   "cell_type": "markdown",
   "id": "645382ba-b567-4ecf-a648-fab2a4017d99",
   "metadata": {},
   "source": [
    "## Conclusion\n",
    "\n",
    "In this notebook, we've demonstrated how to use a vector store (`TfidfVectorStore`) to store and retrieve documents based on similarity to a query. This process is a crucial part of building a Retrieval-Augmented Generation (RAG) system, where retrieving contextually relevant documents enhances the output of language models.\n",
    "\n",
    "## Notebook Metadata"
   ]
  },
  {
   "cell_type": "code",
   "execution_count": 58,
   "id": "baa1d7dc-2029-426a-a4d7-e3031fecb384",
   "metadata": {},
   "outputs": [
    {
     "name": "stdout",
     "output_type": "stream",
     "text": [
      "Author: Huzaifa Irshad \n",
      "GitHub Username: irshadhuzaifa\n",
      "Last Modified: 2024-10-22 16:13:01.232893\n",
      "Platform: Windows 11\n",
      "Python Version: 3.12.7 | packaged by Anaconda, Inc. | (main, Oct  4 2024, 13:17:27) [MSC v.1929 64 bit (AMD64)]\n",
      "Swarmauri Version: 0.5.0\n"
     ]
    }
   ],
   "source": [
    "import os\n",
    "import platform\n",
    "import sys\n",
    "from datetime import datetime\n",
    "\n",
    "author_name = \"Huzaifa Irshad \" \n",
    "github_username = \"irshadhuzaifa\"\n",
    "\n",
    "print(f\"Author: {author_name}\")\n",
    "print(f\"GitHub Username: {github_username}\")\n",
    "\n",
    "notebook_file = \"Notebook_02_Vector_Store_Integration.ipynb\"\n",
    "try:\n",
    "    last_modified_time = os.path.getmtime(notebook_file)\n",
    "    last_modified_datetime = datetime.fromtimestamp(last_modified_time)\n",
    "    print(f\"Last Modified: {last_modified_datetime}\")\n",
    "except Exception as e:\n",
    "    print(f\"Could not retrieve last modified datetime: {e}\")\n",
    "\n",
    "print(f\"Platform: {platform.system()} {platform.release()}\")\n",
    "print(f\"Python Version: {sys.version}\")\n",
    "\n",
    "try:\n",
    "    import swarmauri\n",
    "    print(f\"Swarmauri Version: {swarmauri.__version__}\")\n",
    "except ImportError:\n",
    "    print(\"Swarmauri is not installed.\")"
   ]
  },
  {
   "cell_type": "code",
   "execution_count": null,
   "id": "31cb6582-b22c-408e-b0c1-5a5ec19f90ee",
   "metadata": {},
   "outputs": [],
   "source": []
  }
 ],
 "metadata": {
  "kernelspec": {
   "display_name": "swarmauri(0.5)",
   "language": "python",
   "name": "swarmauri-0.5.0"
  },
  "language_info": {
   "codemirror_mode": {
    "name": "ipython",
    "version": 3
   },
   "file_extension": ".py",
   "mimetype": "text/x-python",
   "name": "python",
   "nbconvert_exporter": "python",
   "pygments_lexer": "ipython3",
   "version": "3.12.7"
  }
 },
 "nbformat": 4,
 "nbformat_minor": 5
}
