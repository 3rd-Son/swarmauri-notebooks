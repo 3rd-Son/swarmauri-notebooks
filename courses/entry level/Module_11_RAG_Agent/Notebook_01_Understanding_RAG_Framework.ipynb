{
 "cells": [
  {
   "cell_type": "markdown",
   "id": "daca66e2-9698-4ea5-a5ab-847358562e43",
   "metadata": {},
   "source": [
    "# Notebook 01: Understanding the RAG Framework\n",
    "\n",
    "## Introduction\n",
    "\n",
    "In this notebook, we will explore the fundamentals of the Retrieval-Augmented Generation (RAG) framework. RAG combines retrieval-based approaches with language models to enhance responses by grounding them in external knowledge. This hybrid model allows for better handling of queries that require specific information, which the model might not inherently know.\n",
    "\n",
    "Key Concepts:\n",
    "\n",
    "- **Retrieval-Augmented Generation (RAG)**: A method where a retrieval system fetches relevant documents based on a query, and a language model uses these documents to generate a more informed response.\n",
    "- **Language Models (LLM)**: Models like GroqModel, which generate natural language based on input.\n",
    "- **Vector Store**: A specialized data structure for storing document embeddings to enable efficient retrieval of relevant documents based on queries."
   ]
  },
  {
   "cell_type": "markdown",
   "id": "0b0e8b27-b28c-4853-a41d-9c0f3d870c89",
   "metadata": {},
   "source": [
    "## Key Components of RAG Framework\n",
    "\n",
    "In a typical RAG setup, several components work together:\n",
    "\n",
    "- **Language Model (LLM)**: This generates human-like text based on input queries.\n",
    "- **Vector Store**: Stores documents as embeddings and performs similarity search to retrieve the most relevant documents.\n",
    "- **Conversation Context**: Maintains the context of the conversation, which is used to inform responses.\n",
    "- **RAG Agent**: This combines all the components, fetches relevant documents using the vector store, and passes them to the language model for an augmented response."
   ]
  },
  {
   "cell_type": "markdown",
   "id": "bc4339a4-8941-4e2d-8b33-98d37d721d26",
   "metadata": {},
   "source": [
    "## Setting Up the GroqModel LLM"
   ]
  },
  {
   "cell_type": "code",
   "execution_count": 1,
   "id": "3a3d7ad0-407e-4e7f-8569-444608ee696e",
   "metadata": {},
   "outputs": [
    {
     "name": "stdout",
     "output_type": "stream",
     "text": [
      "LLM Initialized Successfully\n"
     ]
    }
   ],
   "source": [
    "from swarmauri.llms.concrete.GroqModel import GroqModel\n",
    "from dotenv import load_dotenv\n",
    "import os\n",
    "\n",
    "load_dotenv()\n",
    "\n",
    "API_KEY = os.getenv(\"GROQ_API_KEY\")\n",
    "if API_KEY:\n",
    "    llm = GroqModel(api_key=API_KEY)\n",
    "    print(\"LLM Initialized Successfully\")\n",
    "else:\n",
    "    print(\"API Key not found!\")\n"
   ]
  },
  {
   "cell_type": "markdown",
   "id": "2f30d7f6-51e5-40f0-a65c-c8facf917e5b",
   "metadata": {},
   "source": [
    "Here, the `GroqModel` is initialized using an API key stored in an environment variable. You can store your API key in a `.env` file, and it will be loaded by `load_dotenv()`.\n",
    "\n",
    "## Notebook Metadata"
   ]
  },
  {
   "cell_type": "code",
   "execution_count": 3,
   "id": "e96db82c-e849-4c53-ac9c-6f585c8ffa62",
   "metadata": {},
   "outputs": [
    {
     "name": "stdout",
     "output_type": "stream",
     "text": [
      "Author: Huzaifa Irshad \n",
      "GitHub Username: irshadhuzaifa\n",
      "Last Modified: 2024-10-22 13:39:09.865100\n",
      "Platform: Windows 11\n",
      "Python Version: 3.12.7 | packaged by Anaconda, Inc. | (main, Oct  4 2024, 13:17:27) [MSC v.1929 64 bit (AMD64)]\n",
      "Swarmauri Version: 0.5.0\n"
     ]
    }
   ],
   "source": [
    "import os\n",
    "import platform\n",
    "import sys\n",
    "from datetime import datetime\n",
    "\n",
    "author_name = \"Huzaifa Irshad \" \n",
    "github_username = \"irshadhuzaifa\"\n",
    "\n",
    "print(f\"Author: {author_name}\")\n",
    "print(f\"GitHub Username: {github_username}\")\n",
    "\n",
    "notebook_file = \"Notebook_01_Understanding_RAG_Framework.ipynb\"\n",
    "try:\n",
    "    last_modified_time = os.path.getmtime(notebook_file)\n",
    "    last_modified_datetime = datetime.fromtimestamp(last_modified_time)\n",
    "    print(f\"Last Modified: {last_modified_datetime}\")\n",
    "except Exception as e:\n",
    "    print(f\"Could not retrieve last modified datetime: {e}\")\n",
    "\n",
    "print(f\"Platform: {platform.system()} {platform.release()}\")\n",
    "print(f\"Python Version: {sys.version}\")\n",
    "\n",
    "try:\n",
    "    import swarmauri\n",
    "    print(f\"Swarmauri Version: {swarmauri.__version__}\")\n",
    "except ImportError:\n",
    "    print(\"Swarmauri is not installed.\")"
   ]
  },
  {
   "cell_type": "code",
   "execution_count": null,
   "id": "17c0fba9-dbd9-4d77-b8e7-ba40c44afc4a",
   "metadata": {},
   "outputs": [],
   "source": []
  }
 ],
 "metadata": {
  "kernelspec": {
   "display_name": "swarmauri(0.5)",
   "language": "python",
   "name": "swarmauri-0.5.0"
  },
  "language_info": {
   "codemirror_mode": {
    "name": "ipython",
    "version": 3
   },
   "file_extension": ".py",
   "mimetype": "text/x-python",
   "name": "python",
   "nbconvert_exporter": "python",
   "pygments_lexer": "ipython3",
   "version": "3.12.7"
  }
 },
 "nbformat": 4,
 "nbformat_minor": 5
}
