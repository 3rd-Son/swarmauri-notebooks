{
 "cells": [
  {
   "cell_type": "markdown",
   "id": "8f7d2e70-39c1-4259-80cf-154b91600e2e",
   "metadata": {},
   "source": [
    "# Notebook 03: Hello World\n",
    "\n",
    "### Importing Swarmauri\n",
    "\n",
    "First, ensure that you have installed the latest version of Swarmauri (v0.5.0). If you haven’t installed it yet, you can install it using the following command:\n",
    "\n",
    "```bash\n",
    "pip install swarmauri==0.5.0 swarmauri_community==0.5.0 jupyter ipykernel\n"
   ]
  },
  {
   "cell_type": "markdown",
   "id": "95640ce1-2486-4f9b-9edd-a248c949af31",
   "metadata": {},
   "source": [
    "Once it’s installed, let's start by importing Swarmauri.\n",
    "                   \n",
    "- swarmauri                    0.5.0\n",
    "- swarmauri_core               0.5.0\n",
    "- swarmauri_community          0.5.0\n",
    "\n",
    "\n"
   ]
  },
  {
   "cell_type": "code",
   "execution_count": 2,
   "id": "e85b8df1-64a0-417a-ad0c-f84d54b53442",
   "metadata": {},
   "outputs": [],
   "source": [
    "import swarmauri\n",
    "import swarmauri_core\n",
    "import swarmauri_community"
   ]
  },
  {
   "cell_type": "markdown",
   "id": "623b7652-24a0-41c7-8f88-4b1f2da3f40d",
   "metadata": {},
   "source": [
    "\n",
    "\n",
    "## 1. swarmauri\n",
    "The `swarmauri` package, includes the toolkit for general AI applications. It provides an interface for developers to build their applications using predefined tools and models. This package is ideal for users looking to create straightforward AI solutions without needing to delve into the underlying complexities.\n",
    "\n",
    "### Key Features:\n",
    "- Comprehensive toolkit for standard AI applications.\n",
    "- Easy-to-use interfaces for model integration.\n",
    "- Predefined workflows for common tasks.\n",
    "\n",
    "---\n",
    "\n",
    "## 2. swarmauri_core\n",
    "The `swarmauri_core` package contains the foundational components of the Swarmauri SDK. This package provides the core functionalities and classes needed to build and deploy various AI applications. Users can access essential tools and utilities that serve as the backbone of the Swarmauri ecosystem.\n",
    "\n",
    "### Key Features:\n",
    "- Basic functionality for AI tool development.\n",
    "- Core classes and methods for interacting with AI models.\n",
    "- Essential utilities for managing and processing data.\n",
    "\n",
    "---\n",
    "\n",
    "## 3. swarmauri_community\n",
    "The `swarmauri_community` package is dedicated to community-driven tools and contributions. This package allows users to access community-built models and functionalities that enhance the core SDK. It is designed for users who want to leverage community resources and contribute to the Swarmauri ecosystem.\n",
    "\n",
    "### Key Features:\n",
    "- Access to community-contributed models and tools.\n",
    "- Collaboration opportunities for developers.\n",
    "- Sharing and utilizing innovative solutions from the community.\n"
   ]
  },
  {
   "cell_type": "code",
   "execution_count": null,
   "id": "9702473b-59c7-4f12-abee-ce8cbb40de3d",
   "metadata": {},
   "outputs": [],
   "source": []
  }
 ],
 "metadata": {
  "kernelspec": {
   "display_name": "swarmauri(0.5)",
   "language": "python",
   "name": "swarmauri-0.5.0"
  },
  "language_info": {
   "codemirror_mode": {
    "name": "ipython",
    "version": 3
   },
   "file_extension": ".py",
   "mimetype": "text/x-python",
   "name": "python",
   "nbconvert_exporter": "python",
   "pygments_lexer": "ipython3",
   "version": "3.12.7"
  }
 },
 "nbformat": 4,
 "nbformat_minor": 5
}
